{
  "cells": [
    {
      "cell_type": "markdown",
      "metadata": {
        "id": "view-in-github",
        "colab_type": "text"
      },
      "source": [
        "<a href=\"https://colab.research.google.com/github/comp-neural-circuits/plasticity-workshop/blob/dev/hebbian_plasticity.ipynb\" target=\"_parent\"><img src=\"https://colab.research.google.com/assets/colab-badge.svg\" alt=\"Open In Colab\"/></a>"
      ]
    },
    {
      "cell_type": "code",
      "execution_count": 1,
      "metadata": {
        "id": "lv5TpJr-uYba"
      },
      "outputs": [],
      "source": [
        "import sys, json\n",
        "import numpy as np\n",
        "import matplotlib.pyplot as plt\n",
        "import matplotlib.gridspec as gridspec\n",
        "from scipy.stats import norm"
      ]
    },
    {
      "cell_type": "code",
      "execution_count": 84,
      "metadata": {
        "id": "a1BizMVzuYbe"
      },
      "outputs": [],
      "source": [
        "# utility functions\n",
        "\n",
        "def setup_simulation(params):\n",
        "    t = np.arange(0., params['t_sim'], params['dt'])\n",
        "    rX = np.zeros((params['n0'], len(t)))\n",
        "    rY = np.zeros((params['n1'], len(t)))\n",
        "    wXY = np.zeros((params['n0']*params['n1'], len(t))) # later modify to store weights only sdt time steps\n",
        "    return [t, rX, rY, wXY]\n",
        "\n",
        "def show_rates(rX, rY, params, t1=0., t2=5000.):\n",
        "    fig = plt.figure(figsize=[8,4])\n",
        "    gs = gridspec.GridSpec(ncols=2, nrows=1, figure=fig)\n",
        "    id1, id2 = int(t1/params['dt']), int(t2/params['dt'])\n",
        "\n",
        "    ax0 = fig.add_subplot(gs[0])\n",
        "    im0 = ax0.imshow(rX[:,id1:id2], aspect='auto')\n",
        "    ax0.set_title('Rate of Layer X')\n",
        "    ax0.set_xlabel('Time (ms)')\n",
        "    ax0.set_ylabel('Neuron id')\n",
        "    plt.colorbar(im0, ax=ax0, label='Rate')\n",
        "\n",
        "    ax1 = fig.add_subplot(gs[1])\n",
        "    im1 = ax1.imshow(rY[:,id1:id2], aspect='auto')\n",
        "    ax1.set_title('Rate of Layer Y')\n",
        "    ax1.set_xlabel('Time (ms)')\n",
        "    ax1.set_ylabel('Neuron id')\n",
        "    plt.colorbar(im1, ax=ax1, label='Rate')\n",
        "\n",
        "    fig.tight_layout()\n",
        "    return\n",
        "\n",
        "def show_weight_evolution(wXY, t, params):\n",
        "    fig = plt.figure()\n",
        "    ax = plt.gca()\n",
        "    ax.plot(t, wXY.T, '-')\n",
        "    ax.set_xlabel('Time (ms)')\n",
        "    ax.set_ylabel('Synaptic weights')\n",
        "    return\n",
        "\n",
        "def show_weights_at_time(wXY, params, t3=0.):\n",
        "    fig = plt.figure()\n",
        "    ax = plt.gca()\n",
        "    id3 = int(t3/params['dt'])\n",
        "    idn = 0 # which postsynaptic neuron \n",
        "    ax.plot(np.arange(params['n0']), wXY[:,id3].reshape((params['n0'], params['n1']))[:,idn], '.-')\n",
        "    ax.set_xlabel('Orientation')\n",
        "    ax.set_ylabel('Weight')\n",
        "    ax.set_ylim([params['w_low'], params['w_high']])\n",
        "    return \n",
        "\n",
        "    "
      ]
    },
    {
      "cell_type": "code",
      "execution_count": 4,
      "metadata": {
        "id": "TSa7vd2MuYbi"
      },
      "outputs": [],
      "source": [
        "# plasticity functions\n",
        "\n",
        "def update_weights_hebbian(w0, r0, r1, params):\n",
        "    \"\"\"\n",
        "    r0 = rates of presynatic neurons   (n,1)\n",
        "    r1 = rates of postsynaptic neurons (n,1)\n",
        "    w0 = initial synaptic weights      (n,n)\n",
        "    w1 = final synaptic weights        (n,n)\n",
        "    \"\"\"\n",
        "    w1 = w0 + (params['dt']/params['tauw']) * np.dot(r1.reshape(params['n1'],1), r0.reshape(1,params['n0'])).reshape(-1)\n",
        "    w1 = rescale_weights(w1, params['w_low'], params['w_high'])\n",
        "    return w1\n",
        "\n",
        "# there can also be hebbian with threshold (which then uses input covariance matrix instead of correlation matrix)\n",
        "\n",
        "def update_weights_hebbian_normalized(w0):\n",
        "    w1 = w0 + (params['dt']/params['tauw']) * np.dot(r1.reshape(params['n1'],1), r0.reshape(1,params['n0'])).reshape(-1)\n",
        "    w1 = rescale_weights(w1, params['w_low'], params['w_high'])\n",
        "    return w1\n",
        "\n",
        "def update_weights_BCM(w0):\n",
        "    return w1\n",
        "\n",
        "def rescale_weights(w, lower_bound, upper_bound):\n",
        "    w[w < lower_bound] = lower_bound\n",
        "    w[w > upper_bound] = upper_bound\n",
        "    return w"
      ]
    },
    {
      "cell_type": "code",
      "execution_count": 6,
      "metadata": {
        "id": "9cK1piLpuYbl"
      },
      "outputs": [],
      "source": [
        "# input\n",
        "\n",
        "def generate_regular_input_times(inter_event_interval, t_sim):\n",
        "    return np.arange(0, t_sim, inter_event_interval)\n",
        "\n",
        "# input: L-events\n",
        "\n",
        "def generate_L_events_times(t_end, inter_event_interval):\n",
        "    # generate sequence of L-event start times\n",
        "    L_events_times = []\n",
        "    _pt = 0. \n",
        "    while _pt < t_end:\n",
        "        _pt += np.random.exponential(inter_event_interval)\n",
        "        L_events_times.append(round(_pt, 1))\n",
        "    return L_events_times\n",
        "\n",
        "def define_L_event(n, amp_L, mean_dur, pct_low, pct_high):\n",
        "    # for one L-event, specify the L-amp, L-neurons, L-dur\n",
        "    amp = amp_L                                                             # amplitude\n",
        "    dur = round(np.random.normal(mean_dur, mean_dur/10.), 1)                # duration\n",
        "    pct = round(np.random.uniform(low=pct_low, high=pct_high), 2)           # participation ratio (20-60%)\n",
        "    sN = np.random.choice(np.arange(n), 1)\n",
        "    neur = np.roll(np.arange(n), -sN)[:int(pct*n)]                          # stimulated neurons\n",
        "    return amp, dur, pct, neur"
      ]
    },
    {
      "cell_type": "code",
      "source": [
        "# Function to run \n",
        "\n",
        "def run_simulation(params, input_times):\n",
        "    \n",
        "    [t, rX, rY, wXY] = setup_simulation(params)\n",
        "    \n",
        "    # set initial weights\n",
        "    wXY[:,0] = params['w_high']/2\n",
        "\n",
        "    for _i, _t in enumerate(t):\n",
        "        \n",
        "        if _i == 0.:\n",
        "          continue\n",
        "        \n",
        "        # state at time _t-1\n",
        "        rx0, ry0 = rX[:,_i-1], rY[:,_i-1]\n",
        "        wxy0 = wXY[:,_i-1]\n",
        "        \n",
        "        # specify input at this time and modify rx\n",
        "        if _t in input_times:\n",
        "          rx0[:] = 0.                           # remove the old input\n",
        "          _n = np.random.choice(params['n0'])   # select which orientation input and/or neurons to activate\n",
        "          rx0[_n] = params['input_amp']         # set the new input\n",
        "        \n",
        "        # update state to time _t\n",
        "        rx1 = rx0\n",
        "        ry1 = ry0 + (params['dt']/params['taum']) * (-ry0 + np.dot(rx0, wxy0.reshape(params['n0'], params['n1'])))\n",
        "        wxy1 = update_weights_hebbian(wxy0, rx1, ry1, params)\n",
        "        \n",
        "        # store\n",
        "        rX[:,_i], rY[:,_i] = rx1, ry1\n",
        "        wXY[:,_i] = wxy1\n",
        "        \n",
        "    return [t, rX, rY, wXY]"
      ],
      "metadata": {
        "id": "6jeuRyDy5NUK"
      },
      "execution_count": 70,
      "outputs": []
    },
    {
      "cell_type": "code",
      "execution_count": 91,
      "metadata": {
        "id": "7va9G0N8uYbn"
      },
      "outputs": [],
      "source": [
        "# define parameters\n",
        "\n",
        "params = {\n",
        "    'n0' : 10,              # number of presynaptic neurons\n",
        "    'n1' : 1,              # number of postsynaptic neurons\n",
        "    'taum' : 10.,           # tau for rate equation (ms)\n",
        "    'tauw' : 10000.,       # tau for synaptic weight equation (ms)\n",
        "    't_sim' : 150000.,        # Time of simulation (ms)    \n",
        "    'dt' : 0.1,             # Time step for simulation\n",
        "    'sdt' : 100.,           # Time step for storing/recording weights\n",
        "    'input_iei' : 100.,     # inter event interval for input events\n",
        "    'input_amp' : 1.,        # Amplitude of input to first layer\n",
        "    'w_low' : 0.,\n",
        "    'w_high' : 1.\n",
        "}"
      ]
    },
    {
      "cell_type": "markdown",
      "metadata": {
        "id": "byxMPYvuuYbo"
      },
      "source": [
        "Task: To form Receptive Fields or Orientation selective neurons\n",
        "\n",
        "Input: We give regular input, and at every starting of input time point, we randomly select an orientation to activate. \n",
        "\n",
        "\n",
        "Plasticity rule: Hebbian "
      ]
    },
    {
      "cell_type": "code",
      "execution_count": 78,
      "metadata": {
        "id": "C3-DH_kZuYbq"
      },
      "outputs": [],
      "source": [
        "# main\n",
        "\n",
        "input_times = generate_regular_input_times(params['input_iei'], params['t_sim'])\n",
        "[t, rX, rY, wXY] = run_simulation(params, input_times)"
      ]
    },
    {
      "cell_type": "code",
      "source": [
        "# visualize output\n",
        "\n",
        "#show_rates(rX, rY, params, t1=0., t2=5000.)\n",
        "show_weight_evolution(wXY, t, params)\n",
        "show_weights_at_time(wXY, params, t3=0.)\n",
        "show_weights_at_time(wXY, params, t3=80000.)"
      ],
      "metadata": {
        "colab": {
          "base_uri": "https://localhost:8080/",
          "height": 811
        },
        "id": "8ElJ27P5zqFF",
        "outputId": "a11223f5-05d5-4321-d285-4ce647a6e7c5"
      },
      "execution_count": 90,
      "outputs": [
        {
          "output_type": "display_data",
          "data": {
            "image/png": "[encoded data removed]",
            "text/plain": [
              "<Figure size 432x288 with 1 Axes>"
            ]
          },
          "metadata": {
            "needs_background": "light"
          }
        },
        {
          "output_type": "display_data",
          "data": {
            "image/png": "[encoded data removed]",
            "text/plain": [
              "<Figure size 432x288 with 1 Axes>"
            ]
          },
          "metadata": {
            "needs_background": "light"
          }
        },
        {
          "output_type": "display_data",
          "data": {
            "image/png": "[encoded data removed]",
            "text/plain": [
              "<Figure size 432x288 with 1 Axes>"
            ]
          },
          "metadata": {
            "needs_background": "light"
          }
        }
      ]
    }
  ],
  "metadata": {
    "kernelspec": {
      "display_name": "Python 3",
      "language": "python",
      "name": "python3"
    },
    "language_info": {
      "codemirror_mode": {
        "name": "ipython",
        "version": 3
      },
      "file_extension": ".py",
      "mimetype": "text/x-python",
      "name": "python",
      "nbconvert_exporter": "python",
      "pygments_lexer": "ipython3",
      "version": "3.8.10"
    },
    "colab": {
      "name": "hebbian_plasticity.ipynb",
      "provenance": [],
      "collapsed_sections": [],
      "include_colab_link": true
    }
  },
  "nbformat": 4,
  "nbformat_minor": 0
}