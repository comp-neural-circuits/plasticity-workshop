{
  "cells": [
    {
      "cell_type": "markdown",
      "metadata": {
        "id": "view-in-github",
        "colab_type": "text"
      },
      "source": [
        "<a href=\"https://colab.research.google.com/github/comp-neural-circuits/plasticity-workshop/blob/dev/hebbian_plasticity.ipynb\" target=\"_parent\"><img src=\"https://colab.research.google.com/assets/colab-badge.svg\" alt=\"Open In Colab\"/></a>"
      ]
    },
    {
      "cell_type": "code",
      "execution_count": 1,
      "metadata": {
        "id": "lv5TpJr-uYba"
      },
      "outputs": [],
      "source": [
        "import sys, json\n",
        "import numpy as np\n",
        "import matplotlib.pyplot as plt\n",
        "import matplotlib.gridspec as gridspec\n",
        "from scipy.stats import norm"
      ]
    },
    {
      "cell_type": "code",
      "execution_count": 3,
      "metadata": {
        "id": "a1BizMVzuYbe"
      },
      "outputs": [],
      "source": [
        "# utility functions\n",
        "\n",
        "def setup_simulation(params):\n",
        "    t = np.arange(0., params['t_sim'], params['dt'])\n",
        "    rX = np.zeros((params['n0'], len(t)))\n",
        "    rY = np.zeros((params['n1'], len(t)))\n",
        "    w01 = np.zeros((params['n0']*params['n1'], len(t))) # later modify to store weights only sdt time steps\n",
        "    return [t, rX, rY, w01]\n",
        "\n",
        "def run_simulation(params):\n",
        "    \n",
        "    [t, rX, rY, w01] = setup_simulation(params)\n",
        "    \n",
        "    \n",
        "    for _i, _t in t:\n",
        "        \n",
        "        # state at time _t\n",
        "        rx0, ry0 = rX[:,_i], rY[:,_i]\n",
        "        wxy0 = wXY[:,_i]\n",
        "        \n",
        "        # specify input at this time and modify rx\n",
        "        #rx1 = \n",
        "        \n",
        "        # update state to time _t + 1\n",
        "        ry1 = ry0 + (dt/taum) * (-ry0 + np.dot(rx0, wxy0.reshape(params['n0'], params['n1'])))\n",
        "        wxy1 = update_weights(wxy0, rx1, ry1, params)\n",
        "        \n",
        "        # store\n",
        "        rX[:,_i+1], rY[:,_i+1] = rx1, ry1\n",
        "        wXY[:,_i+1] = wxy1\n",
        "        \n",
        "    \n",
        "    \n",
        "    return rX, rY, wXY\n",
        "    "
      ]
    },
    {
      "cell_type": "code",
      "execution_count": 4,
      "metadata": {
        "id": "TSa7vd2MuYbi"
      },
      "outputs": [],
      "source": [
        "# plasticity functions\n",
        "\n",
        "def update_weights_hebbian(w0, r0, r1, params):\n",
        "    \"\"\"\n",
        "    r0 = rates of presynatic neurons   (n,1)\n",
        "    r1 = rates of postsynaptic neurons (n,1)\n",
        "    w0 = initial synaptic weights      (n,n)\n",
        "    w1 = final synaptic weights        (n,n)\n",
        "    \"\"\"\n",
        "    w1 = w0 + (params['dt']/params['tauw']) * np.dot(r1.reshape(params['n1'],1), r0.reshape(1,params['n0'])).reshape(-1)\n",
        "    w1 = rescale_weights(w1, params['w_low'], params['w_high'])\n",
        "    return w1\n",
        "\n",
        "# there can also be hebbian with threshold (which then uses input covariance matrix instead of correlation matrix)\n",
        "\n",
        "def update_weights_hebbian_normalized(w0):\n",
        "    return w1\n",
        "\n",
        "def update_weights_BCM(w0):\n",
        "    return w1\n",
        "\n",
        "def rescale_weights(w, lower_bound, upper_bound):\n",
        "    w[w < lower_bound] = lower_bound\n",
        "    w[w > upper_bound] = upper_bound\n",
        "    return w"
      ]
    },
    {
      "cell_type": "code",
      "execution_count": 6,
      "metadata": {
        "id": "9cK1piLpuYbl"
      },
      "outputs": [],
      "source": [
        "# input\n",
        "\n",
        "def generate_regular_input_times(inter_event_interval, t_sim):\n",
        "    return np.arange(0, t_sim, inter_event_interval)\n",
        "\n",
        "# input: L-events\n",
        "\n",
        "def generate_L_events_times(t_end, inter_event_interval):\n",
        "    # generate sequence of L-event start times\n",
        "    L_events_times = []\n",
        "    _pt = 0. \n",
        "    while _pt < t_end:\n",
        "        _pt += np.random.exponential(inter_event_interval)\n",
        "        L_events_times.append(round(_pt, 1))\n",
        "    return L_events_times\n",
        "\n",
        "def define_L_event(n, amp_L, mean_dur, pct_low, pct_high):\n",
        "    # for one L-event, specify the L-amp, L-neurons, L-dur\n",
        "    amp = amp_L                                                             # amplitude\n",
        "    dur = round(np.random.normal(mean_dur, mean_dur/10.), 1)                # duration\n",
        "    pct = round(np.random.uniform(low=pct_low, high=pct_high), 2)           # participation ratio (20-60%)\n",
        "    sN = np.random.choice(np.arange(n), 1)\n",
        "    neur = np.roll(np.arange(n), -sN)[:int(pct*n)]                          # stimulated neurons\n",
        "    return amp, dur, pct, neur"
      ]
    },
    {
      "cell_type": "code",
      "execution_count": null,
      "metadata": {
        "id": "7va9G0N8uYbn"
      },
      "outputs": [],
      "source": [
        "# define parameters\n",
        "\n",
        "params = {\n",
        "    'n0' = 10,              # number of presynaptic neurons\n",
        "    'n1' = 10,              # number of postsynaptic neurons\n",
        "    'taum' = 10.,           # tau for rate equation (ms)\n",
        "    'tauw' = 100000.,       # tau for synaptic weight equation (ms)\n",
        "    't_sim' = 5000.,        # Time of simulation (ms)    \n",
        "    'dt' = 0.1,             # Time step for simulation\n",
        "    'sdt' = 100.,           # Time step for storing/recording weights\n",
        "    'input_IEI' = 100.      # inter event interval for input events\n",
        "}"
      ]
    },
    {
      "cell_type": "markdown",
      "metadata": {
        "id": "byxMPYvuuYbo"
      },
      "source": [
        "Task: To form Receptive Fields or Orientation selective neurons"
      ]
    },
    {
      "cell_type": "code",
      "execution_count": null,
      "metadata": {
        "id": "sdCnNI0quYbp"
      },
      "outputs": [],
      "source": [
        ""
      ]
    },
    {
      "cell_type": "code",
      "execution_count": null,
      "metadata": {
        "id": "C3-DH_kZuYbq"
      },
      "outputs": [],
      "source": [
        "# main\n",
        "\n",
        "input_times = generate_regular_input_times(params['input_frequency'], params['t_sim'])\n",
        "\n",
        "\n"
      ]
    }
  ],
  "metadata": {
    "kernelspec": {
      "display_name": "Python 3",
      "language": "python",
      "name": "python3"
    },
    "language_info": {
      "codemirror_mode": {
        "name": "ipython",
        "version": 3
      },
      "file_extension": ".py",
      "mimetype": "text/x-python",
      "name": "python",
      "nbconvert_exporter": "python",
      "pygments_lexer": "ipython3",
      "version": "3.8.10"
    },
    "colab": {
      "name": "hebbian_plasticity.ipynb",
      "provenance": [],
      "collapsed_sections": [],
      "include_colab_link": true
    }
  },
  "nbformat": 4,
  "nbformat_minor": 0
}