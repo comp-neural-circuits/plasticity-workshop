{
  "cells": [
    {
      "cell_type": "markdown",
      "metadata": {
        "id": "view-in-github",
        "colab_type": "text"
      },
      "source": [
        "<a href=\"https://colab.research.google.com/github/comp-neural-circuits/plasticity-workshop/blob/dev/hebbian_plasticity.ipynb\" target=\"_parent\"><img src=\"https://colab.research.google.com/assets/colab-badge.svg\" alt=\"Open In Colab\"/></a>"
      ]
    },
    {
      "cell_type": "markdown",
      "source": [
        "# Rate based Hebbian learning in action\n",
        "\n",
        "In this part of the tutorial, we will generate orientation selectivity in a neuron, using different kinds of hebbian plasticity that you used in the first part of today's tutotrial. "
      ],
      "metadata": {
        "id": "mJHQG6t3-OGC"
      }
    },
    {
      "cell_type": "markdown",
      "source": [
        "First we set up the rate based simulations and some functions to visualize the rates of neurons and synaptic weight evolution. "
      ],
      "metadata": {
        "id": "cVsbH759-wTW"
      }
    },
    {
      "cell_type": "code",
      "execution_count": null,
      "metadata": {
        "id": "lv5TpJr-uYba"
      },
      "outputs": [],
      "source": [
        "import sys, json\n",
        "import numpy as np\n",
        "import matplotlib.pyplot as plt\n",
        "import matplotlib.gridspec as gridspec\n",
        "from scipy.stats import norm"
      ]
    },
    {
      "cell_type": "code",
      "execution_count": null,
      "metadata": {
        "id": "a1BizMVzuYbe"
      },
      "outputs": [],
      "source": [
        "# utility functions\n",
        "\n",
        "def setup_simulation(params):\n",
        "    t = np.arange(0., params['t_sim'], params['dt'])\n",
        "    rX = np.zeros((params['n0'], len(t)))\n",
        "    rY = np.zeros((params['n1'], len(t)))\n",
        "    wXY = np.zeros((params['n0']*params['n1'], len(t))) # later modify to store weights only sdt time steps\n",
        "    return [t, rX, rY, wXY]   "
      ]
    },
    {
      "cell_type": "code",
      "source": [
        "# Visualization of results functions\n",
        "\n",
        "def show_rates(rX, rY, params, t1=0., t2=5000.):\n",
        "    fig = plt.figure(figsize=[8,4])\n",
        "    gs = gridspec.GridSpec(ncols=2, nrows=1, figure=fig)\n",
        "    id1, id2 = int(t1/params['dt']), int(t2/params['dt'])\n",
        "\n",
        "    ax0 = fig.add_subplot(gs[0])\n",
        "    im0 = ax0.imshow(rX[:,id1:id2], aspect='auto')\n",
        "    ax0.set_title('Rate of Layer X')\n",
        "    ax0.set_xlabel('Time (ms)')\n",
        "    ax0.set_ylabel('Neuron id')\n",
        "    plt.colorbar(im0, ax=ax0, label='Rate')\n",
        "\n",
        "    ax1 = fig.add_subplot(gs[1])\n",
        "    im1 = ax1.imshow(rY[:,id1:id2], aspect='auto')\n",
        "    ax1.set_title('Rate of Layer Y')\n",
        "    ax1.set_xlabel('Time (ms)')\n",
        "    ax1.set_ylabel('Neuron id')\n",
        "    plt.colorbar(im1, ax=ax1, label='Rate')\n",
        "\n",
        "    fig.tight_layout()\n",
        "    return\n",
        "\n",
        "def show_weight_evolution(wXY, t, params):\n",
        "    fig = plt.figure()\n",
        "    ax = plt.gca()\n",
        "    ax.plot(t, wXY.T, '-')\n",
        "    ax.set_xlabel('Time (ms)')\n",
        "    ax.set_ylabel('Synaptic weights')\n",
        "    return\n",
        "\n",
        "def show_weights_at_time(wXY, params, t3=0.):\n",
        "    fig = plt.figure()\n",
        "    ax = plt.gca()\n",
        "    id3 = int(t3/params['dt'])\n",
        "    idn = 0 # which postsynaptic neuron \n",
        "    ax.plot(np.arange(params['n0']), wXY[:,id3].reshape((params['n0'], params['n1']))[:,idn], '.-')\n",
        "    ax.set_xlabel('Orientation')\n",
        "    ax.set_ylabel('Weight')\n",
        "    ax.set_ylim([params['w_low'], params['w_high']])\n",
        "    return "
      ],
      "metadata": {
        "id": "II0l43gGEzD1"
      },
      "execution_count": null,
      "outputs": []
    },
    {
      "cell_type": "code",
      "source": [
        "# Main simulation function\n",
        "\n",
        "def run_simulation(params, delta_weights, input):\n",
        "\n",
        "    input_times = input\n",
        "    #[input_times, input_neurons] = input\n",
        "    [t, rX, rY, wXY] = setup_simulation(params)\n",
        "    \n",
        "    # set initial weights\n",
        "    wXY[:,0] = params['w_high']/2\n",
        "\n",
        "    for _i, _t in enumerate(t):\n",
        "        \n",
        "        if _i == 0.:\n",
        "          continue\n",
        "        \n",
        "        # state at time _t-1\n",
        "        rx0, ry0 = rX[:,_i-1], rY[:,_i-1]\n",
        "        wxy0 = wXY[:,_i-1]\n",
        "        \n",
        "        # specify input at this time and modify rx\n",
        "        if _t in input_times:\n",
        "          rx0[:] = 0.                           # remove the old input\n",
        "          _n = np.random.choice(params['n0'])   # select which orientation input and/or neurons to activate\n",
        "          rx0[_n] = params['input_amp']         # set the new input\n",
        "        \n",
        "        # update state to time _t\n",
        "        rx1 = rx0\n",
        "        ry1 = ry0 + (params['dt']/params['taum']) * (-ry0 + np.dot(wxy0.reshape(params['n1'], params['n0']), rx0))\n",
        "        #wxy1 = update_weights(wxy0, rx1, ry1) \n",
        "        wxy1 = wxy0 + delta_weights(rx1, ry1)\n",
        "        #wxy1 = rescale_weights(wxy1, params['w_low'], params['w_high'])\n",
        "\n",
        "        # store\n",
        "        rX[:,_i], rY[:,_i] = rx1, ry1\n",
        "        wXY[:,_i] = wxy1\n",
        "        \n",
        "    return [t, rX, rY, wXY]"
      ],
      "metadata": {
        "id": "6jeuRyDy5NUK"
      },
      "execution_count": null,
      "outputs": []
    },
    {
      "cell_type": "code",
      "execution_count": null,
      "metadata": {
        "id": "7va9G0N8uYbn"
      },
      "outputs": [],
      "source": [
        "# define parameters\n",
        "\n",
        "params = {\n",
        "    'n0' : 10,              # number of presynaptic neurons\n",
        "    'n1' : 1,              # number of postsynaptic neurons\n",
        "    'taum' : 10.,           # tau for rate equation (ms)\n",
        "    'tauw' : 10000.,       # tau for synaptic weight equation (ms)\n",
        "    't_sim' : 200000.,        # Time of simulation (ms)    \n",
        "    'dt' : 0.1,             # Time step for simulation\n",
        "    'sdt' : 100.,           # Time step for storing/recording weights\n",
        "    'input_iei' : 100.,     # inter event interval for input events\n",
        "    'input_amp' : 1.,        # Amplitude of input to first layer\n",
        "    'w_low' : 0.,\n",
        "    'w_high' : 1.\n",
        "}"
      ]
    },
    {
      "cell_type": "markdown",
      "source": [
        "# Overview: Different plasticity rules"
      ],
      "metadata": {
        "id": "gq-YrDUpZq0j"
      }
    },
    {
      "cell_type": "markdown",
      "source": [
        "\n",
        "\\begin{align}\n",
        "ρ =& \\; \\text{presynaptic rate} \\\\\n",
        "v =& \\; \\text{postsynaptic rate}\n",
        "\\end{align}\n",
        "\n",
        "Simple Hebbian rule:\n",
        "\\begin{equation}\n",
        "    \\tau \\dot{w} = \\; v ρ\n",
        "\\end{equation}\n",
        "\n",
        "If we want to do some analysis on the weight evolution, the simple hebbian rule becomes the correlation based rule:\n",
        "\\begin{equation}\n",
        "    \\tau \\dot{w} = \\; C w \\\\ \n",
        "    C = ⟨ \\rho \\rho^{T} ⟩\n",
        "\\end{equation}\n",
        "\n",
        "\\\\\n",
        "\n",
        "Threshold Hebbian rules:\n",
        "\\begin{align}\n",
        "    \\tau \\dot{w} =& \\; v (ρ - \\theta) \\\\\n",
        "    \\tau \\dot{w} =& \\; (v - \\theta) ρ \\\\\n",
        "    \\tau \\dot{w} =& \\; (v - \\theta) (ρ - \\theta)\n",
        "\\end{align}\n",
        "\n",
        "The threshold Hebbian rule becomes the covariance based rule (threshold in pre and post, and we select the threshold to be $ ⟨v⟩$ or $ ⟨ρ⟩$):\n",
        "\\begin{equation}\n",
        "    \\tau \\dot{w} = \\; Q w \\\\ \n",
        "    Q = ⟨ (\\rho - ⟨ρ⟩) (\\rho - ⟨ρ⟩)^{T}⟩\n",
        "\\end{equation}\n",
        "\n",
        "\\\\\n",
        "\n",
        "Hebbian rule with Subtractive normalization:\n",
        "\\begin{equation}\n",
        "    \\tau \\dot{w} = \\; Cw - \\frac{n^{T}Cw}{n^{T}n}n\n",
        "\\end{equation}\n",
        "\n",
        "Hebbian rule with Mulitplicative normalization:\n",
        "\\begin{equation}\n",
        "    \\tau \\dot{w} = \\; Cw - \\frac{n^{T}Cw}{n^{T}n}w\n",
        "\\end{equation}\n",
        "\n",
        "\\\\\n",
        "\n",
        "BCM rule:\n",
        "\\begin{align}\n",
        "    \\tau \\dot{w} =& \\; v(v-θ ) ρ \\\\\n",
        "    \\tau_{\\theta} \\dot{\\theta}  =& - θ + \\frac{\\bar{v}^{2}}{\\rho}\n",
        "\\end{align}\n",
        "\n",
        "\n",
        "All the different rules: \n",
        "\\begin{align}\n",
        "    \\tau \\dot{w} =& \\; v ρ \\\\\n",
        "    \\tau \\dot{w} =& \\; v (ρ - \\theta) \\\\\n",
        "    \\tau \\dot{w} =& \\; (v - \\theta) ρ \\\\\n",
        "    \\tau \\dot{w} =& \\; (v - \\theta) (ρ - \\theta)    \\\\\n",
        "    \\tau \\dot{w} =& \\; C w \\\\\n",
        "    \\tau \\dot{w} =& \\; Q w \\\\\n",
        "    \\tau \\dot{w} =& \\; Cw - \\frac{n^{T}Cw}{n^{T}n}n  \\\\\n",
        "    \\tau \\dot{w} =& \\; Cw - \\frac{n^{T}Cw}{n^{T}n}w  \\\\\n",
        "    \\tau \\dot{w} =& \\; v(v-θ ) ρ \\\\\n",
        "    \\tau_{\\theta} \\dot{\\theta}  =& - θ + \\frac{\\bar{v}^{2}}{\\rho} \\\\    \n",
        "\\end{align}\n"
      ],
      "metadata": {
        "id": "8VrcTMJNPjWx"
      }
    },
    {
      "cell_type": "markdown",
      "source": [
        "# Hebbian Plasticity and L-events\n",
        "\n",
        "As you have seen until now, there are different types of hebbian plasticify learning rules that we can use. "
      ],
      "metadata": {
        "id": "qHqlQipe_FGS"
      }
    },
    {
      "cell_type": "markdown",
      "source": [
        "### Coding exercise 1:\n",
        "Enter the expression for simple hebbian plasticity. "
      ],
      "metadata": {
        "id": "SgDsmgpv_Ke7"
      }
    },
    {
      "cell_type": "code",
      "execution_count": 72,
      "metadata": {
        "id": "TSa7vd2MuYbi"
      },
      "outputs": [],
      "source": [
        "# Simple Hebbian\n",
        "\n",
        "def hebbian(r0, r1):\n",
        "    r0 = r0.reshape(1, params['n0'])\n",
        "    r1 = r1.reshape(params['n1'], 1)\n",
        "\n",
        "    # Enter the plasticity rule here:\n",
        "    dw = (params['dt']/params['tauw']) * np.dot(r1, r0)\n",
        "\n",
        "    dw = dw.reshape(params['n1'], params['n0'])\n",
        "    return dw\n",
        "\n",
        "def hebbian_1synapse(r0, r1):\n",
        "    dw = r1 * r0\n",
        "    return dw"
      ]
    },
    {
      "cell_type": "markdown",
      "source": [
        "### Task 1:\n",
        "\n",
        "Show dw as a function of presynaptic activity"
      ],
      "metadata": {
        "id": "VF8EreWEha-C"
      }
    },
    {
      "cell_type": "code",
      "source": [
        "r1 = 1.\n",
        "r0_range = np.arange(0.1, 1., 0.1)\n",
        "dw_all = np.zeros(np.shape(r1_range))\n",
        "\n",
        "for i,r0 in enumerate(r0_range):\n",
        "    dw = hebbian_1synapse(r0, r1)\n",
        "    dw_all[i] = dw\n",
        "\n",
        "plt.plot(r0_range, dw_all, 'b--')\n",
        "plt.hlines(0, r0_range[0], r0_range[-1], 'k', '-')\n",
        "plt.show()"
      ],
      "metadata": {
        "colab": {
          "base_uri": "https://localhost:8080/",
          "height": 265
        },
        "id": "aVic4yyIhY2u",
        "outputId": "1889890e-2bda-4ab4-b81e-4aa9c484d3de"
      },
      "execution_count": 73,
      "outputs": [
        {
          "output_type": "display_data",
          "data": {
            "image/png": "[encoded data removed]",
            "text/plain": [
              "<Figure size 432x288 with 1 Axes>"
            ]
          },
          "metadata": {
            "needs_background": "light"
          }
        }
      ]
    },
    {
      "cell_type": "markdown",
      "source": [
        "### Task 2:\n",
        "\n",
        "Define L-event inputs "
      ],
      "metadata": {
        "id": "6GtjfG2dlLcw"
      }
    },
    {
      "cell_type": "code",
      "execution_count": null,
      "metadata": {
        "id": "9cK1piLpuYbl"
      },
      "outputs": [],
      "source": [
        "# input\n",
        "\n",
        "def generate_regular_input_times(inter_event_interval, t_sim):\n",
        "    return np.arange(0, t_sim, inter_event_interval)\n",
        "\n",
        "# input: L-events\n",
        "\n",
        "def generate_L_events_times(t_end, inter_event_interval):\n",
        "    # generate sequence of L-event start times\n",
        "    L_events_times = []\n",
        "    _pt = 0. \n",
        "    while _pt < t_end:\n",
        "        _pt += np.random.exponential(inter_event_interval)\n",
        "        L_events_times.append(round(_pt, 1))\n",
        "    return L_events_times\n",
        "\n",
        "def define_L_event(n, amp_L, mean_dur, pct_low, pct_high):\n",
        "    # for one L-event, specify the L-amp, L-neurons, L-dur\n",
        "    amp = amp_L                                                             # amplitude\n",
        "    dur = round(np.random.normal(mean_dur, mean_dur/10.), 1)                # duration\n",
        "    pct = round(np.random.uniform(low=pct_low, high=pct_high), 2)           # participation ratio (20-60%)\n",
        "    sN = np.random.choice(np.arange(n), 1)\n",
        "    neur = np.roll(np.arange(n), -sN)[:int(pct*n)]                          # stimulated neurons\n",
        "    return amp, dur, pct, neur"
      ]
    },
    {
      "cell_type": "markdown",
      "source": [
        "### Task 3: \n",
        "\n",
        "Run the simulation with simple Hebbian rule and L events. Do we get selectivity?\n",
        "\n",
        "Task: To form Receptive Fields or Orientation selective neurons\n",
        "\n",
        "Input: We give regular input, and at every starting of input time point, we randomly select an orientation to activate. \n",
        "\n",
        "\n",
        "Plasticity rule: Hebbian "
      ],
      "metadata": {
        "id": "wy-IHfzPlW2q"
      }
    },
    {
      "cell_type": "code",
      "execution_count": null,
      "metadata": {
        "id": "C3-DH_kZuYbq"
      },
      "outputs": [],
      "source": [
        "# main\n",
        "\n",
        "input_times = generate_regular_input_times(params['input_iei'], params['t_sim'])\n",
        "\n",
        "[t, rX, rY, wXY] = run_simulation(params, hebbian, input_times)"
      ]
    },
    {
      "cell_type": "code",
      "source": [
        "# visualize output\n",
        "\n",
        "#show_rates(rX, rY, params, t1=0., t2=5000.)\n",
        "show_weight_evolution(wXY, t, params)\n",
        "#show_weights_at_time(wXY, params, t3=0.)\n",
        "#show_weights_at_time(wXY, params, t3=80000.)"
      ],
      "metadata": {
        "colab": {
          "base_uri": "https://localhost:8080/",
          "height": 281
        },
        "id": "8ElJ27P5zqFF",
        "outputId": "2e17796e-1dab-4ec0-a4f9-e56e911c1e38"
      },
      "execution_count": null,
      "outputs": [
        {
          "output_type": "display_data",
          "data": {
            "image/png": "[encoded data removed]",
            "text/plain": [
              "<Figure size 432x288 with 1 Axes>"
            ]
          },
          "metadata": {
            "needs_background": "light"
          }
        }
      ]
    },
    {
      "cell_type": "markdown",
      "source": [
        "# Hebbian plasticity with threshold"
      ],
      "metadata": {
        "id": "RO9gpwSnvOud"
      }
    },
    {
      "cell_type": "markdown",
      "source": [
        "### Coding exercise 2:\n",
        "Fill the equation"
      ],
      "metadata": {
        "id": "voNaUCMIvVm0"
      }
    },
    {
      "cell_type": "code",
      "source": [
        "# Hebbian with threshold\n",
        "\n",
        "def hebbian_threshold_1synapse(r0, r1, theta=params['theta']):\n",
        "    dw = r1 * (r0 - theta)\n",
        "    return dw\n",
        "\n",
        "def hebbian_threshold(r0, r1, theta=params['theta']):\n",
        "    r0 = r0.reshape(1, params['n0'])\n",
        "    r1 = r1.reshape(params['n1'], 1)\n",
        "\n",
        "    # Enter the plasticity rule here:\n",
        "    dw = (params['dt']/params['tauw']) * np.dot(r1, r0 - theta)\n",
        "\n",
        "    dw = dw.reshape(params['n1'], params['n0'])\n",
        "    return dw"
      ],
      "metadata": {
        "id": "azJin7EzvZgY"
      },
      "execution_count": 74,
      "outputs": []
    },
    {
      "cell_type": "markdown",
      "source": [
        "### Task 2.1:\n",
        "show dw as a function of presynaptic activity"
      ],
      "metadata": {
        "id": "xKvXMVRkxOMf"
      }
    },
    {
      "cell_type": "code",
      "source": [
        "r1 = 1.\n",
        "r0_range = np.arange(0.1, 1., 0.1)\n",
        "dw_all = np.zeros(np.shape(r1_range))\n",
        "params['theta'] = 0.5\n",
        "\n",
        "for i,r0 in enumerate(r0_range):\n",
        "    dw = hebbian_threshold_1synapse(r0, r1, params['theta'])\n",
        "    dw_all[i] = dw\n",
        "\n",
        "plt.plot(r0_range, dw_all, 'b--')\n",
        "plt.hlines(0, r0_range[0], r0_range[-1], 'k', '-')\n",
        "plt.show()"
      ],
      "metadata": {
        "colab": {
          "base_uri": "https://localhost:8080/",
          "height": 265
        },
        "id": "pqmItNTYwCTc",
        "outputId": "4fe372c4-27f6-45ac-b4f7-1a80754ab547"
      },
      "execution_count": 71,
      "outputs": [
        {
          "output_type": "display_data",
          "data": {
            "image/png": "[encoded data removed]",
            "text/plain": [
              "<Figure size 432x288 with 1 Axes>"
            ]
          },
          "metadata": {
            "needs_background": "light"
          }
        }
      ]
    },
    {
      "cell_type": "markdown",
      "source": [
        "### Task 2.2\n",
        "\n",
        "Run the network with this rule and see how the weights change"
      ],
      "metadata": {
        "id": "AE0aPJsiyDr0"
      }
    },
    {
      "cell_type": "code",
      "source": [
        "# main\n",
        "\n",
        "params['theta'] = 0.5\n",
        "[t, rX, rY, wXY] = run_simulation(params, hebbian_threshold, input_times)"
      ],
      "metadata": {
        "id": "XT-86y6Gvnec"
      },
      "execution_count": 75,
      "outputs": []
    },
    {
      "cell_type": "code",
      "source": [
        "# visualize output\n",
        "\n",
        "show_weight_evolution(wXY, t, params)"
      ],
      "metadata": {
        "colab": {
          "base_uri": "https://localhost:8080/",
          "height": 279
        },
        "id": "VVwl36lhv60W",
        "outputId": "a2d79e4b-fea7-4880-f394-4cf2dd9e9312"
      },
      "execution_count": 65,
      "outputs": [
        {
          "output_type": "display_data",
          "data": {
            "image/png": "[encoded data removed]",
            "text/plain": [
              "<Figure size 432x288 with 1 Axes>"
            ]
          },
          "metadata": {
            "needs_background": "light"
          }
        }
      ]
    },
    {
      "cell_type": "markdown",
      "source": [
        "# Hebbian plasticity with subtractive normalization\n",
        "\n",
        "Equation:\n",
        "\n",
        "Here we cannot do for 1 synapse"
      ],
      "metadata": {
        "id": "iOLDLAXDyXhk"
      }
    },
    {
      "cell_type": "markdown",
      "source": [
        "### Coding exercise 3.0:\n",
        "Fill the equation for subtractive normalization"
      ],
      "metadata": {
        "id": "N5xv03Ugyh7h"
      }
    },
    {
      "cell_type": "code",
      "source": [
        "# Hebbian with subtractive normalization\n",
        "\n",
        "def hebbian_subtractive_normalization(r0, r1):\n",
        "    r0 = r0.reshape(1, params['n0'])\n",
        "    r1 = r1.reshape(params['n1'], 1)\n",
        "\n",
        "    # Enter the plasticity rule here:\n",
        "    dw1 = np.dot(r1, r0)              # simple Hebbian term\n",
        "    dw2 = np.sum(dw1)/np.size(dw1)            # subtractive normalization term\n",
        "    dw = (params['dt']/params['tauw']) * (dw1 - dw2)\n",
        "\n",
        "    dw = dw.reshape(params['n1'], params['n0'])\n",
        "    return dw"
      ],
      "metadata": {
        "id": "KIQQT9JYypE0"
      },
      "execution_count": 80,
      "outputs": []
    },
    {
      "cell_type": "markdown",
      "source": [
        "### Task 3.1:"
      ],
      "metadata": {
        "id": "4cC5PpD0zWU_"
      }
    },
    {
      "cell_type": "markdown",
      "source": [
        "### Task 3.2\n",
        "\n",
        "Run the network with this rule and show the weight change"
      ],
      "metadata": {
        "id": "zMueEOhZzbzJ"
      }
    },
    {
      "cell_type": "code",
      "source": [
        "# main\n",
        "\n",
        "[t, rX, rY, wXY] = run_simulation(params, hebbian_subtractive_normalization, input_times)"
      ],
      "metadata": {
        "id": "AGUFqQoCz1yW"
      },
      "execution_count": 81,
      "outputs": []
    },
    {
      "cell_type": "code",
      "source": [
        "# visualize output\n",
        "\n",
        "show_weight_evolution(wXY, t, params)"
      ],
      "metadata": {
        "id": "HCzYLZoPz7qz"
      },
      "execution_count": null,
      "outputs": []
    },
    {
      "cell_type": "code",
      "source": [
        "# Hebbian with multiplicative normalization\n",
        "\n",
        "def hebbian_subtractive_normalization(r0, r1):\n",
        "    r0 = r0.reshape(1, params['n0'])\n",
        "    r1 = r1.reshape(params['n1'], 1)\n",
        "\n",
        "    # Enter the plasticity rule here:\n",
        "    dw1 = np.dot(r1, r0)                      # simple Hebbian term\n",
        "    dw2 = np.sum(dw1)/np.size(dw1)            # subtractive normalization term\n",
        "    dw = (params['dt']/params['tauw']) * (dw1 - dw2)\n",
        "\n",
        "    dw = dw.reshape(params['n1'], params['n0'])\n",
        "    return dw"
      ],
      "metadata": {
        "id": "UqgNB9VW7keo"
      },
      "execution_count": null,
      "outputs": []
    },
    {
      "cell_type": "code",
      "source": [
        "# main\n",
        "\n",
        "[t, rX, rY, wXY] = run_simulation(params, hebbian_subtractive_normalization, input_times)"
      ],
      "metadata": {
        "id": "Mn-FwihF7knv"
      },
      "execution_count": null,
      "outputs": []
    },
    {
      "cell_type": "code",
      "source": [
        "# visualize output\n",
        "\n",
        "show_weight_evolution(wXY, t, params)"
      ],
      "metadata": {
        "id": "LAaFAaMI7lO2"
      },
      "execution_count": null,
      "outputs": []
    },
    {
      "cell_type": "markdown",
      "source": [
        "# BCM rule\n",
        "\n",
        "Show the equation here:"
      ],
      "metadata": {
        "id": "82XbEfQOAB5n"
      }
    },
    {
      "cell_type": "code",
      "source": [
        "def bcm_1synapse(r0, r1, theta=params['theta']):\n",
        "    dw = r1 * (r1 - theta) * r0\n",
        "    return dw"
      ],
      "metadata": {
        "id": "0hulVqyMAWfe"
      },
      "execution_count": 82,
      "outputs": []
    },
    {
      "cell_type": "code",
      "source": [
        "r0 = 1.\n",
        "r1_range = np.arange(0.0, 1., 0.1)\n",
        "dw_all = np.zeros(np.shape(r1_range))\n",
        "#params['theta'] = 0.3\n",
        "\n",
        "for theta in [0.3, 0.5, 0.7]:\n",
        "    for i,r1 in enumerate(r1_range):\n",
        "        dw = bcm_1synapse(r0, r1, theta)\n",
        "        dw_all[i] = dw\n",
        "\n",
        "    plt.plot(r1_range, dw_all, '--', label='theta = {}'.format(theta))\n",
        "\n",
        "plt.hlines(0, r1_range[0], r1_range[-1], 'k', '-')\n",
        "plt.legend()\n",
        "plt.show()"
      ],
      "metadata": {
        "colab": {
          "base_uri": "https://localhost:8080/",
          "height": 265
        },
        "id": "nXP9GVCCAnfW",
        "outputId": "c0de0d95-ee5d-458c-be69-1a4a14e8971a"
      },
      "execution_count": 93,
      "outputs": [
        {
          "output_type": "display_data",
          "data": {
            "image/png": "[encoded data removed]",
            "text/plain": [
              "<Figure size 432x288 with 1 Axes>"
            ]
          },
          "metadata": {
            "needs_background": "light"
          }
        }
      ]
    },
    {
      "cell_type": "code",
      "source": [
        "# plasticity functions\n",
        "\n",
        "def update_weights_hebbian(w0, r0, r1, params):\n",
        "    \"\"\"\n",
        "    r0 = rates of presynatic neurons   (n,1)\n",
        "    r1 = rates of postsynaptic neurons (n,1)\n",
        "    w0 = initial synaptic weights      (n,n)\n",
        "    w1 = final synaptic weights        (n,n)\n",
        "    \"\"\"\n",
        "    w1 = w0 + (params['dt']/params['tauw']) * np.dot(r1.reshape(params['n1'],1), r0.reshape(1,params['n0'])).reshape(-1)\n",
        "    w1 = rescale_weights(w1, params['w_low'], params['w_high'])\n",
        "    return w1\n",
        "\n",
        "def update_weights_hebbian_subtractive_normalization(w0, r0, r1, params):\n",
        "    Cw = np.dot(r1.reshape(params['n1'],1), r0.reshape(1,params['n0']))\n",
        "    subtractive_part = np.sum(Cw)/np.size(Cw) \n",
        "    w1 = w0 + (params['dt']/params['tauw']) * (Cw.reshape(-1) - subtractive_part)\n",
        "    w1 = rescale_weights(w1, params['w_low'], params['w_high'])\n",
        "    return w1\n",
        "\n",
        "def update_weights_hebbian_multiplicative_normalization(w0, r0, r1, params):\n",
        "    w1 = w0 + (params['dt']/params['tauw']) * np.dot(r1.reshape(params['n1'],1), r0.reshape(1,params['n0'])).reshape(-1)\n",
        "    w1 = rescale_weights(w1, params['w_low'], params['w_high'])\n",
        "    return w1\n",
        "\n",
        "def update_weights_BCM(w0):\n",
        "    return w1\n",
        "\n",
        "def rescale_weights(w, lower_bound, upper_bound):\n",
        "    w[w < lower_bound] = lower_bound\n",
        "    w[w > upper_bound] = upper_bound\n",
        "    return w\n",
        "\n",
        "def update_weights_hebbian(w0, r0, r1):\n",
        "    r0 = r0.reshape(1, params['n0'])\n",
        "    r1 = r1.reshape(params['n1'], 1)\n",
        "\n",
        "    # Enter the plasticity rule here:\n",
        "    dw = (params['dt']/params['tauw']) * np.dot(r1, r0)\n",
        "\n",
        "    dw = dw.reshape(params['n0'], params['n1'])\n",
        "    w1 = w0 + dw\n",
        "    #w1 = rescale_weights(w1, params['w_low'], params['w_high'])  # restrict weight to upper and lower bounds\n",
        "    return w1"
      ],
      "metadata": {
        "id": "VyS-y7QLazOy"
      },
      "execution_count": null,
      "outputs": []
    }
  ],
  "metadata": {
    "kernelspec": {
      "display_name": "Python 3",
      "language": "python",
      "name": "python3"
    },
    "language_info": {
      "codemirror_mode": {
        "name": "ipython",
        "version": 3
      },
      "file_extension": ".py",
      "mimetype": "text/x-python",
      "name": "python",
      "nbconvert_exporter": "python",
      "pygments_lexer": "ipython3",
      "version": "3.8.10"
    },
    "colab": {
      "name": "hebbian_plasticity.ipynb",
      "provenance": [],
      "collapsed_sections": [],
      "toc_visible": true,
      "include_colab_link": true
    }
  },
  "nbformat": 4,
  "nbformat_minor": 0
}