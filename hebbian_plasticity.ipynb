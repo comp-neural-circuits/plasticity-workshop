{
 "cells": [
  {
   "cell_type": "code",
   "execution_count": null,
   "metadata": {},
   "outputs": [],
   "source": [
    "import sys, json\n",
    "import numpy as np\n",
    "import matplotlib.pyplot as plt\n",
    "import matplotlib.gridspec as gridspec\n",
    "from scipy.stats import norm"
   ]
  },
  {
   "cell_type": "code",
   "execution_count": null,
   "metadata": {},
   "outputs": [],
   "source": [
    "# utility functions"
   ]
  },
  {
   "cell_type": "code",
   "execution_count": null,
   "metadata": {},
   "outputs": [],
   "source": [
    "# plasticity functions\n",
    "\n",
    "def update_weights_hebbian(w0, r0, r1, params):\n",
    "    \"\"\"\n",
    "    r0 = rates of presynatic neurons   (n,1)\n",
    "    r1 = rates of postsynaptic neurons (n,1)\n",
    "    w0 = initial synaptic weights      (n,n)\n",
    "    w1 = final synaptic weights        (n,n)\n",
    "    \"\"\"\n",
    "    w1 = w0 + (params['dt']/params['tauw']) * np.dot(r1.reshape(params['n1'],1), r0.reshape(1,params['n0']))\n",
    "    return w1\n",
    "\n",
    "# there can also be hebbian with threshold (which then uses input covariance matrix instead of correlation matrix)\n",
    "\n",
    "def update_weights_hebbian_normalized(w0):\n",
    "    return w1\n",
    "\n",
    "def update_weights_BCM(w0):\n",
    "    return w1"
   ]
  },
  {
   "cell_type": "code",
   "execution_count": null,
   "metadata": {},
   "outputs": [],
   "source": [
    "# input\n",
    "\n",
    "\n",
    "# input: L-events\n",
    "\n",
    "def generate_L_events_times(t_end, inter_event_interval):\n",
    "    # generate sequence of L-event start times\n",
    "    L_events_times = []\n",
    "    _pt = 0. \n",
    "    while _pt < t_end:\n",
    "        _pt += np.random.exponential(inter_event_interval)\n",
    "        L_events_times.append(round(_pt, 1))\n",
    "    return L_events_times\n",
    "\n",
    "def define_L_event(n, amp_L, mean_dur, pct_low, pct_high):\n",
    "    # for one L-event, specify the L-amp, L-neurons, L-dur\n",
    "    amp = amp_L                                                             # amplitude\n",
    "    dur = round(np.random.normal(mean_dur, mean_dur/10.), 1)                # duration\n",
    "    pct = round(np.random.uniform(low=pct_low, high=pct_high), 2)           # participation ratio (20-60%)\n",
    "    sN = np.random.choice(np.arange(n), 1)\n",
    "    neur = np.roll(np.arange(n), -sN)[:int(pct*n)]                          # stimulated neurons\n",
    "    return amp, dur, pct, neur"
   ]
  },
  {
   "cell_type": "code",
   "execution_count": null,
   "metadata": {},
   "outputs": [],
   "source": [
    "# define parameters\n",
    "\n",
    "params = {\n",
    "    'n0' = 10,              # number of presynaptic neurons\n",
    "    'n1' = 10,              # number of postsynaptic neurons\n",
    "    'taum' = 10.,           # tau for rate equation (ms)\n",
    "    'tauw' = 100000.,       # tau for synaptic weight equation (ms)\n",
    "    't_sim' = 5000.,        # Time of simulation (ms)    \n",
    "    'dt' = 0.1,             # Time step for simulation\n",
    "    'sdt' = 100.,           # Time step for storing/recording weights\n",
    "}"
   ]
  },
  {
   "cell_type": "code",
   "execution_count": null,
   "metadata": {},
   "outputs": [],
   "source": [
    "# main"
   ]
  }
 ],
 "metadata": {
  "kernelspec": {
   "display_name": "subplate",
   "language": "python",
   "name": "subplate"
  },
  "language_info": {
   "codemirror_mode": {
    "name": "ipython",
    "version": 3
   },
   "file_extension": ".py",
   "mimetype": "text/x-python",
   "name": "python",
   "nbconvert_exporter": "python",
   "pygments_lexer": "ipython3",
   "version": "3.6.9"
  }
 },
 "nbformat": 4,
 "nbformat_minor": 2
}
