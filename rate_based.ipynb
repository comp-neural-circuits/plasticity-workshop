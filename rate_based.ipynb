{
 "cells": [
  {
   "cell_type": "markdown",
   "metadata": {},
   "source": [
    "[![Open In Colab](https://colab.research.google.com/assets/colab-badge.svg)](https://githubtocolab.com/comp-neural-circuits/plasticity-workshop/blob/dev/rate_based.ipynb)"
   ]
  },
  {
   "cell_type": "markdown",
   "metadata": {
    "cell_id": "70cb080a-e9a3-4007-b9cb-f7ab20b92c2c",
    "deepnote_cell_type": "text-cell-h1",
    "is_collapsed": false,
    "tags": []
   },
   "source": [
    "# Rate-based Plasticity Rules"
   ]
  },
  {
   "cell_type": "markdown",
   "metadata": {
    "cell_id": "6f485884-d360-4f23-9481-8c834974a155",
    "deepnote_cell_type": "text-cell-h2",
    "is_collapsed": false,
    "tags": []
   },
   "source": [
    "## Hebbian Plasticity"
   ]
  },
  {
   "cell_type": "markdown",
   "metadata": {
    "cell_id": "9faf8d82-d8b7-41e5-a255-290fb1557024",
    "deepnote_cell_type": "markdown",
    "tags": []
   },
   "source": [
    "**Goals**\n",
    "+ Covariance-based learning rule is equivalent to detecting the first principal component of the activity\n"
   ]
  },
  {
   "cell_type": "markdown",
   "metadata": {
    "cell_id": "c9f07e91-b33e-49da-9b42-eb3a744cded3",
    "deepnote_cell_type": "markdown",
    "tags": []
   },
   "source": [
    "### Initialization"
   ]
  },
  {
   "cell_type": "code",
   "execution_count": null,
   "metadata": {
    "cell_id": "4a92bc37-cb67-4f91-aea7-3682fdd62113",
    "deepnote_cell_type": "code",
    "deepnote_output_heights": [
     21
    ],
    "deepnote_to_be_reexecuted": false,
    "execution_millis": 8501,
    "execution_start": 1644223398431,
    "is_code_hidden": true,
    "is_output_hidden": true,
    "source_hash": "7c291202",
    "tags": [
     "hide_output",
     "remove_output",
     "hide_code"
    ]
   },
   "outputs": [],
   "source": [
    "!pip install numpy scipy matplotlib ipywidgets scikit-learn --quiet\n",
    "import numpy as np\n",
    "import scipy.linalg as lin\n",
    "from numpy.random import default_rng\n",
    "rng = default_rng()\n",
    "import matplotlib.pyplot as plt\n",
    "from ipywidgets import interact, interactive, fixed, interact_manual\n",
    "import ipywidgets as widgets\n",
    "plt.style.use(\"https://github.com/comp-neural-circuits/plasticity-workshop/raw/dev/plots_style.txt\")"
   ]
  },
  {
   "cell_type": "markdown",
   "metadata": {
    "cell_id": "e047227c-e297-436b-aa18-f26e2976f0df",
    "deepnote_cell_type": "markdown",
    "tags": []
   },
   "source": [
    "### Utility Functions"
   ]
  },
  {
   "cell_type": "code",
   "execution_count": null,
   "metadata": {
    "cell_id": "94b14042-aade-4b82-8b77-2f6e3d9b3b8e",
    "deepnote_cell_type": "code",
    "deepnote_to_be_reexecuted": false,
    "execution_millis": 11,
    "execution_start": 1644222477799,
    "source_hash": "4199937f",
    "tags": []
   },
   "outputs": [],
   "source": [
    "def ornstein_uhlenbeck(mean,cov,dt,Ttot,dts=1E-2):\n",
    "  \"\"\"\n",
    "  Generates a multi-dimensional Ornstein-Uhlenbeck process.\n",
    "\n",
    "  Parameters :\n",
    "  mean (numpy vector) : desired mean\n",
    "  cov  (matrix)   : covariance matrix (symmetric, positive definite)\n",
    "  dt   (real)     : timestep output\n",
    "  Tot  (real)     : total time\n",
    "  dts = 1E-3 (real) : simulation timestep\n",
    "\n",
    "  Returns :\n",
    "  times (numpy vector)\n",
    "  rates (numpy matrix)  :  rates[i,j] is the rate of unit i at time times[j]\n",
    "  \"\"\"\n",
    "  times = np.linspace(0.0,Ttot-dt,num=int(Ttot/dt))\n",
    "  n = len(mean)\n",
    "  nTs = int(Ttot/dts)\n",
    "  rates_all = np.empty((n,nTs))\n",
    "  rates_all[:,0] = 0\n",
    "  L = lin.cholesky(cov)\n",
    "  nskip = int(dt/dts)\n",
    "  assert round(dts*nskip,5) == dt , \"dt must be multiple of  \" + str(dts)\n",
    "  for t in range(1,nTs):\n",
    "    dr = dts*(mean-rates_all[:,t-1])\n",
    "    dpsi = np.sqrt(2*dts)*(L.T @ rng.standard_normal(n))\n",
    "    rates_all[:,t] = rates_all[:,t-1] + dr + dpsi\n",
    "  # subsample \n",
    "  rates = rates_all[:,::nskip]\n",
    "  return times,rates\n",
    "  \n",
    "def twodimensional_UL(mean1,var1,mean2,var2,corr,dt,Ttot,dts=1E-2):\n",
    "  \"\"\"\n",
    "  Generates samples from a 2D Ornstein-Uhlenbeck process.\n",
    "\n",
    "  Parameters :\n",
    "  mean1 (real) : mean on first dimension\n",
    "  var1  (real) : variance on first dimension (at dt=1. intervals)\n",
    "  mean2 (real) : - \n",
    "  var2  (real) : - \n",
    "  corr  (real) : correlation coefficient \n",
    "  dt   (real)     : timestep output\n",
    "  Tot  (real)     : total time\n",
    "  dts = 1E-3 (real) : simulation timestep\n",
    "\n",
    "  Returns :\n",
    "  times  (numpy vector)\n",
    "  rates1 (numpy vector)\n",
    "  rates2 (numpy vector)\n",
    "  \"\"\"\n",
    "  assert -1<=corr<=1, \"correlation must be in (-1,1) interval\"\n",
    "  var12 = corr*var1*var2\n",
    "  (times, rates) = ornstein_uhlenbeck(\n",
    "      np.array([mean1,mean2]),\n",
    "      np.array([[var1,var12],[var12,var2]]),\n",
    "      dt,Ttot,dts)\n",
    "  return times, rates[0,:],rates[1,:]\n"
   ]
  },
  {
   "cell_type": "code",
   "execution_count": null,
   "metadata": {
    "cell_id": "dcbe3bdb-81f9-4e68-af26-38842f6c6de4",
    "deepnote_cell_type": "code",
    "deepnote_output_heights": [
     405,
     21,
     405
    ],
    "deepnote_to_be_reexecuted": false,
    "execution_millis": 2706,
    "execution_start": 1644222842890,
    "source_hash": "28d869ce",
    "tags": []
   },
   "outputs": [],
   "source": [
    "times,rates1,rates2 = twodimensional_UL(0.,1.,0.,2.,0.6,1.0,500.0)\n",
    "fig, (ax1, ax2) = plt.subplots(2, 1)\n",
    "ax1.plot(times,rates1)\n",
    "ax1.plot(times,rates2)\n",
    "ax2.scatter(rates1,rates2)"
   ]
  },
  {
   "cell_type": "code",
   "execution_count": null,
   "metadata": {
    "cell_id": "92900bbd-0534-4631-a364-e355a0d00730",
    "deepnote_cell_type": "code",
    "deepnote_output_heights": [
     null,
     21,
     21
    ],
    "deepnote_to_be_reexecuted": false,
    "execution_millis": 113,
    "execution_start": 1644223441051,
    "source_hash": "e5b419c0",
    "tags": []
   },
   "outputs": [],
   "source": [
    "@interact(x=True, y=1.0)\n",
    "def g(x, y):\n",
    "    return (x, y)\n",
    "\n",
    "def f(x):\n",
    "    return x\n",
    "interact(f,x=10)"
   ]
  },
  {
   "cell_type": "code",
   "execution_count": null,
   "metadata": {
    "cell_id": "00007-6afcc17d-ea0b-43c3-9520-74055c971b75",
    "deepnote_cell_type": "code",
    "tags": []
   },
   "outputs": [],
   "source": [
    "def mySTDP_plot(A_plus, A_minus, tau_plus, tau_minus, Delta_t, dW):\n",
    "  '''\n",
    "  A_plus : maximum amount of potentiation (LTP)\n",
    "  A_minus: maximum amount of depression (LTD)\n",
    "  tau_plus: LTP time constant\n",
    "  tau_minus: LTD time constant \n",
    "  Delta_t : array with the time differences between post- and pre-synaptic spikes\n",
    "  dW : synaptic change \n",
    "  '''\n",
    "  plt.figure()\n",
    "  plt.plot([-5 * tau_minus, 5 * tau_plus], [0, 0], 'k', linestyle=':')\n",
    "  plt.plot([0, 0], [-A_minus, A_plus], 'k', linestyle=':')\n",
    "\n",
    "  plt.plot(Delta_t[Delta_t <= 0], dW[Delta_t <= 0], 'r')\n",
    "  plt.plot(Delta_t[Delta_t > 0], dW[Delta_t > 0], 'b')\n",
    "\n",
    "  plt.xlabel(r'$\\Delta t=$ t$_{\\mathrm{post}}$ - t$_{\\mathrm{pre}}$ (ms)')\n",
    "  plt.ylabel(r'$\\Delta $W', fontsize=14)\n",
    "  plt.title('Pairwise STDP rule', fontsize=12, fontweight='bold')\n",
    "  plt.show()"
   ]
  },
  {
   "cell_type": "code",
   "execution_count": null,
   "metadata": {
    "cell_id": "0d4d7d0c-c61c-402a-ac48-0f8a040ad2ef",
    "deepnote_cell_type": "code",
    "deepnote_output_heights": [
     309
    ],
    "deepnote_to_be_reexecuted": false,
    "execution_millis": 798,
    "execution_start": 1643999668423,
    "source_hash": "31dfd365",
    "tags": []
   },
   "outputs": [],
   "source": [
    "cov_mat = np.array([[ 1.0 , 0.5],[0.5,1.0]])\n",
    "mean = np.array([2.,2.0])\n",
    "times,rates = ornstein_uhlenbeck(mean,cov_mat,1.0,50.0)\n",
    "\n"
   ]
  },
  {
   "cell_type": "code",
   "execution_count": null,
   "metadata": {
    "cell_id": "b211a145-e4dd-4a2b-9b49-c02b1c7b6e11",
    "deepnote_cell_type": "code",
    "deepnote_output_heights": [
     405
    ],
    "deepnote_to_be_reexecuted": false,
    "execution_millis": 321,
    "execution_start": 1643999627669,
    "source_hash": "55bdcc36",
    "tags": []
   },
   "outputs": [],
   "source": [
    "plt.plot(times,rates[0,:],times,rates[1,:]);"
   ]
  },
  {
   "cell_type": "code",
   "execution_count": null,
   "metadata": {
    "cell_id": "37f66e3b-c49f-4d9c-9f08-a634e17453f7",
    "deepnote_cell_type": "code",
    "deepnote_output_heights": [
     21
    ],
    "deepnote_to_be_reexecuted": false,
    "execution_millis": 11,
    "execution_start": 1643999461050,
    "source_hash": "e6105586",
    "tags": []
   },
   "outputs": [],
   "source": [
    "np.var(rates[1,:])"
   ]
  },
  {
   "cell_type": "code",
   "execution_count": null,
   "metadata": {
    "cell_id": "4e934d3b-e2b6-4a18-8215-86bdb11b6579",
    "deepnote_cell_type": "code",
    "deepnote_output_heights": [
     21
    ],
    "deepnote_to_be_reexecuted": false,
    "execution_millis": 10,
    "execution_start": 1643999539481,
    "source_hash": "99a6e8d6",
    "tags": []
   },
   "outputs": [],
   "source": [
    "times[-1]"
   ]
  },
  {
   "cell_type": "code",
   "execution_count": null,
   "metadata": {
    "cell_id": "23f419af-182b-450f-87dd-7123f53e8462",
    "deepnote_cell_type": "code",
    "deepnote_output_heights": [
     21
    ],
    "deepnote_to_be_reexecuted": false,
    "execution_millis": 13,
    "execution_start": 1643999156684,
    "source_hash": "edb4ea65",
    "tags": []
   },
   "outputs": [],
   "source": [
    "print(np.mean(rates[0,:]), np.var(rates[0,:]))"
   ]
  },
  {
   "cell_type": "code",
   "execution_count": null,
   "metadata": {
    "cell_id": "d88ec10d-c232-4828-92a2-a6df08fbb105",
    "deepnote_cell_type": "code",
    "deepnote_to_be_reexecuted": false,
    "execution_millis": 0,
    "execution_start": 1643984204158,
    "source_hash": "5b345a87",
    "tags": []
   },
   "outputs": [],
   "source": [
    "def Delta_W(A_plus, A_minus, tau_plus, tau_minus, Delta_t):\n",
    "  \"\"\"\n",
    "  Calculates the instantaneous change in weights dW due to the STDP pairwise rule\n",
    "\n",
    "  A_plus : maximum amount of potentiation (LTP)\n",
    "  A_minus: maximum amount of depression (LTD)\n",
    "  tau_plus: LTP time constant\n",
    "  tau_minus: LTD time constant \n",
    "  Delta_t : array with the time differences between post- and pre-synaptic spikes\n",
    "  \"\"\"\n",
    "\n",
    "  # Initialize the STDP change\n",
    "  dW = np.zeros(len(Delta_t))\n",
    "  # Calculate dW for LTP\n",
    "  dW[Delta_t > 0] = A_plus * np.exp(-Delta_t[Delta_t > 0] / tau_plus)\n",
    "  # Calculate dW for LTD\n",
    "  dW[Delta_t <= 0] = -A_minus * np.exp(delta_t[Delta_t <= 0] / tau_minus)\n",
    "\n",
    "  return dW"
   ]
  },
  {
   "cell_type": "code",
   "execution_count": null,
   "metadata": {
    "cell_id": "749d8f47-d7ec-4677-90e1-b883648ec676",
    "deepnote_cell_type": "code",
    "deepnote_output_heights": [
     79
    ],
    "deepnote_to_be_reexecuted": false,
    "execution_millis": 0,
    "execution_start": 1643984204159,
    "source_hash": "2caf3f14",
    "tags": []
   },
   "outputs": [],
   "source": [
    "rates"
   ]
  },
  {
   "cell_type": "code",
   "execution_count": null,
   "metadata": {
    "cell_id": "f4115060-5bf5-432a-b725-b9021f84abe0",
    "deepnote_cell_type": "code",
    "deepnote_output_heights": [
     79
    ],
    "deepnote_to_be_reexecuted": false,
    "execution_millis": 3,
    "execution_start": 1643984204160,
    "source_hash": "2caf3f14",
    "tags": []
   },
   "outputs": [],
   "source": [
    "rates"
   ]
  },
  {
   "cell_type": "code",
   "execution_count": null,
   "metadata": {
    "cell_id": "347eae17-dfe9-47cf-94af-31a804f2c99b",
    "deepnote_cell_type": "code",
    "deepnote_output_heights": [
     40
    ],
    "deepnote_to_be_reexecuted": false,
    "execution_millis": 3,
    "execution_start": 1643984204212,
    "source_hash": "4eac7521",
    "tags": []
   },
   "outputs": [],
   "source": [
    "vals = rng.standard_normal(10)\n",
    "vals"
   ]
  },
  {
   "cell_type": "code",
   "execution_count": null,
   "metadata": {
    "cell_id": "72937255-310b-4af4-b2fb-6e5b8fafa12b",
    "deepnote_cell_type": "code",
    "deepnote_output_heights": [
     415
    ],
    "deepnote_to_be_reexecuted": false,
    "execution_millis": 313,
    "execution_start": 1643984204213,
    "source_hash": "24f1a518",
    "tags": []
   },
   "outputs": [],
   "source": [
    "# define the STDP rule parameters\n",
    "A_plus = 1\n",
    "A_minus = 1\n",
    "tau_plus = 20  #[ms]\n",
    "tau_minus = 10 #[ms]\n",
    "\n",
    "delta_t = np.linspace(-5 * tau_minus, 5 * tau_plus, 50)\n",
    "\n",
    "dW = Delta_W(A_plus, A_minus, tau_plus, tau_minus, Delta_t)\n",
    "\n",
    "mySTDP_plot(A_plus, A_minus, tau_plus, tau_minus, Delta_t, dW)"
   ]
  }
 ],
 "metadata": {
  "deepnote": {
   "is_reactive": false
  },
  "deepnote_execution_queue": [],
  "deepnote_notebook_id": "5e3b54db-e48f-43a7-b40f-09467f2d2c99",
  "kernelspec": {
   "display_name": "Python 3 (ipykernel)",
   "language": "python",
   "name": "python3"
  },
  "language_info": {
   "codemirror_mode": {
    "name": "ipython",
    "version": 3
   },
   "file_extension": ".py",
   "mimetype": "text/x-python",
   "name": "python",
   "nbconvert_exporter": "python",
   "pygments_lexer": "ipython3",
   "version": "3.8.12"
  },
  "toc-autonumbering": false,
  "toc-showcode": true,
  "toc-showmarkdowntxt": false,
  "toc-showtags": true
 },
 "nbformat": 4,
 "nbformat_minor": 4
}
