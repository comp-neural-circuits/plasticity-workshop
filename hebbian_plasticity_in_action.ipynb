{
  "cells": [
    {
      "cell_type": "markdown",
      "metadata": {
        "id": "view-in-github",
        "colab_type": "text"
      },
      "source": [
        "<a href=\"https://colab.research.google.com/github/comp-neural-circuits/plasticity-workshop/blob/dev/hebbian_plasticity_in_action.ipynb\" target=\"_parent\"><img src=\"https://colab.research.google.com/assets/colab-badge.svg\" alt=\"Open In Colab\"/></a>"
      ]
    },
    {
      "cell_type": "markdown",
      "source": [
        "# Hebbian plasticity in action!\n",
        "\n",
        "In this part of the tutorial, we will see how hebbian plasticity acts in numerical simulations and learn to show biological computations using plasticity in simulations. \n",
        "\n",
        "In Section 1, we will implement hebbian rules at each time step. \n",
        "\n",
        "In Section 2, we will use hebbian plasticity and L-events to form receptive fields."
      ],
      "metadata": {
        "id": "mJHQG6t3-OGC"
      }
    },
    {
      "cell_type": "code",
      "execution_count": 119,
      "metadata": {
        "id": "lv5TpJr-uYba"
      },
      "outputs": [],
      "source": [
        "import sys, json\n",
        "import numpy as np\n",
        "import matplotlib.pyplot as plt\n",
        "import matplotlib.gridspec as gridspec\n",
        "from scipy.stats import norm"
      ]
    },
    {
      "cell_type": "markdown",
      "source": [
        "# Calculate change of weight 'on the fly'\n",
        "\n",
        "In the last section, we simulated weight dynamics by first calculating the correlation or covariance matrix of the input. However, in biology and in numerical simulations, we don't have this long time information of how inputs are correlated. Instead, we know the firing rate of neurons at that time. Therefore we use the basic formulation of hebbian plasticity that depends on presynaptic rate $ \\rho(t)$ and postsynaptic rate $ v(t)$:\n",
        "\n",
        "\\begin{equation}\n",
        "    \\tau_w \\dot{w} = v(t) \\; \\rho(t)\n",
        "\\end{equation}\n",
        "\n",
        "In the first section, we will go over how weights are updated at each time step by calculating $ \\Delta w$ as a function of presynaptic or postsynaptic rate. This part is easy, we just have to write the command `dw = ` in the exact form as the given equation.  "
      ],
      "metadata": {
        "id": "40hMvgS2lfSr"
      }
    },
    {
      "cell_type": "markdown",
      "source": [
        "### Simple Hebbian\n",
        "\n",
        "The most basic form of Hebbian plasticity is the equation as we saw above."
      ],
      "metadata": {
        "id": "lzPq09UhnCjE"
      }
    },
    {
      "cell_type": "code",
      "source": [
        "def hebbian_1synapse(p, v):\n",
        "    dw = v * p\n",
        "    return dw"
      ],
      "metadata": {
        "id": "fmM83iOnn5mK"
      },
      "execution_count": 117,
      "outputs": []
    },
    {
      "cell_type": "markdown",
      "source": [
        "We can give different presynaptic and postsynaptic rates to this equation and $\\Delta w$ (`dw` in the code) will always be postive, which means we will always have LTP.\n",
        "\n",
        "Exercise: Plot $ \\Delta w$ for a range of presynaptic rates. "
      ],
      "metadata": {
        "id": "k3w9E2SGn9mk"
      }
    },
    {
      "cell_type": "code",
      "source": [
        "v = 1.\n",
        "p_range = np.arange(0., 1., 0.1)\n",
        "dw_all = np.zeros(np.shape(p_range))\n",
        "\n",
        "for i,p in enumerate(p_range):\n",
        "    dw = hebbian_1synapse(v, p)\n",
        "    dw_all[i] = dw\n",
        "\n",
        "fig = plt.figure()\n",
        "plt.plot(p_range, dw_all, 'b--')\n",
        "plt.hlines(0, p_range[0], p_range[-1], 'k', '-')\n",
        "plt.xlabel('Presynaptic rate, p')\n",
        "plt.ylabel('change in weight')\n",
        "plt.show()"
      ],
      "metadata": {
        "colab": {
          "base_uri": "https://localhost:8080/",
          "height": 279
        },
        "id": "k8xt1DlIn-Wm",
        "outputId": "f902f739-e4c0-4fa0-a145-23c3d4d6c039"
      },
      "execution_count": 132,
      "outputs": [
        {
          "output_type": "display_data",
          "data": {
            "image/png": "[encoded data removed]",
            "text/plain": [
              "<Figure size 432x288 with 1 Axes>"
            ]
          },
          "metadata": {
            "needs_background": "light"
          }
        }
      ]
    },
    {
      "cell_type": "markdown",
      "source": [
        "Exercise: Plot $ \\Delta w$ for a range of presynaptic and postynaptic rates."
      ],
      "metadata": {
        "id": "ed0ytpCi1IAb"
      }
    },
    {
      "cell_type": "code",
      "source": [
        "p_range = np.arange(0., 1., 0.1)\n",
        "v_range = np.arange(0., 1., 0.1)\n",
        "dw_all = np.zeros((len(p_range), len(v_range)))\n",
        "\n",
        "for i,p in enumerate(p_range):\n",
        "    for j,v in enumerate(v_range):\n",
        "        dw = hebbian_1synapse(p, v)\n",
        "        dw_all[i, j] = dw\n",
        "\n",
        "fig = plt.figure()\n",
        "ax = plt.gca()\n",
        "im = ax.imshow(dw_all, origin='lower', cmap='RdBu', vmin=-np.max(dw_all), vmax=np.max(dw_all))\n",
        "cbar = plt.colorbar(im, ax=ax, ticks=[-np.max(dw_all), 0., np.max(dw_all)])\n",
        "cbar.ax.set_yticklabels(['LTD', 'No change', 'LTP'])\n",
        "plt.xlabel('Postsynaptic rate, v')\n",
        "plt.ylabel('Presynaptic rate, p')\n",
        "plt.show()"
      ],
      "metadata": {
        "colab": {
          "base_uri": "https://localhost:8080/",
          "height": 283
        },
        "id": "Rd5vNUpE1O12",
        "outputId": "8791be28-40e5-43b1-f898-7c2ba7d8609d"
      },
      "execution_count": 148,
      "outputs": [
        {
          "output_type": "display_data",
          "data": {
            "image/png": "[encoded data removed]",
            "text/plain": [
              "<Figure size 432x288 with 2 Axes>"
            ]
          },
          "metadata": {
            "needs_background": "light"
          }
        }
      ]
    },
    {
      "cell_type": "markdown",
      "source": [
        "### Hebbian with threshold\n",
        "\n",
        "We can add a threshold to the Hebbian plasticity equation to introduce LTD at some points. Let's put the threshold in the presynaptic term and the equation is: \n",
        "\\begin{equation}\n",
        "    \\tau \\dot{w} = \\; v(t) \\; (\\rho(t) - \\theta)\n",
        "\\end{equation}\n",
        "\n",
        "In Section 2, we will use this form of hebbian plasticity along with L-events to form receptive fields. \n",
        "\n",
        "Exercise: What should the `dw =` term here be? "
      ],
      "metadata": {
        "id": "RUqabUs5oEwS"
      }
    },
    {
      "cell_type": "code",
      "source": [
        "def hebbian_threshold_1synapse(p, v, theta):\n",
        "    dw = v * (p - theta)\n",
        "    return dw"
      ],
      "metadata": {
        "id": "v_F4belhoRs3"
      },
      "execution_count": 152,
      "outputs": []
    },
    {
      "cell_type": "markdown",
      "source": [
        "In this case, $\\Delta w$ will change sign based on the presynaptic rate. \n",
        "\n",
        "Exercise: Plot $ \\Delta w$ for a range of presynaptic rates for $ \\theta = 0.5 $ and then for different values of $ \\theta $"
      ],
      "metadata": {
        "id": "mtjw9XfZoSSO"
      }
    },
    {
      "cell_type": "code",
      "source": [
        "v = 1.\n",
        "p_range = np.arange(0., 1., 0.1)\n",
        "dw_all = np.zeros(np.shape(p_range))\n",
        "theta = 0.5\n",
        "\n",
        "fig = plt.figure()\n",
        "plt.hlines(0, p_range[0], p_range[-1], 'k', '-')\n",
        "plt.xlabel('Presynaptic rate, p')\n",
        "plt.ylabel('change in weight')\n",
        "\n",
        "for theta in [0.3, 0.5, 0.7]:\n",
        "    for i,p in enumerate(p_range):\n",
        "        dw = hebbian_threshold_1synapse(p, v, theta)\n",
        "        dw_all[i] = dw\n",
        "\n",
        "    plt.plot(p_range, dw_all, '--', label='theta = {}'.format(theta))\n",
        "\n",
        "plt.legend()\n",
        "plt.show()"
      ],
      "metadata": {
        "colab": {
          "base_uri": "https://localhost:8080/",
          "height": 279
        },
        "id": "2b1lloLioSdf",
        "outputId": "bfe87954-d0d6-4a20-b526-b28f954afd5c"
      },
      "execution_count": 153,
      "outputs": [
        {
          "output_type": "display_data",
          "data": {
            "image/png": "[encoded data removed]",
            "text/plain": [
              "<Figure size 432x288 with 1 Axes>"
            ]
          },
          "metadata": {
            "needs_background": "light"
          }
        }
      ]
    },
    {
      "cell_type": "markdown",
      "source": [
        "Exercise: Plot $ \\Delta w$ for a range of presynaptic and postynaptic rates. Try changing $\\theta$ to see how the boundary of LTP vs LTD shifts. "
      ],
      "metadata": {
        "id": "EeFgYNNy5X0Y"
      }
    },
    {
      "cell_type": "code",
      "source": [
        "p_range = np.arange(0., 1., 0.1)\n",
        "v_range = np.arange(0., 1., 0.1)\n",
        "dw_all = np.zeros((len(p_range), len(v_range)))\n",
        "theta = 0.5\n",
        "\n",
        "for i,p in enumerate(p_range):\n",
        "    for j,v in enumerate(v_range):\n",
        "        dw = hebbian_threshold_1synapse(p, v, theta)\n",
        "        dw_all[i, j] = dw\n",
        "\n",
        "fig = plt.figure()\n",
        "ax = plt.gca()\n",
        "im = ax.imshow(dw_all, origin='lower', cmap='RdBu', vmin=-np.max(dw_all), vmax=np.max(dw_all))\n",
        "cbar = plt.colorbar(im, ax=ax, ticks=[-np.max(dw_all), 0., np.max(dw_all)])\n",
        "cbar.ax.set_yticklabels(['LTD', 'No change', 'LTP'])\n",
        "plt.xlabel('Postsynaptic rate, v')\n",
        "plt.ylabel('Presynaptic rate, p')\n",
        "plt.show()"
      ],
      "metadata": {
        "colab": {
          "base_uri": "https://localhost:8080/",
          "height": 283
        },
        "id": "bD5Ix2bx5T-F",
        "outputId": "574abd1a-27d6-4012-aa3d-441705ac2772"
      },
      "execution_count": 157,
      "outputs": [
        {
          "output_type": "display_data",
          "data": {
            "image/png": "[encoded data removed]",
            "text/plain": [
              "<Figure size 432x288 with 2 Axes>"
            ]
          },
          "metadata": {
            "needs_background": "light"
          }
        }
      ]
    },
    {
      "cell_type": "markdown",
      "source": [
        "Optional Exercise: How would this distribution of LTP and LTD change if we have threshold in postsynaptic rate, or if we have the threshold in both pre- and post-synaptic rate part? \n",
        "\n",
        "Try modifying the function according to these two equations and see the distribution of LTP and LTD. \n",
        "\n",
        "\\begin{align}\n",
        "    \\tau \\dot{w} =& \\; (v - \\theta) ρ \\\\\n",
        "    \\tau \\dot{w} =& \\; (v - \\theta) (ρ - \\theta)\n",
        "\\end{align}"
      ],
      "metadata": {
        "id": "Xsdsu6ec5qOx"
      }
    },
    {
      "cell_type": "code",
      "source": [
        "def hebbian_threshold_1synapse(p, v, theta):\n",
        "    dw = (v - theta) * (p - theta)\n",
        "    return dw\n",
        "\n",
        "p_range = np.arange(0., 1., 0.1)\n",
        "v_range = np.arange(0., 1., 0.1)\n",
        "dw_all = np.zeros((len(p_range), len(v_range)))\n",
        "theta = 0.5\n",
        "\n",
        "for i,p in enumerate(p_range):\n",
        "    for j,v in enumerate(v_range):\n",
        "        dw = hebbian_threshold_1synapse(p, v, theta)\n",
        "        dw_all[i, j] = dw\n",
        "\n",
        "fig = plt.figure()\n",
        "ax = plt.gca()\n",
        "im = ax.imshow(dw_all, origin='lower', cmap='RdBu', vmin=-np.max(dw_all), vmax=np.max(dw_all))\n",
        "cbar = plt.colorbar(im, ax=ax, ticks=[-np.max(dw_all), 0., np.max(dw_all)])\n",
        "cbar.ax.set_yticklabels(['LTD', 'No change', 'LTP'])\n",
        "plt.xlabel('Postsynaptic rate, v')\n",
        "plt.ylabel('Presynaptic rate, p')\n",
        "plt.show()"
      ],
      "metadata": {
        "colab": {
          "base_uri": "https://localhost:8080/",
          "height": 283
        },
        "id": "KCnvWUeW5kXO",
        "outputId": "23530297-6e99-454b-b548-e5ca679a1778"
      },
      "execution_count": 149,
      "outputs": [
        {
          "output_type": "display_data",
          "data": {
            "image/png": "[encoded data removed]",
            "text/plain": [
              "<Figure size 432x288 with 2 Axes>"
            ]
          },
          "metadata": {
            "needs_background": "light"
          }
        }
      ]
    },
    {
      "cell_type": "markdown",
      "source": [
        "### BCM rule\n",
        "\n",
        "We saw another form of Hebbian plasticity with an adaptive threshold, which is the BCM rule. In this rule, the threshold is in the postsynaptic term. The threshold is also updated at each time point according to these equations:\n",
        "\n",
        "\\begin{align}\n",
        "    \\tau_w \\dot{w} =& \\; v(v-θ ) ρ \\\\\n",
        "    \\tau_{\\theta} {\\theta} \\dot{\\theta}  =& - θ + \\frac{\\bar{v}^{2}}{\\rho_0}\n",
        "\\end{align}\n",
        "\n",
        "In simulations, as we update weights at each time point, $ \\theta$ will have a certain value. Because we assume that $ \\theta$ changes much slower than weights, meaning $ \\tau_w << \\tau_{\\theta} $, we will assume for now that $ \\theta$ has this value:\n",
        "    \\theta = \\frac{\\bar{v}^{2}}{\\rho_0}\n",
        "\\end{equation}\n",
        "\n",
        "To observe the effect of different $ \\theta$, we will vary $ \\bar{v}$ (in relation to $ \\rho_0$) instead.  \n",
        "\n",
        "\n",
        "Exercise: Write the function for bcm weight update. "
      ],
      "metadata": {
        "id": "9EnsnD9voh7q"
      }
    },
    {
      "cell_type": "code",
      "source": [
        "def bcm_1synapse(p, v, v_bar, p0):\n",
        "    theta = v_bar**2 / p0\n",
        "    dw = v * (v - theta) * p\n",
        "    return dw"
      ],
      "metadata": {
        "id": "uIfXa53zovKG"
      },
      "execution_count": 158,
      "outputs": []
    },
    {
      "cell_type": "markdown",
      "source": [
        "Here, the threshold is in the postsynaptic rate term, so the $\\Delta w$ will change with postsynaptic rates $ v$\n",
        "\n",
        "Exercise: Plot $ \\Delta w$ for a range of postsynaptic rates for $ \\theta = 0.5 $. Then, plot the same for different values of theta. \n",
        "\n",
        "Hint: What should be the value of $\\bar{v}$ to get $ \\theta = 0.5 $?"
      ],
      "metadata": {
        "id": "p63xgLMnoxx6"
      }
    },
    {
      "cell_type": "code",
      "source": [
        "p = 1.\n",
        "v_range = np.arange(0., 3., 0.1)\n",
        "dw_all = np.zeros(np.shape(v_range))\n",
        "p0 = 1. \n",
        "v_bar = 1.3\n",
        "\n",
        "fig = plt.figure()\n",
        "plt.hlines(0, v_range[0], v_range[-1], 'k', '-')\n",
        "plt.xlabel('Postsynaptic rate, v')\n",
        "plt.ylabel('Change in weight, dw')\n",
        "\n",
        "#for v_bar in [1.1, 1.3, 1.5]:\n",
        "for i,v in enumerate(v_range):\n",
        "    dw = bcm_1synapse(p, v, v_bar, p0)\n",
        "    dw_all[i] = dw\n",
        "\n",
        "plt.plot(v_range, dw_all, '--', label='v_bar = {}'.format(v_bar))\n",
        "\n",
        "plt.legend()\n",
        "plt.show()"
      ],
      "metadata": {
        "colab": {
          "base_uri": "https://localhost:8080/",
          "height": 279
        },
        "id": "ynZsX6O6o3nO",
        "outputId": "582b68b2-e2d5-49a0-bb5b-e6eab02da4cb"
      },
      "execution_count": 169,
      "outputs": [
        {
          "output_type": "display_data",
          "data": {
            "image/png": "[encoded data removed]",
            "text/plain": [
              "<Figure size 432x288 with 1 Axes>"
            ]
          },
          "metadata": {
            "needs_background": "light"
          }
        }
      ]
    },
    {
      "cell_type": "markdown",
      "source": [
        "Exercise: Plot $ \\Delta w$ for a range of presynaptic and postynaptic rates. Try changing $\\theta$ to see how the boundary of LTP vs LTD shifts. "
      ],
      "metadata": {
        "id": "j6Iy7sFq-_2q"
      }
    },
    {
      "cell_type": "code",
      "source": [
        "p_range = np.arange(0., 3., 0.1)\n",
        "v_range = np.arange(0., 3., 0.1)\n",
        "dw_all = np.zeros((len(p_range), len(v_range)))\n",
        "p0 = 1.\n",
        "v_bar = 1.3\n",
        "\n",
        "for i,p in enumerate(p_range):\n",
        "    for j,v in enumerate(v_range):\n",
        "        dw = bcm_1synapse(p, v, v_bar, p0)\n",
        "        dw_all[i, j] = dw\n",
        "\n",
        "fig = plt.figure()\n",
        "ax = plt.gca()\n",
        "im = ax.imshow(dw_all, origin='lower', cmap='RdBu', vmin=-np.max(dw_all), vmax=np.max(dw_all))\n",
        "cbar = plt.colorbar(im, ax=ax, ticks=[-np.max(dw_all), 0., np.max(dw_all)])\n",
        "cbar.ax.set_yticklabels(['LTD', 'No change', 'LTP'])\n",
        "plt.xlabel('Postsynaptic rate, v')\n",
        "plt.ylabel('Presynaptic rate, p')\n",
        "plt.show()"
      ],
      "metadata": {
        "colab": {
          "base_uri": "https://localhost:8080/",
          "height": 283
        },
        "id": "SvJ6bL1m_Adt",
        "outputId": "facbc70b-6154-4964-cf57-864c6411bc14"
      },
      "execution_count": 168,
      "outputs": [
        {
          "output_type": "display_data",
          "data": {
            "image/png": "[encoded data removed]",
            "text/plain": [
              "<Figure size 432x288 with 2 Axes>"
            ]
          },
          "metadata": {
            "needs_background": "light"
          }
        }
      ]
    },
    {
      "cell_type": "markdown",
      "source": [
        "# Using Hebbian plasticity to form Receptive Fields"
      ],
      "metadata": {
        "id": "gwOSB2p4nLH1"
      }
    },
    {
      "cell_type": "markdown",
      "source": [
        "First, we set up some utility functions and visualization tools."
      ],
      "metadata": {
        "id": "cVsbH759-wTW"
      }
    },
    {
      "cell_type": "code",
      "execution_count": 77,
      "metadata": {
        "id": "a1BizMVzuYbe"
      },
      "outputs": [],
      "source": [
        "# utility functions\n",
        "\n",
        "def setup_simulation():\n",
        "    t = np.arange(0., params['t_sim'], params['dt'])\n",
        "    st = np.arange(0., params['t_sim'], params['sdt'])\n",
        "    rX = np.zeros((params['n0'], len(t)))\n",
        "    rY = np.zeros((params['n1'], len(t)))\n",
        "    wXY = np.zeros((params['n0']*params['n1'], len(st))) # store weights only sdt time steps\n",
        "    return [t, st, rX, rY, wXY]   \n",
        "\n",
        "def rescale_weights(w):\n",
        "    w[w < params['w_low']] = params['w_low']\n",
        "    w[w > params['w_high']] = params['w_high']\n",
        "    return w\n",
        "\n",
        "def initial_biased_weights():\n",
        "    # bias = the biased w is weighted how much, between 0-1\n",
        "    w = np.zeros((params['n1'], params['n0']))    # we specify w[post, pre] = weight\n",
        "    x = np.arange(params['n1'])\n",
        "    for i in range(params['n0']):\n",
        "        d = norm.pdf(x, params['n1']/2, params['spread'])\n",
        "        d1 = d*(1/np.max(d))\n",
        "        e = np.random.random((len(x)))\n",
        "        w[i,:] = np.roll(params['bias']*d1 + (1-params['bias'])*e, -int(params['n1']/2 - i))\n",
        "    w[w < 0.] = 0.\n",
        "    w = w * params['w_high'] * params['init_w_scale']\n",
        "    return w\n",
        "\n",
        "# Visualization of results functions\n",
        "\n",
        "def show_rates(rX, rY, t1=0., t2=5000.):\n",
        "    fig = plt.figure(figsize=[8,4])\n",
        "    gs = gridspec.GridSpec(ncols=2, nrows=1, figure=fig)\n",
        "    id1, id2 = int(t1/params['dt']), int(t2/params['dt'])\n",
        "\n",
        "    ax0 = fig.add_subplot(gs[0])\n",
        "    im0 = ax0.imshow(rX[:,id1:id2], aspect='auto')\n",
        "    ax0.set_title('Rate of Layer X')\n",
        "    ax0.set_xlabel('Time (ms)')\n",
        "    ax0.set_ylabel('Neuron id')\n",
        "    plt.colorbar(im0, ax=ax0, label='Rate')\n",
        "\n",
        "    ax1 = fig.add_subplot(gs[1])\n",
        "    im1 = ax1.imshow(rY[:,id1:id2], aspect='auto')\n",
        "    ax1.set_title('Rate of Layer Y')\n",
        "    ax1.set_xlabel('Time (ms)')\n",
        "    ax1.set_ylabel('Neuron id')\n",
        "    plt.colorbar(im1, ax=ax1, label='Rate')\n",
        "\n",
        "    fig.tight_layout()\n",
        "    return\n",
        "\n",
        "def show_weight_evolution(wXY, nsamples, t):\n",
        "    fig = plt.figure()\n",
        "    ax = plt.gca()\n",
        "    sN = np.random.choice(np.arange(params['n0']*params['n1']), nsamples).astype(int)    # choose nsamples number of synaptic weights to show\n",
        "    ax.plot(t, wXY[sN, :].T, '-')\n",
        "    ax.set_xlabel('Time (ms)')\n",
        "    ax.set_ylabel('Synaptic weights')\n",
        "    lw = (params['w_high'] - params['w_low'])*0.1\n",
        "    ax.set_ylim([params['w_low']-lw, params['w_high']+lw])\n",
        "    return\n",
        "\n",
        "def show_weights_at_time(wXY, t3=0.):\n",
        "    fig = plt.figure()\n",
        "    ax = plt.gca()\n",
        "    id3 = int(t3/params['dt'])\n",
        "    idn = 0 # which postsynaptic neuron \n",
        "    ax.plot(np.arange(params['n0']), wXY[:,id3].reshape((params['n0'], params['n1']))[:,idn], '.-')\n",
        "    ax.set_xlabel('Presynaptic neuron')\n",
        "    ax.set_ylabel('Weight')\n",
        "    lw = (params['w_high'] - params['w_low'])*0.1\n",
        "    ax.set_ylim([params['w_low']-lw, params['w_high']+lw])\n",
        "    return \n",
        "\n",
        "def show_weights_matrix_at_time(wXY, t3=0.):\n",
        "    fig = plt.figure()\n",
        "    ax = plt.gca()\n",
        "    id3 = int(t3/params['sdt'])\n",
        "    im = ax.imshow(wXY[:,id3].reshape((params['n1'], params['n0'])), origin='lower', cmap='Greys')\n",
        "    ax.set_xlabel('Presynaptic')\n",
        "    ax.set_ylabel('Postsynaptic')\n",
        "    plt.colorbar(im, ax=ax, label='Synaptic weight')\n",
        "    return "
      ]
    },
    {
      "cell_type": "markdown",
      "source": [
        "## The main simulation function\n",
        "\n",
        "We will numerically simulate this network with rate based neurons and plastic synaptic weights. We have two layers X and Y, and we denote the rate of neurons in the layers as rX and rY, respectively. We denote the weights from X to Y as wXY. \n",
        "\n",
        "At every time step, we update the rates and weights of each neuron according to these equations:\n",
        "\n",
        "\\begin{align}\n",
        "    r_x(i, t) =& \\; \n",
        "    \\begin{cases}\n",
        "        a & \\text{if neuron i is given input at time t} \\\\ \n",
        "        0 & \\text{otherwise}\n",
        "    \\end{cases} \n",
        "    \\\\\n",
        "    \\tau_m \\dot{r}_y =& \\; - r_y + w_{yx} r_x \\\\\n",
        "    \\tau_w \\dot{w}_{yx} =& \\; r_y r_x\n",
        "\\end{align}\n",
        "\n",
        "\n",
        "In some of the previous parts, we calculated covariance matrix of inputs and then used that matrix to update weights. Here, we rely on the rates of neurons at each step to calculate the change of weight at each step. \n",
        "\n",
        "We run the main simulation with the function 'run_simulation'. \n",
        "We have to specify the following: \n",
        "1.   the plasticity rule to use (argument delta_weights to the function)\n",
        "2.   input to the network\n",
        "\n",
        "As you can see in the function, at each step, we take the current state of the network (defined by rX, rY, wXY at that time), we figure out the input to layer X at this time, and then we update the rates and weights according to our equations which gives us the state of network at the next time point. "
      ],
      "metadata": {
        "id": "oU_nBgxLSU1a"
      }
    },
    {
      "cell_type": "code",
      "source": [
        "# Main simulation function\n",
        "\n",
        "def run_simulation(delta_weights, input):\n",
        "\n",
        "    input_times = input\n",
        "    [t, st, rX, rY, wXY] = setup_simulation()\n",
        "    \n",
        "    # set initial weights\n",
        "    wXY[:,0] = initial_biased_weights().reshape(-1)\n",
        "    L_dur_counter = 0.\n",
        "\n",
        "    for _i, _t in enumerate(t):\n",
        "        \n",
        "        if _i == 0.:\n",
        "            wxy1 = wXY[:,0]\n",
        "            continue\n",
        "        \n",
        "        # state at time _t-1\n",
        "        rx0, ry0 = rX[:,_i-1], rY[:,_i-1]\n",
        "        wxy0 = wxy1 #wXY[:,_i-1]\n",
        "\n",
        "\n",
        "        # specify input at this time and modify rx\n",
        "\n",
        "        if _t in input_times and L_dur_counter == 0.:\n",
        "            rx0[:] = 0.                            # remove the old input\n",
        "          \n",
        "            # L-event input\n",
        "            amp, dur, pct, neur = define_L_event() # define L-event at this point\n",
        "            rx0[neur] = amp                        # set the new input\n",
        "            L_dur_counter = dur                    # \n",
        "\n",
        "            # random input\n",
        "            #_n = np.random.choice(np.arange(params['n0']))        # select which neuron in layer X to activate\n",
        "            #rx0[_n] = amp\n",
        "          \n",
        "        if L_dur_counter > 0.:\n",
        "            L_dur_counter = np.round(L_dur_counter - params['dt'], 1)           # reduce counter by dt to track how much L event has passed. \n",
        "            if L_dur_counter < 0.:                                              # this signals that L-event has ended\n",
        "                rx0[:] = 0.                                                     # if L event has ended, then we remove the input by setting rX to 0\n",
        "\n",
        "\n",
        "        # update state to time _t\n",
        "        rx1 = rx0\n",
        "        ry1 = ry0 + (params['dt']/params['taum']) * (-ry0 + np.dot(wxy0.reshape(params['n1'], params['n0']), rx0))\n",
        "        wxy1 = wxy0 + delta_weights(rx1, ry1)\n",
        "        wxy1 = rescale_weights(wxy1)\n",
        "\n",
        "        # store\n",
        "        rX[:,_i], rY[:,_i] = rx1, ry1\n",
        "        if _t in st:\n",
        "            _si = int(np.where(st == _t)[0][0])\n",
        "            wXY[:,_si] = wxy1\n",
        "        \n",
        "    return [t, st, rX, rY, wXY]"
      ],
      "metadata": {
        "id": "6jeuRyDy5NUK"
      },
      "execution_count": 49,
      "outputs": []
    },
    {
      "cell_type": "markdown",
      "source": [
        "## Parameters of the simulation\n",
        "\n",
        "We define some global parameters for the simulation, like the size of two layers X and Y, and the time constants for rates and weights (remember that weights change much slower than rates, therefore we have to keep the time constant of weights much higher than that of rates)."
      ],
      "metadata": {
        "id": "nibzg5HZXW4U"
      }
    },
    {
      "cell_type": "code",
      "execution_count": 86,
      "metadata": {
        "id": "7va9G0N8uYbn"
      },
      "outputs": [],
      "source": [
        "# define parameters\n",
        "\n",
        "params = {\n",
        "    'n0' : 10,               # number of presynaptic neurons\n",
        "    'n1' : 10,               # number of postsynaptic neurons\n",
        "    'taum' : 10.,            # tau for rate equation (ms)\n",
        "    'tauw' : 10000.,         # tau for synaptic weight equation (ms)\n",
        "    't_sim' : 100000.,       # Time of simulation (ms)    \n",
        "    'dt' : 0.1,              # Time step for simulation\n",
        "    'sdt' : 100.,            # Time step for storing/recording weights\n",
        "    'w_low' : 0.,            # upper bound for synaptic weights\n",
        "    'w_high' : 1.,           # lower bound for synaptic weights\n",
        "    'bias' : 0.3,            # how biased initial weight matrix is\n",
        "    'spread' : 2,            # the width of initial biased matrix\n",
        "    'init_w_scale' : 0.5,    # the ratio of maximum initial weight, to w_high\n",
        "    'L_amp' : 1.,            # amplitude of L-event (a in the equation for rX)\n",
        "    'L_dur' : 150.,          # Duration of L-events (ms)\n",
        "    'L_pct' : 0.3,           # participation ratio for L-events (ratio)\n",
        "    'L_iei' : 1500.,         # inter event interval for L-events or any input\n",
        "    'theta' : 0.6,           # threshold for threshold Hebbian rule\n",
        "    'tautheta' : 20000.,     # tau for theta equation in BCM rule (ms) \n",
        "    'r_target_BCM' : 0.8     # target rate of postsynaptic neurons for BCM rule\n",
        "}"
      ]
    },
    {
      "cell_type": "markdown",
      "source": [
        "## Input to the network: L-events\n",
        "\n",
        "As you saw in the lecture, spontaneous activity manifests in the cortex as local L-events, generated in the sensory periphery, and global H-events, generated within the cortex. Right now, we will use L-events to drive the network and form receptive fields from layer X to Y.\n",
        "\n",
        "\n",
        "First, we define at what time the L-events will start in the network in the function `generate_L_events_times()`. This gives us a list of times according to a poisson process with the specified inter event interval. \n",
        "\n",
        "\n",
        "Next, we define the properties of each L-event (amplitude, duration and participation rate) in the function `define_L_event()`. This function is called from `run_simulation()` every time a new L-event starts, which is every time listed in the output of `generate_L_events_times()`.\n",
        "\n",
        "\n",
        "We can also choose to give L-event inputs regularly, and those input time points can be generated by `generate_regular_input_times()`. "
      ],
      "metadata": {
        "id": "2HoOZhGQX1XU"
      }
    },
    {
      "cell_type": "code",
      "execution_count": 29,
      "metadata": {
        "id": "9cK1piLpuYbl"
      },
      "outputs": [],
      "source": [
        "# input: L-events\n",
        "\n",
        "def generate_L_events_times(t_end, inter_event_interval):\n",
        "    # generate sequence of L-event start times\n",
        "    L_events_times = []\n",
        "    _pt = 0. \n",
        "    while _pt < t_end:\n",
        "        _pt += np.random.exponential(inter_event_interval)\n",
        "        L_events_times.append(round(_pt, 1))\n",
        "    return L_events_times\n",
        "\n",
        "\n",
        "def generate_regular_input_times(t_end, inter_event_interval):\n",
        "    return np.arange(0, t_sim, inter_event_interval)\n",
        "\n",
        "\n",
        "def define_L_event(n=params['n0'], L_amp=params['L_amp'], L_dur=params['L_dur'], L_pct=params['L_pct']):\n",
        "    # for one L-event, specify the L-amp, L-neurons, L-dur\n",
        "    # here we can add distributions for amplitude and participation ration of L-events just like we have done for the duration. \n",
        "    amp = L_amp                                                           # amplitude\n",
        "    dur = round(np.random.normal(L_dur, L_dur/10.), 1)                    # duration\n",
        "    pct = L_pct                                                           # participation ratio, constant\n",
        "    sN = np.random.choice(np.arange(n), 1)\n",
        "    neur = np.roll(np.arange(params['n0']), -sN)[:int(pct*params['n0'])]                          # stimulated neurons\n",
        "    return amp, dur, pct, neur"
      ]
    },
    {
      "cell_type": "markdown",
      "source": [
        "## Hebbian plasticity with threshold\n",
        "\n",
        "As you see in the last simulation, all weights get potentiated, because all presynaptic rates cause only potentiation. As you heard in the lecture, to solve this problem, we add a threshold to the plasticity equation. We use a threshold in the presynaptic rate term:\n",
        "\n",
        "\\begin{align}\n",
        "    \\tau \\dot{w} =& \\; v (ρ - \\theta) \\\\\n",
        "\\end{align}\n",
        "\n",
        "In terms of rates in the simulation, this is:\n",
        "\\begin{equation}\n",
        "    \\tau \\dot{w}_{yx} = \\; r_{y} (r_{x} - \\theta)\n",
        "\\end{equation}"
      ],
      "metadata": {
        "id": "RO9gpwSnvOud"
      }
    },
    {
      "cell_type": "code",
      "source": [
        "# Hebbian with threshold\n",
        "\n",
        "def hebbian_threshold(rx, ry, theta=params['theta']):\n",
        "    rx = rx.reshape(1, params['n0'])\n",
        "    ry = ry.reshape(params['n1'], 1)\n",
        "\n",
        "    # Enter the plasticity rule here:\n",
        "    dw = (params['dt']/params['tauw']) * np.dot(ry, rx - theta)\n",
        "\n",
        "    dw = dw.reshape(-1)  \n",
        "    return dw"
      ],
      "metadata": {
        "id": "azJin7EzvZgY"
      },
      "execution_count": 51,
      "outputs": []
    },
    {
      "cell_type": "code",
      "source": [
        "# main\n",
        "\n",
        "#del([t, rX, rY, wXY])\n",
        "params['theta'] = 0.6\n",
        "\n",
        "input_times = generate_L_events_times(params['t_sim'], params['L_iei'])\n",
        "[t, st, rX, rY, wXY] = run_simulation(hebbian_threshold, input_times)"
      ],
      "metadata": {
        "id": "XT-86y6Gvnec"
      },
      "execution_count": 82,
      "outputs": []
    },
    {
      "cell_type": "code",
      "source": [
        "# visualize output\n",
        "\n",
        "#show_weight_evolution(wXY, 100, st)\n",
        "show_weights_matrix_at_time(wXY, t3=80000.)"
      ],
      "metadata": {
        "colab": {
          "base_uri": "https://localhost:8080/",
          "height": 279
        },
        "id": "VVwl36lhv60W",
        "outputId": "d15c6790-7fce-4950-f1de-6c294dc292bc"
      },
      "execution_count": 84,
      "outputs": [
        {
          "output_type": "display_data",
          "data": {
            "image/png": "[encoded data removed]",
            "text/plain": [
              "<Figure size 432x288 with 2 Axes>"
            ]
          },
          "metadata": {
            "needs_background": "light"
          }
        }
      ]
    }
  ],
  "metadata": {
    "kernelspec": {
      "display_name": "Python 3",
      "language": "python",
      "name": "python3"
    },
    "language_info": {
      "codemirror_mode": {
        "name": "ipython",
        "version": 3
      },
      "file_extension": ".py",
      "mimetype": "text/x-python",
      "name": "python",
      "nbconvert_exporter": "python",
      "pygments_lexer": "ipython3",
      "version": "3.8.10"
    },
    "colab": {
      "name": "hebbian_plasticity_in_action.ipynb",
      "provenance": [],
      "collapsed_sections": [],
      "toc_visible": true,
      "include_colab_link": true
    }
  },
  "nbformat": 4,
  "nbformat_minor": 0
}