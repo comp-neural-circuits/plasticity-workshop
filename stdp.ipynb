{
 "cells": [
  {
   "cell_type": "markdown",
   "id": "d2618c9a-4e3b-4042-88e5-570bc5220acd",
   "metadata": {},
   "source": [
    "[![Open In Colab](https://colab.research.google.com/assets/colab-badge.svg)](https://githubtocolab.com/comp-neural-circuits/plasticity-workshop/blob/dev/stdp.ipynb)"
   ]
  },
  {
   "cell_type": "markdown",
   "id": "c07e8b58-15ad-48ce-a2d0-2887e9c7cc6a",
   "metadata": {
    "tags": []
   },
   "source": [
    "# Spike timing dependent plasticity (STDP) rules"
   ]
  },
  {
   "cell_type": "markdown",
   "id": "16c9ba85-c308-4cde-92eb-17f4f7a7456a",
   "metadata": {},
   "source": [
    "Welcome to the second day of the plasticity tutorial! Today is all about *timing*!"
   ]
  },
  {
   "cell_type": "markdown",
   "id": "8126a86f-67e2-428f-a85f-9021d6dcfa30",
   "metadata": {
    "jp-MarkdownHeadingCollapsed": true,
    "tags": []
   },
   "source": [
    "In this tutorial you will learn:\n",
    "- how the temporal order of pre- and postsynaptic spikes influences the change in the synaptic connection and how different parameters shape the **pairwise STDP rule**;\n",
    "- how to generate **spike trains** and how to **keep track** of pre- and postsynaptic spikes over time, by using specific functions.\n",
    "- how to generalise the points above to the **triplet STDP rule**.\n",
    "- how the pairwise and the triplet STDP rule fit some **experimental data**. Do you have any guess on which one matches better the data? :)  \n",
    "- how to implement the **inhibitory plasticity**, and how it influences the postsynaptic firing rate and the membrane currents.\n",
    "\n",
    "So, let's start! Please, just run the two cells below to initialize and implement the figure setup."
   ]
  },
  {
   "cell_type": "markdown",
   "id": "796a21ae-c77f-4bcf-8f8d-67a3ba095998",
   "metadata": {
    "tags": []
   },
   "source": [
    "## Initialization"
   ]
  },
  {
   "cell_type": "code",
   "execution_count": null,
   "id": "3d20b899-31bd-45ce-ba5b-a291c13f9f61",
   "metadata": {},
   "outputs": [],
   "source": [
    "!pip install numpy scipy matplotlib ipywidgets scikit-learn --quiet\n",
    "import numpy as np\n",
    "import scipy.linalg as lin\n",
    "from numpy.random import default_rng\n",
    "rng = default_rng()\n",
    "import matplotlib.pyplot as plt\n",
    "from ipywidgets import interact, interactive, fixed, interact_manual\n",
    "import ipywidgets as widgets\n",
    "plt.style.use(\"https://github.com/comp-neural-circuits/plasticity-workshop/raw/dev/plots_style.txt\")"
   ]
  },
  {
   "cell_type": "markdown",
   "id": "9c25e7ad-ca07-4fda-b0ba-801922f9db7a",
   "metadata": {
    "tags": []
   },
   "source": [
    "## Utility functions"
   ]
  },
  {
   "cell_type": "code",
   "execution_count": null,
   "id": "4cfcfd46-cc82-437d-b2f7-e76419f9e99e",
   "metadata": {},
   "outputs": [],
   "source": [
    "def pairSTDP_plot(A_plus, A_minus, tau_plus, tau_minus):\n",
    "    '''\n",
    "    Args:\n",
    "    A_plus : maximum amount of potentiation (LTP)\n",
    "    A_minus: maximum amount of depression (LTD)\n",
    "    tau_plus: LTP time constant\n",
    "    tau_minus: LTD time constant\n",
    "    \n",
    "    Generates a plot for the pairwise STDP rule\n",
    "    '''    \n",
    "    # Calculate the synaptic change\n",
    "    Delta_t, DeltaW = DeltaW_pairSTDP(A_plus, A_minus, tau_plus, tau_minus)\n",
    "    \n",
    "    # Plot\n",
    "    plt.figure(figsize=(8,6))\n",
    "    plt.plot([Delta_t[0], Delta_t[-1]], [0, 0], 'k', linestyle=':')\n",
    "    plt.plot([0, 0], [-0.1, 0.1], 'k', linestyle=':')\n",
    "\n",
    "    plt.plot(Delta_t[Delta_t <= 0], DeltaW[Delta_t <= 0], 'r')\n",
    "    plt.plot(Delta_t[Delta_t > 0], DeltaW[Delta_t > 0], 'b')\n",
    "\n",
    "    plt.xlabel(r'$\\Delta t=$ t$_{\\mathrm{post}}$ - t$_{\\mathrm{pre}}$ (ms)',fontsize=16)\n",
    "    plt.ylabel(r'$\\Delta $W')\n",
    "    plt.title('The Pairwise STDP rule', fontsize=18, fontweight='bold')\n",
    "    plt.show()\n",
    "    \n",
    "def tripletSTDP_plot(A_plus, A_minus, tau_plus, tau_minus, tau_y, Delta_t2):\n",
    "    '''\n",
    "    Generates a plot for the triplet STDP rule\n",
    "\n",
    "    A_plus : maximum amount of potentiation (LTP)\n",
    "    A_minus: maximum amount of depression (LTD)\n",
    "    tau_plus: LTP time constant\n",
    "    tau_minus: LTD time constant \n",
    "    tau_y: second LTP time constant\n",
    "    Delta_t2 : array with the time differences between the postsynaptic spikes  \n",
    "    \n",
    "    Generates a plot for the triplet STDP rule\n",
    "    '''\n",
    "    \n",
    "    # Calculate the synaptic change\n",
    "    Delta_t1, DeltaW = DeltaW_tripSTDP(A_plus, A_minus, tau_plus, tau_minus, tau_y, Delta_t2)\n",
    "    \n",
    "    plt.figure(figsize=(8,6))\n",
    "    plt.plot([Delta_t1[0], Delta_t1[-1]], [0, 0], 'k', linestyle=':')\n",
    "    plt.plot([0, 0], [-0.1, 0.1], 'k', linestyle=':')\n",
    "\n",
    "    plt.plot(Delta_t1[Delta_t1 <= 0], DeltaW[Delta_t1 <= 0], 'r')\n",
    "    plt.plot(Delta_t1[Delta_t1 > 0], DeltaW[Delta_t1 > 0], 'b')\n",
    "\n",
    "    plt.xlabel(r'$\\Delta t=$ t$_{\\mathrm{post}}$ - t$_{\\mathrm{pre}}$ (ms)',fontsize = 16)\n",
    "    plt.ylabel(r'$\\Delta $W (%)')\n",
    "    plt.title('The triplet STDP rule', fontsize=18, fontweight='bold')\n",
    "    plt.show()\n",
    "    \n",
    "    \n",
    "def pair_track_plot(t_range,pre_spike,r1,post_spike,o1,w):\n",
    "    fig, (ax1, ax2, ax3, ax4, ax5) = plt.subplots(5,1, figsize=(8,12));\n",
    "    if pre_spike.sum() > 0.:\n",
    "        t_sp = t_range[pre_spike > 0.5]  # spike times\n",
    "        ax1.plot(t_sp, np.ones(len(t_sp)), '|',color=\"dimgrey\", ms=50, markeredgewidth=2)\n",
    "    ax1.set_yticklabels([])\n",
    "    ax1.set_xlabel(\"time (ms)\", fontsize=12);\n",
    "    ax1.set_ylabel(\"spike train\", fontsize=12);\n",
    "    ax1.set_title(\"Presynaptic spike train\", fontsize=14);\n",
    "    ax2.plot(t_range,r1,color=\"dimgrey\");\n",
    "    ax2.set_xlabel(\"time (ms) \", fontsize=12);\n",
    "    ax2.set_ylabel(\"$r_1(t)$\", fontsize=12);\n",
    "    ax2.set_title(\"Presynaptic detector trace\", fontsize=14);\n",
    "\n",
    "    if post_spike.sum() > 0.:\n",
    "        t_sp = t_range[post_spike > 0.5]  # spike times\n",
    "        ax3.plot(t_sp, np.ones(len(t_sp)), '|',color=\"black\", ms=50, markeredgewidth=2)\n",
    "    ax3.set_yticklabels([])\n",
    "    ax3.set_xlabel(\"time (ms) \", fontsize=12);\n",
    "    ax3.set_ylabel('spike train', fontsize=12);\n",
    "    ax3.set_title(\"Postsynaptic spike train\", fontsize=14);\n",
    "    \n",
    "    ax4.plot(t_range,o1,color=\"black\");\n",
    "    ax4.set_xlabel(\"time (ms) \", fontsize=12);\n",
    "    ax4.set_ylabel('$o_1(t)$', fontsize=12);\n",
    "    ax4.set_title(\"Postsynaptic detector trace\", fontsize=14);\n",
    "    ax5.plot(t_range,w,'b');\n",
    "    ax5.set_xlabel(\"time (ms) \", fontsize=12);\n",
    "    ax5.set_ylabel('$W(t)$', fontsize=14);\n",
    "    ax5.set_title(\"Synaptic weight\", fontsize=12);\n",
    "    ax1.get_shared_x_axes().join(ax1, ax2, ax3, ax4, ax5)\n",
    "    \n",
    "def trip_track_plot(t_range,pre_spike,r1,post_spike,o1,o2,w):\n",
    "    fig, (ax1, ax2, ax3, ax4, ax5, ax6) = plt.subplots(6,1, figsize=(8,12)); #gridspec_kw={'height_ratios': [3, 1]})\n",
    "    if pre_spike.sum() > 0.:\n",
    "        t_sp = t_range[pre_spike > 0.5]  # spike times\n",
    "        ax1.plot(t_sp, np.ones(len(t_sp)), '|',color=\"dimgrey\", ms=50, markeredgewidth=2)\n",
    "    ax1.set_yticklabels([])\n",
    "    ax1.set_xlabel(\"time (ms)\", fontsize=12);\n",
    "    ax1.set_ylabel(\"spike train\", fontsize=12);\n",
    "    ax1.set_title(\"Presynaptic spike train\", fontsize=14);\n",
    "    ax2.plot(t_range,r1,color=\"dimgrey\");\n",
    "    ax2.set_xlabel(\"time (ms) \", fontsize=12);\n",
    "    ax2.set_ylabel(\"$r_1(t)$\", fontsize=12);\n",
    "    ax2.set_title(\"Presynaptic detector trace\", fontsize=14);\n",
    "    if post_spike.sum() > 0.:\n",
    "        t_sp = t_range[post_spike > 0.5]  # spike times\n",
    "        ax3.plot(t_sp, np.ones(len(t_sp)), '|',color=\"black\", ms=50, markeredgewidth=2)\n",
    "    ax3.set_yticklabels([])    \n",
    "    ax3.set_xlabel(\"time (ms) \", fontsize=12);\n",
    "    ax3.set_ylabel('spike train', fontsize=12);\n",
    "    ax3.set_title(\"Postsynaptic spike train\", fontsize=14);\n",
    "    ax4.plot(t_range,o1,color=\"black\");\n",
    "    ax4.set_xlabel(\"time (ms) \", fontsize=12);\n",
    "    ax4.set_ylabel('$o_1(t)$', fontsize=12);\n",
    "    ax4.set_title(\"Postsynaptic detector trace\", fontsize=14);\n",
    "    ax5.plot(t_range,o2,color=\"black\");\n",
    "    ax5.set_xlabel(\"time (ms) \", fontsize=12);\n",
    "    ax5.set_ylabel('o_2(t)', fontsize=12);\n",
    "    ax5.set_title(\"Second postsynaptic spike train\", fontsize=14);\n",
    "    ax6.plot(t_range,w,'b');\n",
    "    ax6.set_xlabel(\"time (ms) \", fontsize=12);\n",
    "    ax6.set_ylabel('$W(t)$', fontsize=14);\n",
    "    ax6.set_title(\"Synaptic weight\", fontsize=12);\n",
    "    ax1.get_shared_x_axes().join(ax1, ax2, ax3, ax4, ax5, ax6)\n",
    "    \n",
    "def plot_over_frequency(rho_vec,DeltaW):\n",
    "    plt.figure(figsize=(6,4))\n",
    "    plt.plot(rho_vec,DeltaW)\n",
    "    plt.show()    \n",
    "    \n",
    "def inhSTDP_plot(eta, rho, tau):\n",
    "    \"\"\"    \n",
    "    Args: \n",
    "    eta : \n",
    "    rho: \n",
    "    tau: \n",
    "    \n",
    "    Generates a plot for the inhibitory STDP rule\n",
    "    \"\"\"\n",
    "\n",
    "    # Calculate the synaptic change\n",
    "    Delta_t, DeltaW = DeltaW_inhSTDP(eta, rho, tau)\n",
    "    \n",
    "    # Plot\n",
    "    plt.figure(figsize=(8,5))\n",
    "    plt.plot([Delta_t[0], Delta_t[-1]], [0, 0], 'k', linestyle=':')\n",
    "    plt.plot([0, 0], [-80, 100], 'k', linestyle=':')\n",
    "    plt.plot(Delta_t, DeltaW, 'r')\n",
    "    plt.xlabel(r'$\\Delta t=$ t$_{\\mathrm{post}}$ - t$_{\\mathrm{pre}}$ (ms)',fontsize=16)\n",
    "    plt.ylabel(r'$\\Delta $W (%)',fontsize=16)\n",
    "    plt.title('The inhibitory STDP rule', fontsize=18, fontweight='bold')\n",
    "    plt.show()\n",
    "\n",
    "    \n",
    "def inh_analysis_plot(num_small_intervals,post_spike,save_inh_weights, duration,Exkeep,Inkeep):\n",
    "    post_rate = np.zeros(num_small_intervals)\n",
    "    inh_weights = np.zeros(num_small_intervals)\n",
    "    for i in range(num_small_intervals):\n",
    "        post_rate[i] = np.sum(post_spike[i*duration:(i+1)*duration])/ duration * 1000\n",
    "        inh_weights[i] = np.mean(save_inh_weights[i*duration:(i+1)*duration])\n",
    "    Exkeep0 = Exkeep[0:int(duration/10)]\n",
    "    Inkeep0 = Inkeep[0:int(duration/10)]\n",
    "    Exkeep1 = Exkeep[int(duration*(num_small_intervals-1/10)):duration*num_small_intervals]\n",
    "    Inkeep1 = Inkeep[int(duration*(num_small_intervals-1/10)):duration*num_small_intervals]    \n",
    "    fig, (ax1, ax2, ax3, ax4) = plt.subplots(4,1, figsize=(8,12));\n",
    "    ax1.plot(range(num_small_intervals),post_rate)\n",
    "    ax1.set_xlabel(\"time (s)\", fontsize=12);\n",
    "    ax1.set_ylabel(\"Firing rate [Hz]\", fontsize=12);\n",
    "    ax1.set_title(\"Postsynaptic firing rate\", fontsize=14);\n",
    "    ax2.plot(range(num_small_intervals),inh_weights)\n",
    "    ax2.set_xlabel(\"time (s) \", fontsize=12);\n",
    "    ax2.set_ylabel(\"Mean inhibitory weights\", fontsize=12);\n",
    "    ax2.set_title(\"Inhibitory weights\", fontsize=14);\n",
    "    ax3.plot(range(int(duration/10)), Exkeep0/100,'r',linewidth=3)\n",
    "    ax3.plot(range(int(duration/10)), Inkeep0/100, 'g')\n",
    "    ax3.plot(range(int(duration/10)), (Inkeep0 + Exkeep0)/100, 'k')\n",
    "    ax3.set_xlabel(\"time (ms) \", fontsize=12);\n",
    "    ax3.set_ylabel('Currents', fontsize=12);\n",
    "    ax3.set_title(\"Currents before plasticity\", fontsize=14);\n",
    "    ax4.plot(range(int(duration/10)), Exkeep1/100, 'r')\n",
    "    ax4.plot(range(int(duration/10)), Inkeep1/100, 'g')\n",
    "    ax4.plot(range(int(duration/10)), (Inkeep1 + Exkeep1)/100, 'k')\n",
    "    ax4.set_xlabel(\"time (ms) \", fontsize=12);\n",
    "    ax4.set_ylabel('Currents', fontsize=12);\n",
    "    ax4.set_title(\"Currents after plasticity\", fontsize=14);\n",
    "    "
   ]
  },
  {
   "cell_type": "markdown",
   "id": "8c5c32de-5a73-4761-89a9-007651be0d9d",
   "metadata": {
    "tags": []
   },
   "source": [
    "## 1. The pairwise STDP rule"
   ]
  },
  {
   "cell_type": "markdown",
   "id": "9a347596-eef3-454e-81cf-793846fe22af",
   "metadata": {
    "tags": []
   },
   "source": [
    "#### Coding Exercise 1: the pairwise STDP function"
   ]
  },
  {
   "cell_type": "markdown",
   "id": "2ee2d814-22bc-48ba-8b37-217f3ea95135",
   "metadata": {},
   "source": [
    "Let's begin by visualizing the **pairwise spike timing dependent plasticity (STDP) rule**. \n",
    "Recall that, under this rule, the synaptic weight increases (*long-term potentiation*) if a postsynaptic spike follows a presynaptic spike within a short time window, whereas the synaptic weight decreases (*long-term depression*) if the opposite occurs: "
   ]
  },
  {
   "cell_type": "markdown",
   "id": "1f8ef00c-9449-4ae6-bd35-7dc61bbdfc0a",
   "metadata": {},
   "source": [
    "$$\n",
    "\\Delta W (\\Delta t) = \\begin{cases}\n",
    "A_+e^{-\\Delta t/\\tau_+} & \\text{if } \\Delta t\\geq 0 \\\\\n",
    "-A_-e^{\\Delta t/\\tau_-} & \\text{if } \\Delta t<0\n",
    "\\end{cases}\n",
    "$$\n",
    "\n",
    "where $A_+, A_-$ are positive constants. "
   ]
  },
  {
   "cell_type": "markdown",
   "id": "369926a1-8573-4505-b4ec-bf5ff1bded12",
   "metadata": {},
   "source": [
    "In the following exercise, you will fill a function script for the pairwise STDP rule.\n",
    "Consider the time difference $\\Delta t = t_{post} - t_{pre}$ between a post- and a presynaptic spike and compute the weight change $\\Delta W$ as a function of $\\Delta t$.\n",
    "\n",
    "After plotting and visualising the pairwise STDP rule for some specific values, you can see how changing some values changes\n",
    "\n",
    "How do the temporal constants and the amplitude values shape the STDP window? What can you tell about the influence of these parameters on the synaptic change?\n",
    "\n",
    "Bonus question: what do you think will happen if we reverse .."
   ]
  },
  {
   "cell_type": "code",
   "execution_count": null,
   "id": "01aa4a57-fde6-42ba-a892-496a2e05c267",
   "metadata": {},
   "outputs": [],
   "source": [
    "def DeltaW_pairSTDP(A_plus, A_minus, tau_plus, tau_minus):\n",
    "    \"\"\"    \n",
    "    Args: \n",
    "    A_plus : maximum amount of potentiation (LTP)\n",
    "    A_minus: maximum amount of depression (LTD)\n",
    "    tau_plus: LTP time constant [ms]\n",
    "    tau_minus: LTD time constant [ms]\n",
    "    \n",
    "    Returns:\n",
    "    \n",
    "    Delta_t : [ms]\n",
    "    DeltaW: the instantaneous change in weights DeltaW due to the pairwise STDP rule\n",
    "    \"\"\"\n",
    "    # Define the array with the time differences between post- and pre-synaptic spikes\n",
    "    Delta_t = np.linspace(-200, 200, 50)\n",
    "    # Initialize the STDP change\n",
    "    DeltaW = np.zeros(len(Delta_t))\n",
    "    # Calculate DeltaW for LTP\n",
    "    DeltaW[Delta_t > 0] = A_plus * np.exp(-Delta_t[Delta_t > 0] / tau_plus)\n",
    "    # Calculate DeltaW for LTD\n",
    "    DeltaW[Delta_t <= 0] = -A_minus * np.exp(Delta_t[Delta_t <= 0] / tau_minus)\n",
    "    \n",
    "    return Delta_t, DeltaW\n",
    "\n",
    "# Plot the pairwise STDP function \n",
    "interact(pairSTDP_plot, A_plus = (0.01,0.1,0.001), A_minus = (0.01,0.1,0.001), tau_plus = (10,70,0.1), tau_minus  = (10,70,0.1));"
   ]
  },
  {
   "cell_type": "markdown",
   "id": "d418b04b-e73c-415c-b021-73790b5ecd20",
   "metadata": {
    "tags": []
   },
   "source": [
    "## 2. Pre- and postsynaptic event detectors and spike trains \n",
    "\n",
    "Good job so far! You will now deepen the analysis of the pairwise STDP rule by visualising how the synaptic change is related to two specific spike trains (pre- and post), which are generated randomly under the Poisson distribution. This probabilistic distribution is commonly used for simulating spike trains."
   ]
  },
  {
   "cell_type": "markdown",
   "id": "349cf557-8db3-49d8-9761-cefd3bc19872",
   "metadata": {
    "tags": []
   },
   "source": [
    "##### Bonus: Poisson spike train \n",
    "\n",
    "The next function generates a train of spikes drawn from the Poisson distribution. The output will be an array of binary values: the array will take the value 1 at time *t* if there was a spike at time *t*, 0 otherwise.\n",
    "\n",
    "You can just run the cell below, however if you have extra time you can check how this is implemented. "
   ]
  },
  {
   "cell_type": "code",
   "execution_count": null,
   "id": "b967aea0-efb0-4a07-8c1b-57cd512ff2a0",
   "metadata": {},
   "outputs": [],
   "source": [
    "def Poisson_spike_train(discretization_step, t_range, rate, myseed=False):\n",
    "    \"\"\"\n",
    "    Generates a Poisson train\n",
    "    Args:\n",
    "    discretization_step    : discretization time step\n",
    "    t_range                : time interval\n",
    "    rate                   : noise amplitute [Hz]\n",
    "    myseed                 : random seed. int or boolean\n",
    "\n",
    "    Returns:\n",
    "    poisson_train : spike train of binary values (1 if spike, 0 otherwise)\n",
    "    \"\"\"\n",
    "    # set random seed\n",
    "    if myseed:\n",
    "        np.random.seed(seed=myseed)\n",
    "    else:\n",
    "        np.random.seed()\n",
    "\n",
    "    # generate an uniformly distributed random variable\n",
    "    unirnd = np.random.rand(len(t_range))\n",
    "\n",
    "    # generate Poisson train\n",
    "    poisson_train = 1. * (unirnd < rate * (discretization_step/1000.))\n",
    "\n",
    "    return poisson_train"
   ]
  },
  {
   "cell_type": "markdown",
   "id": "d52e71c8-4e8a-45d7-af01-42f896fab037",
   "metadata": {
    "tags": []
   },
   "source": [
    "#### Coding exercise 2: keeping track"
   ]
  },
  {
   "cell_type": "markdown",
   "id": "0b56349c-acb0-4528-a839-9ca557cd52fb",
   "metadata": {},
   "source": [
    "**TODO**"
   ]
  },
  {
   "cell_type": "code",
   "execution_count": null,
   "id": "d0f76a9f-b546-470e-b0a6-a4de395db432",
   "metadata": {},
   "outputs": [],
   "source": [
    "# Keeping track of the detectors\n",
    "def detectors_pairSTDP(t_range,pre_spike,post_spike,A_plus,A_minus,tau_plus,tau_minus,discretization_step,w0):\n",
    "    w = np.ones(len(t_range))\n",
    "    w[0] = w0\n",
    "    # Initialize the pre- and postsynaptic event detectors\n",
    "    r1 = np.zeros(len(t_range))        # presynaptic event detector\n",
    "    o1 = np.zeros(len(t_range))        # postsynaptic event detector\n",
    "    for i in range(len(t_range)-1):\n",
    "        if i==0:\n",
    "            continue\n",
    "        w[i+1]=w[i]\n",
    "\n",
    "        if pre_spike[i]==1:     # if there is a pre-synaptic spike\n",
    "            r1[i] += 1\n",
    "            if i==0:\n",
    "                continue\n",
    "            w[i+1] = w[i] - o1[i]*A_minus \n",
    "\n",
    "        if post_spike[i]==1:    # if there is a post-synaptic spike\n",
    "            o1[i] += 1\n",
    "            if i==0:\n",
    "                continue\n",
    "            w[i+1] = w[i] + r1[i]*A_plus\n",
    "\n",
    "        # Apply Euler's method to the detector equations\n",
    "        r1[i+1] = r1[i] - discretization_step * r1[i]/tau_plus\n",
    "        o1[i+1] = o1[i] - discretization_step * o1[i]/tau_minus\n",
    "    return r1,o1,w"
   ]
  },
  {
   "cell_type": "code",
   "execution_count": null,
   "id": "77a47f6b-f14b-4e6c-a72d-9e2288c35b80",
   "metadata": {},
   "outputs": [],
   "source": [
    "# Define the STDP rule parameters\n",
    "A_plus = 0.05       # maximum amount of potentiation (LTP)\n",
    "A_minus = 0.05      # maximum amount of potentiation (LTD)\n",
    "tau_plus = 20  # LTP time constant [ms]\n",
    "tau_minus = 20 # LTD time constant [ms]\n",
    "discretization_step=0.1 # discretization time step [ms]\n",
    "t_range=np.arange(0,1000,discretization_step)     # time interval [ms]\n",
    "\n",
    "# Generate a presynaptic spike train\n",
    "pre_spike = Poisson_spike_train(discretization_step, t_range, rate=15, myseed=7)\n",
    "# Generate a postsynaptic spike train\n",
    "post_spike = Poisson_spike_train(discretization_step, t_range, rate=15, myseed=1)\n",
    "# Initialize the synaptic weight\n",
    "w0 = 1\n",
    "\n",
    "\n",
    "r1,o1,w = detectors_pairSTDP(t_range,pre_spike,post_spike,A_plus,A_minus,tau_plus,tau_minus,discretization_step,w0)\n",
    "\n",
    "pair_track_plot(t_range,pre_spike,r1,post_spike,o1,w)"
   ]
  },
  {
   "cell_type": "markdown",
   "id": "ce07f089-ff7c-49c3-855b-fadedcf4a865",
   "metadata": {
    "tags": []
   },
   "source": [
    "## 3. The triplet STDP rule"
   ]
  },
  {
   "cell_type": "markdown",
   "id": "b58dc894-c017-4182-88ea-e14266dc07e7",
   "metadata": {},
   "source": [
    "Let's now turn to the **triplet spike timing dependent plasticity (STDP) rule**, which uses sets of three spikes to induce *long term potentiation*, and pairs of spikes to induce *long term depression*.\n",
    "\n",
    "Recall that, under this rule, potentiation depends on the interval $\\Delta t_1$ between the pre- and postsynaptic spikes, and on the timing $\\Delta t_2$ of the previous postsynaptic spike, whereas *long-term depression* depends only on $\\Delta t_1$."
   ]
  },
  {
   "cell_type": "markdown",
   "id": "065753e1-60dc-4663-9e9d-8021485b5dbb",
   "metadata": {},
   "source": [
    "$$\n",
    "\\Delta W (\\Delta t) = \\begin{cases}\n",
    "A_+e^{-\\Delta t_1/\\tau_+}e^{-\\Delta t_2/\\tau_y} & \\text{if } \\Delta t_1\\geq 0, \\Delta t_2\\geq 0 \\\\\n",
    "-A_-e^{\\Delta t/\\tau_-} & \\text{if } \\Delta t_1<0\n",
    "\\end{cases}\n",
    "$$\n",
    "\n",
    "where $\\Delta t_1 = t_{post} - t_{pre}$ denotes the time difference between a post- and a presynaptic spike and $\\Delta t_2 = t_{post} - t'_{post}$ denotes the time difference between two postpresynaptic spikes."
   ]
  },
  {
   "cell_type": "markdown",
   "id": "97515394-9a62-47d7-86d8-556248c8ce3d",
   "metadata": {},
   "source": [
    "In the following exercise, you will fill a function script for the triplet STDP rule.\n",
    "Consider the time difference $\\Delta t_1$ between a post- and a presynaptic spike and compute the weight change $\\Delta W$ as a function of $\\Delta t_1$ for a given value of $\\Delta t_2$. \n",
    "\n",
    "Then, you may ..."
   ]
  },
  {
   "cell_type": "markdown",
   "id": "51ee6d62-8768-447a-8201-eb83bac86a88",
   "metadata": {
    "tags": []
   },
   "source": [
    "#### Coding Exercise 3: the triplet STDP function"
   ]
  },
  {
   "cell_type": "code",
   "execution_count": null,
   "id": "a2dad978-dfd9-464e-970f-35de9e00081d",
   "metadata": {},
   "outputs": [],
   "source": [
    "def DeltaW_tripSTDP(A_plus, A_minus, tau_plus, tau_minus, tau_y, Delta_t2):\n",
    "    \"\"\"\n",
    "    Calculates the instantaneous change in weights dW due to the STDP pairwise rule\n",
    "\n",
    "    A_plus : maximum amount of potentiation (LTP)\n",
    "    A_minus: maximum amount of depression (LTD)\n",
    "    tau_plus: LTP time constant [ms]\n",
    "    tau_minus: LTD time constant [ms]\n",
    "    Delta_t2 : time differences between two postsynaptic spikes [ms]\n",
    "    \n",
    "    Returns the instantaneous change in weights DeltaW due to the triplet STDP rule\n",
    "    \"\"\"\n",
    "    # Define the array with the time differences between the first postsynaptic spike and the presynaptic spike \n",
    "    Delta_t1 = np.linspace(-100, 100, 50)\n",
    "    # Initialize the STDP change\n",
    "    DeltaW = np.zeros(len(Delta_t1))\n",
    "    # Calculate dW for LTP\n",
    "    DeltaW[Delta_t1 > 0] = A_plus * np.exp(-Delta_t1[Delta_t1 > 0] / tau_plus) * np.exp(-Delta_t2 / tau_y)\n",
    "    # Calculate dW for LTD\n",
    "    DeltaW[Delta_t1 <= 0] = -A_minus * np.exp(Delta_t1[Delta_t1 <= 0] / tau_minus)\n",
    "\n",
    "    return Delta_t1, DeltaW\n",
    "\n",
    "# define the STDP rule parameters\n",
    "A_plus = 0.1\n",
    "A_minus = 0.1\n",
    "tau_plus = 20  #[ms]\n",
    "tau_minus = 20 #[ms]\n",
    "tau_y = 114 #[ms]\n",
    "Delta_t2 = 10 #[ms]\n",
    "\n",
    "interact(tripletSTDP_plot, A_plus=fixed(0.1), A_minus=fixed(0.1), tau_plus= fixed(20), tau_minus= fixed(20), tau_y= fixed(114), Delta_t2 = (0.1,100,0.1));"
   ]
  },
  {
   "cell_type": "markdown",
   "id": "41558865-3451-4540-9b0f-98fea0844e72",
   "metadata": {
    "tags": []
   },
   "source": [
    "## 4. Detector traces and spike trains \n",
    "study only the case of 1 pre- and 1 postsynaptic neuron (Poisson neurons)."
   ]
  },
  {
   "cell_type": "markdown",
   "id": "791a44e4-5220-4158-98ba-cdd01355b9c8",
   "metadata": {
    "tags": []
   },
   "source": [
    "#### Coding exercise 4: keeping track"
   ]
  },
  {
   "cell_type": "code",
   "execution_count": null,
   "id": "c611d496-77b0-4ae1-9dcf-fc0c5664c792",
   "metadata": {},
   "outputs": [],
   "source": [
    "# Keeping track of the detectors\n",
    "def detectors_tripSTDP(t_range,pre_spike,post_spike,A_plus,A_minus,tau_plus,tau_minus,tau_y,discretization_step,w0):\n",
    "    w = np.ones(len(t_range))\n",
    "    w[0] = w0\n",
    "    # Initialize the pre- and postsynaptic event detectors\n",
    "    r1 = np.zeros(len(t_range))        # presynaptic event detector\n",
    "    o1 = np.zeros(len(t_range))        # postsynaptic event detector\n",
    "    o2=np.zeros(len(t_range))        # postsynaptic event detector\n",
    "    for i in range(len(t_range)-1):\n",
    "        if i==0:\n",
    "            continue\n",
    "        w[i+1]=w[i]\n",
    "\n",
    "        if pre_spike[i]==1:     # if there is a pre-synaptic spike\n",
    "            r1[i] += 1\n",
    "            if i==0:\n",
    "                continue\n",
    "            w[i+1] = w[i] - o1[i]*A_minus \n",
    "\n",
    "        if post_spike[i]==1:    # if there is a post-synaptic spike\n",
    "            o1[i] += 1\n",
    "            if i==0:\n",
    "                continue\n",
    "            w[i+1] = w[i] + r1[i]*A_plus*o2[i]\n",
    "            o2[i] += 1\n",
    "\n",
    "        # Apply Euler's method to the detector equations\n",
    "        r1[i+1] = r1[i] - discretization_step * r1[i]/tau_plus\n",
    "        o1[i+1] = o1[i] - discretization_step * o1[i]/tau_minus\n",
    "        o2[i+1] = o2[i] - discretization_step * o2[i]/tau_y\n",
    "    return r1,o1,o2,w"
   ]
  },
  {
   "cell_type": "code",
   "execution_count": null,
   "id": "4def7b29-07d2-44f4-95b8-49f8a0d27ad6",
   "metadata": {},
   "outputs": [],
   "source": [
    "tau_plus = 20  #[ms]\n",
    "tau_minus = 20 #[ms]\n",
    "tau_y = 114 #[ms]\n",
    "\n",
    "discretization_step=0.1 #[ms]\n",
    "t_range=np.arange(0,1000,discretization_step)\n",
    "pre_spike = Poisson_spike_train(discretization_step, t_range, rate=15, myseed=7)\n",
    "post_spike = Poisson_spike_train(discretization_step, t_range, rate=15, myseed=1)\n",
    "\n",
    "r1,o1,o2,w = detectors_tripSTDP(t_range,pre_spike,post_spike,A_plus,A_minus,tau_plus,tau_minus,tau_y,discretization_step,w0)\n",
    "trip_track_plot(t_range,pre_spike,r1,post_spike,o1,o2,w)"
   ]
  },
  {
   "cell_type": "markdown",
   "id": "736ba7f3-124b-4e6a-a85a-2d4a656300cb",
   "metadata": {
    "tags": []
   },
   "source": [
    "## 5. Pairing protocol analysis: matching the data"
   ]
  },
  {
   "cell_type": "markdown",
   "id": "37ffdb43-70b5-4b2e-b175-2705c9c97b60",
   "metadata": {
    "jp-MarkdownHeadingCollapsed": true,
    "tags": []
   },
   "source": [
    "#### Helper function"
   ]
  },
  {
   "cell_type": "code",
   "execution_count": null,
   "id": "8bd57958-24fe-47cd-94ad-b1df7bf95e1e",
   "metadata": {},
   "outputs": [],
   "source": [
    "'''\n",
    "A fixed number of pairs of presynaptic and postsynaptic spikes shifted by DeltaT are elicited at regular intervals of 1/rho. \n",
    "Plot the synaptic change due to the triplet STDP as a function of the frequency rho for a fixed DeltaT.  \n",
    "'''\n",
    "\n",
    "def spike_trains(discretization_step, rho, num_pairs):\n",
    "\n",
    "    '''Generates presynaptic and postsynaptic spike trains characterised by a number of pairs (given by 'num_pairs') of pre- and post-synaptic spikes with a given time distance 'DeltaT'.\n",
    "    The pairs are repeated at a given frequency 'rho' \n",
    "\n",
    "    1) Generate two \"small\" arrays containing only one pair of one pre- and one post-synaptic spikes within a time window 1/rho. These will be the \"building blocks\" of the full spike trains.\n",
    "\n",
    "    2) Construct the full spike trains by repeating the small arrays the number of times given by num_pairs.\n",
    "    '''\n",
    "    \n",
    "    DeltaT = discretization_step*100   # time distance between pre- and postsynaptic spikes. It must be greater than the discretization_step!\n",
    "    pair_distance = round(1/rho,2)   # time distance between pairs of pre-post spikes.\n",
    "\n",
    "    # Generate the first piece of the pre- and postsynaptic spike trains (namely, one pair of pre- and post-synaptic spikes) within a time window 1/rho \n",
    "    small_t_range = np.arange(0,pair_distance - discretization_step,discretization_step)   # time interval between pairs of pre-post spikes.\n",
    "    t_range=np.arange(0,num_pairs*(pair_distance - discretization_step),discretization_step)            # the whole time interval \n",
    "\n",
    "    first_spike = np.zeros(len(small_t_range))           # initialize the first piece of the pre-synaptic spike train \n",
    "    second_spike = np.zeros(len(small_t_range))          # initialize the first piece of the post-synaptic spike train\n",
    "    first_spike[0] = 1                                   # generate a pre-syn spike at time 0 \n",
    "    second_spike[np.where(small_t_range==DeltaT)[0]] = 1 # generate a post-syn spike after DeltaT\n",
    "    first_spikes=np.tile(first_spike,num_pairs)             # repeat for 'num_pairs' times and create the full spike train\n",
    "    second_spikes=np.tile(second_spike,num_pairs)           # repeat for 'num_pairs' times and create the full spike train\n",
    "    return first_spikes, second_spikes, t_range"
   ]
  },
  {
   "cell_type": "markdown",
   "id": "999cb0c1-881e-4302-ac88-c7b85ccf1448",
   "metadata": {
    "tags": []
   },
   "source": [
    "#### Coding exercise 5: pairing protocol with the pairwise STDP rule"
   ]
  },
  {
   "cell_type": "code",
   "execution_count": null,
   "id": "48d76679-d6c2-453e-b779-a8d555ee066b",
   "metadata": {},
   "outputs": [],
   "source": [
    "# Initialization \n",
    "num_pairs = 60      # number of pre- and post- pairs \n",
    "rho_vec = np.array([0.1, 1, 10, 20, 25, 30, 35, 40, 50])        # frequency values [Hz]\n",
    "rho_vec = rho_vec/1000   # because time is given in ms\n",
    "discretization_step = 1e-1 # it must be less than the time difference within a pair of spikes DeltaT!\n",
    "tau_plus = 16.8            # LTP time constant (ms)\n",
    "tau_minus = 33.7            # LTD time constant (ms)\n",
    "A_plus = 5.6e-3               # LTP window amplitude\n",
    "A_minus = 2.1e-3             # LTD window amplitude\n",
    "w0 = 1                     # initial weight\n",
    "\n",
    "# initialize the synaptic change\n",
    "DeltaW = np.zeros(len(rho_vec))    \n",
    "\n",
    "for ind,rho in enumerate(rho_vec):\n",
    "    pre_spike, post_spike, t_range = spike_trains(discretization_step, rho, num_pairs)\n",
    "    # CASE with DeltaT < 0\n",
    "    # The case with DeltaT < 0 is equivalent to switch the pre- and the postsynaptic spike trains.\n",
    "    # post_spike, pre_spike, t_range = spike_trains(discretization_step, rho, num_pairs)\n",
    "\n",
    "    r1,o1,w = detectors_pairSTDP(t_range,pre_spike,post_spike,A_plus,A_minus,tau_plus,tau_minus,discretization_step,w0)\n",
    "    # Calculate the weight change as a function of the frequency\n",
    "    DeltaW[ind]= w[-1]-w[0]\n",
    "plot_over_frequency(1000*rho_vec,DeltaW)"
   ]
  },
  {
   "cell_type": "markdown",
   "id": "b26b1a45-a160-415e-8c4a-76e392d3dea4",
   "metadata": {
    "tags": []
   },
   "source": [
    "#### Coding exercise 6: pairing protocol with the triplet STDP rule"
   ]
  },
  {
   "cell_type": "code",
   "execution_count": null,
   "id": "40a371f0-cac8-46a5-98fb-e8166bcf3e50",
   "metadata": {},
   "outputs": [],
   "source": [
    "# Additional parameters for triplet rule \n",
    "tau_y = 114             # Second LTP time constant (ms)\n",
    "A_plus = 6.5e-3             # LTP window amplitude\n",
    "A_minus = 7.1e-3            # LTD window amplitude\n",
    "\n",
    "# initialize the synaptic change\n",
    "DeltaW = np.zeros(len(rho_vec))    \n",
    "\n",
    "for ind,rho in enumerate(rho_vec):\n",
    "    pre_spike, post_spike, t_range = spike_trains(discretization_step, rho, num_pairs)\n",
    "    # CASE with DeltaT < 0\n",
    "    # The case with DeltaT < 0 is equivalent to switch the pre- and the postsynaptic spike trains.\n",
    "    # post_spike, pre_spike, t_range = spike_trains(discretization_step, rho, num_pairs)\n",
    "    r1,o1,o2,w = detectors_tripSTDP(t_range,pre_spike,post_spike,A_plus,A_minus,tau_plus,tau_minus,tau_y,discretization_step,w0)\n",
    "    # Calculate the weight change as a function of the frequency\n",
    "    DeltaW[ind]= w[-1]-w[0]\n",
    "\n",
    "plot_over_frequency(1000*rho_vec,DeltaW)"
   ]
  },
  {
   "cell_type": "markdown",
   "id": "47d164c0-87e2-4aa0-ae57-244d9ebec8af",
   "metadata": {
    "tags": []
   },
   "source": [
    "## 6. Inhibitory plasticity"
   ]
  },
  {
   "cell_type": "markdown",
   "id": "ca521ca3-ed82-4f81-b1f9-c98d85168ac8",
   "metadata": {},
   "source": [
    "#### Coding exercise 7: the inhibitory STDP function "
   ]
  },
  {
   "cell_type": "code",
   "execution_count": null,
   "id": "98e7156a-0dce-4134-be3b-adfaa6438f43",
   "metadata": {},
   "outputs": [],
   "source": [
    "def DeltaW_inhSTDP(eta, rho, tau):\n",
    "    \"\"\"    \n",
    "    Args: \n",
    "    eta : \n",
    "    rho: \n",
    "    tau: \n",
    "    \n",
    "    Returns \n",
    "    DeltaW(1D- array) : the instantaneous weight change due to the inhibitory STDP rule\n",
    "    \"\"\"\n",
    "    # Define the array with the time differences between post- and pre-synaptic spikes\n",
    "    Delta_t = np.linspace(-200, 200, 100)\n",
    "    # Initialize the STDP change\n",
    "    DeltaW = np.zeros(len(Delta_t))\n",
    "    # Calculate DeltaW\n",
    "    DeltaW = eta * ( (1/(2*tau)) * np.exp(-np.abs(Delta_t)/tau) - rho)\n",
    "    DeltaW = 100*DeltaW/np.max(DeltaW)\n",
    "\n",
    "    return Delta_t, DeltaW\n",
    "interact(inhSTDP_plot, eta = fixed(1e-4), rho = fixed(3e-3), tau = (10,70,0.1));"
   ]
  },
  {
   "cell_type": "markdown",
   "id": "91791613-1b52-4ffa-aa26-35e64796c745",
   "metadata": {},
   "source": [
    "**TO DO** Temporal evolution of the postsynaptic firing rate and the average synaptic weights of the inhibitory synapses"
   ]
  },
  {
   "cell_type": "markdown",
   "id": "234bbd00-167b-471f-8245-65380ad6df98",
   "metadata": {},
   "source": [
    " Total excitatory, inhibitory, and net (green) membrane currents before, during, and after inhibitory synaptic plasticity."
   ]
  },
  {
   "cell_type": "code",
   "execution_count": null,
   "id": "b31f2edf-58bb-42bb-9ecc-c46c8b6a8780",
   "metadata": {},
   "outputs": [],
   "source": [
    "dt = 0.1\n",
    "duration=1000 # duration of a small interval in ms  \n",
    "num_small_intervals=60\n",
    "range_t=np.arange(0,num_small_intervals*duration,dt)            # the whole time interval \n",
    "rate = 60\n",
    "n = 100\n",
    "exc = int(0.8 * n)\n",
    "tauExc = 5\n",
    "tauInh = 10\n",
    "tauPlasticity = 20\n",
    "gBarExc = 0.14\n",
    "gBarInh = 0.35\n",
    "VRest=-60\n",
    "Vth=-50\n",
    "taumem=20\n",
    "EGABA=-80\n",
    "eta = 0.01\n",
    "alpha = 0.25 * eta\n",
    "tRef = 5\n",
    "\n",
    "W=np.zeros(n)\n",
    "np.random.seed(7)\n",
    "W[0:exc] =  (1.1 + np.random.random(exc))\n",
    "W[exc:n] = 0.1\n",
    "\n",
    "input_spiketrains = np.zeros((n, len(range_t)))\n",
    "for s in range(n):\n",
    "    input_spiketrains[s,:] = Poisson_spike_train(dt, range_t, rate, s)\n",
    "post_spike_count = 0\n",
    "post_rate = 0\n",
    "post_spike = np.zeros(len(range_t))\n",
    "\n",
    "gExc = 0\n",
    "gInh = 0\n",
    "gLeak = 1\n",
    "r1 = np.zeros(n)\n",
    "o1 = 0\n",
    "save_inh_weights = np.zeros(len(range_t))\n",
    "tolos = 0 \n",
    "\n",
    "V = np.zeros(len(range_t))\n",
    "Exkeep= np.zeros(len(range_t))\n",
    "Inkeep = np.zeros(len(range_t))\n",
    "V[0]=VRest\n",
    "\n",
    "for ind,t in enumerate(range_t):\n",
    "    if ind == 0:\n",
    "        continue\n",
    "    gExc = gExc - dt/tauExc * gExc \n",
    "    gInh = gInh - dt/tauInh * gInh\n",
    "\n",
    "    for s in range(exc,n):\n",
    "        r1[s] = r1[s] - dt/tauPlasticity * r1[s]\n",
    "    o1 = o1 - dt/tauPlasticity * o1\n",
    "\n",
    "    for s in range(exc):\n",
    "        if input_spiketrains[s, ind] == 1:\n",
    "            gExc += (gBarExc * W[s])\n",
    "    for s in range(exc,n):\n",
    "        if input_spiketrains[s, ind] == 1:\n",
    "            gInh = gInh + (gBarInh * W[s])    \n",
    "            r1[s] += eta                    \n",
    "            W[s] = W[s] + o1 - alpha                # plasticity\n",
    "            if W[s] < 0:\n",
    "                W[s] = 0 \n",
    "    # postsynaptic neuron \n",
    "    if ((t - tolos) < tRef):\n",
    "        V[ind] = VRest\n",
    "    else:\n",
    "        gTot = gLeak + gExc + gInh\n",
    "        tauEff = taumem/gTot  \n",
    "        VInf = ((gLeak*VRest + gInh*EGABA)/gTot)\n",
    "        V[ind] = VInf + (V[ind-1] - VInf)*np.exp(-dt/tauEff)\n",
    "    if V[ind] >= Vth:\n",
    "        tolos = t\n",
    "        V[ind] = 0\n",
    "        V[ind-1] = VRest\n",
    "        o1 += eta\n",
    "        post_spike_count += 1\n",
    "        post_spike[ind] = 1\n",
    "        for s in range(exc,n):\n",
    "            W[s] += r1[s]   # plasticity\n",
    "    Exkeep[ind] = gExc * V[ind]\n",
    "    Inkeep[ind] = gInh * (V[ind] - EGABA)\n",
    "    save_inh_weights[ind] = np.mean(W[exc:n])\n",
    "    \n",
    "inh_analysis_plot(num_small_intervals,post_spike,save_inh_weights, duration,Exkeep,Inkeep)"
   ]
  }
 ],
 "metadata": {
  "kernelspec": {
   "display_name": "Python 3 (ipykernel)",
   "language": "python",
   "name": "python3"
  },
  "language_info": {
   "codemirror_mode": {
    "name": "ipython",
    "version": 3
   },
   "file_extension": ".py",
   "mimetype": "text/x-python",
   "name": "python",
   "nbconvert_exporter": "python",
   "pygments_lexer": "ipython3",
   "version": "3.10.2"
  }
 },
 "nbformat": 4,
 "nbformat_minor": 5
}
