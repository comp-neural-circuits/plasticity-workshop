{
 "cells": [
  {
   "cell_type": "markdown",
   "id": "d2618c9a-4e3b-4042-88e5-570bc5220acd",
   "metadata": {},
   "source": [
    "[![Open In Colab](https://colab.research.google.com/assets/colab-badge.svg)](https://colab.research.google.com/github/comp-neural-circuits/plasticity-workshop/blob/dev/stdp.ipynb)"
   ]
  },
  {
   "cell_type": "markdown",
   "id": "c07e8b58-15ad-48ce-a2d0-2887e9c7cc6a",
   "metadata": {
    "tags": []
   },
   "source": [
    "# Spike timing dependent plasticity (STDP) rules"
   ]
  },
  {
   "cell_type": "markdown",
   "id": "03b17840-d23c-4b21-9d99-2952fa4ad659",
   "metadata": {},
   "source": [
    "# Hello!"
   ]
  },
  {
   "cell_type": "markdown",
   "id": "16c9ba85-c308-4cde-92eb-17f4f7a7456a",
   "metadata": {},
   "source": [
    "Welcome to the second day of the plasticity tutorial! Today is all about *timing*!"
   ]
  },
  {
   "cell_type": "markdown",
   "id": "8126a86f-67e2-428f-a85f-9021d6dcfa30",
   "metadata": {
    "jp-MarkdownHeadingCollapsed": true,
    "tags": []
   },
   "source": [
    "In this tutorial you will learn:\n",
    "- how the temporal order of pre- and postsynaptic spikes influences the change in the synaptic connection and how different parameters shape the **pairwise STDP rule**;\n",
    "- how to generate **spike trains** and how to **keep track** of pre- and postsynaptic spikes over time, by using specific functions.\n",
    "- how to generalise the points above to the **triplet STDP rule**.\n",
    "- how the pairwise and the triplet STDP rules fit some **experimental data**. Do you have any guess on which one matches better the data? :)  \n",
    "- how to implement the **inhibitory plasticity**, and how it influences the postsynaptic firing rate and the membrane currents.\n",
    "\n",
    "So, let's start! Please, just run the two cells below (i.e. Initialization and Utility functions) to initialize and implement the figure setup."
   ]
  },
  {
   "cell_type": "markdown",
   "id": "796a21ae-c77f-4bcf-8f8d-67a3ba095998",
   "metadata": {
    "tags": []
   },
   "source": [
    "## Initialization"
   ]
  },
  {
   "cell_type": "code",
   "execution_count": 1,
   "id": "3d20b899-31bd-45ce-ba5b-a291c13f9f61",
   "metadata": {},
   "outputs": [],
   "source": [
    "!pip install numpy scipy matplotlib ipywidgets scikit-learn --quiet\n",
    "import numpy as np\n",
    "import scipy.linalg as lin\n",
    "from numpy.random import default_rng\n",
    "rng = default_rng()\n",
    "import matplotlib.pyplot as plt\n",
    "from ipywidgets import interact, interactive, fixed, interact_manual\n",
    "import ipywidgets as widgets\n",
    "plt.style.use(\"https://github.com/comp-neural-circuits/plasticity-workshop/raw/dev/plots_style.txt\")"
   ]
  },
  {
   "cell_type": "markdown",
   "id": "9c25e7ad-ca07-4fda-b0ba-801922f9db7a",
   "metadata": {
    "tags": []
   },
   "source": [
    "## Utility functions"
   ]
  },
  {
   "cell_type": "code",
   "execution_count": 48,
   "id": "4cfcfd46-cc82-437d-b2f7-e76419f9e99e",
   "metadata": {},
   "outputs": [],
   "source": [
    "def pairSTDP_plot(A_plus, A_minus, tau_plus, tau_minus):\n",
    "    '''\n",
    "    Generates a plot for the pairwise STDP rule, which shows the synaptic change DeltaW \n",
    "              over the time difference Delta_t (t_post - t_pre)\n",
    "    \n",
    "    Parameters:\n",
    "    A_plus     (number) : maximum amount of potentiation (LTP)\n",
    "    A_minus    (number) : maximum amount of depression (LTD)\n",
    "    tau_plus   (number) : LTP time constant [ms]\n",
    "    tau_minus  (number) : LTD time constant [ms]\n",
    "    \n",
    "    Returns:\n",
    "    A plot for the pairwise STDP rule\n",
    "    '''    \n",
    "    # Calculate the synaptic change via the specific function\n",
    "    Delta_t, DeltaW = DeltaW_pairSTDP(A_plus, A_minus, tau_plus, tau_minus)\n",
    "    \n",
    "    # Plotting\n",
    "    plt.figure(figsize=(8,6))\n",
    "    plt.plot([Delta_t[0], Delta_t[-1]], [0, 0], 'k', linestyle=':')\n",
    "    plt.plot([0, 0], [-0.1, 0.1], 'k', linestyle=':')\n",
    "\n",
    "    plt.plot(Delta_t[Delta_t <= 0], DeltaW[Delta_t <= 0], 'r')\n",
    "    plt.plot(Delta_t[Delta_t > 0], DeltaW[Delta_t >= 0], 'b')\n",
    "\n",
    "    plt.xlabel(r'$\\Delta t=$ t$_{\\mathrm{post}}$ - t$_{\\mathrm{pre}}$ (ms)',fontsize=16)\n",
    "    plt.ylabel(r'$\\Delta $W')\n",
    "    plt.title('The Pairwise STDP rule', fontsize=18, fontweight='bold')\n",
    "    plt.show()\n",
    "    \n",
    "def tripletSTDP_plot(A_plus, A_minus, tau_plus, tau_minus, tau_y, Delta_t2):\n",
    "    '''\n",
    "    Generates a plot for the pairwise STDP rule, which shows the synaptic change DeltaW \n",
    "              over the time difference Delta_t1 (t_post - t_pre), for a given value of \n",
    "              the time difference Delta_t2 (t_post - t'_post)\n",
    "              \n",
    "    Parameters:\n",
    "    A_plus     (number) : maximum amount of potentiation (LTP)\n",
    "    A_minus    (number) : maximum amount of depression (LTD)\n",
    "    tau_plus   (number) : LTP time constant [ms]\n",
    "    tau_minus  (number) : LTD time constant [ms]\n",
    "    tau_y      (number) : second LTP time constant [ms]\n",
    "    Delta_t2   (number) : time differences between the postsynaptic spikes [ms]\n",
    "    \n",
    "    Returns:\n",
    "    A plot for the triplet STDP rule\n",
    "    '''\n",
    "    \n",
    "    # Calculate the synaptic change via the specific function\n",
    "    Delta_t1, DeltaW = DeltaW_tripSTDP(A_plus, A_minus, tau_plus, tau_minus, tau_y, Delta_t2)\n",
    "    \n",
    "    # Plotting\n",
    "    plt.figure(figsize=(8,6))\n",
    "    plt.plot([Delta_t1[0], Delta_t1[-1]], [0, 0], 'k', linestyle=':')\n",
    "    plt.plot([0, 0], [-0.1, 0.1], 'k', linestyle=':')\n",
    "\n",
    "    plt.plot(Delta_t1[Delta_t1 <= 0], DeltaW[Delta_t1 <= 0], 'r')\n",
    "    plt.plot(Delta_t1[Delta_t1 > 0], DeltaW[Delta_t1 > 0], 'b')\n",
    "\n",
    "    plt.xlabel(r'$\\Delta t=$ t$_{\\mathrm{post}}$ - t$_{\\mathrm{pre}}$ (ms)',fontsize = 16)\n",
    "    plt.ylabel(r'$\\Delta $W (%)')\n",
    "    plt.title('The triplet STDP rule', fontsize=18, fontweight='bold')\n",
    "    plt.show()\n",
    "    \n",
    "    \n",
    "def pair_track_plot(t_range,pre_spike,r1,post_spike,o1,w):\n",
    "    '''\n",
    "    Generates plots for the pre- and postsynaptic spike trains and detector traces over time,\n",
    "              under the pairwise STDP rule. \n",
    "              A plot showing the synaptic weight over time is also shown.\n",
    "              \n",
    "    Parameters:\n",
    "    t_range    (1D numpy array) : time interval [ms]\n",
    "    pre_spike  (1D numpy array) : presynaptic spike train over time (binary array with value 1\n",
    "                                  at time t if there was a spike a time t, 0 at time t otherwise).\n",
    "    r1         (1D numpy array) : presynaptic detector trace over time \n",
    "    post_spike (1D numpy array) : postsynaptic spike train over time (analougous to the presyn. spike train)\n",
    "    o1         (1D numpy array) : postsynaptic detector trace over time \n",
    "    w:         (1D numpy array) : synaptic weight over time\n",
    "    \n",
    "    Returns:\n",
    "    Five subplots described above.\n",
    "    '''\n",
    "    \n",
    "    # Plotting\n",
    "    fig, (ax1, ax2, ax3, ax4, ax5) = plt.subplots(5,1, figsize=(8,12));\n",
    "    # Raster plot\n",
    "    if pre_spike.sum() > 0.:\n",
    "        t_sp = t_range[pre_spike > 0.5]  # spike times\n",
    "        ax1.plot(t_sp, np.ones(len(t_sp)), '|',color=\"dimgrey\", ms=50, markeredgewidth=2)\n",
    "    ax1.set_yticklabels([])\n",
    "    ax1.set_xlabel(\"time (ms)\", fontsize=12);\n",
    "    ax1.set_ylabel(\"spike train\", fontsize=12);\n",
    "    ax1.set_title(\"Presynaptic spike train\", fontsize=14);\n",
    "    # Presynaptic detector trace\n",
    "    ax2.plot(t_range,r1,color=\"dimgrey\");\n",
    "    ax2.set_xlabel(\"time (ms) \", fontsize=12);\n",
    "    ax2.set_ylabel(\"$r_1(t)$\", fontsize=12);\n",
    "    ax2.set_title(\"Presynaptic detector trace\", fontsize=14);\n",
    "    # Raster plot\n",
    "    if post_spike.sum() > 0.:\n",
    "        t_sp = t_range[post_spike > 0.5]  # spike times\n",
    "        ax3.plot(t_sp, np.ones(len(t_sp)), '|',color=\"black\", ms=50, markeredgewidth=2)\n",
    "    ax3.set_yticklabels([])\n",
    "    ax3.set_xlabel(\"time (ms) \", fontsize=12);\n",
    "    ax3.set_ylabel('spike train', fontsize=12);\n",
    "    ax3.set_title(\"Postsynaptic spike train\", fontsize=14);\n",
    "    # Postsynaptic detector trace\n",
    "    ax4.plot(t_range,o1,color=\"black\");\n",
    "    ax4.set_xlabel(\"time (ms) \", fontsize=12);\n",
    "    ax4.set_ylabel('$o_1(t)$', fontsize=12);\n",
    "    ax4.set_title(\"Postsynaptic detector trace\", fontsize=14);\n",
    "    # Synaptic weight\n",
    "    ax5.plot(t_range,w,'b');\n",
    "    ax5.set_xlabel(\"time (ms) \", fontsize=12);\n",
    "    ax5.set_ylabel('$W(t)$', fontsize=14);\n",
    "    ax5.set_title(\"Synaptic weight\", fontsize=12);\n",
    "    ax1.get_shared_x_axes().join(ax1, ax2, ax3, ax4, ax5)\n",
    "    \n",
    "def trip_track_plot(t_range,pre_spike,r1,post_spike,o1,o2,w):\n",
    "    '''\n",
    "    Generates plots for the pre- and postsynaptic spike trains and detector traces over time,\n",
    "              under the triplet STDP rule. \n",
    "              A plot showing the synaptic weight over time is also shown.\n",
    "              Note that this function is analougous to the previous pair_track_plot, \n",
    "              with the additon of the second postsynaptic detector.\n",
    "              \n",
    "    Parameters:\n",
    "    t_range    (1D numpy array) : time interval [ms]\n",
    "    pre_spike  (1D numpy array) : presynaptic spike train over time (binary array with value 1\n",
    "                                  at time t if there was a spike a time t, 0 at time t otherwise).\n",
    "    r1         (1D numpy array) : presynaptic detector trace over time \n",
    "    post_spike (1D numpy array) : postsynaptic spike train over time (analougous to the presyn. spike train)\n",
    "    o1         (1D numpy array) : postsynaptic detector trace over time \n",
    "    o2         (1D numpy array) : second postsynaptic detector trace over time \n",
    "    w:         (1D numpy array) : synaptic weight over time\n",
    "    \n",
    "    Returns:\n",
    "    Six subplots described above.\n",
    "    '''\n",
    "  \n",
    "    # Plotting\n",
    "    fig, (ax1, ax2, ax3, ax4, ax5, ax6) = plt.subplots(6,1, figsize=(8,12)); #gridspec_kw={'height_ratios': [3, 1]})\n",
    "    # Raster plot\n",
    "    if pre_spike.sum() > 0.:\n",
    "        t_sp = t_range[pre_spike > 0.5]  # spike times\n",
    "        ax1.plot(t_sp, np.ones(len(t_sp)), '|',color=\"dimgrey\", ms=50, markeredgewidth=2)\n",
    "    ax1.set_yticklabels([])\n",
    "    ax1.set_xlabel(\"time (ms)\", fontsize=12);\n",
    "    ax1.set_ylabel(\"spike train\", fontsize=12);\n",
    "    ax1.set_title(\"Presynaptic spike train\", fontsize=14);\n",
    "    # Presynaptic detector trace\n",
    "    ax2.plot(t_range,r1,color=\"dimgrey\");\n",
    "    ax2.set_xlabel(\"time (ms) \", fontsize=12);\n",
    "    ax2.set_ylabel(\"$r_1(t)$\", fontsize=12);\n",
    "    ax2.set_title(\"Presynaptic detector trace\", fontsize=14);\n",
    "    # Raster plot\n",
    "    if post_spike.sum() > 0.:\n",
    "        t_sp = t_range[post_spike > 0.5]  # spike times\n",
    "        ax3.plot(t_sp, np.ones(len(t_sp)), '|',color=\"black\", ms=50, markeredgewidth=2)\n",
    "    ax3.set_yticklabels([])    \n",
    "    ax3.set_xlabel(\"time (ms) \", fontsize=12);\n",
    "    ax3.set_ylabel('spike train', fontsize=12);\n",
    "    ax3.set_title(\"Postsynaptic spike train\", fontsize=14);\n",
    "    # Postsynaptic detector trace\n",
    "    ax4.plot(t_range,o1,color=\"black\");\n",
    "    ax4.set_xlabel(\"time (ms) \", fontsize=12);\n",
    "    ax4.set_ylabel('$o_1(t)$', fontsize=12);\n",
    "    ax4.set_title(\"Postsynaptic detector trace\", fontsize=14);\n",
    "    # Second postsynaptic detector trace\n",
    "    ax5.plot(t_range,o2,color=\"black\");\n",
    "    ax5.set_xlabel(\"time (ms) \", fontsize=12);\n",
    "    ax5.set_ylabel('o_2(t)', fontsize=12);\n",
    "    ax5.set_title(\"Second postsynaptic spike train\", fontsize=14);\n",
    "    # Synaptic weight\n",
    "    ax6.plot(t_range,w,'b');\n",
    "    ax6.set_xlabel(\"time (ms) \", fontsize=12);\n",
    "    ax6.set_ylabel('$W(t)$', fontsize=14);\n",
    "    ax6.set_title(\"Synaptic weight\", fontsize=12);\n",
    "    ax1.get_shared_x_axes().join(ax1, ax2, ax3, ax4, ax5, ax6)\n",
    "    \n",
    "def plot_over_frequency(rho_vec,DeltaW,DeltaW_rev):\n",
    "    '''\n",
    "    Generates a plot for the synaptic change as a function of the frequency of pairs of presynaptic and postsynaptic spikes\n",
    "    \n",
    "    Parameters: \n",
    "    rho_vec  (1D numpy array) : frequency values of pairs of presynaptic and postsynaptic spikes\n",
    "    DeltaW   (1D numpy array) : synaptic change(in %) as a function of the frequency.\n",
    "    \n",
    "    Returns:\n",
    "    Two plots for the weight change in a pairing protocol as a function of the frequency:\n",
    "    the first one for Delta_t >0 (pre-post pairing)\n",
    "    the second one for Delta_t <0 (post-pre pairing)\n",
    "    '''\n",
    "    rho_vec_exper = np.array([0.1, 1, 10, 20, 40, 50])\n",
    "    prepost_exper = np.array([-0.05, 0, 0.16, 0.3, 0.5, 0.51])\n",
    "    postpre_exper = np.array([-0.3,-0.31,-0.4,-0.35,0.5, 0.75])\n",
    "    \n",
    "    fig, (ax1, ax2) = plt.subplots(1,2, figsize=(12,4)); \n",
    "    ax1.set_ylim([-0.6, 1])\n",
    "    ax1.plot(rho_vec,DeltaW,color=\"blue\",label=\"$\\Delta t = 10$ ms\")\n",
    "    ax1.plot(rho_vec_exper,prepost_exper,'k--',label=\"Experiments, $\\Delta t = 10$ ms\")\n",
    "    ax1.legend(fontsize=10)\n",
    "    ax1.set_xlabel(r'$\\rho$(Hz)',fontsize=12)\n",
    "    ax1.set_ylabel(r'$\\Delta $W',fontsize=12)\n",
    "    ax1.set_title(r'Weight change over frequency', fontsize=14)\n",
    "    ax2.set_ylim([-0.6, 1])\n",
    "    ax2.plot(rho_vec,DeltaW_rev,color=\"orange\",label=\"$\\Delta t = -10$ ms\")\n",
    "    ax2.plot(rho_vec_exper,postpre_exper,'k--',label=\"Experiments, $\\Delta t = -10$ ms\")\n",
    "    ax2.set_xlabel(r'$\\rho$(Hz)',fontsize=12)\n",
    "    ax2.set_ylabel(r'$\\Delta $W',fontsize=12)\n",
    "    ax2.legend(fontsize=10)\n",
    "    ax1.get_shared_x_axes().join(ax1, ax2)\n",
    "    \n",
    "def firstspike_secondspike_protocol(rho,time_total,DeltaT,discretization_step=1E-4):\n",
    "    \"\"\"\n",
    "    Generates presynaptic and postsynaptic spike trains characterised by a number of pairs \n",
    "    of pre- and post-synaptic spikes with time distance `DeltaT`.\n",
    "    The pairs are repeated at frequency `rho` \n",
    "    \n",
    "    Parameters:\n",
    "    rho (number) : the firing frequency in Hz of each neuron\n",
    "    time_total (number) : the duration of the spike trains\n",
    "    DeltaT (number) : the time distance between pre and post spike, in seconds  \n",
    "    discretization_step = 1E-4    : a very small time interval (in seconds), express the spike trains as binary. \n",
    "                                     The default is to consider time-bins of 0.1 ms.                        \n",
    "    \n",
    "    Returns:\n",
    "    times  (1D numpy array) : times associated to binary spiketrain (in seconds)\n",
    "    spiketrain_pre (1D numpy array) : binary array with the first spiketrain (one element is a bin of size `discretization_step`)\n",
    "    spiketrain_post (1D numpy array) : binary array with the second spiketrain\n",
    "    \"\"\"\n",
    "    \n",
    "    assert DeltaT < (1/rho) , \"interval between spikes is too large compared to frequency !\"\n",
    "    \n",
    "    # time vector\n",
    "    times = np.arange(0.0,time_total,discretization_step)\n",
    "    \n",
    "    # spike times, with frequency rho\n",
    "    train1_s = np.arange(0.0,time_total,1/rho) \n",
    "    train2_s = train1_s + abs(DeltaT) # second neuron fires with DetlaT offset \n",
    "    \n",
    "    # spike times in discretized units, converted to integer\n",
    "    train1_discr = (train1_s * (1/discretization_step)).astype(np.int64) \n",
    "    train2_discr = (train2_s * (1/discretization_step)).astype(np.int64)\n",
    "    \n",
    "    # build the binary spike trains, using discretized spike times\n",
    "    train1_bin = np.zeros(len(times))\n",
    "    train1_bin[train1_discr] = 1\n",
    "    train2_bin = np.zeros(len(times))\n",
    "    train2_bin[train2_discr] = 1\n",
    "    # sign of DeltaT determines which spikes first\n",
    "    if DeltaT > 0:\n",
    "        # pre spike before, post spike later\n",
    "        return times,train1_bin,train2_bin\n",
    "    else:\n",
    "        # post spike before, pre spike later\n",
    "        return times,train2_bin,train1_bin\n",
    "\n",
    "def inhibitory_stdp_interactive_plot(eta=1.0,rho=1.0,tau=20E-3):\n",
    "    xmax = 0.5\n",
    "    dplot = xmax/30\n",
    "    x = np.arange(-xmax,xmax,dplot)\n",
    "    y = np.fromiter(map(lambda _x : inhibitory_stdp_pairing(_x,0.1,5.,tau,eta,rho)[2] , x),dtype=np.float64)\n",
    "    x *= 1000 # switch to ms\n",
    "    xmax *= 1000 # switch to ms\n",
    "    plt.figure()\n",
    "    plt.plot([-xmax, xmax], [0, 0], 'k', linestyle=':')\n",
    "    #plt.plot([0, 0], [-80, 100], 'k', linestyle=':')\n",
    "    plt.plot(x, y, 'r')\n",
    "    plt.xlabel(r'$\\Delta t=$ t$_{\\mathrm{post}}$ - t$_{\\mathrm{pre}}$ (ms)',fontsize=16)\n",
    "    plt.ylabel(r'$\\Delta $W ',fontsize=16)\n",
    "    plt.title('The inhibitory STDP rule', fontsize=18, fontweight='bold')\n",
    "    plt.show()\n",
    "    return\n",
    "    \n",
    "def inhSTDP_plot(eta, rho, tau):\n",
    "    \"\"\"    \n",
    "    Generates a plot for the inhibitory plasticity rule\n",
    "    \n",
    "    Parameters:\n",
    "    eta : \n",
    "    rho : \n",
    "    tau : \n",
    "    \n",
    "    Returns:\n",
    "    A plot for the inhibitory STDP rule\n",
    "    \"\"\"\n",
    "    # Calculate the synaptic change via the specific function\n",
    "    Delta_t, DeltaW = DeltaW_inhSTDP(eta, rho, tau)\n",
    "    \n",
    "    # Plotting\n",
    "    plt.figure(figsize=(8,5))\n",
    "    plt.plot([Delta_t[0], Delta_t[-1]], [0, 0], 'k', linestyle=':')\n",
    "    plt.plot([0, 0], [-80, 100], 'k', linestyle=':')\n",
    "    plt.plot(Delta_t, DeltaW, 'r')\n",
    "    plt.xlabel(r'$\\Delta t=$ t$_{\\mathrm{post}}$ - t$_{\\mathrm{pre}}$ (ms)',fontsize=16)\n",
    "    plt.ylabel(r'$\\Delta $W (%)',fontsize=16)\n",
    "    plt.title('The inhibitory STDP rule', fontsize=18, fontweight='bold')\n",
    "    plt.show()\n",
    "\n",
    "    \n",
    "def inh_analysis_plot(num_small_intervals,post_spike,save_inh_weights, duration,Exkeep,Inkeep):\n",
    "    '''\n",
    "    \n",
    "    ....\n",
    "    \n",
    "    \n",
    "    '''\n",
    "    post_rate = np.zeros(num_small_intervals)\n",
    "    inh_weights = np.zeros(num_small_intervals)\n",
    "    for i in range(num_small_intervals):\n",
    "        post_rate[i] = np.sum(post_spike[i*duration:(i+1)*duration])/ duration * 1000\n",
    "        inh_weights[i] = np.mean(save_inh_weights[i*duration:(i+1)*duration])\n",
    "    Exkeep0 = Exkeep[0:int(duration/10)]\n",
    "    Inkeep0 = Inkeep[0:int(duration/10)]\n",
    "    Exkeep1 = Exkeep[int(duration*(num_small_intervals-1/10)):duration*num_small_intervals]\n",
    "    Inkeep1 = Inkeep[int(duration*(num_small_intervals-1/10)):duration*num_small_intervals]    \n",
    "    fig, (ax1, ax2, ax3, ax4) = plt.subplots(4,1, figsize=(8,12));\n",
    "    ax1.plot(range(num_small_intervals),post_rate)\n",
    "    ax1.set_xlabel(\"time (s)\", fontsize=12);\n",
    "    ax1.set_ylabel(\"Firing rate [Hz]\", fontsize=12);\n",
    "    ax1.set_title(\"Postsynaptic firing rate\", fontsize=14);\n",
    "    ax2.plot(range(num_small_intervals),inh_weights)\n",
    "    ax2.set_xlabel(\"time (s) \", fontsize=12);\n",
    "    ax2.set_ylabel(\"Mean inhibitory weights\", fontsize=12);\n",
    "    ax2.set_title(\"Inhibitory weights\", fontsize=14);\n",
    "    ax3.plot(range(int(duration/10)), Exkeep0/100,'r',linewidth=3)\n",
    "    ax3.plot(range(int(duration/10)), Inkeep0/100, 'g')\n",
    "    ax3.plot(range(int(duration/10)), (Inkeep0 + Exkeep0)/100, 'k')\n",
    "    ax3.set_xlabel(\"time (ms) \", fontsize=12);\n",
    "    ax3.set_ylabel('Currents', fontsize=12);\n",
    "    ax3.set_title(\"Currents before plasticity\", fontsize=14);\n",
    "    ax4.plot(range(int(duration/10)), Exkeep1/100, 'r')\n",
    "    ax4.plot(range(int(duration/10)), Inkeep1/100, 'g')\n",
    "    ax4.plot(range(int(duration/10)), (Inkeep1 + Exkeep1)/100, 'k')\n",
    "    ax4.set_xlabel(\"time (ms) \", fontsize=12);\n",
    "    ax4.set_ylabel('Currents', fontsize=12);\n",
    "    ax4.set_title(\"Currents after plasticity\", fontsize=14);"
   ]
  },
  {
   "cell_type": "markdown",
   "id": "8c5c32de-5a73-4761-89a9-007651be0d9d",
   "metadata": {
    "tags": []
   },
   "source": [
    "## 1. The pair-based STDP rule"
   ]
  },
  {
   "cell_type": "markdown",
   "id": "9a347596-eef3-454e-81cf-793846fe22af",
   "metadata": {
    "tags": []
   },
   "source": [
    "#### Coding Exercise 1: the pair-based STDP function"
   ]
  },
  {
   "cell_type": "markdown",
   "id": "2ee2d814-22bc-48ba-8b37-217f3ea95135",
   "metadata": {},
   "source": [
    "Let's begin by visualizing the **pairwise spike timing dependent plasticity (STDP) rule**. \n",
    "Recall that, under this rule, the synaptic weight increases (*long-term potentiation*) if a postsynaptic spike follows a presynaptic spike within a short time window, whereas the synaptic weight decreases (*long-term depression*) if the opposite occurs: "
   ]
  },
  {
   "cell_type": "markdown",
   "id": "1f8ef00c-9449-4ae6-bd35-7dc61bbdfc0a",
   "metadata": {},
   "source": [
    "$$\n",
    "\\Delta W (\\Delta t) = \\begin{cases}\n",
    "A_+e^{-\\Delta t/\\tau_+} & \\text{if } \\Delta t\\geq 0 \\\\\n",
    "-A_-e^{\\Delta t/\\tau_-} & \\text{if } \\Delta t<0\n",
    "\\end{cases}\n",
    "$$\n",
    "\n",
    "where $A_+, A_-$ are positive constants. "
   ]
  },
  {
   "cell_type": "markdown",
   "id": "369926a1-8573-4505-b4ec-bf5ff1bded12",
   "metadata": {},
   "source": [
    "In the following exercise, you will fill a function script for the pairwise STDP rule.\n",
    "Consider the time difference $\\Delta t = t_{post} - t_{pre}$ between a post- and a presynaptic spike and compute the weight change $\\Delta W$ as a function of $\\Delta t$.\n",
    "\n",
    "After plotting and visualising the pair-based STDP rule for some specific values, you can play with the sliders and see how varying the parameters changes the shape of the STDP function (and therefore, how it influences the synaptic weight change).\n",
    "\n",
    "How do the temporal constants and the amplitude values shape the STDP window? What can you tell about the influence of these parameters on the synaptic change? \n",
    "\n",
    "*Bonus question*: what do you think will happen if we replace $A_+$ with $-A_+$ and we replace $-A_-$ with $A_-$?"
   ]
  },
  {
   "cell_type": "code",
   "execution_count": 3,
   "id": "01aa4a57-fde6-42ba-a892-496a2e05c267",
   "metadata": {},
   "outputs": [
    {
     "data": {
      "application/vnd.jupyter.widget-view+json": {
       "model_id": "138230956994410d89559499a8a74a44",
       "version_major": 2,
       "version_minor": 0
      },
      "text/plain": [
       "interactive(children=(FloatSlider(value=0.055, description='A_plus', max=0.1, min=0.01, step=0.001), FloatSlid…"
      ]
     },
     "metadata": {},
     "output_type": "display_data"
    }
   ],
   "source": [
    "def DeltaW_pairSTDP(A_plus, A_minus, tau_plus, tau_minus):\n",
    "    \"\"\"    \n",
    "    Implements the pairwise STDP rule and calculates the instantaneous synaptic weight change due to the STDP pairwise rule\n",
    "    \n",
    "    Parameters:\n",
    "    A_plus     (number) : maximum amount of potentiation (LTP)\n",
    "    A_minus    (number) : maximum amount of depression (LTD)\n",
    "    tau_plus   (number) : LTP time constant [ms]\n",
    "    tau_minus  (number) : LTD time constant [ms]\n",
    "    \n",
    "    Returns:\n",
    "    Delta_t (1D numpy array) : time differences between post- and presynaptic spikes [ms]\n",
    "    DeltaW  (1D numpy array) : synaptic weight change DeltaW due to the pairwise STDP rule over time.\n",
    "    \"\"\"\n",
    "    # Define the array with the time differences between post- and presynaptic spikes\n",
    "    Delta_t = np.linspace(-200, 200, 50)\n",
    "    # Initialize the STDP change\n",
    "    DeltaW = np.zeros(len(Delta_t))\n",
    "    # Calculate the synaptic change DeltaW for potentiation (LTP)\n",
    "    DeltaW[Delta_t > 0] = A_plus * np.exp(-Delta_t[Delta_t > 0] / tau_plus)\n",
    "    # Calculate the synaptic change DeltaW for depression (LTD)\n",
    "    DeltaW[Delta_t <= 0] = -A_minus * np.exp(Delta_t[Delta_t <= 0] / tau_minus)\n",
    "    \n",
    "    return Delta_t, DeltaW\n",
    "\n",
    "# Plot the pairwise STDP function \n",
    "interact(pairSTDP_plot, A_plus = (0.01,0.1,0.001), A_minus = (0.01,0.1,0.001), tau_plus = (10,70,0.1), tau_minus  = (10,70,0.1));"
   ]
  },
  {
   "cell_type": "markdown",
   "id": "d418b04b-e73c-415c-b021-73790b5ecd20",
   "metadata": {
    "tags": []
   },
   "source": [
    "## 2. Pre- and postsynaptic event detectors and spike trains \n",
    "\n",
    "Good job so far! You will now deepen the analysis of the pairwise STDP rule by visualising how the synaptic change is related to two specific spike trains (pre- and post), which are randomly generated under the Poisson distribution. This probabilistic distribution is commonly used for simulating spike trains."
   ]
  },
  {
   "cell_type": "markdown",
   "id": "349cf557-8db3-49d8-9761-cefd3bc19872",
   "metadata": {
    "tags": []
   },
   "source": [
    "##### Bonus: Poisson spike train \n",
    "\n",
    "The next function generates a train of spikes drawn from the Poisson distribution. The output will be an array of binary values: this array will take the value 1 at time *t* if there is a spike at time *t*, 0 otherwise.\n",
    "\n",
    "You can just run the cell below, however if you have extra time you can check how this is implemented. "
   ]
  },
  {
   "cell_type": "code",
   "execution_count": 4,
   "id": "b967aea0-efb0-4a07-8c1b-57cd512ff2a0",
   "metadata": {},
   "outputs": [],
   "source": [
    "def Poisson_spike_train(discretization_step, t_range, rate, myseed=False):\n",
    "    \"\"\"\n",
    "    Generates a Poisson spike train\n",
    "    \n",
    "    Parameters:\n",
    "    discretization_step   (number) : discretization time step [ms]\n",
    "    t_range       (1D numpy array) : time interval [ms]\n",
    "    rate                  (number) : intensity of the Poisson process [Hz]\n",
    "    myseed                (number) : random seed. int or boolean\n",
    "\n",
    "    Returns:\n",
    "    Poisson_train (1D numpy array) : a spike train of binary values (1 if spike, 0 otherwise)\n",
    "    \"\"\"\n",
    "    # set random seed\n",
    "    if myseed:\n",
    "        np.random.seed(seed=myseed)\n",
    "    else:\n",
    "        np.random.seed()\n",
    "\n",
    "    # generate an uniformly distributed random variable (for the ISI = interspike interval)\n",
    "    unirnd = np.random.rand(len(t_range))\n",
    "\n",
    "    # generate Poisson train\n",
    "    # note that we divide by 1000 in the expression below because the time is measured in ms, \n",
    "    # whereas the intensity is given in Hz (s^-1)\n",
    "    poisson_train = 1. * (unirnd < rate * (discretization_step/1000.))\n",
    "\n",
    "    return poisson_train"
   ]
  },
  {
   "cell_type": "markdown",
   "id": "d52e71c8-4e8a-45d7-af01-42f896fab037",
   "metadata": {
    "tags": []
   },
   "source": [
    "#### Coding exercise 2: keeping track"
   ]
  },
  {
   "cell_type": "markdown",
   "id": "0b56349c-acb0-4528-a839-9ca557cd52fb",
   "metadata": {},
   "source": [
    "**TODO**"
   ]
  },
  {
   "cell_type": "code",
   "execution_count": 5,
   "id": "d0f76a9f-b546-470e-b0a6-a4de395db432",
   "metadata": {},
   "outputs": [],
   "source": [
    "# Keeping track of the detectors\n",
    "def detectors_pairSTDP(t_range,pre_spike,post_spike,A_plus,A_minus,tau_plus,tau_minus,discretization_step,w0):\n",
    "    '''\n",
    "    \n",
    "    \n",
    "    Parameters:\n",
    "    t_range    (1D numpy array) : time interval [ms]\n",
    "    pre_spike  (1D numpy array) : presynaptic spike train over time (binary array with value 1\n",
    "                                  at time t if there was a spike a time t, 0 at time t otherwise).\n",
    "    post_spike (1D numpy array) : postsynaptic spike train over time (analougous to the presyn. spike train)\n",
    "    A_plus     (number) : maximum amount of potentiation (LTP)\n",
    "    A_minus    (number) : maximum amount of depression (LTD)\n",
    "    tau_plus   (number) : LTP time constant [ms]\n",
    "    tau_minus  (number) : LTD time constant [ms]    \n",
    "    discretization_step(number) : discretization time step [ms]\n",
    "    w0         (number) : initial synaptic weight \n",
    "\n",
    "    Returns:\n",
    "    r1         (1D numpy array) : presynaptic detector trace over time \n",
    "    o1         (1D numpy array) : postsynaptic detector trace over time \n",
    "    w:         (1D numpy array) : synaptic weight over time\n",
    "    '''\n",
    "    \n",
    "    # Initialize the synaptic weight\n",
    "    w = np.ones(len(t_range))\n",
    "    w[0] = w0\n",
    "    # Initialize the pre- and postsynaptic event detectors\n",
    "    r1 = np.zeros(len(t_range))        # presynaptic event detector\n",
    "    o1 = np.zeros(len(t_range))        # postsynaptic event detector\n",
    "    for i in range(len(t_range)-1):\n",
    "        if i==0:\n",
    "            continue\n",
    "        w[i+1]=w[i]\n",
    "        # if there is a pre-synaptic spike\n",
    "        if pre_spike[i]==1:     \n",
    "            # Update the presynaptic detector\n",
    "            r1[i] += 1\n",
    "            # Update the synaptic weight\n",
    "            w[i+1] = w[i] - o1[i]*A_minus \n",
    "            \n",
    "        # if there is a post-synaptic spike\n",
    "        if post_spike[i]==1:    \n",
    "            # Update the postsynaptic detector\n",
    "            o1[i] += 1\n",
    "            # Update the synaptic weight\n",
    "            w[i+1] = w[i] + r1[i]*A_plus\n",
    "\n",
    "        # Apply Euler's method to the detector equations\n",
    "        r1[i+1] = r1[i] - discretization_step * r1[i]/tau_plus\n",
    "        o1[i+1] = o1[i] - discretization_step * o1[i]/tau_minus\n",
    "    return r1,o1,w"
   ]
  },
  {
   "cell_type": "code",
   "execution_count": 6,
   "id": "77a47f6b-f14b-4e6c-a72d-9e2288c35b80",
   "metadata": {},
   "outputs": [
    {
     "data": {
      "image/png": "[encoded data removed]",
      "text/plain": [
       "<Figure size 576x864 with 5 Axes>"
      ]
     },
     "metadata": {
      "needs_background": "light"
     },
     "output_type": "display_data"
    }
   ],
   "source": [
    "# Define the STDP rule parameters\n",
    "A_plus = 0.05       # maximum amount of potentiation (LTP)\n",
    "A_minus = 0.05      # maximum amount of potentiation (LTD)\n",
    "tau_plus = 20       # LTP time constant [ms]\n",
    "tau_minus = 20      # LTD time constant [ms]\n",
    "discretization_step=0.1 # discretization time step [ms]\n",
    "t_range=np.arange(0,1000,discretization_step)     # time interval [ms]\n",
    "\n",
    "# Generate a presynaptic spike train\n",
    "pre_spike = Poisson_spike_train(discretization_step, t_range, rate=15, myseed=7)\n",
    "# Generate a postsynaptic spike train\n",
    "post_spike = Poisson_spike_train(discretization_step, t_range, rate=15, myseed=1)\n",
    "# Initialize the synaptic weight\n",
    "w0 = 1\n",
    "# Keep track of the pre- and postsynaptic detector traces and the synaptic weight over time \n",
    "r1,o1,w = detectors_pairSTDP(t_range,pre_spike,post_spike,A_plus,A_minus,tau_plus,tau_minus,discretization_step,w0)\n",
    "# Plotting\n",
    "pair_track_plot(t_range,pre_spike,r1,post_spike,o1,w)"
   ]
  },
  {
   "cell_type": "markdown",
   "id": "ce07f089-ff7c-49c3-855b-fadedcf4a865",
   "metadata": {
    "tags": []
   },
   "source": [
    "## 3. The triplet STDP rule"
   ]
  },
  {
   "cell_type": "markdown",
   "id": "b58dc894-c017-4182-88ea-e14266dc07e7",
   "metadata": {},
   "source": [
    "Let's now turn to the **triplet spike timing dependent plasticity (STDP) rule**, which uses sets of three spikes to induce *long term potentiation*, and pairs of spikes to induce *long term depression*.\n",
    "\n",
    "Recall that, under this rule, potentiation depends on the interval $\\Delta t_1$ between the pre- and postsynaptic spikes, and on the timing $\\Delta t_2$ of the previous postsynaptic spike, whereas *long-term depression* depends only on $\\Delta t_1$."
   ]
  },
  {
   "cell_type": "markdown",
   "id": "065753e1-60dc-4663-9e9d-8021485b5dbb",
   "metadata": {},
   "source": [
    "$$\n",
    "\\Delta W (\\Delta t) = \\begin{cases}\n",
    "A_+e^{-\\Delta t_1/\\tau_+}e^{-\\Delta t_2/\\tau_y} & \\text{if } \\Delta t_1\\geq 0, \\Delta t_2\\geq 0 \\\\\n",
    "-A_-e^{\\Delta t/\\tau_-} & \\text{if } \\Delta t_1<0\n",
    "\\end{cases}\n",
    "$$\n",
    "\n",
    "where $\\Delta t_1 = t_{post} - t_{pre}$ denotes the time difference between a post- and a presynaptic spike and $\\Delta t_2 = t_{post} - t'_{post}$ denotes the time difference between two consecutive postpresynaptic spikes."
   ]
  },
  {
   "cell_type": "markdown",
   "id": "97515394-9a62-47d7-86d8-556248c8ce3d",
   "metadata": {},
   "source": [
    "In the following exercise, you will fill a function script for the triplet STDP rule.\n",
    "Consider the time difference $\\Delta t_1$ between a post- and a presynaptic spike and compute the weight change $\\Delta W$ as a function of $\\Delta t_1$ for a given value of $\\Delta t_2$. Then, you can play again with the interactive plot. This time, you will focus on how varying the time difference $\\Delta t_2$ between two postsynaptic spikes changes the shape of the STDP function (and therefore, how it influences the synaptic weight change). Enjoy it!\n",
    "\n",
    "*Bonus*: in the interactive plot, the other parameters for the STDP rule are fixed. You can explore how the STDP function would change by varying the other parameters as well (and not only $\\Delta t_2$), by editing the last row in the cell. "
   ]
  },
  {
   "cell_type": "markdown",
   "id": "51ee6d62-8768-447a-8201-eb83bac86a88",
   "metadata": {
    "tags": []
   },
   "source": [
    "#### Coding Exercise 3: the triplet STDP function"
   ]
  },
  {
   "cell_type": "code",
   "execution_count": 7,
   "id": "a2dad978-dfd9-464e-970f-35de9e00081d",
   "metadata": {},
   "outputs": [
    {
     "data": {
      "application/vnd.jupyter.widget-view+json": {
       "model_id": "10de83fc9e3e4fd98d2ece5eb7eb8212",
       "version_major": 2,
       "version_minor": 0
      },
      "text/plain": [
       "interactive(children=(FloatSlider(value=50.00000000000001, description='Delta_t2', min=0.1), Output()), _dom_c…"
      ]
     },
     "metadata": {},
     "output_type": "display_data"
    }
   ],
   "source": [
    "def DeltaW_tripSTDP(A_plus, A_minus, tau_plus, tau_minus, tau_y, Delta_t2):\n",
    "    \"\"\"\n",
    "    Implements the triplet STDP rule and calculates the instantaneous synaptic weight change due to the triplet STDP rule\n",
    "    \n",
    "    Parameters:\n",
    "    A_plus     (number) : maximum amount of potentiation (LTP)\n",
    "    A_minus    (number) : maximum amount of depression (LTD)\n",
    "    tau_plus   (number) : LTP time constant [ms]\n",
    "    tau_minus  (number) : LTD time constant [ms]\n",
    "    tau_y      (number) : second LTP time constant [ms]\n",
    "    Delta_t2   (number) : time difference between two postsynaptic spikes [ms]\n",
    "    \n",
    "    Returns:\n",
    "    Delta_t1 (1D numpy array): time differences between post- and presynaptic spikes [ms]\n",
    "    DeltaW  (1D numpy array) : synaptic weight change DeltaW due to the triplet STDP rule over time.\n",
    "    \"\"\"\n",
    "    # Define the array with the time differences between the first postsynaptic spike and the presynaptic spike \n",
    "    Delta_t1 = np.linspace(-100, 100, 50)\n",
    "    # Initialize the STDP change\n",
    "    DeltaW = np.zeros(len(Delta_t1))\n",
    "    # Calculate the synaptic change DeltaW for potentiation (LTP)\n",
    "    DeltaW[Delta_t1 > 0] = A_plus * np.exp(-Delta_t1[Delta_t1 > 0] / tau_plus) * np.exp(-Delta_t2 / tau_y)\n",
    "    # Calculate the synaptic change DeltaW for depression (LTD)\n",
    "    DeltaW[Delta_t1 <= 0] = -A_minus * np.exp(Delta_t1[Delta_t1 <= 0] / tau_minus)\n",
    "\n",
    "    return Delta_t1, DeltaW\n",
    "\n",
    "# Define the STDP rule parameters\n",
    "A_plus = 0.1    # maximum amount of potentiation (LTP)\n",
    "A_minus = 0.1   # maximum amount of potentiation (LTD)\n",
    "tau_plus = 20   # LTP time constant [ms]\n",
    "tau_minus = 20  # LTD time constant [ms]\n",
    "tau_y = 114     # second LTP time constant [ms]\n",
    "Delta_t2 = 10   # time difference between two postsynaptic spikes [ms]\n",
    "\n",
    "# Plot the triplet STDP function \n",
    "interact(tripletSTDP_plot, A_plus=fixed(0.1), A_minus=fixed(0.1), tau_plus= fixed(20), tau_minus= fixed(20), tau_y= fixed(114), Delta_t2 = (0.1,100,0.1));"
   ]
  },
  {
   "cell_type": "markdown",
   "id": "41558865-3451-4540-9b0f-98fea0844e72",
   "metadata": {
    "tags": []
   },
   "source": [
    "## 4. Detector traces and spike trains \n",
    "study only the case of 1 pre- and 1 postsynaptic neuron (Poisson neurons)."
   ]
  },
  {
   "cell_type": "markdown",
   "id": "791a44e4-5220-4158-98ba-cdd01355b9c8",
   "metadata": {
    "tags": []
   },
   "source": [
    "#### Coding exercise 4: keeping track"
   ]
  },
  {
   "cell_type": "code",
   "execution_count": 8,
   "id": "c611d496-77b0-4ae1-9dcf-fc0c5664c792",
   "metadata": {},
   "outputs": [],
   "source": [
    "# Keeping track of the detectors\n",
    "def detectors_tripSTDP(t_range,pre_spike,post_spike,A_plus,A_minus,tau_plus,tau_minus,tau_y,discretization_step,w0):\n",
    "    '''\n",
    "    \n",
    "    Parameters:\n",
    "    t_range    (1D numpy array) : time interval [ms]\n",
    "    pre_spike  (1D numpy array) : presynaptic spike train over time (binary array with value 1\n",
    "                                  at time t if there was a spike a time t, 0 at time t otherwise).\n",
    "    post_spike (1D numpy array) : postsynaptic spike train over time (analougous to the presyn. spike train)\n",
    "    A_plus     (number) : maximum amount of potentiation (LTP)\n",
    "    A_minus    (number) : maximum amount of depression (LTD)\n",
    "    tau_plus   (number) : LTP time constant [ms]\n",
    "    tau_minus  (number) : LTD time constant [ms]    \n",
    "    tau_y      (number) : second LTD time constant [ms]    \n",
    "    discretization_step(number) : discretization time step [ms]\n",
    "    w0         (number) : initial synaptic weight \n",
    "\n",
    "    Returns:\n",
    "    r1         (1D numpy array) : presynaptic detector trace over time \n",
    "    o1         (1D numpy array) : postsynaptic detector trace over time \n",
    "    o2         (1D numpy array) : second postsynaptic detector trace over time \n",
    "    w:         (1D numpy array) : synaptic weight over time\n",
    "    '''\n",
    "    \n",
    "    # Initialize the synaptic weight\n",
    "    w = np.ones(len(t_range))\n",
    "    w[0] = w0\n",
    "    # Initialize the pre- and postsynaptic event detectors\n",
    "    r1 = np.zeros(len(t_range))        # presynaptic event detector\n",
    "    o1 = np.zeros(len(t_range))        # postsynaptic event detector\n",
    "    o2 = np.zeros(len(t_range))        # postsynaptic event detector\n",
    "    for i in range(len(t_range)-1):\n",
    "        if i==0:\n",
    "            continue\n",
    "        w[i+1]=w[i]\n",
    "        # if there is a pre-synaptic spike\n",
    "        if pre_spike[i]==1:     \n",
    "            # Update the presynaptic detector\n",
    "            r1[i] += 1\n",
    "            # Update the synaptic weight\n",
    "            w[i+1] = w[i] - o1[i]*A_minus \n",
    "            \n",
    "        # if there is a post-synaptic spike\n",
    "        if post_spike[i]==1:    \n",
    "            # Update the postsynaptic detector\n",
    "            o1[i] += 1\n",
    "            # Update the synaptic weight\n",
    "            w[i+1] = w[i] + r1[i]*A_plus*o2[i]\n",
    "            # Update the second postsynaptic detector\n",
    "            o2[i] += 1\n",
    "        # Apply Euler's method to the detector equations\n",
    "        r1[i+1] = r1[i] - discretization_step * r1[i]/tau_plus\n",
    "        o1[i+1] = o1[i] - discretization_step * o1[i]/tau_minus\n",
    "        o2[i+1] = o2[i] - discretization_step * o2[i]/tau_y\n",
    "    return r1,o1,o2,w"
   ]
  },
  {
   "cell_type": "code",
   "execution_count": 9,
   "id": "4def7b29-07d2-44f4-95b8-49f8a0d27ad6",
   "metadata": {},
   "outputs": [
    {
     "data": {
      "image/png": "[encoded data removed]",
      "text/plain": [
       "<Figure size 576x864 with 6 Axes>"
      ]
     },
     "metadata": {
      "needs_background": "light"
     },
     "output_type": "display_data"
    }
   ],
   "source": [
    "# Define the STDP rule parameters\n",
    "A_plus = 0.05       # maximum amount of potentiation (LTP)\n",
    "A_minus = 0.05      # maximum amount of potentiation (LTD)\n",
    "tau_plus = 20  # LTP time constant [ms]\n",
    "tau_minus = 20 # LTD time constant [ms]\n",
    "tau_y = 114    # second LTP time constant [ms]\n",
    "discretization_step=0.1 # discretization time step [ms]\n",
    "t_range=np.arange(0,1000,discretization_step)     # time interval [ms]\n",
    "\n",
    "# Generate a presynaptic spike train\n",
    "pre_spike = Poisson_spike_train(discretization_step, t_range, rate=15, myseed=7)\n",
    "# Generate a postsynaptic spike train\n",
    "post_spike = Poisson_spike_train(discretization_step, t_range, rate=15, myseed=1)\n",
    "# Initialize the synaptic weight\n",
    "w0 = 1\n",
    "# Keep track of the pre- and postsynaptic detector traces and the synaptic weight over time \n",
    "r1,o1,o2,w = detectors_tripSTDP(t_range,pre_spike,post_spike,A_plus,A_minus,tau_plus,tau_minus,tau_y,discretization_step,w0)\n",
    "# Plotting\n",
    "trip_track_plot(t_range,pre_spike,r1,post_spike,o1,o2,w)"
   ]
  },
  {
   "cell_type": "markdown",
   "id": "736ba7f3-124b-4e6a-a85a-2d4a656300cb",
   "metadata": {
    "tags": []
   },
   "source": [
    "## 5. Pairing protocol analysis: matching the data"
   ]
  },
  {
   "cell_type": "markdown",
   "id": "5b641ce8-bde1-4a2b-9903-ef334fe9f8bf",
   "metadata": {},
   "source": [
    "The classical STDP protocol consist of eliciting pairs of presynaptic and postsynaptic spikes at a given frequency $\\rho$, so the time distance between two consecutive pairs is $1/\\rho$, whereas the pre- and postsynaptic spikes are shifted by a fixed time $\\Delta t < 1/\\rho $. We study the weight change as a function of the frequency $\\rho$ for a fixed $\\Delta t$.\n",
    "\n",
    "In our case, 60 pairs of spikes shifted by either $\\Delta t = 10 $ ms (therefore a postsynaptic spike **follows** a presynaptic spike after 10 ms) or $\\Delta t = - 10 $ ms (therefore a postsynaptic spike **is followed by** a presynaptic spike after 10 ms) are elicited at regular intervals of 1/$\\rho$, for $\\rho \\in [0.1,50]$ Hz. \n",
    "\n",
    "We calculate the synaptic change with both the pair-based and the triplet STDP functions as described in the previous sections of this tutorial, and we compare our results with the experimental data from [Sjöström et al, Neuron (2021)](https://doi.org/10.1016/s0896-6273(01)00542-6) \n",
    "\n",
    "The data is represented below.  You can see the change in synaptic weight $\\Delta w$ as a function of the frequency $\\rho$, for the two shift in spike-time mentioned above. \n",
    "\n",
    "\n",
    "<img src=\"https://github.com/comp-neural-circuits/plasticity-workshop/raw/dev/pairing_data.png\" alt=\"experimental data\" style=\"width:500px;\"/>"
   ]
  },
  {
   "cell_type": "markdown",
   "id": "37ffdb43-70b5-4b2e-b175-2705c9c97b60",
   "metadata": {
    "tags": []
   },
   "source": [
    "#### Helper function"
   ]
  },
  {
   "cell_type": "markdown",
   "id": "9af04dd4-40cd-40fc-880d-a09887b0d8ac",
   "metadata": {},
   "source": [
    "The following function generates two spike trains (one pre- and one postsynaptic spike train) where neurons fire at the same, fixed time interval. There is however a shift in spike times, so that presynaptic firing either follows or precedes postsynaptic firing.  \n",
    "\n",
    "Before you move on, please take a look at the function."
   ]
  },
  {
   "cell_type": "code",
   "execution_count": 10,
   "id": "8bd57958-24fe-47cd-94ad-b1df7bf95e1e",
   "metadata": {},
   "outputs": [],
   "source": [
    "def firstspike_secondspike(discretization_step, rho, num_pairs):\n",
    "    \"\"\"\n",
    "    Generates presynaptic and postsynaptic spike trains characterised by a number of pairs \n",
    "    (given by `num_pairs`) of pre- and post-synaptic spikes with time distance `DeltaT`.\n",
    "    The pairs are repeated at frequency `rho` \n",
    "\n",
    "    1) Generate two \"small\" arrays containing only one pair of one pre- and one post-synaptic spikes\n",
    "    within a time window 1/rho. These will be the \"building blocks\" of the full spike trains.\n",
    "\n",
    "    2) Construct the full spike trains by repeating the small arrays the number of times given by num_pairs.\n",
    "    \n",
    "    Parameters:\n",
    "    discretization_step (number) :  :-S    HELP ! \n",
    "    rho (number) : the frequency in Hz at which the pairs appear\n",
    "    num_pairs    : the total number of pairs  ( so this is frequency * total_time_duration) ? Claudia fix this!\n",
    "    \n",
    "    Returns:\n",
    "    spiketrain_1 (1D numpy array) : binary array with the first spiketrain (one element is a 1ms bin)\n",
    "    spiketrain_2 (1D numpy array) : binary array with the second spiketrain\n",
    "    \"\"\"\n",
    "    \n",
    "    DeltaT = discretization_step*100   # time distance between pre- and postsynaptic spikes. It must be greater than the discretization_step!\n",
    "    pair_distance = round(1/rho,2)   # time distance between pairs of pre-post spikes.\n",
    "\n",
    "    # Generate the first piece of the pre- and postsynaptic spike trains (namely, one pair of pre- and post-synaptic spikes) within a time window 1/rho \n",
    "    small_t_range = np.arange(0,pair_distance - discretization_step,discretization_step)   # time interval between pairs of pre-post spikes.\n",
    "    t_range=np.arange(0,num_pairs*(pair_distance - discretization_step),discretization_step)            # the whole time interval \n",
    "\n",
    "    first_spike = np.zeros(len(small_t_range))           # initialize the first piece of the pre-synaptic spike train \n",
    "    second_spike = np.zeros(len(small_t_range))          # initialize the first piece of the post-synaptic spike train\n",
    "    first_spike[0] = 1                                   # generate a pre-syn spike at time 0 \n",
    "    second_spike[np.where(small_t_range==DeltaT)[0]] = 1 # generate a post-syn spike after DeltaT\n",
    "    first_spikes=np.tile(first_spike,num_pairs)          # repeat for 'num_pairs' times and create the full spike train\n",
    "    second_spikes=np.tile(second_spike,num_pairs)        # repeat for 'num_pairs' times and create the full spike train\n",
    "    return first_spikes, second_spikes, t_range"
   ]
  },
  {
   "cell_type": "code",
   "execution_count": 11,
   "id": "9d20ddbe-5ca9-4ac6-ba95-d8d3e7ad1ef8",
   "metadata": {},
   "outputs": [],
   "source": [
    "def firstspike_secondspike_update(rho,time_total,DeltaT,discretization_step=1E-4):\n",
    "    \"\"\"\n",
    "    Generates presynaptic and postsynaptic spike trains characterised by a number of pairs \n",
    "    of pre- and post-synaptic spikes with time distance `DeltaT`.\n",
    "    The pairs are repeated at frequency `rho` \n",
    "    \n",
    "    Parameters:\n",
    "    rho (number) : the firing frequency in Hz of each neuron\n",
    "    time_total (number) : the duration of the spike trains\n",
    "    DeltaT (number) : the time distance between pre and post spike, in seconds  \n",
    "    discretization_step = 1E-4    : a very small time interval (in seconds), express the spike trains as binary. \n",
    "                                     The default is to consider time-bins of 0.1 ms.                        \n",
    "    \n",
    "    Returns:\n",
    "    times  (1D numpy array) : times associated to binary spiketrain (in seconds)\n",
    "    spiketrain_pre (1D numpy array) : binary array with the first spiketrain (one element is a bin of size `discretization_step`)\n",
    "    spiketrain_post (1D numpy array) : binary array with the second spiketrain\n",
    "    \"\"\"\n",
    "    \n",
    "    assert DeltaT < (1/rho) , \"interval between spikes is too large compared to frequency !\"\n",
    "    \n",
    "    # time vector\n",
    "    times = np.arange(0.0,time_total,discretization_step)\n",
    "    \n",
    "    # spike times, with frequency rho\n",
    "    train1_s = np.arange(0.0,time_total,1/rho) \n",
    "    train2_s = train1_s + abs(DeltaT) # second neuron fires with DetlaT offset \n",
    "    \n",
    "    # spike times in discretized units, converted to integer\n",
    "    train1_discr = (train1_s * (1/discretization_step)).astype(np.int64) \n",
    "    train2_discr = (train2_s * (1/discretization_step)).astype(np.int64)\n",
    "    \n",
    "    # build the binary spike trains, using discretized spike times\n",
    "    train1_bin = np.zeros(len(times))\n",
    "    train1_bin[train1_discr] = 1\n",
    "    train2_bin = np.zeros(len(times))\n",
    "    train2_bin[train2_discr] = 1\n",
    "    # sign of DeltaT determines which spikes first\n",
    "    if DeltaT > 0:\n",
    "        # pre spike before, post spike later\n",
    "        return times,train1_bin,train2_bin\n",
    "    else:\n",
    "        # post spike before, pre spike later\n",
    "        return times,train2_bin,train1_bin"
   ]
  },
  {
   "cell_type": "markdown",
   "id": "999cb0c1-881e-4302-ac88-c7b85ccf1448",
   "metadata": {
    "tags": []
   },
   "source": [
    "#### Coding exercise 5: pairing protocol with the pairwise STDP rule"
   ]
  },
  {
   "cell_type": "markdown",
   "id": "a437ccfa-5ce0-4da4-9459-6db24dc84481",
   "metadata": {},
   "source": [
    "Let's begin with the pairing protocol analysis via the pairwise STDP rule. In the next exercise, you will choose the order of spikes in the pre- and postsynaptic neurons by exploiting the *helper function* above, and you will calculate the synaptic change (the difference between the final weight and the initial weight) for each frequency value provided by the vector *rho_vec*. \n",
    "\n",
    "There are two different for loops in the code, in order to account for both the *pre-post* and the *post-pre* cases."
   ]
  },
  {
   "cell_type": "code",
   "execution_count": 12,
   "id": "48d76679-d6c2-453e-b779-a8d555ee066b",
   "metadata": {},
   "outputs": [
    {
     "data": {
      "image/png": "[encoded data removed]",
      "text/plain": [
       "<Figure size 864x288 with 2 Axes>"
      ]
     },
     "metadata": {
      "needs_background": "light"
     },
     "output_type": "display_data"
    }
   ],
   "source": [
    "# Initialization \n",
    "num_pairs = 60             # number of pre- and postsyn spike pairs \n",
    "rho_vec = np.array([0.1, 1, 10, 20, 25, 30, 35, 40, 50])        # frequency values [Hz]\n",
    "rho_vec = rho_vec/1000     # because time is given in ms\n",
    "discretization_step = 1e-1 # (ms)\n",
    "tau_plus = 16.8            # LTP time constant (ms)\n",
    "tau_minus = 33.7           # LTD time constant (ms)\n",
    "A_plus = 5.6e-3            # LTP window amplitude\n",
    "A_minus = 2.1e-3           # LTD window amplitude\n",
    "w0 = 1                     # initial weight\n",
    "\n",
    "# initialize the synaptic change\n",
    "DeltaW = np.zeros(len(rho_vec))        # for pre-post (Delta_t >0)\n",
    "DeltaW_rev = np.zeros(len(rho_vec))    # for post-pre (Delta_t <0)\n",
    "\n",
    "# Calculate the synaptic change for every frequency value\n",
    "for ind,rho in enumerate(rho_vec):\n",
    "    # if Delta_t > 0 \n",
    "    pre_spike, post_spike, t_range = firstspike_secondspike(discretization_step, rho, num_pairs)\n",
    "    # \n",
    "    r1,o1,w = detectors_pairSTDP(t_range,pre_spike,post_spike,A_plus,A_minus,tau_plus,tau_minus,discretization_step,w0)\n",
    "    # Calculate the weight change as a function of the given frequency rho\n",
    "    DeltaW[ind]= w[-1]-w[0]\n",
    "    \n",
    "# Calculate the synaptic change for every frequency value\n",
    "for ind,rho in enumerate(rho_vec):\n",
    "    # if Delta_t < 0 \n",
    "    # The case with DeltaT < 0 is equivalent to switch the pre- and the postsynaptic spike trains.\n",
    "    post_spike, pre_spike, t_range = firstspike_secondspike(discretization_step, rho, num_pairs)\n",
    "    r1,o1,w = detectors_pairSTDP(t_range,pre_spike,post_spike,A_plus,A_minus,tau_plus,tau_minus,discretization_step,w0)\n",
    "    # Calculate the weight change as a function of the given frequency rho\n",
    "    DeltaW_rev[ind]= w[-1]-w[0]\n",
    "    \n",
    "# Plotting\n",
    "plot_over_frequency(1000*rho_vec,DeltaW,DeltaW_rev)"
   ]
  },
  {
   "cell_type": "markdown",
   "id": "51a5670c-ee2b-48b1-9594-f16f5c37ab96",
   "metadata": {},
   "source": [
    "\n",
    "**Thinking break:** \n",
    "\n",
    "Experiments show that potentiation increases when frequency increases. Why do you think this behavior can not be reproduced by pairwise STDP model? Indeed, in pair-based STDP models, as soon as the frequency increases, the pre-post pairs approach each other and generate an interaction between the postsynaptic spike of one pair and the presynaptic spike of the next pair. The effect of these post-pre pairs should increase with frequency and therefore depress the synapse, which is not what is seen in the experiments. "
   ]
  },
  {
   "cell_type": "markdown",
   "id": "b26b1a45-a160-415e-8c4a-76e392d3dea4",
   "metadata": {
    "tags": []
   },
   "source": [
    "#### Coding exercise 6: pairing protocol with the triplet STDP rule"
   ]
  },
  {
   "cell_type": "markdown",
   "id": "20d98c48-2a5d-42b7-b684-d6eedf3b3317",
   "metadata": {},
   "source": [
    "The pair-based STDP rule fails to reproduce frequency effects of the pairing protocol. This is mainly because of the fact that pair-based model are intrinsically symmetric, in the sense that they predict the same weight change for a pre-post pair followed by a post-pre pair with the same delay $\\Delta t$ as for the inverted order i.e., a post-pre pair followed by a pre-post pair (with the same delay $\\Delta$t)] (*Pfister and Gerstner, 2006*). However, there is no a priori reason to think that a pre-post-pre and a post-pre-post triplet should give the same result because they will activate different presynaptic and postsynaptic pathways.\n",
    "How to break the symmetry induced by pair-based model? That's right, with the triplet STDP rule! So, let's turn to the triplet STDP rule and let's see what happens.\n",
    "\n",
    "The following code is completely analogous to the one provided for the pair-based STDP rule. Your task here will be to run it and think about the results."
   ]
  },
  {
   "cell_type": "code",
   "execution_count": 13,
   "id": "40a371f0-cac8-46a5-98fb-e8166bcf3e50",
   "metadata": {},
   "outputs": [
    {
     "ename": "NameError",
     "evalue": "name 'spike_trains' is not defined",
     "output_type": "error",
     "traceback": [
      "\u001b[0;31m---------------------------------------------------------------------------\u001b[0m",
      "\u001b[0;31mNameError\u001b[0m                                 Traceback (most recent call last)",
      "\u001b[0;32m/tmp/ipykernel_577219/2452503537.py\u001b[0m in \u001b[0;36m<module>\u001b[0;34m\u001b[0m\n\u001b[1;32m     17\u001b[0m \u001b[0;32mfor\u001b[0m \u001b[0mind\u001b[0m\u001b[0;34m,\u001b[0m\u001b[0mrho\u001b[0m \u001b[0;32min\u001b[0m \u001b[0menumerate\u001b[0m\u001b[0;34m(\u001b[0m\u001b[0mrho_vec\u001b[0m\u001b[0;34m)\u001b[0m\u001b[0;34m:\u001b[0m\u001b[0;34m\u001b[0m\u001b[0;34m\u001b[0m\u001b[0m\n\u001b[1;32m     18\u001b[0m     \u001b[0;31m# if Delta_t > 0\u001b[0m\u001b[0;34m\u001b[0m\u001b[0;34m\u001b[0m\u001b[0;34m\u001b[0m\u001b[0m\n\u001b[0;32m---> 19\u001b[0;31m     \u001b[0mpre_spike\u001b[0m\u001b[0;34m,\u001b[0m \u001b[0mpost_spike\u001b[0m\u001b[0;34m,\u001b[0m \u001b[0mt_range\u001b[0m \u001b[0;34m=\u001b[0m \u001b[0mspike_trains\u001b[0m\u001b[0;34m(\u001b[0m\u001b[0mdiscretization_step\u001b[0m\u001b[0;34m,\u001b[0m \u001b[0mrho\u001b[0m\u001b[0;34m,\u001b[0m \u001b[0mnum_pairs\u001b[0m\u001b[0;34m)\u001b[0m\u001b[0;34m\u001b[0m\u001b[0;34m\u001b[0m\u001b[0m\n\u001b[0m\u001b[1;32m     20\u001b[0m     \u001b[0;31m# Calculate the weight change\u001b[0m\u001b[0;34m\u001b[0m\u001b[0;34m\u001b[0m\u001b[0;34m\u001b[0m\u001b[0m\n\u001b[1;32m     21\u001b[0m     \u001b[0mr1\u001b[0m\u001b[0;34m,\u001b[0m\u001b[0mo1\u001b[0m\u001b[0;34m,\u001b[0m\u001b[0mo2\u001b[0m\u001b[0;34m,\u001b[0m\u001b[0mw\u001b[0m \u001b[0;34m=\u001b[0m \u001b[0mdetectors_tripSTDP\u001b[0m\u001b[0;34m(\u001b[0m\u001b[0mt_range\u001b[0m\u001b[0;34m,\u001b[0m\u001b[0mpre_spike\u001b[0m\u001b[0;34m,\u001b[0m\u001b[0mpost_spike\u001b[0m\u001b[0;34m,\u001b[0m\u001b[0mA_plus\u001b[0m\u001b[0;34m,\u001b[0m\u001b[0mA_minus\u001b[0m\u001b[0;34m,\u001b[0m\u001b[0mtau_plus\u001b[0m\u001b[0;34m,\u001b[0m\u001b[0mtau_minus\u001b[0m\u001b[0;34m,\u001b[0m\u001b[0mtau_y\u001b[0m\u001b[0;34m,\u001b[0m\u001b[0mdiscretization_step\u001b[0m\u001b[0;34m,\u001b[0m\u001b[0mw0\u001b[0m\u001b[0;34m)\u001b[0m\u001b[0;34m\u001b[0m\u001b[0;34m\u001b[0m\u001b[0m\n",
      "\u001b[0;31mNameError\u001b[0m: name 'spike_trains' is not defined"
     ]
    }
   ],
   "source": [
    "# Initialization \n",
    "num_pairs = 60             # number of pre- and postsyn spike pairs \n",
    "rho_vec = np.array([0.1, 1, 10, 20, 25, 30, 35, 40, 50])        # frequency values [Hz]\n",
    "rho_vec = rho_vec/1000     # because time is given in ms\n",
    "discretization_step = 1e-1 # (ms)\n",
    "tau_plus = 16.8            # LTP time constant (ms)\n",
    "tau_minus = 33.7           # LTD time constant (ms)\n",
    "tau_y = 114             # Second LTP time constant (ms)\n",
    "A_plus = 6.5e-3             # LTP window amplitude\n",
    "A_minus = 7.1e-3            # LTD window amplitude\n",
    "w0 = 1                     # initial weight\n",
    "\n",
    "# initialize the synaptic change\n",
    "DeltaW = np.zeros(len(rho_vec))    \n",
    "DeltaW_rev = np.zeros(len(rho_vec))    # for post-pre (Delta_t <0)\n",
    "\n",
    "for ind,rho in enumerate(rho_vec):\n",
    "    # if Delta_t > 0 \n",
    "    pre_spike, post_spike, t_range = spike_trains(discretization_step, rho, num_pairs)\n",
    "    # Calculate the weight change\n",
    "    r1,o1,o2,w = detectors_tripSTDP(t_range,pre_spike,post_spike,A_plus,A_minus,tau_plus,tau_minus,tau_y,discretization_step,w0)\n",
    "    # Calculate the weight change as a function of the frequency\n",
    "    DeltaW[ind]= w[-1]-w[0]\n",
    "    \n",
    "for ind,rho in enumerate(rho_vec):\n",
    "    # if Delta_t < 0 \n",
    "    # The case with DeltaT < 0 is equivalent to switch the pre- and the postsynaptic spike trains.\n",
    "    post_spike, pre_spike, t_range = spike_trains(discretization_step, rho, num_pairs)\n",
    "    # Calculate the weight change\n",
    "    r1,o1,o2,w = detectors_tripSTDP(t_range,pre_spike,post_spike,A_plus,A_minus,tau_plus,tau_minus,tau_y,discretization_step,w0)\n",
    "    # Calculate the weight change as a function of the frequency\n",
    "    DeltaW_rev[ind]= w[-1]-w[0]\n",
    "    \n",
    "# Plotting\n",
    "plot_over_frequency(1000*rho_vec,DeltaW,DeltaW_rev)"
   ]
  },
  {
   "cell_type": "markdown",
   "id": "47d164c0-87e2-4aa0-ae57-244d9ebec8af",
   "metadata": {
    "tags": []
   },
   "source": [
    "## 6. Inhibitory plasticity\n",
    "\n",
    "The STDP rule used for inhibition is symmetric, positive for short time differences between pre and post spikes, and negative as the difference increase.\n",
    "\n",
    "$$\n",
    "\\Delta W = \\eta \\left( \\frac{1}{2\\tau}\\, \n",
    "\\exp\\left(-\\frac{\\Delta t}{\\tau}\\right) - \\alpha\\right) \\quad\n",
    "\\text{and} \\quad\n",
    "\\alpha = 2\\,\\rho\\,\\tau\n",
    "$$\n",
    "\n",
    "\n",
    "### Exercise 7 : implementing inhibitory STPD for a single pair\n",
    "\n",
    "First of all, let's implement the equation above. "
   ]
  },
  {
   "cell_type": "code",
   "execution_count": null,
   "id": "98e7156a-0dce-4134-be3b-adfaa6438f43",
   "metadata": {},
   "outputs": [],
   "source": [
    "def DeltaW_inhSTDP(eta, rho, tau):\n",
    "    \"\"\"    \n",
    "    Computes the change in weight for a single pre-post pair due to inhibitory STPD\n",
    "    \n",
    "    Parameters:\n",
    "    tau (1D numpy array) : differences between time post spike and time pre spike\n",
    "    eta (number) : learning rate \n",
    "    rho (number) : target rate \n",
    "    \n",
    "    Returns \n",
    "    DeltaW (1D numpy array) : the instantaneous weight change due to the inhibitory STDP rule\n",
    "                              for each time differenence in tau\n",
    "    \"\"\"\n",
    "    # Define the array with the time differences between post- and pre-synaptic spikes\n",
    "    Delta_t = np.linspace(-200, 200, 100)\n",
    "    # Initialize the STDP change\n",
    "    DeltaW = np.zeros(len(Delta_t))\n",
    "    # Calculate DeltaW\n",
    "    DeltaW = eta * ( (1/(2*tau)) * np.exp(-np.abs(Delta_t)/tau) - rho)\n",
    "    DeltaW = eta * ( np.exp(-np.abs(Delta_t)/tau) - rho)\n",
    "    DeltaW = 100*DeltaW/np.max(DeltaW)\n",
    "\n",
    "    return Delta_t, DeltaW\n",
    "interact(inhSTDP_plot, eta = fixed(1e-4), rho = fixed(0.1), tau = (5,70,0.1));"
   ]
  },
  {
   "cell_type": "markdown",
   "id": "91791613-1b52-4ffa-aa26-35e64796c745",
   "metadata": {},
   "source": [
    "**TO DO** Temporal evolution of the postsynaptic firing rate and the average synaptic weights of the inhibitory synapses"
   ]
  },
  {
   "cell_type": "markdown",
   "id": "234bbd00-167b-471f-8245-65380ad6df98",
   "metadata": {},
   "source": [
    " Total excitatory, inhibitory, and net (green) membrane currents before, during, and after inhibitory synaptic plasticity."
   ]
  },
  {
   "cell_type": "markdown",
   "id": "cda7fb52-b7d6-44b8-a3f5-0ff85ae5dcb4",
   "metadata": {},
   "source": [
    "### Online update with inhibitory STPD\n",
    "\n",
    "Like we did before, we will express the plasticity rule in terms of spike detectors. Let's consider a p**R**esynaptic detector $r(t)$ and a p**O**st-synaptic detector $o(t)$. Therefore:\n",
    "\n",
    "\\begin{align}\n",
    "\\frac{\\mathrm d\\,r}{\\mathrm d \\,t} &= -  \\frac{r}{\\tau} \\quad ; \\quad \n",
    "\\text{if presynaptic neuron fires at time $t^*$ :} \\quad r(t^*) \\leftarrow r+1 \\quad \\\\\n",
    "\\frac{\\mathrm d\\,o}{\\mathrm d \\,t} &= -  \\frac{o}{\\tau} \\quad ; \\quad \n",
    "\\text{if postsynaptic neuron fires at time $t^*$ :} \\quad o(t^*) \\leftarrow o+1\n",
    "\\end{align}\n",
    "\n",
    "If there are multiple presynaptic neurons $(1,2,\\ldots,N)$ we need to consider a separate trace for each of them. Therefore $(r_1(t),r_2(t),\\ldots r_N(t))$ ... but let's think worry about that later.\n",
    "\n",
    "The online inhibitory STDP update ( [Vogels et al, 2011](http://www.sciencemag.org/cgi/doi/10.1126/science.1211095) , supplement)  is defined as follows:\n",
    "\n",
    "\\begin{align} \n",
    "W \\leftarrow & W + \\eta \\; (o(t^*) - \\alpha) \\quad \n",
    "&& \\text{for *presynaptic* spike at time $t^*$}\\\\\n",
    "W \\leftarrow & W + \\eta \\; r(t^*) \\quad \n",
    "&& \\text{for *postsynaptic* spike at time $t^*$}\\\\\n",
    "\\end{align}\n",
    "\n",
    "Where $\\tau$ is the time constant associated to the plasticity window, $\\eta$ is the learning constant, and the parameter $\\alpha$ can be reparametrized as $\\alpha = 2\\;\\tau\\;\\rho$, where $\\rho$ here represents a \"target rate\".\n",
    "\n",
    "We will now implement this rule for a given pre and post spiketrain.\n",
    "\n",
    "#### **Exercise :** implement the rule for fixed spiketrains "
   ]
  },
  {
   "cell_type": "code",
   "execution_count": 33,
   "id": "962db16e-b873-488e-8abc-8b8c10aa72f4",
   "metadata": {},
   "outputs": [],
   "source": [
    "def inhibitory_stpd_weight_change(train_post,train_pre,tau,eta,rho,discretization_step=1E-4,wstart=0.0):\n",
    "    \"\"\"\n",
    "    Compute the weight change over time according to the inhibitory STDP, for given spike trains.\n",
    "    (imagine the weight change in an experiment where neurons are forced to fire)\n",
    "    \n",
    "    Parameters:\n",
    "    train_post (1D numpy array) : binary vector with spike train. Each bin has duration `discretization_step`\n",
    "    train_pre  (1D numpy array) : same but for presynaptic neuron\n",
    "    tau (number) : plasticity time constant\n",
    "    eta (nunber) : plasticity rate\n",
    "    rho (number) : plasticity target-rate\n",
    "    discretization_step = 1E-4 : size of single time bin, in seconds\n",
    "    wstart = 0.0  :  weight at t=0 . Note that here the weight does not influence the spiking dynamics in any way\n",
    "    \n",
    "    Return\n",
    "    times (1D numpy array) : -\n",
    "    w     (1D numpy array) : w[k] is the pre to post synaptic weight at time times[k]  \n",
    "    \"\"\"\n",
    "    \n",
    "    # compute total time, and generate vector of timesteps\n",
    "    Ntimes = len(train_post)\n",
    "    Tend = Ntimes * discretization_step \n",
    "    times = np.arange(0,Tend,discretization_step)\n",
    "    \n",
    "    # express parameter alpha as a function of tau and rho\n",
    "    alpha = 2*tau*rho\n",
    "    \n",
    "    # Initialize the synaptic weight\n",
    "    w = np.empty(Ntimes)\n",
    "    w[0] = wstart\n",
    "    # Initialize the pre- and postsynaptic event detectors\n",
    "    r = np.empty(Ntimes)     # presynaptic event detector\n",
    "    r[0] = 0.0\n",
    "    o = np.empty(Ntimes)      # postsynaptic event detector\n",
    "    o[0] = 0.0\n",
    "    \n",
    "    w_last = wstart # value of last weight computed \n",
    "    \n",
    "    for i in range(Ntimes):\n",
    "        w[i] = w_last\n",
    "        # >>> EXERCISE \n",
    "        # if there is a pre-synaptic spike  ... \n",
    "        # 1. update the pre-synaptic detector r[i]\n",
    "        # 2. updated the weight using the postsynaptic trace o[i]\n",
    "        \n",
    "        if train_pre[i]==1:     \n",
    "            r[i] += 1\n",
    "            w_last += eta*(o[i]-alpha)\n",
    "        # <<<\n",
    "        \n",
    "        # >>> EXERCISE\n",
    "        # if there is a post-synaptic spike ...\n",
    "        # 1. update the post-synaptic detector o[i]\n",
    "        # 2. updated the weight using the presynaptic trace r[i]\n",
    "        if train_post[i]==1:\n",
    "            o[i] += 1\n",
    "            w_last += eta*r[i] \n",
    "         \n",
    "        # Euler step to update traces\n",
    "        if i < Ntimes-1 :   # cannot update after last timestep\n",
    "            # >>> EXERCISE \n",
    "            # Apply Euler's method to the detector equations\n",
    "            r[i+1] = r[i] - discretization_step * r[i]/tau\n",
    "            o[i+1] = o[i] - discretization_step * o[i]/tau\n",
    "            # <<<\n",
    "    return times,w"
   ]
  },
  {
   "cell_type": "markdown",
   "id": "890d970d-bded-494c-93de-908c6f1f715e",
   "metadata": {},
   "source": [
    "The function below, already given, generates two spike trains with fixed frequencies and a pre-post time difference, as has been done before. This time, however, we apply the inhibitory STDP rule to it. In essence, this simulates the weight change in an hypothetical experiment with a pre-post spiking paradigm.\n"
   ]
  },
  {
   "cell_type": "code",
   "execution_count": 34,
   "id": "241886d3-e952-487a-9c8b-766915a4912f",
   "metadata": {},
   "outputs": [],
   "source": [
    "def inhibitory_stdp_pairing(DeltaT,rate_protocol,duration_protocol,tau,eta,rho,discretization_step=1E-4):\n",
    "    \n",
    "    # generate spike trains with pre-post training protocol\n",
    "    times,train1,train2 = firstspike_secondspike_protocol(rate_protocol,duration_protocol,DeltaT,\n",
    "                                                          discretization_step = discretization_step)\n",
    "    \n",
    "    # compute weight change\n",
    "    timesw, w = inhibitory_stpd_weight_change(train2,train1,tau,eta,rho, \n",
    "                                              discretization_step=discretization_step,wstart=0.0)           \n",
    "                   \n",
    "    # average change of weight per second                                           \n",
    "    w_mean_change = w[-1]/times[-1]\n",
    "    return timesw,w, w_mean_change\n",
    "                                              \n",
    "    "
   ]
  },
  {
   "cell_type": "code",
   "execution_count": 50,
   "id": "d40bbcf3-a166-45a0-adcc-0de2ba6bfa83",
   "metadata": {},
   "outputs": [
    {
     "data": {
      "application/vnd.jupyter.widget-view+json": {
       "model_id": "cf7cb84b651049269eb22810a559e846",
       "version_major": 2,
       "version_minor": 0
      },
      "text/plain": [
       "interactive(children=(FloatSlider(value=1.0, description='rho', max=10.0, min=0.1), FloatSlider(value=0.02, de…"
      ]
     },
     "metadata": {},
     "output_type": "display_data"
    }
   ],
   "source": [
    "interact_manual(inhibitory_stdp_interactive_plot,eta =fixed(1), rho = (0.1,10,0.1) , tau = (5E-3,100E-3,1E-3));"
   ]
  },
  {
   "cell_type": "code",
   "execution_count": 35,
   "id": "94a0c9e0-a44a-4991-ad39-bd1d0d09815a",
   "metadata": {},
   "outputs": [
    {
     "data": {
      "text/plain": [
       "(array([0.0000e+00, 1.0000e-04, 2.0000e-04, ..., 4.9997e+00, 4.9998e+00,\n",
       "        4.9999e+00]),\n",
       " array([ 0.        , -0.012     , -0.012     , ...,  0.04857704,\n",
       "         0.04857704,  0.04857704]),\n",
       " 0.009715603041875399)"
      ]
     },
     "execution_count": 35,
     "metadata": {},
     "output_type": "execute_result"
    }
   ],
   "source": [
    "inhibitory_stdp_pairing(0.01,0.1,5.,20E-3,0.1,3.0)"
   ]
  },
  {
   "cell_type": "code",
   "execution_count": 43,
   "id": "2c87e5ef-d30d-427f-a645-971b5ec82202",
   "metadata": {},
   "outputs": [],
   "source": [
    "x = np.arange(-0.1,0.1,1E-3)\n",
    "y = np.fromiter(map(lambda _x : inhibitory_stdp_pairing(_x,0.1,5.,20E-3,0.1,3.0)[2] , x),dtype=np.float64)"
   ]
  },
  {
   "cell_type": "code",
   "execution_count": 44,
   "id": "13c99dbb-7a7d-4b80-9580-2395e59165ba",
   "metadata": {},
   "outputs": [
    {
     "data": {
      "text/plain": [
       "[<matplotlib.lines.Line2D at 0x7fbe33f41880>]"
      ]
     },
     "execution_count": 44,
     "metadata": {},
     "output_type": "execute_result"
    },
    {
     "data": {
      "image/png": "[encoded data removed]",
      "text/plain": [
       "<Figure size 576x432 with 1 Axes>"
      ]
     },
     "metadata": {
      "needs_background": "light"
     },
     "output_type": "display_data"
    }
   ],
   "source": [
    "plt.plot(x,y)"
   ]
  },
  {
   "cell_type": "code",
   "execution_count": null,
   "id": "b31f2edf-58bb-42bb-9ecc-c46c8b6a8780",
   "metadata": {},
   "outputs": [],
   "source": [
    "dt = 0.1\n",
    "duration=1000 # duration of a small interval in ms  \n",
    "num_small_intervals=60\n",
    "range_t=np.arange(0,num_small_intervals*duration,dt)            # the whole time interval \n",
    "rate = 60\n",
    "n = 100\n",
    "exc = int(0.8 * n)\n",
    "tauExc = 5\n",
    "tauInh = 10\n",
    "tauPlasticity = 20\n",
    "gBarExc = 0.14\n",
    "gBarInh = 0.35\n",
    "VRest=-60\n",
    "Vth=-50\n",
    "taumem=20\n",
    "EGABA=-80\n",
    "eta = 0.01\n",
    "alpha = 0.25 * eta\n",
    "tRef = 5\n",
    "\n",
    "W=np.zeros(n)\n",
    "np.random.seed(7)\n",
    "W[0:exc] =  (1.1 + np.random.random(exc))\n",
    "W[exc:n] = 0.1\n",
    "\n",
    "input_spiketrains = np.zeros((n, len(range_t)))\n",
    "for s in range(n):\n",
    "    input_spiketrains[s,:] = Poisson_spike_train(dt, range_t, rate, s)\n",
    "post_spike_count = 0\n",
    "post_rate = 0\n",
    "post_spike = np.zeros(len(range_t))\n",
    "\n",
    "gExc = 0\n",
    "gInh = 0\n",
    "gLeak = 1\n",
    "r1 = np.zeros(n)\n",
    "o1 = 0\n",
    "save_inh_weights = np.zeros(len(range_t))\n",
    "tolos = 0 \n",
    "\n",
    "V = np.zeros(len(range_t))\n",
    "Exkeep= np.zeros(len(range_t))\n",
    "Inkeep = np.zeros(len(range_t))\n",
    "V[0]=VRest\n",
    "\n",
    "for ind,t in enumerate(range_t):\n",
    "    if ind == 0:\n",
    "        continue\n",
    "    gExc = gExc - dt/tauExc * gExc \n",
    "    gInh = gInh - dt/tauInh * gInh\n",
    "\n",
    "    for s in range(exc,n):\n",
    "        r1[s] = r1[s] - dt/tauPlasticity * r1[s]\n",
    "    o1 = o1 - dt/tauPlasticity * o1\n",
    "\n",
    "    for s in range(exc):\n",
    "        if input_spiketrains[s, ind] == 1:\n",
    "            gExc += (gBarExc * W[s])\n",
    "    for s in range(exc,n):\n",
    "        if input_spiketrains[s, ind] == 1:\n",
    "            gInh = gInh + (gBarInh * W[s])    \n",
    "            r1[s] += eta                    \n",
    "            W[s] = W[s] + o1 - alpha                # plasticity\n",
    "            if W[s] < 0:\n",
    "                W[s] = 0 \n",
    "    # postsynaptic neuron \n",
    "    if ((t - tolos) < tRef):\n",
    "        V[ind] = VRest\n",
    "    else:\n",
    "        gTot = gLeak + gExc + gInh\n",
    "        tauEff = taumem/gTot  \n",
    "        VInf = ((gLeak*VRest + gInh*EGABA)/gTot)\n",
    "        V[ind] = VInf + (V[ind-1] - VInf)*np.exp(-dt/tauEff)\n",
    "    if V[ind] >= Vth:\n",
    "        tolos = t\n",
    "        V[ind] = 0\n",
    "        V[ind-1] = VRest\n",
    "        o1 += eta\n",
    "        post_spike_count += 1\n",
    "        post_spike[ind] = 1\n",
    "        for s in range(exc,n):\n",
    "            W[s] += r1[s]   # plasticity\n",
    "    Exkeep[ind] = gExc * V[ind]\n",
    "    Inkeep[ind] = gInh * (V[ind] - EGABA)\n",
    "    save_inh_weights[ind] = np.mean(W[exc:n])\n",
    "    \n",
    "inh_analysis_plot(num_small_intervals,post_spike,save_inh_weights, duration,Exkeep,Inkeep)"
   ]
  }
 ],
 "metadata": {
  "kernelspec": {
   "display_name": "Python 3 (ipykernel)",
   "language": "python",
   "name": "python3"
  },
  "language_info": {
   "codemirror_mode": {
    "name": "ipython",
    "version": 3
   },
   "file_extension": ".py",
   "mimetype": "text/x-python",
   "name": "python",
   "nbconvert_exporter": "python",
   "pygments_lexer": "ipython3",
   "version": "3.8.12"
  },
  "toc-autonumbering": false
 },
 "nbformat": 4,
 "nbformat_minor": 5
}
