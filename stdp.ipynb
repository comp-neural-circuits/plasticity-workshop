{
 "cells": [
  {
   "cell_type": "markdown",
   "id": "59190db3-f246-414b-9aae-6b03368bdc0a",
   "metadata": {},
   "source": [
    "[![Open In Colab](https://colab.research.google.com/assets/colab-badge.svg)](https://githubtocolab.com/comp-neural-circuits/plasticity-workshop/blob/dev/stdp.ipynb)"
   ]
  },
  {
   "cell_type": "markdown",
   "id": "0415e07a-01d8-457b-a1d3-c9d6d2cbb81f",
   "metadata": {
    "tags": []
   },
   "source": [
    "# Spike timing dependent plasticity (STDP) rules"
   ]
  },
  {
   "cell_type": "markdown",
   "id": "270f6f80-a98f-4345-867b-2a65cb8a8081",
   "metadata": {
    "jp-MarkdownHeadingCollapsed": true,
    "tags": []
   },
   "source": [
    "In this tutorial you will learn:\n",
    "- how the temporal order of pre- and postsynaptic spikes influences the change in the synaptic connection.\n",
    "- to visualize..."
   ]
  },
  {
   "cell_type": "markdown",
   "id": "eec48871-ffcd-491a-9013-c70c394884dc",
   "metadata": {
    "tags": []
   },
   "source": [
    "## Initialization"
   ]
  },
  {
   "cell_type": "code",
   "execution_count": null,
   "id": "865458e0-a6f4-41f1-a70d-9191ca423872",
   "metadata": {},
   "outputs": [],
   "source": [
    "!pip install numpy scipy matplotlib ipywidgets scikit-learn --quiet\n",
    "import numpy as np\n",
    "import scipy.linalg as lin\n",
    "from numpy.random import default_rng\n",
    "rng = default_rng()\n",
    "import matplotlib.pyplot as plt\n",
    "from ipywidgets import interact, interactive, fixed, interact_manual\n",
    "import ipywidgets as widgets\n",
    "plt.style.use(\"https://github.com/comp-neural-circuits/plasticity-workshop/raw/dev/plots_style.txt\")"
   ]
  },
  {
   "cell_type": "markdown",
   "id": "294d0e24-a29d-4ade-b3ac-77191e34bdb7",
   "metadata": {
    "tags": []
   },
   "source": [
    "## 1. The pairwise STDP rule"
   ]
  },
  {
   "cell_type": "markdown",
   "id": "61280bd6-c2a8-4461-90ec-d7c046e236b9",
   "metadata": {
    "tags": []
   },
   "source": [
    "#### Coding Exercise 1: the pairwise STDP function"
   ]
  },
  {
   "cell_type": "markdown",
   "id": "7c11ac1f-6a9d-45dc-982e-425a13f9187f",
   "metadata": {},
   "source": [
    "Let's begin by visualizing the **pairwise spike timing dependent plasticity (STDP) rule**. \n",
    "Recall that, under this rule, the synaptic weight increases (*long-term potentiation*) if a postsynaptic spike follows a presynaptic spike within a short time window, whereas the synaptic weight decreases (*long-term depression*) if the opposite occurs: "
   ]
  },
  {
   "cell_type": "markdown",
   "id": "5768f6bd-5561-47a0-837c-079cf158e299",
   "metadata": {},
   "source": [
    "$$\n",
    "\\Delta W (\\Delta t) = \\begin{cases}\n",
    "A_+e^{-\\Delta t/\\tau_+} & \\text{if } \\Delta t\\geq 0 \\\\\n",
    "-A_-e^{\\Delta t/\\tau_-} & \\text{if } \\Delta t<0\n",
    "\\end{cases}\n",
    "$$\n",
    "\n",
    "where $A_+, A_-$ are positive constants. "
   ]
  },
  {
   "cell_type": "markdown",
   "id": "6d09c6a3-bffb-4bf2-9feb-357385269c43",
   "metadata": {},
   "source": [
    "In the following exercise, you will fill a function script for the pairwise STDP rule.\n",
    "Consider the time difference $\\Delta t = t_{post} - t_{pre}$ between a post- and a presynaptic spike and compute the weight change $\\Delta W$ as a function of $\\Delta t$."
   ]
  },
  {
   "cell_type": "code",
   "execution_count": null,
   "id": "c5366474-8d07-4819-8070-a23bc04edda6",
   "metadata": {},
   "outputs": [],
   "source": [
    "def DeltaW_pairSTDP(A_plus, A_minus, tau_plus, tau_minus):\n",
    "    \"\"\"    \n",
    "    Args: \n",
    "    A_plus : maximum amount of potentiation (LTP)\n",
    "    A_minus: maximum amount of depression (LTD)\n",
    "    tau_plus: LTP time constant\n",
    "    tau_minus: LTD time constant \n",
    "    \n",
    "    Returns the instantaneous change in weights DeltaW due to the pairwise STDP rule\n",
    "    \"\"\"\n",
    "    \n",
    "    # Define the array with the time differences between post- and pre-synaptic spikes\n",
    "    Delta_t = np.linspace(-5 * tau_minus, 5 * tau_plus, 50)\n",
    "    # Initialize the STDP change\n",
    "    DeltaW = np.zeros(len(Delta_t))\n",
    "    # Calculate DeltaW for LTP\n",
    "    DeltaW[Delta_t > 0] = A_plus * np.exp(-Delta_t[Delta_t > 0] / tau_plus)\n",
    "    # Calculate DeltaW for LTD\n",
    "    DeltaW[Delta_t <= 0] = -A_minus * np.exp(Delta_t[Delta_t <= 0] / tau_minus)\n",
    "\n",
    "    return DeltaW"
   ]
  },
  {
   "cell_type": "markdown",
   "id": "1c7ffc0c-fcd5-434e-968a-b49819923684",
   "metadata": {},
   "source": [
    "##### Visualization of the pairwise STDP function"
   ]
  },
  {
   "cell_type": "code",
   "execution_count": null,
   "id": "6183c705-d74d-4a99-bca1-df152d4614a7",
   "metadata": {},
   "outputs": [],
   "source": [
    "def pairSTDP_plot(A_plus, A_minus, tau_plus, tau_minus):\n",
    "    '''\n",
    "    Args:\n",
    "    A_plus : maximum amount of potentiation (LTP)\n",
    "    A_minus: maximum amount of depression (LTD)\n",
    "    tau_plus: LTP time constant\n",
    "    tau_minus: LTD time constant \n",
    "    \n",
    "    Generates a plot for the pairwise STDP rule\n",
    "    '''\n",
    "    # Define the array with the time differences between post- and pre-synaptic spikes\n",
    "    Delta_t = np.linspace(-200, 200, 50)\n",
    "    \n",
    "    # Calculate the synaptic change\n",
    "    DeltaW = DeltaW_pairSTDP(A_plus, A_minus, tau_plus, tau_minus)\n",
    "    DeltaW = 100*DeltaW/np.max(DeltaW)\n",
    "    \n",
    "    # Plot\n",
    "    plt.figure(figsize=(8,7))\n",
    "    plt.plot([Delta_t[0], Delta_t[-1]], [0, 0], 'k', linestyle=':')\n",
    "    plt.plot([0, 0], [-100, 100], 'k', linestyle=':')\n",
    "\n",
    "    plt.plot(Delta_t[Delta_t <= 0], DeltaW[Delta_t <= 0], 'r')\n",
    "    plt.plot(Delta_t[Delta_t > 0], DeltaW[Delta_t > 0], 'b')\n",
    "\n",
    "    plt.xlabel(r'$\\Delta t=$ t$_{\\mathrm{post}}$ - t$_{\\mathrm{pre}}$ (ms)')\n",
    "    plt.ylabel(r'$\\Delta $W (%)')\n",
    "    plt.title('The Pairwise STDP rule', fontsize=18, fontweight='bold')\n",
    "    plt.show()"
   ]
  },
  {
   "cell_type": "code",
   "execution_count": null,
   "id": "e9bd2d5c-07de-4a82-af78-5ceb724c54fc",
   "metadata": {},
   "outputs": [],
   "source": [
    "# Define the STDP rule parameters\n",
    "A_plus = 10    # maximum amount of potentiation (LTP)\n",
    "A_minus = 10   # maximum amount of potentiation (LTD)\n",
    "tau_plus = 20  # LTP time constant [ms]\n",
    "tau_minus = 20 # LTD time constant [ms]\n",
    "\n",
    "# Plot the pairwise STDP function \n",
    "pairSTDP_plot(A_plus, A_minus, tau_plus, tau_minus)"
   ]
  },
  {
   "cell_type": "markdown",
   "id": "7b971855-8e4e-4c76-9ee7-f37bfdb322e1",
   "metadata": {
    "tags": []
   },
   "source": [
    "##### Playing with the pairwise STDP function"
   ]
  },
  {
   "cell_type": "code",
   "execution_count": null,
   "id": "7afd5c32-5d77-4e11-a598-6655b2d35cfa",
   "metadata": {},
   "outputs": [],
   "source": [
    "interact(pairSTDP_plot, A_plus = (0.1,2,0.01), A_minus = (0.1,2,0.01), tau_plus = (10,70,0.1), tau_minus  = (10,70,0.1));"
   ]
  },
  {
   "cell_type": "markdown",
   "id": "dba8ffb6-f961-4bbc-93a3-87f6a0336a45",
   "metadata": {
    "tags": []
   },
   "source": [
    "## 2. Pre- and postsynaptic event detectors and spike trains "
   ]
  },
  {
   "cell_type": "markdown",
   "id": "aed16f11-09f4-4c5a-826d-7c2ca7ff3d9b",
   "metadata": {
    "tags": []
   },
   "source": [
    "##### Poisson spike train \n",
    "The next function generates a train of spikes drawn from the Poisson distribution."
   ]
  },
  {
   "cell_type": "code",
   "execution_count": null,
   "id": "b9ebc4d8-6e4a-4b77-9c57-b6ef827ef84b",
   "metadata": {},
   "outputs": [],
   "source": [
    "def Poisson_spike_train(discretization_step, t_range, rate, myseed=False):\n",
    "    \"\"\"\n",
    "    Generates a Poisson train\n",
    "    Args:\n",
    "    discretization_step    : discretization time step\n",
    "    t_range                : time interval\n",
    "    rate                   : noise amplitute [Hz]\n",
    "    myseed                 : random seed. int or boolean\n",
    "\n",
    "    Returns:\n",
    "    poisson_train : spike train of binary values (1 if spike, 0 otherwise)\n",
    "    \"\"\"\n",
    "    # set random seed\n",
    "    if myseed:\n",
    "        np.random.seed(seed=myseed)\n",
    "    else:\n",
    "        np.random.seed()\n",
    "\n",
    "    # generate an uniformly distributed random variable\n",
    "    unirnd = np.random.rand(len(t_range))\n",
    "\n",
    "    # generate Poisson train\n",
    "    poisson_train = 1. * (unirnd < rate * (discretization_step/1000.))\n",
    "\n",
    "    return poisson_train"
   ]
  },
  {
   "cell_type": "markdown",
   "id": "4723b086-755a-41ce-86e8-371f390c2806",
   "metadata": {},
   "source": [
    "#### Coding exercise 2: keeping track"
   ]
  },
  {
   "cell_type": "markdown",
   "id": "52a4c65b-5571-4c2e-9efb-ce3178cf5a9e",
   "metadata": {},
   "source": [
    "....Explain...."
   ]
  },
  {
   "cell_type": "code",
   "execution_count": null,
   "id": "6bdc9308-69e9-4ca1-8fa1-3535b06594f1",
   "metadata": {},
   "outputs": [],
   "source": [
    "# Define the STDP rule parameters\n",
    "A_plus = 10       # maximum amount of potentiation (LTP)\n",
    "A_minus = 10      # maximum amount of potentiation (LTD)\n",
    "tau_plus = 20  # LTP time constant [s]\n",
    "tau_minus = 20 # LTD time constant [s]\n",
    "discretization_step=0.1 # discretization time step\n",
    "t_range=np.arange(0,1000,discretization_step)     # time interval\n",
    "\n",
    "# Generate a presynaptic spike train\n",
    "pre_spike = Poisson_spike_train(discretization_step, t_range, rate=15, myseed=7)\n",
    "# Generate a postsynaptic spike train\n",
    "post_spike = Poisson_spike_train(discretization_step, t_range, rate=15, myseed=1)\n",
    "\n",
    "\n",
    "# Initialize the pre- and postsynaptic event detectors\n",
    "r1 = np.zeros(len(t_range))        # presynaptic event detector\n",
    "o1 = np.zeros(len(t_range))        # postsynaptic event detector\n",
    "\n",
    "# Initialize the synaptic weight\n",
    "w = np.ones(len(t_range))\n",
    "\n",
    "# Keeping track of the detectors\n",
    "for i in range(len(t_range)-1):\n",
    "    if i==0:\n",
    "        continue\n",
    "    w[i]=w[i-1]\n",
    "    \n",
    "    if pre_spike[i]==1:     # there is a pre-synaptic spike\n",
    "        r1[i] += 1\n",
    "        if i==0:\n",
    "            continue\n",
    "        w[i] = w[i-1] - o1[i]*A_minus\n",
    "            \n",
    "    if post_spike[i]==1:    # there is a post-synaptic spike\n",
    "        o1[i] += 1\n",
    "        if i==0:\n",
    "            continue\n",
    "        w[i] = w[i-1] + r1[i]*A_plus\n",
    "    \n",
    "        \n",
    "    # Apply Euler's method to the detector equations\n",
    "    r1[i+1] = r1[i] - discretization_step * r1[i]/tau_plus\n",
    "    o1[i+1] = o1[i] - discretization_step * o1[i]/tau_minus\n",
    "w[-1]=w[-2]"
   ]
  },
  {
   "cell_type": "code",
   "execution_count": null,
   "id": "0a4a25a7-9749-4561-8e8c-223e54bd886e",
   "metadata": {},
   "outputs": [],
   "source": [
    "fig, (ax1, ax2, ax3, ax4, ax5) = plt.subplots(5,1, figsize=(8,12)); #gridspec_kw={'height_ratios': [3, 1]})\n",
    "ax1.plot(t_range,pre_spike);\n",
    "ax1.set_xlabel(\"time (s)\", fontsize=12);\n",
    "ax1.set_ylabel(\"spike train\", fontsize=12);\n",
    "ax1.set_title(\"Presynaptic spike train\", fontsize=14);\n",
    "ax2.plot(t_range,r1,color=\"black\");\n",
    "ax2.set_xlabel(\"time (s) \", fontsize=12);\n",
    "ax2.set_ylabel(\"$r_1(t)$\", fontsize=12);\n",
    "ax2.set_title(\"Presynaptic detector trace\", fontsize=14);\n",
    "ax3.plot(t_range,post_spike);\n",
    "ax3.set_xlabel(\"time (s) \", fontsize=12);\n",
    "ax3.set_ylabel('spike train', fontsize=12);\n",
    "ax3.set_title(\"Postsynaptic spike train\", fontsize=14);\n",
    "ax4.plot(t_range,o1,color=\"black\");\n",
    "ax4.set_xlabel(\"time (s) \", fontsize=12);\n",
    "ax4.set_ylabel('$o_1(t)$', fontsize=12);\n",
    "ax4.set_title(\"Postsynaptic detector trace\", fontsize=14);\n",
    "ax5.plot(t_range,w);\n",
    "ax5.set_xlabel(\"time (s) \", fontsize=12);\n",
    "ax5.set_ylabel('$W(t)$', fontsize=14);\n",
    "ax5.set_title(\"Synaptic weight\", fontsize=12);"
   ]
  },
  {
   "cell_type": "markdown",
   "id": "4d96c127-01dd-47eb-a3a4-6592c4299fd7",
   "metadata": {
    "tags": []
   },
   "source": [
    "## 3. The triplet STDP rule"
   ]
  },
  {
   "cell_type": "markdown",
   "id": "e3b4472f-92b1-4101-a606-f0c171dd6a13",
   "metadata": {},
   "source": [
    "Let's now turn to the **triplet spike timing dependent plasticity (STDP) rule**, which uses sets of three spikes to induce *long term potentiation*, and pairs of spikes to induce *long term depression*.\n",
    "\n",
    "Recall that, under this rule, potentiation depends on the interval $\\Delta t_1$ between the pre- and postsynaptic spikes, and on the timing $\\Delta t_2$ of the previous postsynaptic spike, whereas *long-term depression* depends only on $\\Delta t_1$."
   ]
  },
  {
   "cell_type": "markdown",
   "id": "ba3cb444-93e8-45b7-8f88-8b830cfdc4d2",
   "metadata": {},
   "source": [
    "$$\n",
    "\\Delta W (\\Delta t) = \\begin{cases}\n",
    "A_+e^{-\\Delta t_1/\\tau_+}e^{-\\Delta t_2/\\tau_y} & \\text{if } \\Delta t_1\\geq 0, \\Delta t_2\\geq 0 \\\\\n",
    "-A_-e^{\\Delta t/\\tau_-} & \\text{if } \\Delta t_1<0\n",
    "\\end{cases}\n",
    "$$\n",
    "\n",
    "where $\\Delta t_1 = t_{post} - t_{pre}$ denotes the time difference between a post- and a presynaptic spike and $\\Delta t_2 = t_{post} - t'_{post}$ denotes the time difference between two postpresynaptic spikes."
   ]
  },
  {
   "cell_type": "markdown",
   "id": "68b460c3-4a75-47f5-ba0f-72875e2a2260",
   "metadata": {},
   "source": [
    "In the following exercise, you will fill a function script for the triplet STDP rule.\n",
    "Consider the time difference $\\Delta t_1$ between a post- and a presynaptic spike and compute the weight change $\\Delta W$ as a function of $\\Delta t_1$ for a given value of $\\Delta t_2$."
   ]
  },
  {
   "cell_type": "markdown",
   "id": "17f8603c-ee73-4b80-bf2f-1da90b9be88b",
   "metadata": {},
   "source": [
    "#### Coding Exercise 3: the triplet STDP function"
   ]
  },
  {
   "cell_type": "code",
   "execution_count": null,
   "id": "87efb305-c1b3-481f-bfd5-8e8d2a558282",
   "metadata": {},
   "outputs": [],
   "source": [
    "def DeltaW_tripSTDP(A_plus, A_minus, tau_plus, tau_minus, tau_y, Delta_t2):\n",
    "    \"\"\"\n",
    "    Calculates the instantaneous change in weights dW due to the STDP pairwise rule\n",
    "\n",
    "    A_plus : maximum amount of potentiation (LTP)\n",
    "    A_minus: maximum amount of depression (LTD)\n",
    "    tau_plus: LTP time constant\n",
    "    tau_minus: LTD time constant \n",
    "    Delta_t1 : array with the time differences between the first postsynaptic spike and the presynaptic spike\n",
    "    Delta_t2 : array with the time differences between the postsynaptic spikes \n",
    "    \n",
    "    Returns the instantaneous change in weights DeltaW due to the triplet STDP rule\n",
    "    \"\"\"\n",
    "    # Define the array with the time differences between the first postsynaptic spike and the presynaptic spike\n",
    "    Delta_t1 = np.linspace(-5 * tau_minus, 5 * tau_plus, 50)\n",
    "    # Initialize the STDP change\n",
    "    DeltaW = np.zeros(len(Delta_t1))\n",
    "    # Calculate dW for LTP\n",
    "    DeltaW[Delta_t1 > 0] = A_plus * np.exp(-Delta_t1[Delta_t1 > 0] / tau_plus) * np.exp(-Delta_t2 / tau_y)\n",
    "    # Calculate dW for LTD\n",
    "    DeltaW[Delta_t1 <= 0] = -A_minus * np.exp(Delta_t1[Delta_t1 <= 0] / tau_minus)\n",
    "\n",
    "    return DeltaW"
   ]
  },
  {
   "cell_type": "markdown",
   "id": "2f3485ad-1beb-4a8a-a347-b16b85c1a0bc",
   "metadata": {},
   "source": [
    "##### Visualization of the triplet STDP function"
   ]
  },
  {
   "cell_type": "code",
   "execution_count": null,
   "id": "00e160dd-b541-4d89-9933-50137b932e7b",
   "metadata": {},
   "outputs": [],
   "source": [
    "def tripletSTDP_plot(A_plus, A_minus, tau_plus, tau_minus, tau_y, Delta_t2):\n",
    "    '''\n",
    "    Generates a plot for the triplet STDP rule\n",
    "\n",
    "    A_plus : maximum amount of potentiation (LTP)\n",
    "    A_minus: maximum amount of depression (LTD)\n",
    "    tau_plus: LTP time constant\n",
    "    tau_minus: LTD time constant \n",
    "    tau_y: second LTP time constant\n",
    "    Delta_t2 : array with the time differences between the postsynaptic spikes  \n",
    "    \n",
    "    Generates a plot for the triplet STDP rule\n",
    "    '''\n",
    "    # Define the array with the time differences between the first postsynaptic spike and the presynaptic spike\n",
    "    Delta_t1 = np.linspace(-5 * tau_minus, 5 * tau_plus, 50)\n",
    "\n",
    "    # Calculate the synaptic change\n",
    "    DeltaW = DeltaW_tripSTDP(A_plus, A_minus, tau_plus, tau_minus, tau_y, Delta_t2)\n",
    "    DeltaW = 100*DeltaW/np.max(np.abs(DeltaW))\n",
    "    \n",
    "    plt.figure(figsize=(8,7))\n",
    "    plt.plot([Delta_t1[0], Delta_t1[-1]], [0, 0], 'k', linestyle=':')\n",
    "    plt.plot([0, 0], [-100, 100], 'k', linestyle=':')\n",
    "\n",
    "    plt.plot(Delta_t1[Delta_t1 <= 0], DeltaW[Delta_t1 <= 0], 'r')\n",
    "    plt.plot(Delta_t1[Delta_t1 > 0], DeltaW[Delta_t1 > 0], 'b')\n",
    "\n",
    "    plt.xlabel(r'$\\Delta t=$ t$_{\\mathrm{post}}$ - t$_{\\mathrm{pre}}$ (ms)')\n",
    "    plt.ylabel(r'$\\Delta $W (%)')\n",
    "    plt.title('The triplet STDP rule', fontsize=18, fontweight='bold')\n",
    "    plt.show()"
   ]
  },
  {
   "cell_type": "code",
   "execution_count": null,
   "id": "b83054e5-feff-4cf6-9b7b-48f5e132c737",
   "metadata": {},
   "outputs": [],
   "source": [
    "# define the STDP rule parameters\n",
    "A_plus = 1\n",
    "A_minus = 1\n",
    "tau_plus = 20  #[ms]\n",
    "tau_minus = 20 #[ms]\n",
    "tau_y = 114 #[ms]\n",
    "Delta_t2 = 10\n",
    "\n",
    "DeltaW = DeltaW_tripSTDP(A_plus, A_minus, tau_plus, tau_minus, tau_y, Delta_t2)\n",
    "tripletSTDP_plot(A_plus, A_minus, tau_plus, tau_minus, tau_y, Delta_t2)"
   ]
  },
  {
   "cell_type": "markdown",
   "id": "0c7cccd6-8815-4c9b-9f4d-b32d6e194c1c",
   "metadata": {
    "jp-MarkdownHeadingCollapsed": true,
    "tags": []
   },
   "source": [
    "##### Playing with the triplet STDP function"
   ]
  },
  {
   "cell_type": "markdown",
   "id": "0bcb94ed-00f7-4785-8c1f-14e927b679b5",
   "metadata": {},
   "source": [
    "To do: interactive plot with varying Delta t2 only"
   ]
  },
  {
   "cell_type": "code",
   "execution_count": null,
   "id": "773ca23b-9711-4526-b4c7-6dc3e3e0791f",
   "metadata": {},
   "outputs": [],
   "source": [
    "interact(tripletSTDP_plot, A_plus=fixed(1), A_minus=fixed(1), tau_plus= fixed(20), tau_minus= fixed(20), tau_y= fixed(114), Delta_t2 = (0.1,100,0.1));"
   ]
  },
  {
   "cell_type": "markdown",
   "id": "52942849-a506-427a-adac-1f1985e8df7f",
   "metadata": {
    "tags": []
   },
   "source": [
    "## 4. Detector traces and spike trains \n",
    "study only the case of 1 pre- and 1 postsynaptic neuron (Poisson neurons)."
   ]
  },
  {
   "cell_type": "markdown",
   "id": "0ec22a7b-884a-4c06-924b-71e6c73ddbb4",
   "metadata": {},
   "source": [
    "#### Coding exercise 4: keeping track"
   ]
  },
  {
   "cell_type": "code",
   "execution_count": null,
   "id": "eb362974-b576-44e6-bc73-bd8c31141ef1",
   "metadata": {},
   "outputs": [],
   "source": [
    "tau_plus = 20  #[ms]\n",
    "tau_minus = 20 #[ms]\n",
    "tau_y = 114 #[ms]\n",
    "\n",
    "discretization_step=0.1\n",
    "t_range=np.arange(0,1000,discretization_step)\n",
    "pre_spike = Poisson_spike_train(discretization_step, t_range, rate=15, myseed=7)\n",
    "post_spike = Poisson_spike_train(discretization_step, t_range, rate=15, myseed=1)\n",
    "\n",
    "#pre_spike = np.reshape(pre_spike, len(t_range))\n",
    "\n",
    "r1=np.zeros(len(t_range))        # presynaptic event detector\n",
    "o1=np.zeros(len(t_range))        # postsynaptic event detector\n",
    "o2=np.zeros(len(t_range))        # postsynaptic event detector\n",
    "\n",
    "# Initialize the synaptic weight\n",
    "w = np.ones(len(t_range))\n",
    "\n",
    "for i in range(len(t_range)-1):\n",
    "    if i==0:\n",
    "        continue\n",
    "    w[i]=w[i-1]\n",
    "    \n",
    "    if pre_spike[i]==1:     # there is a pre-synaptic spike\n",
    "        r1[i] += 1\n",
    "        if i==0:\n",
    "            continue\n",
    "        w[i] = w[i-1] - o1[i]*A_minus\n",
    "            \n",
    "    if post_spike[i]==1:    # there is a post-synaptic spike\n",
    "        o1[i] += 1\n",
    "        if i==0:\n",
    "            continue\n",
    "        w[i] = w[i-1] + r1[i]*A_plus*o2[i]\n",
    "        o2[i] += 1\n",
    "    # Apply Euler's method to the detector equations\n",
    "    r1[i+1] = r1[i] - discretization_step * r1[i]/tau_plus\n",
    "    o1[i+1] = o1[i] - discretization_step * o1[i]/tau_minus\n",
    "    o2[i+1] = o2[i] - discretization_step * o2[i]/tau_y\n",
    "w[-1]=w[-2]"
   ]
  },
  {
   "cell_type": "code",
   "execution_count": null,
   "id": "412b9e39-7355-485e-980b-aa88a00169de",
   "metadata": {},
   "outputs": [],
   "source": [
    "fig, (ax1, ax2, ax3, ax4, ax5, ax6) = plt.subplots(6,1, figsize=(8,12)); #gridspec_kw={'height_ratios': [3, 1]})\n",
    "ax1.plot(t_range,pre_spike);\n",
    "ax1.set_xlabel(\"time (s)\", fontsize=12);\n",
    "ax1.set_ylabel(\"spike train\", fontsize=12);\n",
    "ax1.set_title(\"Presynaptic spike train\", fontsize=14);\n",
    "ax2.plot(t_range,r1,color=\"black\");\n",
    "ax2.set_xlabel(\"time (s) \", fontsize=12);\n",
    "ax2.set_ylabel(\"$r_1(t)$\", fontsize=12);\n",
    "ax2.set_title(\"Presynaptic detector trace\", fontsize=14);\n",
    "ax3.plot(t_range,post_spike);\n",
    "ax3.set_xlabel(\"time (s) \", fontsize=12);\n",
    "ax3.set_ylabel('spike train', fontsize=12);\n",
    "ax3.set_title(\"Postsynaptic spike train\", fontsize=14);\n",
    "ax4.plot(t_range,o1,color=\"black\");\n",
    "ax4.set_xlabel(\"time (s) \", fontsize=12);\n",
    "ax4.set_ylabel('$o_1(t)$', fontsize=12);\n",
    "ax4.set_title(\"Postsynaptic detector trace\", fontsize=14);\n",
    "ax5.plot(t_range,o2,color=\"black\");\n",
    "ax5.set_xlabel(\"time (s) \", fontsize=12);\n",
    "ax5.set_ylabel('o2(t)', fontsize=12);\n",
    "ax5.set_title(\"Second postsynaptic spike train\", fontsize=14);\n",
    "ax6.plot(t_range,w);\n",
    "ax6.set_xlabel(\"time (s) \", fontsize=12);\n",
    "ax6.set_ylabel('$W(t)$', fontsize=14);\n",
    "ax6.set_title(\"Synaptic weight\", fontsize=12);"
   ]
  },
  {
   "cell_type": "markdown",
   "id": "ae474baf-eaf3-4a6f-a5a7-16cd47e57d82",
   "metadata": {
    "tags": []
   },
   "source": [
    "## 5. Pairing protocol analysis: matching the data"
   ]
  },
  {
   "cell_type": "markdown",
   "id": "8cd59a3d-97ae-4820-bc42-4d2175f2a5f1",
   "metadata": {},
   "source": [
    "#### Helper function"
   ]
  },
  {
   "cell_type": "code",
   "execution_count": null,
   "id": "478db8a4-ce90-4493-934e-3d5ae92c1192",
   "metadata": {},
   "outputs": [],
   "source": [
    "'''\n",
    "A fixed number of pairs of presynaptic and postsynaptic spikes shifted by DeltaT are elicited at regular intervals of 1/rho. \n",
    "Plot the synaptic change due to the triplet STDP as a function of the frequency rho for a fixed DeltaT.  \n",
    "'''\n",
    "\n",
    "def spike_trains(discretization_step, rho, num_pairs):\n",
    "\n",
    "    '''Generates presynaptic and postsynaptic spike trains characterised by a number of pairs (given by 'num_pairs') of pre- and post-synaptic spikes with a given time distance 'DeltaT'.\n",
    "    The pairs are repeated at a given frequency 'rho' \n",
    "\n",
    "    1) Generate two \"small\" arrays containing only one pair of one pre- and one post-synaptic spikes within a time window 1/rho. These will be the \"building blocks\" of the full spike trains.\n",
    "\n",
    "    2) Construct the full spike trains by repeating the small arrays the number of times given by num_pairs.\n",
    "    '''\n",
    "\n",
    "    DeltaT = 1e-2   # time distance between pre- and postsynaptic spikes. It must be greater than the discretization_step!\n",
    "    pair_distance = round(1/rho,2)   # time distance between pairs of pre-post spikes.\n",
    "\n",
    "    # Generate the first piece of the pre- and postsynaptic spike trains (namely, one pair of pre- and post-synaptic spikes) within a time window 1/rho \n",
    "    small_t_range = np.arange(0,pair_distance - discretization_step,discretization_step)   # time interval between pairs of pre-post spikes.\n",
    "    t_range=np.arange(0,num_pairs*(pair_distance - discretization_step),discretization_step)            # the whole time interval \n",
    "\n",
    "    first_spike = np.zeros(len(small_t_range))           # initialize the first piece of the pre-synaptic spike train \n",
    "    second_spike = np.zeros(len(small_t_range))          # initialize the first piece of the post-synaptic spike train\n",
    "    first_spike[0] = 1                                   # generate a pre-syn spike at time 0 \n",
    "    second_spike[np.where(small_t_range==DeltaT)[0]] = 1 # generate a post-syn spike after DeltaT\n",
    "    first_spikes=np.tile(first_spike,num_pairs)             # repeat for 'num_pairs' times and create the full spike train\n",
    "    second_spikes=np.tile(second_spike,num_pairs)           # repeat for 'num_pairs' times and create the full spike train\n",
    "    return first_spikes, second_spikes, t_range"
   ]
  },
  {
   "cell_type": "markdown",
   "id": "67382f2c-f254-440e-a00d-9d589697448e",
   "metadata": {},
   "source": [
    "#### Coding exercise 5: pairing protocol with the pairwise STDP rule"
   ]
  },
  {
   "cell_type": "code",
   "execution_count": null,
   "id": "14149fcf-b61b-4272-b330-1a7fa57fa956",
   "metadata": {},
   "outputs": [],
   "source": [
    "# Initialization \n",
    "num_pairs = 60      # number of pre- and post- pairs \n",
    "rho_vec = np.array([0.1, 1, 10, 20, 25, 30, 35, 40, 50])        # frequency values\n",
    "discretization_step = 1e-4 # it must be less than the time difference within a pair of spikes DeltaT!\n",
    "tau_plus = 16.8e-3             # LTP time constant (s)\n",
    "tau_minus = 33.7e-3             # LTD time constant (s)\n",
    "A_plus = 8.6e-3             # LTP window amplitude\n",
    "A_minus = 2.1e-3            # LTD window amplitude\n",
    "w0 = 3                     # initial weight\n",
    "\n",
    "# initialize the synaptic change\n",
    "DeltaW = np.zeros(len(rho_vec))    \n",
    "\n",
    "for ind,rho in enumerate(rho_vec):\n",
    "    # initialize the synaptic weight\n",
    "    w=w0\n",
    "\n",
    "    pre_spike, post_spike, t_range = spike_trains(discretization_step, rho, num_pairs)\n",
    "    \n",
    "    # CASE with DeltaT < 0\n",
    "    # The case with DeltaT < 0 is equivalent to switch the pre- and the postsynaptic spike trains.\n",
    "    # post_spike, pre_spike, t_range = spike_trains(discretization_step, rho, num_pairs)\n",
    "\n",
    "# initialize the pre- and postsynaptic detectors\n",
    "    r1=0    # presynaptic event detector\n",
    "    o1=0    # postsynaptic event detector\n",
    "\n",
    "    for i,t in enumerate(t_range):\n",
    "        if pre_spike[i]==1:     # there is a pre-synaptic spike\n",
    "            r1 += 1\n",
    "            w = w - o1*A_minus\n",
    "            \n",
    "        if post_spike[i]==1:    # there is a post-synaptic spike\n",
    "            o1 += 1\n",
    "            w = w + r1*A_plus;           \n",
    "        \n",
    "        # Apply Euler's method to the detector equations\n",
    "        r1 = r1 - discretization_step * r1/tau_plus\n",
    "        o1 = o1 - discretization_step * o1/tau_minus\n",
    "\n",
    "    # Calculate the weight change as a function of the frequency\n",
    "    DeltaW[ind]= w-w0   \n",
    "\n",
    "plt.figure(figsize=(6,4))\n",
    "plt.plot(rho_vec,DeltaW)\n",
    "plt.show()"
   ]
  },
  {
   "cell_type": "markdown",
   "id": "bd619266-478c-4d53-b2b2-383e0c43ea1c",
   "metadata": {
    "tags": []
   },
   "source": [
    "#### Coding exercise 6: pairing protocol with the triplet STDP rule"
   ]
  },
  {
   "cell_type": "code",
   "execution_count": null,
   "id": "7354c7ca-add2-4d4c-b2db-38dc569c34d8",
   "metadata": {},
   "outputs": [],
   "source": [
    "# Initialization \n",
    "num_pairs = 60      # number of pre- and post- pairs \n",
    "rho_vec = np.array([0.1, 1, 10, 20, 25, 30, 35, 40, 50])        # frequency values\n",
    "discretization_step = 1e-4 # it must be less than the time difference within a pair of spikes DeltaT!\n",
    "tau_plus = 16.8e-3             # LTP time constant (s)\n",
    "tau_minus = 33.7e-3             # LTD time constant (s)\n",
    "tau_y = 114e-3              # Second LTP time constant (s)\n",
    "A_plus = 6.5e-3             # LTP window amplitude\n",
    "A_minus = 7.1e-3            # LTD window amplitude\n",
    "w0 = 3                     # initial weight\n",
    "\n",
    "# initialize the synaptic change\n",
    "dw = np.zeros(len(rho_vec))    \n",
    "\n",
    "for ind,rho in enumerate(rho_vec):\n",
    "    # initialize the synaptic weight\n",
    "    w=w0\n",
    "\n",
    "    pre_spike, post_spike, t_range = spike_trains(discretization_step, rho, num_pairs)\n",
    "    \n",
    "    # CASE with DeltaT < 0\n",
    "    # The case with DeltaT < 0 is equivalent to switch the pre- and the postsynaptic spike trains.\n",
    "    # post_spike, pre_spike, t_range = spike_trains(discretization_step, rho, num_pairs)\n",
    "\n",
    "# initialize the pre- and postsynaptic detectors\n",
    "    r1=0    # presynaptic event detector\n",
    "    o1=0    # postsynaptic event detector\n",
    "    o2=0    # second postsynaptic event detector\n",
    "\n",
    "    for i,t in enumerate(t_range):\n",
    "        if pre_spike[i]==1:     # there is a pre-synaptic spike\n",
    "            r1 += 1\n",
    "            w = w - o1*A_minus\n",
    "            \n",
    "        if post_spike[i]==1:    # there is a post-synaptic spike\n",
    "            o1 += 1\n",
    "            w = w + r1*(A_plus*o2);           \n",
    "            o2=o2+1\n",
    "        \n",
    "        # Apply Euler's method to the detector equations\n",
    "        r1 = r1 - discretization_step * r1/tau_plus\n",
    "        o1 = o1 - discretization_step * o1/tau_minus\n",
    "        o2 = o2 - discretization_step * o2/tau_y\n",
    "\n",
    "    # Calculate the weight change as a function of the frequency\n",
    "    DeltaW[ind]= w-w0   \n",
    "\n",
    "plt.figure(figsize=(6,4))\n",
    "plt.plot(rho_vec,DeltaW)\n",
    "plt.show()"
   ]
  },
  {
   "cell_type": "markdown",
   "id": "9ce3f33c-ec64-421e-b8e8-3bda5190c8af",
   "metadata": {},
   "source": [
    "## 6. Inhibitory plasticity"
   ]
  },
  {
   "cell_type": "markdown",
   "id": "5c1f0f87-4b77-4773-bea7-11edda4cf276",
   "metadata": {},
   "source": [
    "explain..."
   ]
  },
  {
   "cell_type": "markdown",
   "id": "a4de51db-b4ba-4605-bdbc-60fad51a22f8",
   "metadata": {},
   "source": [
    "#### Coding exercise 7: the inhibitory STDP function "
   ]
  },
  {
   "cell_type": "code",
   "execution_count": null,
   "id": "e676fbf7-f05c-47da-8e42-543725d0f280",
   "metadata": {},
   "outputs": [],
   "source": [
    "def DeltaW_inhSTDP(eta, rho, tau):\n",
    "    \"\"\"    \n",
    "    Args: \n",
    "    eta : \n",
    "    rho: \n",
    "    tau: \n",
    "    \n",
    "    Returns the instantaneous change in weights DeltaW due to the inhibitory STDP rule\n",
    "    \"\"\"\n",
    "    \n",
    "    # Define the array with the time differences between post- and pre-synaptic spikes\n",
    "    Delta_t = np.linspace(-100, 100, 200)\n",
    "    # Initialize the STDP change\n",
    "    DeltaW = np.zeros(len(Delta_t))\n",
    "    # Calculate DeltaW\n",
    "    DeltaW = eta * ( (1/(2*tau)) * np.exp(-np.abs(Delta_t)/tau) - rho)\n",
    "    DeltaW = 100*DeltaW/np.max(DeltaW)\n",
    "\n",
    "    return DeltaW"
   ]
  },
  {
   "cell_type": "code",
   "execution_count": null,
   "id": "21326b2a-fdd6-42a9-bf97-92935098a507",
   "metadata": {},
   "outputs": [],
   "source": [
    "def inhSTDP_plot(eta, rho, tau):\n",
    "    \"\"\"    \n",
    "    Args: \n",
    "    eta : \n",
    "    rho: \n",
    "    tau: \n",
    "    \n",
    "    Generates a plot for the inhibitory STDP rule\n",
    "    \"\"\"\n",
    "    \n",
    "    # Define the array with the time differences between post- and pre-synaptic spikes\n",
    "    Delta_t = np.linspace(-100, 100, 200)\n",
    "    \n",
    "    # Calculate the synaptic change\n",
    "    DeltaW = DeltaW_inhSTDP(eta, rho, tau)\n",
    "    \n",
    "    # Plot\n",
    "    plt.figure(figsize=(8,5))\n",
    "    plt.plot([Delta_t[0], Delta_t[-1]], [0, 0], 'k', linestyle=':')\n",
    "    plt.plot([0, 0], [-20, 100], 'k', linestyle=':')\n",
    "\n",
    "    plt.plot(Delta_t, DeltaW, 'r')\n",
    "\n",
    "    plt.xlabel(r'$\\Delta t=$ t$_{\\mathrm{post}}$ - t$_{\\mathrm{pre}}$ (ms)',fontsize=16)\n",
    "    plt.ylabel(r'$\\Delta $W (%)',fontsize=16)\n",
    "    plt.title('The inhibitory STDP rule', fontsize=18, fontweight='bold')\n",
    "    plt.show()"
   ]
  },
  {
   "cell_type": "code",
   "execution_count": null,
   "id": "51c29353-15d4-4bb5-9aaa-67db7c8166aa",
   "metadata": {},
   "outputs": [],
   "source": [
    "# Define the STDP rule parameters\n",
    "eta = 1e-4\n",
    "rho = 3e-3\n",
    "tau = 20\n",
    "\n",
    "# Plot the pairwise STDP function \n",
    "inhSTDP_plot(eta, rho, tau)"
   ]
  },
  {
   "cell_type": "markdown",
   "id": "51d4593d-c544-4a71-8a01-a9c1221f5b17",
   "metadata": {},
   "source": [
    "**TO DO** Temporal evolution of the postsynaptic firing rate and the average synaptic weights of the inhibitory synapses"
   ]
  },
  {
   "cell_type": "markdown",
   "id": "fecc244f-3f3f-452b-a544-a138d8fbc0bf",
   "metadata": {},
   "source": [
    " Total excitatory, inhibitory, and net (green) membrane currents before, during, and after inhibitory synaptic plasticity."
   ]
  },
  {
   "cell_type": "code",
   "execution_count": null,
   "id": "14e4e053-1a37-4428-9c55-b2c274a0e9bc",
   "metadata": {},
   "outputs": [],
   "source": [
    "dt = 0.1\n",
    "duration=1000 # duration of a small interval in ms  \n",
    "num_small_intervals=60\n",
    "range_t=np.arange(0,num_small_intervals*duration,dt)            # the whole time interval \n",
    "rate = 60\n",
    "n = 100\n",
    "exc = int(0.8 * n)\n",
    "tauExc = 5\n",
    "tauInh = 10\n",
    "tauPlasticity = 20\n",
    "gBarExc = 0.14\n",
    "gBarInh = 0.35\n",
    "VRest=-60\n",
    "Vth=-50\n",
    "taumem=20\n",
    "EGABA=-80\n",
    "eta = 0.01\n",
    "alpha = 0.25 * eta\n",
    "tRef = 5\n",
    "\n",
    "W=np.zeros(n)\n",
    "np.random.seed(7)\n",
    "W[0:exc] =  (1.1 + np.random.random(exc))\n",
    "W[exc:n] = 0.1\n",
    "\n",
    "input_spiketrains = np.zeros((n, len(range_t)))\n",
    "for s in range(n):\n",
    "    input_spiketrains[s,:] = Poisson_spike_train(dt, range_t, rate, s)\n",
    "post_spike_count = 0\n",
    "post_rate = 0\n",
    "post_spike = np.zeros(len(range_t))\n",
    "\n",
    "gExc = 0\n",
    "gInh = 0\n",
    "gLeak = 1\n",
    "r1 = np.zeros(n)\n",
    "o1 = 0\n",
    "save_inh_weights = np.zeros(len(range_t))\n",
    "tolos = 0 \n",
    "\n",
    "V = np.zeros(len(range_t))\n",
    "o1_overtime = np.zeros(len(range_t))\n",
    "Exkeep= np.zeros(len(range_t))\n",
    "Inkeep = np.zeros(len(range_t))\n",
    "V[0]=VRest\n",
    "\n",
    "for ind,t in enumerate(range_t):\n",
    "    if ind == len(range_t)-1:\n",
    "        break\n",
    "    if ind == 0:\n",
    "        continue\n",
    "    gExc = gExc - dt/tauExc * gExc \n",
    "    gInh = gInh - dt/tauInh * gInh\n",
    "\n",
    "    for s in range(exc,n):\n",
    "        r1[s] = r1[s] - dt/tauPlasticity * r1[s]\n",
    "    o1 = o1 - dt/tauPlasticity * o1\n",
    "\n",
    "    for s in range(exc):\n",
    "        if input_spiketrains[s, ind] == 1:\n",
    "            gExc += (gBarExc * W[s])\n",
    "    for s in range(exc,n):\n",
    "        if input_spiketrains[s, ind] == 1:\n",
    "            gInh = gInh + (gBarInh * W[s])    \n",
    "            r1[s] += eta                    \n",
    "            W[s] = W[s] + o1 - alpha                # plasticity\n",
    "            if W[s] < 0:\n",
    "                W[s] = 0 \n",
    "    # postsynaptic neuron \n",
    "    if ((t - tolos) < tRef):\n",
    "        V[ind] = VRest\n",
    "    else:\n",
    "        gTot = gLeak + gExc + gInh\n",
    "        tauEff = taumem/gTot  \n",
    "        VInf = ((gLeak*VRest + gInh*EGABA)/gTot)\n",
    "        V[ind] = VInf + (V[ind-1] - VInf)*np.exp(-dt/tauEff)\n",
    "    if V[ind] >= Vth:\n",
    "        tolos = t\n",
    "        V[ind] = 0\n",
    "        V[ind-1] = VRest\n",
    "        o1 += eta\n",
    "        post_spike_count += 1\n",
    "        post_spike[ind] = 1\n",
    "        for s in range(exc,n):\n",
    "            W[s] += r1[s]   # plasticity\n",
    "    Exkeep[ind] = gExc * V[ind]\n",
    "    Inkeep[ind] = gInh * (V[ind] - EGABA)\n",
    "    save_inh_weights[ind] = np.mean(W[exc:n])\n",
    "    o1_overtime[ind] = o1\n",
    "\n",
    "save_inh_weights[0]=save_inh_weights[1]\n",
    "save_inh_weights[-1] = save_inh_weights[-2]\n",
    "post_rate = np.zeros(num_small_intervals)\n",
    "inh_weights = np.zeros(num_small_intervals)\n",
    "avgExkeep = np.zeros(num_small_intervals)\n",
    "avgInkeep = np.zeros(num_small_intervals)\n",
    "\n",
    "for i in range(num_small_intervals):\n",
    "    somma = sum(post_spike[i*duration:(i+1)*duration])\n",
    "    post_rate[i] = somma/ duration * 1000\n",
    "    inh_weights[i] = np.mean(save_inh_weights[i*duration:(i+1)*duration])\n",
    "    avgExkeep[i] = np.mean(Exkeep[i*duration:(i+1)*duration])\n",
    "    avgInkeep[i] = np.mean(Inkeep[i*duration:(i+1)*duration])\n",
    "\n",
    "\n",
    "Exkeep0 = Exkeep[0:int(duration/10)]\n",
    "Inkeep0 = Inkeep[0:int(duration/10)]\n",
    "Exkeep1 = Exkeep[int(duration*(num_small_intervals-1/10)):duration*num_small_intervals]\n",
    "Inkeep1 = Inkeep[int(duration*(num_small_intervals-1/10)):duration*num_small_intervals]"
   ]
  },
  {
   "cell_type": "code",
   "execution_count": null,
   "id": "a03650c6-4881-4340-90f0-776aafef4093",
   "metadata": {},
   "outputs": [],
   "source": [
    "fig, (ax1, ax2, ax3, ax4) = plt.subplots(4,1, figsize=(8,12));\n",
    "ax1.plot(range(num_small_intervals),post_rate)\n",
    "ax1.set_xlabel(\"time (s)\", fontsize=12);\n",
    "ax1.set_ylabel(\"Firing rate [Hz]\", fontsize=12);\n",
    "ax1.set_title(\"Postsynaptic firing rate\", fontsize=14);\n",
    "ax2.plot(range(num_small_intervals),inh_weights)\n",
    "ax2.set_xlabel(\"time (s) \", fontsize=12);\n",
    "ax2.set_ylabel(\"Mean inhibitory weights\", fontsize=12);\n",
    "ax2.set_title(\"Inhibitory weights\", fontsize=14);\n",
    "ax3.plot(range(int(duration/10)), Exkeep0/100,'r',linewidth=3)\n",
    "ax3.plot(range(int(duration/10)), Inkeep0/100, 'g')\n",
    "ax3.plot(range(int(duration/10)), (Inkeep0 + Exkeep0)/100, 'k')\n",
    "ax3.set_xlabel(\"time (ms) \", fontsize=12);\n",
    "ax3.set_ylabel('Currents', fontsize=12);\n",
    "ax3.set_title(\"Currents before plasticity\", fontsize=14);\n",
    "ax4.plot(range(int(duration/10)), Exkeep1/100, 'r')\n",
    "ax4.plot(range(int(duration/10)), Inkeep1/100, 'g')\n",
    "ax4.plot(range(int(duration/10)), (Inkeep1 + Exkeep1)/100, 'k')\n",
    "ax4.set_xlabel(\"time (ms) \", fontsize=12);\n",
    "ax4.set_ylabel('Currents', fontsize=12);\n",
    "ax4.set_title(\"Currents after plasticity\", fontsize=14);"
   ]
  }
 ],
 "metadata": {
  "kernelspec": {
   "display_name": "Python 3 (ipykernel)",
   "language": "python",
   "name": "python3"
  },
  "language_info": {
   "codemirror_mode": {
    "name": "ipython",
    "version": 3
   },
   "file_extension": ".py",
   "mimetype": "text/x-python",
   "name": "python",
   "nbconvert_exporter": "python",
   "pygments_lexer": "ipython3",
   "version": "3.10.2"
  }
 },
 "nbformat": 4,
 "nbformat_minor": 5
}
