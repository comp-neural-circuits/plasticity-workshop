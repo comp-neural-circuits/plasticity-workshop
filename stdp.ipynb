{
 "cells": [
  {
   "cell_type": "markdown",
   "id": "28903b39-44c1-43e5-b2eb-be076cd70beb",
   "metadata": {
    "tags": []
   },
   "source": [
    "# Spike timing dependent plasticity (STDP) rules"
   ]
  },
  {
   "cell_type": "markdown",
   "id": "3d71d440-aec2-48c5-a6a9-c9b1fd0ff01f",
   "metadata": {
    "jp-MarkdownHeadingCollapsed": true,
    "tags": []
   },
   "source": [
    "## Initialization"
   ]
  },
  {
   "cell_type": "code",
   "execution_count": null,
   "id": "c36d0f96-4d16-4df8-abd8-efe13d5a203f",
   "metadata": {},
   "outputs": [],
   "source": [
    "!pip install numpy scipy matplotlib ipywidgets scikit-learn --quiet\n",
    "import numpy as np\n",
    "import scipy.linalg as lin\n",
    "from numpy.random import default_rng\n",
    "rng = default_rng()\n",
    "import matplotlib.pyplot as plt\n",
    "from ipywidgets import interact, interactive, fixed, interact_manual\n",
    "import ipywidgets as widgets\n",
    "plt.style.use(\"https://github.com/comp-neural-circuits/plasticity-workshop/raw/dev/plots_style.txt\")"
   ]
  },
  {
   "cell_type": "markdown",
   "id": "a8beae55-caa0-46c2-960f-ab2d2191bf65",
   "metadata": {
    "jp-MarkdownHeadingCollapsed": true,
    "tags": []
   },
   "source": [
    "## Plotting the pairwise STDP rule"
   ]
  },
  {
   "cell_type": "code",
   "execution_count": null,
   "id": "a6a5a936-6751-4e91-9c8d-d5850358fcc2",
   "metadata": {},
   "outputs": [],
   "source": [
    "def mySTDP_plot(A_plus, A_minus, tau_plus, tau_minus, Delta_t, dW):\n",
    "  \n",
    "  '''\n",
    "  Generates a plot for the pairwise STDP rule\n",
    "\n",
    "  A_plus : maximum amount of potentiation (LTP)\n",
    "  A_minus: maximum amount of depression (LTD)\n",
    "  tau_plus: LTP time constant\n",
    "  tau_minus: LTD time constant \n",
    "  Delta_t : array with the time differences between post- and pre-synaptic spikes\n",
    "  dW : synaptic change \n",
    "  \n",
    "  '''\n",
    "  plt.figure()\n",
    "  plt.plot([-5 * tau_minus, 5 * tau_plus], [0, 0], 'k', linestyle=':')\n",
    "  plt.plot([0, 0], [-A_minus, A_plus], 'k', linestyle=':')\n",
    "\n",
    "  plt.plot(Delta_t[Delta_t <= 0], dW[Delta_t <= 0], 'r')\n",
    "  plt.plot(Delta_t[Delta_t > 0], dW[Delta_t > 0], 'b')\n",
    "\n",
    "  plt.xlabel(r'$\\Delta t=$ t$_{\\mathrm{post}}$ - t$_{\\mathrm{pre}}$ (ms)')\n",
    "  plt.ylabel(r'$\\Delta $W', fontsize=14)\n",
    "  plt.title('Pairwise STDP rule', fontsize=12, fontweight='bold')\n",
    "  plt.show()"
   ]
  },
  {
   "cell_type": "code",
   "execution_count": null,
   "id": "82fbfbb6-9f81-44ea-b133-53a2ee134a63",
   "metadata": {},
   "outputs": [],
   "source": [
    "def Delta_W_pairSTDP(A_plus, A_minus, tau_plus, tau_minus, Delta_t):\n",
    "  \"\"\"\n",
    "  Calculates the instantaneous change in weights dW due to the STDP pairwise rule\n",
    "\n",
    "  A_plus : maximum amount of potentiation (LTP)\n",
    "  A_minus: maximum amount of depression (LTD)\n",
    "  tau_plus: LTP time constant\n",
    "  tau_minus: LTD time constant \n",
    "  Delta_t : array with the time differences between post- and pre-synaptic spikes\n",
    "  \"\"\"\n",
    "\n",
    "  # Initialize the STDP change\n",
    "  dW = np.zeros(len(Delta_t))\n",
    "  # Calculate dW for LTP\n",
    "  dW[Delta_t > 0] = A_plus * np.exp(-Delta_t[Delta_t > 0] / tau_plus)\n",
    "  # Calculate dW for LTD\n",
    "  dW[Delta_t <= 0] = -A_minus * np.exp(Delta_t[Delta_t <= 0] / tau_minus)\n",
    "\n",
    "  return dW"
   ]
  },
  {
   "cell_type": "code",
   "execution_count": null,
   "id": "d193bce4-ba18-42ea-9967-6386c3326299",
   "metadata": {},
   "outputs": [],
   "source": [
    "'''\n",
    "Main\n",
    "'''\n",
    "# define the STDP rule parameters\n",
    "A_plus = 1\n",
    "A_minus = 1\n",
    "tau_plus = 20  #[ms]\n",
    "tau_minus = 10 #[ms]\n",
    "\n",
    "Delta_t = np.linspace(-5 * tau_minus, 5 * tau_plus, 50)\n",
    "\n",
    "dW = Delta_W_pairSTDP(A_plus, A_minus, tau_plus, tau_minus, Delta_t)\n",
    "\n",
    "mySTDP_plot(A_plus, A_minus, tau_plus, tau_minus, Delta_t, dW)\n"
   ]
  },
  {
   "cell_type": "markdown",
   "id": "bb4e30ca-597b-4cc1-aca6-07b8bf0c54e1",
   "metadata": {
    "jp-MarkdownHeadingCollapsed": true,
    "tags": []
   },
   "source": [
    "## Plot detector traces and spike trains \n",
    "study only the case of 1 pre- and 1 postsynaptic neuron (Poisson neurons)."
   ]
  },
  {
   "cell_type": "code",
   "execution_count": null,
   "id": "b98784a2-9e23-4107-ab9e-85fa8072b1cc",
   "metadata": {},
   "outputs": [],
   "source": []
  },
  {
   "cell_type": "markdown",
   "id": "bbda599d-d340-4025-b0a3-5bcc94c5749b",
   "metadata": {},
   "source": [
    "## Plotting the triplet STDP rule"
   ]
  },
  {
   "cell_type": "code",
   "execution_count": null,
   "id": "04eaa019-4b27-4798-8833-d9f867fe36ac",
   "metadata": {},
   "outputs": [],
   "source": []
  },
  {
   "cell_type": "markdown",
   "id": "6b2533a3-8f09-4e14-9133-38fc64939c34",
   "metadata": {
    "jp-MarkdownHeadingCollapsed": true,
    "tags": []
   },
   "source": [
    "## Plot detector traces and spike trains \n",
    "study only the case of 1 pre- and 1 postsynaptic neuron (Poisson neurons)."
   ]
  },
  {
   "cell_type": "code",
   "execution_count": null,
   "id": "7fef6b83-80d0-45d3-a17c-fa73b3182170",
   "metadata": {},
   "outputs": [],
   "source": []
  },
  {
   "cell_type": "markdown",
   "id": "341a5428-d128-4281-a5a5-c1d9a3147c67",
   "metadata": {
    "jp-MarkdownHeadingCollapsed": true,
    "tags": []
   },
   "source": [
    "## Pairing protocol helper functions"
   ]
  },
  {
   "cell_type": "code",
   "execution_count": null,
   "id": "320e6c87-1882-494b-8bd7-f1d6508e46b3",
   "metadata": {},
   "outputs": [],
   "source": [
    "'''\n",
    "A fixed number of pairs of presynaptic and postsynaptic spikes shifted by DeltaT are elicited at regular intervals of 1/rho. \n",
    "Plot the synaptic change due to the triplet STDP as a function of the frequency rho for a fixed DeltaT.  \n",
    "'''\n",
    "\n",
    "def spike_trains(discretization_step, rho, num_pairs):\n",
    "\n",
    "    '''Generates presynaptic and postsynaptic spike trains characterised by a number of pairs (given by 'num_pairs') of pre- and post-synaptic spikes with a given time distance 'DeltaT'.\n",
    "    The pairs are repeated at a given frequency 'rho' \n",
    "\n",
    "    1) Generate two \"small\" arrays containing only one pair of one pre- and one post-synaptic spikes within a time window 1/rho. These will be the \"building blocks\" of the full spike trains.\n",
    "\n",
    "    2) Construct the full spike trains by repeating the small arrays the number of times given by num_pairs.\n",
    "    '''\n",
    "\n",
    "    DeltaT = 1e-2   # time distance between pre- and postsynaptic spikes. It must be greater than the discretization_step!\n",
    "    pair_distance = 1/rho   # time distance between pairs of pre-post spikes.\n",
    "\n",
    "    # Generate the first piece of the pre- and postsynaptic spike trains (namely, one pair of pre- and post-synaptic spikes) within a time window 1/rho \n",
    "    small_t_range = np.arange(0,pair_distance - discretization_step,discretization_step)   # time interval between pairs of pre-post spikes.\n",
    "    t_range=np.tile(small_t_range,num_pairs)             # the whole time interval \n",
    "    first_spike = np.zeros(len(small_t_range))           # initialize the first piece of the pre-synaptic spike train \n",
    "    second_spike = np.zeros(len(small_t_range))          # initialize the first piece of the post-synaptic spike train\n",
    "    first_spike[0] = 1                                   # generate a pre-syn spike at time 0 \n",
    "    second_spike[np.where(small_t_range==DeltaT)[0]] = 1 # generate a post-syn spike after DeltaT\n",
    "    first_spikes=np.tile(first_spike,num_pairs)             # repeat for 'num_pairs' times and create the full spike train\n",
    "    second_spikes=np.tile(second_spike,num_pairs)           # repeat for 'num_pairs' times and create the full spike train\n",
    "    return first_spikes, second_spikes, t_range\n",
    "\n",
    "\n",
    "def euler_exp_ode(discretization_step, x, tau):\n",
    "    x = x - discretization_step * x/tau\n",
    "    return x"
   ]
  },
  {
   "cell_type": "markdown",
   "id": "dd4eefa9-eda6-4456-9c8a-d0642568f20b",
   "metadata": {
    "jp-MarkdownHeadingCollapsed": true,
    "tags": []
   },
   "source": [
    "## Pairing protocol with the pairwise STDP rule"
   ]
  },
  {
   "cell_type": "code",
   "execution_count": null,
   "id": "de9f2d6a-aadd-4746-b9a3-44a068ea1ad6",
   "metadata": {},
   "outputs": [],
   "source": [
    "# Initialization \n",
    "num_pairs = 60      # number of pre- and post- pairs \n",
    "rho_vec = np.array([0.1, 1, 10, 20, 25, 30, 35, 40, 50])        # frequency values\n",
    "discretization_step = 1e-4 # it must be less than the time difference within a pair of spikes DeltaT!\n",
    "taup = 16.8e-3             # LTP time constant (s)\n",
    "taum = 33.7e-3             # LTD time constant (s)\n",
    "Aplus = 8.6e-3             # LTP window amplitude\n",
    "Aminus = 2.1e-3            # LTD window amplitude\n",
    "w0 = 3                     # initial weight\n",
    "\n",
    "# initialize the synaptic change\n",
    "dw = np.zeros(len(rho_vec))    \n",
    "\n",
    "for ind,rho in enumerate(rho_vec):\n",
    "    # initialize the synaptic weight\n",
    "    w=w0\n",
    "\n",
    "    pre_spike, post_spike, t_range = spike_trains(discretization_step, rho, num_pairs)\n",
    "    \n",
    "    # CASE with DeltaT < 0\n",
    "    # The case with DeltaT < 0 is equivalent to switch the pre- and the postsynaptic spike trains.\n",
    "    # post_spike, pre_spike, t_range = spike_trains(discretization_step, rho, num_pairs)\n",
    "\n",
    "# initialize the pre- and postsynaptic detectors\n",
    "    r1=0    # presynaptic event detector\n",
    "    o1=0    # postsynaptic event detector\n",
    "\n",
    "    for i,t in enumerate(t_range):\n",
    "        if pre_spike[i]==1:     # there is a pre-synaptic spike\n",
    "            r1 += 1\n",
    "            w = w - o1*Aminus\n",
    "            \n",
    "        if post_spike[i]==1:    # there is a post-synaptic spike\n",
    "            o1 += 1\n",
    "            w = w + r1*Aplus;           \n",
    "        \n",
    "        # Apply Euler's method to the detector equations\n",
    "        r1 = euler_exp_ode(discretization_step, r1, taup)\n",
    "        o1 = euler_exp_ode(discretization_step, o1, taum)\n",
    "\n",
    "    # Calculate the weight change as a function of the frequency\n",
    "    dw[ind]= w-w0   \n",
    "\n",
    "plt.figure()\n",
    "plt.plot(rho_vec,dw)\n",
    "plt.show()"
   ]
  },
  {
   "cell_type": "markdown",
   "id": "aaa17659-98c6-4b67-a607-fa2b2c31a0bb",
   "metadata": {
    "tags": []
   },
   "source": [
    "## Pairing protocol with the triplet STDP rule"
   ]
  },
  {
   "cell_type": "code",
   "execution_count": null,
   "id": "365961c6-8f50-43ff-9460-0dce8c13f92b",
   "metadata": {},
   "outputs": [],
   "source": [
    "# Initialization \n",
    "num_pairs = 60      # number of pre- and post- pairs \n",
    "rho_vec = np.array([0.1, 1, 10, 20, 25, 30, 35, 40, 50])        # frequency values\n",
    "discretization_step = 1e-4 # it must be less than the time difference within a pair of spikes DeltaT!\n",
    "taup = 16.8e-3             # LTP time constant (s)\n",
    "taum = 33.7e-3             # LTD time constant (s)\n",
    "tauy = 114e-3              # Second LTP time constant (s)\n",
    "Aplus = 6.5e-3             # LTP window amplitude\n",
    "Aminus = 7.1e-3            # LTD window amplitude\n",
    "w0 = 3                     # initial weight\n",
    "\n",
    "# initialize the synaptic change\n",
    "dw = np.zeros(len(rho_vec))    \n",
    "\n",
    "for ind,rho in enumerate(rho_vec):\n",
    "    # initialize the synaptic weight\n",
    "    w=w0\n",
    "\n",
    "    pre_spike, post_spike, t_range = spike_trains(discretization_step, rho, num_pairs)\n",
    "    \n",
    "    # CASE with DeltaT < 0\n",
    "    # The case with DeltaT < 0 is equivalent to switch the pre- and the postsynaptic spike trains.\n",
    "    # post_spike, pre_spike, t_range = spike_trains(discretization_step, rho, num_pairs)\n",
    "\n",
    "# initialize the pre- and postsynaptic detectors\n",
    "    r1=0    # presynaptic event detector\n",
    "    o1=0    # postsynaptic event detector\n",
    "    o2=0    # second postsynaptic event detector\n",
    "\n",
    "    for i,t in enumerate(t_range):\n",
    "        if pre_spike[i]==1:     # there is a pre-synaptic spike\n",
    "            r1 += 1\n",
    "            w = w - o1*Aminus\n",
    "            \n",
    "        if post_spike[i]==1:    # there is a post-synaptic spike\n",
    "            o1 += 1\n",
    "            w = w + r1*(Aplus*o2);           \n",
    "            o2=o2+1\n",
    "        \n",
    "        # Apply Euler's method to the detector equations\n",
    "        r1 = euler_exp_ode(discretization_step, r1, taup)\n",
    "        o1 = euler_exp_ode(discretization_step, o1, taum)\n",
    "        o2 = euler_exp_ode(discretization_step, o2, tauy)\n",
    "\n",
    "    # Calculate the weight change as a function of the frequency\n",
    "    dw[ind]= w-w0   \n",
    "\n",
    "plt.figure()\n",
    "plt.plot(rho_vec,dw)\n",
    "plt.show()"
   ]
  },
  {
   "cell_type": "markdown",
   "id": "b447aa79-01cc-42fd-acbe-c1edcf6e1635",
   "metadata": {},
   "source": [
    "## Inhibitory plasticity"
   ]
  },
  {
   "cell_type": "code",
   "execution_count": null,
   "id": "1ecad0ff-4955-4756-9c74-e5073c9d62e8",
   "metadata": {},
   "outputs": [],
   "source": []
  }
 ],
 "metadata": {
  "kernelspec": {
   "display_name": "Python 3 (ipykernel)",
   "language": "python",
   "name": "python3"
  },
  "language_info": {
   "codemirror_mode": {
    "name": "ipython",
    "version": 3
   },
   "file_extension": ".py",
   "mimetype": "text/x-python",
   "name": "python",
   "nbconvert_exporter": "python",
   "pygments_lexer": "ipython3",
   "version": "3.10.2"
  }
 },
 "nbformat": 4,
 "nbformat_minor": 5
}
