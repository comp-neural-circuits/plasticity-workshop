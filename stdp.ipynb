{
 "cells": [
  {
   "cell_type": "markdown",
   "id": "d2618c9a-4e3b-4042-88e5-570bc5220acd",
   "metadata": {},
   "source": [
    "[![Open In Colab](https://colab.research.google.com/assets/colab-badge.svg)](https://githubtocolab.com/comp-neural-circuits/plasticity-workshop/blob/dev/stdp.ipynb)"
   ]
  },
  {
   "cell_type": "markdown",
   "id": "c07e8b58-15ad-48ce-a2d0-2887e9c7cc6a",
   "metadata": {
    "tags": []
   },
   "source": [
    "# Spike timing dependent plasticity (STDP) rules"
   ]
  },
  {
   "cell_type": "markdown",
   "id": "16c9ba85-c308-4cde-92eb-17f4f7a7456a",
   "metadata": {},
   "source": [
    "Welcome to the second part of the plasticity tutorial! Now is all about *timing*!"
   ]
  },
  {
   "cell_type": "markdown",
   "id": "8126a86f-67e2-428f-a85f-9021d6dcfa30",
   "metadata": {
    "jp-MarkdownHeadingCollapsed": true,
    "tags": []
   },
   "source": [
    "In this tutorial you will learn:\n",
    "- how the temporal order of pre- and postsynaptic spikes influences the change in the synaptic connection and how different parameters shape the **pairwise STDP rule**;\n",
    "- how to generate **spike trains** and how to **keep track** of pre- and postsynaptic spikes over time, by using specific functions.\n",
    "- how to generalise the points above to the **triplet STDP rule**.\n",
    "- how the pairwise and the triplet STDP rules fit some **experimental data**. Do you have any guess on which one matches better the data? :)  \n",
    "\n",
    "So, let's start! Please, just run the two cells below (i.e. Initialization and Utility functions) to initialize and implement the figure setup."
   ]
  },
  {
   "cell_type": "markdown",
   "id": "796a21ae-c77f-4bcf-8f8d-67a3ba095998",
   "metadata": {
    "jp-MarkdownHeadingCollapsed": true,
    "tags": []
   },
   "source": [
    "## Initialization"
   ]
  },
  {
   "cell_type": "code",
   "execution_count": null,
   "id": "3d20b899-31bd-45ce-ba5b-a291c13f9f61",
   "metadata": {},
   "outputs": [],
   "source": [
    "!pip install numpy scipy matplotlib ipywidgets scikit-learn --quiet\n",
    "import numpy as np\n",
    "import scipy.linalg as lin\n",
    "from numpy.random import default_rng\n",
    "rng = default_rng()\n",
    "import matplotlib.pyplot as plt\n",
    "from ipywidgets import interact, interactive, fixed, interact_manual\n",
    "import ipywidgets as widgets\n",
    "plt.style.use(\"https://github.com/comp-neural-circuits/plasticity-workshop/raw/dev/plots_style.txt\")"
   ]
  },
  {
   "cell_type": "markdown",
   "id": "9c25e7ad-ca07-4fda-b0ba-801922f9db7a",
   "metadata": {
    "tags": []
   },
   "source": [
    "## Utility functions"
   ]
  },
  {
   "cell_type": "code",
   "execution_count": null,
   "id": "4cfcfd46-cc82-437d-b2f7-e76419f9e99e",
   "metadata": {},
   "outputs": [],
   "source": [
    "def pairSTDP_plot(A_plus, A_minus, tau_plus, tau_minus):\n",
    "    '''\n",
    "    Generates a plot for the pairwise STDP rule, which shows the synaptic change DeltaW \n",
    "              over the time difference Delta_t (t_post - t_pre)\n",
    "    \n",
    "    Parameters:\n",
    "    A_plus     (number) : maximum amount of potentiation (LTP)\n",
    "    A_minus    (number) : maximum amount of depression (LTD)\n",
    "    tau_plus   (number) : LTP time constant [ms]\n",
    "    tau_minus  (number) : LTD time constant [ms]\n",
    "    \n",
    "    Returns:\n",
    "    A plot for the pairwise STDP rule\n",
    "    '''    \n",
    "    # Calculate the synaptic change via the specific function\n",
    "    Delta_t, DeltaW = DeltaW_pairSTDP(A_plus, A_minus, tau_plus, tau_minus)\n",
    "    \n",
    "    # Plotting\n",
    "    plt.figure(figsize=(8,6))\n",
    "    plt.plot([Delta_t[0], Delta_t[-1]], [0, 0], 'k', linestyle=':')\n",
    "    plt.plot([0, 0], [-0.1, 0.1], 'k', linestyle=':')\n",
    "\n",
    "    plt.plot(Delta_t[Delta_t <= 0], DeltaW[Delta_t <= 0], 'r')\n",
    "    plt.plot(Delta_t[Delta_t > 0], DeltaW[Delta_t >= 0], 'b')\n",
    "\n",
    "    plt.xlabel(r'$\\Delta t=$ t$_{\\mathrm{post}}$ - t$_{\\mathrm{pre}}$ (ms)',fontsize=16)\n",
    "    plt.ylabel(r'$\\Delta $W')\n",
    "    plt.title('The Pairwise STDP rule', fontsize=18, fontweight='bold')\n",
    "    plt.show()\n",
    "    \n",
    "def tripletSTDP_plot(A_plus, A_minus, tau_plus, tau_minus, tau_y, Delta_t2):\n",
    "    '''\n",
    "    Generates a plot for the pairwise STDP rule, which shows the synaptic change DeltaW \n",
    "              over the time difference Delta_t1 (t_post - t_pre), for a given value of \n",
    "              the time difference Delta_t2 (t_post - t'_post)\n",
    "              \n",
    "    Parameters:\n",
    "    A_plus     (number) : maximum amount of potentiation (LTP)\n",
    "    A_minus    (number) : maximum amount of depression (LTD)\n",
    "    tau_plus   (number) : LTP time constant [ms]\n",
    "    tau_minus  (number) : LTD time constant [ms]\n",
    "    tau_y      (number) : second LTP time constant [ms]\n",
    "    Delta_t2   (number) : time differences between the postsynaptic spikes [ms]\n",
    "    \n",
    "    Returns:\n",
    "    A plot for the triplet STDP rule\n",
    "    '''\n",
    "    \n",
    "    # Calculate the synaptic change via the specific function\n",
    "    Delta_t1, DeltaW = DeltaW_tripSTDP(A_plus, A_minus, tau_plus, tau_minus, tau_y, Delta_t2)\n",
    "    \n",
    "    # Plotting\n",
    "    plt.figure(figsize=(8,6))\n",
    "    plt.plot([Delta_t1[0], Delta_t1[-1]], [0, 0], 'k', linestyle=':')\n",
    "    plt.plot([0, 0], [-0.1, 0.1], 'k', linestyle=':')\n",
    "\n",
    "    plt.plot(Delta_t1[Delta_t1 <= 0], DeltaW[Delta_t1 <= 0], 'r')\n",
    "    plt.plot(Delta_t1[Delta_t1 > 0], DeltaW[Delta_t1 > 0], 'b')\n",
    "\n",
    "    plt.xlabel(r'$\\Delta t=$ t$_{\\mathrm{post}}$ - t$_{\\mathrm{pre}}$ (ms)',fontsize = 16)\n",
    "    plt.ylabel(r'$\\Delta $W (%)')\n",
    "    plt.title('The triplet STDP rule', fontsize=18, fontweight='bold')\n",
    "    plt.show()\n",
    "    \n",
    "    \n",
    "def pair_track_plot(t_range,pre_spike,r1,post_spike,o1,w):\n",
    "    '''\n",
    "    Generates plots for the pre- and postsynaptic spike trains and detector traces over time,\n",
    "              under the pairwise STDP rule. \n",
    "              A plot showing the synaptic weight over time is also shown.\n",
    "              \n",
    "    Parameters:\n",
    "    t_range    (1D numpy array) : time interval [s]\n",
    "    pre_spike  (1D numpy array) : presynaptic spike train over time (binary array with value 1\n",
    "                                  at time t if there was a spike a time t, 0 at time t otherwise).\n",
    "    r1         (1D numpy array) : presynaptic detector trace over time \n",
    "    post_spike (1D numpy array) : postsynaptic spike train over time (analougous to the presyn. spike train)\n",
    "    o1         (1D numpy array) : postsynaptic detector trace over time \n",
    "    w:         (1D numpy array) : synaptic weight over time\n",
    "    \n",
    "    Returns:\n",
    "    Five subplots described above.\n",
    "    '''\n",
    "    \n",
    "    # Plotting\n",
    "    fig, (ax1, ax2, ax3, ax4, ax5) = plt.subplots(5,1, figsize=(8,12));\n",
    "    # Raster plot\n",
    "    if pre_spike.sum() > 0.:\n",
    "        t_sp = t_range[pre_spike > 0.5]  # spike times\n",
    "        ax1.plot(1000*t_sp, np.ones(len(t_sp)), '|',color=\"dimgrey\", ms=50, markeredgewidth=2)\n",
    "    ax1.set_yticklabels([])\n",
    "    ax1.set_xlabel(\"time (ms)\", fontsize=12);\n",
    "    ax1.set_ylabel(\"spike train\", fontsize=12);\n",
    "    ax1.set_title(\"Presynaptic spike train\", fontsize=14);\n",
    "    # Presynaptic detector trace\n",
    "    ax2.plot(1000*t_range,r1,color=\"dimgrey\");\n",
    "    ax2.set_xlabel(\"time (ms) \", fontsize=12);\n",
    "    ax2.set_ylabel(\"$r_1(t)$\", fontsize=12);\n",
    "    ax2.set_title(\"Presynaptic detector trace\", fontsize=14);\n",
    "    # Raster plot\n",
    "    if post_spike.sum() > 0.:\n",
    "        t_sp = t_range[post_spike > 0.5]  # spike times\n",
    "        ax3.plot(1000*t_sp, np.ones(len(t_sp)), '|',color=\"black\", ms=50, markeredgewidth=2)\n",
    "    ax3.set_yticklabels([])\n",
    "    ax3.set_xlabel(\"time (ms) \", fontsize=12);\n",
    "    ax3.set_ylabel('spike train', fontsize=12);\n",
    "    ax3.set_title(\"Postsynaptic spike train\", fontsize=14);\n",
    "    # Postsynaptic detector trace\n",
    "    ax4.plot(1000*t_range,o1,color=\"black\");\n",
    "    ax4.set_xlabel(\"time (ms) \", fontsize=12);\n",
    "    ax4.set_ylabel('$o_1(t)$', fontsize=12);\n",
    "    ax4.set_title(\"Postsynaptic detector trace\", fontsize=14);\n",
    "    # Synaptic weight\n",
    "    ax5.plot(1000*t_range,w,'b');\n",
    "    ax5.set_xlabel(\"time (ms) \", fontsize=12);\n",
    "    ax5.set_ylabel('$W(t)$', fontsize=14);\n",
    "    ax5.set_title(\"Synaptic weight\", fontsize=12);\n",
    "    ax1.get_shared_x_axes().join(ax1, ax2, ax3, ax4, ax5)\n",
    "    \n",
    "def trip_track_plot(t_range,pre_spike,r1,post_spike,o1,o2,w):\n",
    "    '''\n",
    "    Generates plots for the pre- and postsynaptic spike trains and detector traces over time,\n",
    "              under the triplet STDP rule. \n",
    "              A plot showing the synaptic weight over time is also shown.\n",
    "              Note that this function is analougous to the previous pair_track_plot, \n",
    "              with the additon of the second postsynaptic detector.\n",
    "              \n",
    "    Parameters:\n",
    "    t_range    (1D numpy array) : time interval [ms]\n",
    "    pre_spike  (1D numpy array) : presynaptic spike train over time (binary array with value 1\n",
    "                                  at time t if there was a spike a time t, 0 at time t otherwise).\n",
    "    r1         (1D numpy array) : presynaptic detector trace over time \n",
    "    post_spike (1D numpy array) : postsynaptic spike train over time (analougous to the presyn. spike train)\n",
    "    o1         (1D numpy array) : postsynaptic detector trace over time \n",
    "    o2         (1D numpy array) : second postsynaptic detector trace over time \n",
    "    w:         (1D numpy array) : synaptic weight over time\n",
    "    \n",
    "    Returns:\n",
    "    Six subplots described above.\n",
    "    '''\n",
    "  \n",
    "    # Plotting\n",
    "    fig, (ax1, ax2, ax3, ax4, ax5, ax6) = plt.subplots(6,1, figsize=(8,12)); #gridspec_kw={'height_ratios': [3, 1]})\n",
    "    # Raster plot\n",
    "    if pre_spike.sum() > 0.:\n",
    "        t_sp = t_range[pre_spike > 0.5]  # spike times\n",
    "        ax1.plot(1000*t_sp, np.ones(len(t_sp)), '|',color=\"dimgrey\", ms=50, markeredgewidth=2)\n",
    "    ax1.set_yticklabels([])\n",
    "    ax1.set_xlabel(\"time (ms)\", fontsize=12);\n",
    "    ax1.set_ylabel(\"spike train\", fontsize=12);\n",
    "    ax1.set_title(\"Presynaptic spike train\", fontsize=14);\n",
    "    # Presynaptic detector trace\n",
    "    ax2.plot(1000*t_range,r1,color=\"dimgrey\");\n",
    "    ax2.set_xlabel(\"time (ms) \", fontsize=12);\n",
    "    ax2.set_ylabel(\"$r_1(t)$\", fontsize=12);\n",
    "    ax2.set_title(\"Presynaptic detector trace\", fontsize=14);\n",
    "    # Raster plot\n",
    "    if post_spike.sum() > 0.:\n",
    "        t_sp = t_range[post_spike > 0.5]  # spike times\n",
    "        ax3.plot(1000*t_sp, np.ones(len(t_sp)), '|',color=\"black\", ms=50, markeredgewidth=2)\n",
    "    ax3.set_yticklabels([])    \n",
    "    ax3.set_xlabel(\"time (ms) \", fontsize=12);\n",
    "    ax3.set_ylabel('spike train', fontsize=12);\n",
    "    ax3.set_title(\"Postsynaptic spike train\", fontsize=14);\n",
    "    # Postsynaptic detector trace\n",
    "    ax4.plot(1000*t_range,o1,color=\"black\");\n",
    "    ax4.set_xlabel(\"time (ms) \", fontsize=12);\n",
    "    ax4.set_ylabel('$o_1(t)$', fontsize=12);\n",
    "    ax4.set_title(\"Postsynaptic detector trace\", fontsize=14);\n",
    "    # Second postsynaptic detector trace\n",
    "    ax5.plot(1000*t_range,o2,color=\"black\");\n",
    "    ax5.set_xlabel(\"time (ms) \", fontsize=12);\n",
    "    ax5.set_ylabel('o_2(t)', fontsize=12);\n",
    "    ax5.set_title(\"Second postsynaptic spike train\", fontsize=14);\n",
    "    # Synaptic weight\n",
    "    ax6.plot(1000*t_range,w,'b');\n",
    "    ax6.set_xlabel(\"time (ms) \", fontsize=12);\n",
    "    ax6.set_ylabel('$W(t)$', fontsize=14);\n",
    "    ax6.set_title(\"Synaptic weight\", fontsize=12);\n",
    "    ax1.get_shared_x_axes().join(ax1, ax2, ax3, ax4, ax5, ax6)\n",
    "    \n",
    "def plot_over_frequency(rho_vec,DeltaW,DeltaT):\n",
    "    '''\n",
    "    Generates a plot for the synaptic change as a function of the frequency of pairs of presynaptic and postsynaptic spikes\n",
    "    \n",
    "    Parameters: \n",
    "    rho_vec  (1D numpy array) : frequency values of pairs of presynaptic and postsynaptic spikes\n",
    "    DeltaW   (1D numpy array) : synaptic change(in %) as a function of the frequency.\n",
    "    \n",
    "    Returns:\n",
    "    Two plots for the weight change in a pairing protocol as a function of the frequency:\n",
    "    the first one for Delta_t >0 (pre-post pairing)\n",
    "    the second one for Delta_t <0 (post-pre pairing)\n",
    "    '''\n",
    "    DeltaT = 1000*DeltaT # convert seconds in milliseconds\n",
    "    plt.figure(figsize=(6,5))\n",
    "    plt.plot(rho_vec,DeltaW,color=\"blue\",label='$\\Delta t =$ %d ms' %DeltaT)\n",
    "    plt.ylim([-0.6, 1])\n",
    "    plt.legend(fontsize=10)\n",
    "    plt.xlabel(r'$\\rho$(Hz)',fontsize=12)\n",
    "    plt.ylabel(r'$\\Delta $W',fontsize=12)\n",
    "    plt.title(r'Weight change over frequency', fontsize=14)\n",
    "    plt.show()"
   ]
  },
  {
   "cell_type": "markdown",
   "id": "8c5c32de-5a73-4761-89a9-007651be0d9d",
   "metadata": {
    "tags": []
   },
   "source": [
    "## The pair-based STDP rule"
   ]
  },
  {
   "cell_type": "markdown",
   "id": "9a347596-eef3-454e-81cf-793846fe22af",
   "metadata": {
    "tags": []
   },
   "source": [
    "### Coding Exercise 1: the pair-based STDP function"
   ]
  },
  {
   "cell_type": "markdown",
   "id": "2ee2d814-22bc-48ba-8b37-217f3ea95135",
   "metadata": {},
   "source": [
    "Let's begin by visualizing the **pairwise spike timing dependent plasticity (STDP) rule**. \n",
    "Recall that, under this rule, the synaptic weight increases (*long-term potentiation*) if a postsynaptic spike follows a presynaptic spike within a short time window, whereas the synaptic weight decreases (*long-term depression*) if the opposite occurs: "
   ]
  },
  {
   "cell_type": "markdown",
   "id": "1f8ef00c-9449-4ae6-bd35-7dc61bbdfc0a",
   "metadata": {},
   "source": [
    "$$\n",
    "\\Delta W (\\Delta t) = \\begin{cases}\n",
    "A_+e^{-\\Delta t/\\tau_+} & \\text{if } \\Delta t\\geq 0 \\\\\n",
    "-A_-e^{\\Delta t/\\tau_-} & \\text{if } \\Delta t<0\n",
    "\\end{cases}\n",
    "$$\n",
    "\n",
    "where $A_+, A_-$ are positive constants. "
   ]
  },
  {
   "cell_type": "markdown",
   "id": "369926a1-8573-4505-b4ec-bf5ff1bded12",
   "metadata": {},
   "source": [
    "In the following exercise, you will fill a function script for the pairwise STDP rule.\n",
    "Consider the time difference $\\Delta t = t_{post} - t_{pre}$ between a post- and a presynaptic spike and compute the weight change $\\Delta W$ as a function of $\\Delta t$.\n",
    "\n",
    "After plotting and visualising the pair-based STDP rule for some specific values, you can play with the sliders and see how varying the parameters changes the shape of the STDP function (and therefore, how it influences the synaptic weight change).\n",
    "\n",
    "How do the temporal constants and the amplitude values shape the STDP window? What can you tell about the influence of these parameters on the synaptic change? \n",
    "\n",
    "*Bonus question*: what do you think will happen if we replace $A_+$ with $-A_+$ and we replace $-A_-$ with $A_-$?"
   ]
  },
  {
   "cell_type": "code",
   "execution_count": null,
   "id": "01aa4a57-fde6-42ba-a892-496a2e05c267",
   "metadata": {},
   "outputs": [],
   "source": [
    "def DeltaW_pairSTDP(A_plus, A_minus, tau_plus, tau_minus):\n",
    "    \"\"\"    \n",
    "    Implements the pairwise STDP rule and calculates the instantaneous synaptic weight change due to the STDP pairwise rule\n",
    "    \n",
    "    Parameters:\n",
    "    A_plus     (number) : maximum amount of potentiation (LTP)\n",
    "    A_minus    (number) : maximum amount of depression (LTD)\n",
    "    tau_plus   (number) : LTP time constant [s]\n",
    "    tau_minus  (number) : LTD time constant [s]\n",
    "    \n",
    "    Returns:\n",
    "    Delta_t (1D numpy array) : time differences between post- and presynaptic spikes [s]\n",
    "    DeltaW  (1D numpy array) : synaptic weight change DeltaW due to the pairwise STDP rule over time.\n",
    "    \"\"\"\n",
    "    # Define the array with the time differences between post- and presynaptic spikes\n",
    "    Delta_t = np.linspace(-200, 200, 50)\n",
    "    # Initialize the STDP change\n",
    "    DeltaW = np.zeros(len(Delta_t))\n",
    "    # >>> EXERCISE\n",
    "    # 1. Calculate the synaptic change DeltaW for potentiation (LTP)\n",
    "    # 2. Calculate the synaptic change DeltaW for depression (LTD)\n",
    "    DeltaW[Delta_t > 0] = A_plus * np.exp(-Delta_t[Delta_t > 0] / tau_plus)\n",
    "    DeltaW[Delta_t <= 0] = -A_minus * np.exp(Delta_t[Delta_t <= 0] / tau_minus)\n",
    "    # <<< \n",
    "    return Delta_t, DeltaW\n",
    "\n",
    "# Plot the pairwise STDP function \n",
    "interact(pairSTDP_plot, A_plus = (0.01,0.1,1e-3), A_minus = (0.01,0.1,1e-3), tau_plus = (10,70,0.1), tau_minus  = (10,70,0.1));"
   ]
  },
  {
   "cell_type": "markdown",
   "id": "d418b04b-e73c-415c-b021-73790b5ecd20",
   "metadata": {
    "tags": []
   },
   "source": [
    "## Pre- and postsynaptic event detectors and spike trains \n",
    "\n",
    "Good job so far! You will now deepen the analysis of the pairwise STDP rule by visualising how the synaptic change is related to two specific spike trains (pre- and post), which are randomly generated under the Poisson distribution. This probabilistic distribution is commonly used for simulating spike trains."
   ]
  },
  {
   "cell_type": "markdown",
   "id": "349cf557-8db3-49d8-9761-cefd3bc19872",
   "metadata": {
    "tags": []
   },
   "source": [
    "### Bonus: Poisson spike train \n",
    "\n",
    "The next function generates a train of spikes drawn from the Poisson distribution. The output will be an array of binary values: this array will take the value 1 at time *t* if there is a spike at time *t*, 0 otherwise.\n",
    "\n",
    "You can just run the cell below, however if you have extra time you can check how this is implemented. "
   ]
  },
  {
   "cell_type": "code",
   "execution_count": null,
   "id": "b967aea0-efb0-4a07-8c1b-57cd512ff2a0",
   "metadata": {},
   "outputs": [],
   "source": [
    "def Poisson_spike_train(discretization_step, t_range, rate, myseed=False):\n",
    "    \"\"\"\n",
    "    Generates a Poisson spike train\n",
    "    \n",
    "    Parameters:\n",
    "    discretization_step   (number) : discretization time step [s]\n",
    "    t_range       (1D numpy array) : time interval [s]\n",
    "    rate                  (number) : intensity of the Poisson process [Hz]\n",
    "    myseed                (number) : random seed. int or boolean\n",
    "\n",
    "    Returns:\n",
    "    Poisson_train (1D numpy array) : a spike train of binary values (1 if spike, 0 otherwise)\n",
    "    \"\"\"\n",
    "    # set random seed\n",
    "    if myseed:\n",
    "        np.random.seed(seed=myseed)\n",
    "    else:\n",
    "        np.random.seed()\n",
    "\n",
    "    # generate an uniformly distributed random variable (for the ISI = interspike interval)\n",
    "    unirnd = np.random.rand(len(t_range))\n",
    "\n",
    "    # generate Poisson train\n",
    "    # note that we divide by 1000 in the expression below because the time is measured in ms, \n",
    "    # whereas the intensity is given in Hz (s^-1)\n",
    "    poisson_train = 1. * (unirnd < rate * (discretization_step))\n",
    "\n",
    "    return poisson_train"
   ]
  },
  {
   "cell_type": "markdown",
   "id": "d52e71c8-4e8a-45d7-af01-42f896fab037",
   "metadata": {
    "tags": []
   },
   "source": [
    "### Coding exercise 2: keeping track"
   ]
  },
  {
   "cell_type": "markdown",
   "id": "0b56349c-acb0-4528-a839-9ca557cd52fb",
   "metadata": {},
   "source": [
    "In this section, we focus on how the precise timing of a presynaptic (*resp*. postsynaptic) spike induces depression (*resp.* potentiation) in a synaptic connection between two neurons.\n",
    "A standard way to analyse this phenomenon is to keep track of the pre- and postsynaptic events. We call $r_1(t)$ a detector of presynaptic events and $o_1(t)$ a detector of postsynaptic events. These quantities are abstract variables, that describe quantities that increase after spike arrival: for instance, $r_1(t)$ could describe the amount of glutamate bound to a postsynaptic receptor, whereas $o_1(t)$ could represent the voltage trace of a back-propagating action potential. However, we are interested in their trend related to the spiking activity, rather than what they describe.\n",
    "\n",
    "- The variable $r_1$ increases whenever there is a presynaptic spike and decreases back to zero otherwise with a time constant of $\\tau_+$. \n",
    "\n",
    "- The variable $o_1$ increases whenever there is a postsynaptic spike and decreases back to zero otherwise with a time constant of $\\tau_-$. \n",
    "\n",
    "\n",
    "We can then describe the dynamics for these detectors with the following equations. \n",
    "\n",
    "For the presynaptic train:\n",
    "$$\n",
    "\\frac{dr_1(t)}{dt} = - \\frac{r_1(t)}{\\tau_+} \\text{ and whenever there is a presynaptic spike at time }t^{\\text{pre}}\\text{, } r_1 \\rightarrow r_1 +1\n",
    "$$\n",
    "\n",
    "And for the postsynaptic train:\n",
    "$$\n",
    "\\frac{do_1(t)}{dt} = - \\frac{o_1(t)}{\\tau_-} \\text{ and whenever there is a postsynaptic spike at time }t^{\\text{post}}\\text{, } o_1 \\rightarrow o_1 +1 \n",
    "$$\n",
    "\n",
    "These variables allow us to keep track of spikes. In the previous section, we have seen how the synapse changes as a function of the time difference between spikes. It is possible to define the synaptics change $W$ as a function of these detectors.\n",
    "\n",
    "$$\n",
    " W = \\begin{cases}\n",
    "W - o_1(t) A_-, & \\text{if } t=t^{\\text{pre}} \\\\\n",
    "W + r_1(t) A_+,& \\text{if } t=t^{\\text{post}}\n",
    "\\end{cases}\n",
    "$$\n",
    "\n",
    "that is the weight decreases after presynaptic spike by an amount that is proportional to the value of the postsynaptic variable $o_1$, and increases after postsynaptic spike by an amount that is proportional to the value of the presynaptic variable $r_1$.\n",
    "\n",
    "In the following exercise, you will complete a function that implements this standard procedure. If everything is correct, you will see the correspondence between the spike trains and the detector traces, and how they shape the synaptic connection."
   ]
  },
  {
   "cell_type": "code",
   "execution_count": null,
   "id": "d0f76a9f-b546-470e-b0a6-a4de395db432",
   "metadata": {},
   "outputs": [],
   "source": [
    "# Keeping track of the detectors\n",
    "def detectors_pairSTDP(t_range,pre_spike,post_spike,A_plus,A_minus,tau_plus,tau_minus,discretization_step,w0):\n",
    "    '''\n",
    "    This function implements a standard way to keep track of the pre- and postsynaptic spike times of two given spike trains,\n",
    "    under the pair-based STDP rule. \n",
    "    It calculates the pre- and postsynaptic detector traces over time, as well as the synaptic weight over time. \n",
    "\n",
    "    Parameters:\n",
    "    t_range    (1D numpy array) : time interval [s]\n",
    "    pre_spike  (1D numpy array) : presynaptic spike train over time (binary array with value 1\n",
    "                                  at time t if there was a spike a time t, 0 at time t otherwise).\n",
    "    post_spike (1D numpy array) : postsynaptic spike train over time (analougous to the presyn. spike train)\n",
    "    A_plus     (number) : maximum amount of potentiation (LTP)\n",
    "    A_minus    (number) : maximum amount of depression (LTD)\n",
    "    tau_plus   (number) : LTP time constant [s]\n",
    "    tau_minus  (number) : LTD time constant [s]    \n",
    "    discretization_step(number) : discretization time step [ms]\n",
    "    w0         (number) : initial synaptic weight \n",
    "\n",
    "    Returns:\n",
    "    r1         (1D numpy array) : presynaptic detector trace over time \n",
    "    o1         (1D numpy array) : postsynaptic detector trace over time \n",
    "    w:         (1D numpy array) : synaptic weight over time\n",
    "    '''\n",
    "    \n",
    "    # Initialize the synaptic weight\n",
    "    w = np.ones(len(t_range))\n",
    "    w[0] = w0\n",
    "    # Initialize the pre- and postsynaptic event detectors\n",
    "    r1 = np.zeros(len(t_range))        # presynaptic event detector\n",
    "    o1 = np.zeros(len(t_range))        # postsynaptic event detector\n",
    "    for i in range(len(t_range)-1):\n",
    "        if i==0:\n",
    "            continue\n",
    "        w[i+1]=w[i]\n",
    "        # >>> EXERCISE\n",
    "        # if there is a presynaptic spike...\n",
    "        # 1. Update the presynaptic detector\n",
    "        # 2. Update the synaptic weight\n",
    "        if pre_spike[i]==1:     \n",
    "            r1[i] += 1\n",
    "            w[i+1] = w[i] - o1[i]*A_minus \n",
    "        # <<<\n",
    "        # >>> EXERCISE\n",
    "        # if there is a postsynaptic spike...\n",
    "        # 1. Update the postsynaptic detector\n",
    "        # 2. Update the synaptic weight\n",
    "        if post_spike[i]==1:    \n",
    "            o1[i] += 1\n",
    "            w[i+1] = w[i] + r1[i]*A_plus\n",
    "        # <<<\n",
    "        # >>> EXERCISE\n",
    "        # Apply Euler's method to the detector equations\n",
    "        r1[i+1] = r1[i] - discretization_step * r1[i]/tau_plus\n",
    "        o1[i+1] = o1[i] - discretization_step * o1[i]/tau_minus\n",
    "        # <<<\n",
    "    return r1,o1,w"
   ]
  },
  {
   "cell_type": "code",
   "execution_count": null,
   "id": "77a47f6b-f14b-4e6c-a72d-9e2288c35b80",
   "metadata": {},
   "outputs": [],
   "source": [
    "# Define the STDP rule parameters\n",
    "A_plus = 0.05       # maximum amount of potentiation (LTP)\n",
    "A_minus = 0.05      # maximum amount of potentiation (LTD)\n",
    "tau_plus = 20e-3       # LTP time constant [s]\n",
    "tau_minus = 20e-3      # LTD time constant [s]\n",
    "discretization_step=1e-4 # discretization time step [s]\n",
    "t_range=np.arange(0,1,discretization_step)     # time interval [s]\n",
    "\n",
    "# Generate a presynaptic spike train\n",
    "pre_spike = Poisson_spike_train(discretization_step, t_range, rate=15, myseed=7)\n",
    "# Generate a postsynaptic spike train\n",
    "post_spike = Poisson_spike_train(discretization_step, t_range, rate=15, myseed=1)\n",
    "# Initialize the synaptic weight\n",
    "w0 = 1\n",
    "# Keep track of the pre- and postsynaptic detector traces and the synaptic weight over time \n",
    "r1,o1,w = detectors_pairSTDP(t_range,pre_spike,post_spike,A_plus,A_minus,tau_plus,tau_minus,discretization_step,w0)\n",
    "# Plotting\n",
    "pair_track_plot(t_range,pre_spike,r1,post_spike,o1,w)"
   ]
  },
  {
   "cell_type": "markdown",
   "id": "ce07f089-ff7c-49c3-855b-fadedcf4a865",
   "metadata": {
    "tags": []
   },
   "source": [
    "## The triplet STDP rule"
   ]
  },
  {
   "cell_type": "markdown",
   "id": "b58dc894-c017-4182-88ea-e14266dc07e7",
   "metadata": {},
   "source": [
    "Let's now turn to the **triplet spike timing dependent plasticity (STDP) rule**, which uses sets of three spikes to induce *long term potentiation*, and pairs of spikes to induce *long term depression*.\n",
    "\n",
    "Recall that, under this rule, potentiation depends on the interval $\\Delta t_1$ between the pre- and postsynaptic spikes, and on the timing $\\Delta t_2$ of the previous postsynaptic spike, whereas *long-term depression* depends only on $\\Delta t_1$."
   ]
  },
  {
   "cell_type": "markdown",
   "id": "065753e1-60dc-4663-9e9d-8021485b5dbb",
   "metadata": {},
   "source": [
    "$$\n",
    "\\Delta W (\\Delta t) = \\begin{cases}\n",
    "A_+e^{-\\Delta t_1/\\tau_+}e^{-\\Delta t_2/\\tau_y} & \\text{if } \\Delta t_1\\geq 0, \\Delta t_2\\geq 0 \\\\\n",
    "-A_-e^{\\Delta t/\\tau_-} & \\text{if } \\Delta t_1<0\n",
    "\\end{cases}\n",
    "$$\n",
    "\n",
    "where $\\Delta t_1 = t_{post} - t_{pre}$ denotes the time difference between a post- and a presynaptic spike and $\\Delta t_2 = t_{post} - t'_{post}$ denotes the time difference between two consecutive postpresynaptic spikes."
   ]
  },
  {
   "cell_type": "markdown",
   "id": "97515394-9a62-47d7-86d8-556248c8ce3d",
   "metadata": {},
   "source": [
    "In the following exercise, you will fill a function script for the triplet STDP rule.\n",
    "Consider the time difference $\\Delta t_1$ between a post- and a presynaptic spike and compute the weight change $\\Delta W$ as a function of $\\Delta t_1$ for a given value of $\\Delta t_2$. Then, you can play again with the interactive plot. This time, you will focus on how varying the time difference $\\Delta t_2$ between two postsynaptic spikes changes the shape of the STDP function (and therefore, how it influences the synaptic weight change). Enjoy it!\n",
    "\n",
    "*Bonus*: in the interactive plot, the other parameters for the STDP rule are fixed. You can explore how the STDP function would change by varying the other parameters as well (and not only $\\Delta t_2$), by editing the last row in the cell. "
   ]
  },
  {
   "cell_type": "markdown",
   "id": "51ee6d62-8768-447a-8201-eb83bac86a88",
   "metadata": {
    "tags": []
   },
   "source": [
    "### Coding Exercise 3: the triplet STDP function"
   ]
  },
  {
   "cell_type": "code",
   "execution_count": null,
   "id": "a2dad978-dfd9-464e-970f-35de9e00081d",
   "metadata": {},
   "outputs": [],
   "source": [
    "def DeltaW_tripSTDP(A_plus, A_minus, tau_plus, tau_minus, tau_y, Delta_t2):\n",
    "    \"\"\"\n",
    "    Implements the triplet STDP rule and calculates the instantaneous synaptic weight change due to the triplet STDP rule\n",
    "    \n",
    "    Parameters:\n",
    "    A_plus     (number) : maximum amount of potentiation (LTP)\n",
    "    A_minus    (number) : maximum amount of depression (LTD)\n",
    "    tau_plus   (number) : LTP time constant [s]\n",
    "    tau_minus  (number) : LTD time constant [s]\n",
    "    tau_y      (number) : second LTP time constant [s]\n",
    "    Delta_t2   (number) : time difference between two postsynaptic spikes [s]\n",
    "    \n",
    "    Returns:\n",
    "    Delta_t1 (1D numpy array): time differences between post- and presynaptic spikes [s]\n",
    "    DeltaW  (1D numpy array) : synaptic weight change DeltaW due to the triplet STDP rule over time.\n",
    "    \"\"\"\n",
    "    # Define the array with the time differences between the first postsynaptic spike and the presynaptic spike \n",
    "    Delta_t1 = np.linspace(-100, 100, 50)\n",
    "    # Initialize the STDP change\n",
    "    DeltaW = np.zeros(len(Delta_t1))\n",
    "    # >>> EXERCISE\n",
    "    # 1. Calculate the synaptic change DeltaW for potentiation (LTP)\n",
    "    # 2. Calculate the synaptic change DeltaW for depression (LTD)\n",
    "    DeltaW[Delta_t1 > 0] = A_plus * np.exp(-Delta_t1[Delta_t1 > 0] / tau_plus) * np.exp(-Delta_t2 / tau_y)\n",
    "    DeltaW[Delta_t1 <= 0] = -A_minus * np.exp(Delta_t1[Delta_t1 <= 0] / tau_minus)\n",
    "    # <<<\n",
    "\n",
    "    return Delta_t1, DeltaW\n",
    "\n",
    "# Define the STDP rule parameters\n",
    "A_plus = 0.1    # maximum amount of potentiation (LTP)\n",
    "A_minus = 0.1   # maximum amount of potentiation (LTD)\n",
    "tau_plus = 20   # LTP time constant [ms]\n",
    "tau_minus = 20  # LTD time constant [ms]\n",
    "tau_y = 114     # second LTP time constant [ms]\n",
    "Delta_t2 = 10   # time difference between two postsynaptic spikes [ms]\n",
    "\n",
    "# Plot the triplet STDP function \n",
    "interact(tripletSTDP_plot, A_plus=fixed(0.1), A_minus=fixed(0.1), tau_plus= fixed(20), tau_minus= fixed(20), tau_y= fixed(114), Delta_t2 = (0.1,100,0.1));"
   ]
  },
  {
   "cell_type": "markdown",
   "id": "41558865-3451-4540-9b0f-98fea0844e72",
   "metadata": {
    "tags": []
   },
   "source": [
    "## Detector traces and spike trains "
   ]
  },
  {
   "cell_type": "markdown",
   "id": "791a44e4-5220-4158-98ba-cdd01355b9c8",
   "metadata": {
    "tags": []
   },
   "source": [
    "### Coding exercise 4: keeping track"
   ]
  },
  {
   "cell_type": "markdown",
   "id": "c3d0d076-1edb-4dc5-a559-4a3c88a3c437",
   "metadata": {},
   "source": [
    "We now extend what we have done in section 2 to the triplet rule. The goal of this section is to keep track of the pre- and postsynaptic spikes, and to see how the \"post-pre-post\" sequence shapes the synapse between two neurons. The same quantities $r_1$ and $o_1$ are involved, with the same meaning.\n",
    "\n",
    "However, since we are now considering two postsynaptic spikes rather than one, we need to add a second detector for the postsynaptic train:\n",
    "\n",
    "$$\n",
    "\\frac{do_2(t)}{dt} = - \\frac{o_2(t)}{\\tau_y} \\text{ and whenever there is a postsynaptic spike at time }t^{\\text{post}}\\text{, } o_2 \\rightarrow o_2 +1 \n",
    "$$\n",
    "\n",
    "Therefore, the synaptics change can be now expressed as\n",
    "\n",
    "$$\n",
    "W \\rightarrow \\begin{cases}\n",
    " W- o_1(t) A_-, & \\text{if } t=t^{\\text{pre}} \\\\\n",
    " W+ r_1(t) A_+ o_2(t),& \\text{if } t=t^{\\text{post}}\n",
    "\\end{cases}\n",
    "$$\n",
    "\n",
    "In the following exercise, you will generalise the \"keeping track\" code to the triplet STDP case.\n",
    "\n",
    "What differences do you notice with the pairwise STDP case?"
   ]
  },
  {
   "cell_type": "code",
   "execution_count": null,
   "id": "c611d496-77b0-4ae1-9dcf-fc0c5664c792",
   "metadata": {},
   "outputs": [],
   "source": [
    "# Keeping track of the detectors\n",
    "def detectors_tripSTDP(t_range,pre_spike,post_spike,A_plus,A_minus,tau_plus,tau_minus,tau_y,discretization_step,w0):\n",
    "    '''\n",
    "    This function implements a standard way to keep track of the pre- and postsynaptic spike times of two given spike trains,\n",
    "    under the triplet STDP rule. \n",
    "    It calculates the pre- and the two postsynaptic detector traces over time, as well as the synaptic weight over time. \n",
    "    \n",
    "    Parameters:\n",
    "    t_range    (1D numpy array) : time interval [s]\n",
    "    pre_spike  (1D numpy array) : presynaptic spike train over time (binary array with value 1\n",
    "                                  at time t if there was a spike a time t, 0 at time t otherwise).\n",
    "    post_spike (1D numpy array) : postsynaptic spike train over time (analougous to the presyn. spike train)\n",
    "    A_plus     (number) : maximum amount of potentiation (LTP)\n",
    "    A_minus    (number) : maximum amount of depression (LTD)\n",
    "    tau_plus   (number) : LTP time constant [s]\n",
    "    tau_minus  (number) : LTD time constant [s]    \n",
    "    tau_y      (number) : second LTD time constant [s]    \n",
    "    discretization_step(number) : discretization time step [s]\n",
    "    w0         (number) : initial synaptic weight \n",
    "\n",
    "    Returns:\n",
    "    r1         (1D numpy array) : presynaptic detector trace over time \n",
    "    o1         (1D numpy array) : postsynaptic detector trace over time \n",
    "    o2         (1D numpy array) : second postsynaptic detector trace over time \n",
    "    w:         (1D numpy array) : synaptic weight over time\n",
    "    '''\n",
    "    \n",
    "    # Initialize the synaptic weight\n",
    "    w = np.ones(len(t_range))\n",
    "    w[0] = w0\n",
    "    # Initialize the pre- and postsynaptic event detectors\n",
    "    r1 = np.zeros(len(t_range))        # presynaptic event detector\n",
    "    o1 = np.zeros(len(t_range))        # postsynaptic event detector\n",
    "    o2 = np.zeros(len(t_range))        # postsynaptic event detector\n",
    "    for i in range(len(t_range)-1):\n",
    "        if i==0:\n",
    "            continue\n",
    "        w[i+1]=w[i]\n",
    "        # >>> EXERCISE\n",
    "        # if there is a presynaptic spike...\n",
    "        # 1. Update the presynaptic detector\n",
    "        # 2. Update the synaptic weight\n",
    "        if pre_spike[i]==1:     \n",
    "            r1[i] += 1\n",
    "            w[i+1] = w[i] - o1[i]*A_minus \n",
    "        # <<<\n",
    "        # >>> EXERCISE\n",
    "        # if there is a postsynaptic spike...\n",
    "        # 1. Update the postsynaptic detector\n",
    "        # 2. Update the synaptic weight\n",
    "        # 3. Update the second postsynaptic detector\n",
    "        if post_spike[i]==1:    \n",
    "            o1[i] += 1\n",
    "            w[i+1] = w[i] + r1[i]*A_plus*o2[i]\n",
    "            o2[i] += 1\n",
    "        # <<<\n",
    "        # >>> EXERCISE\n",
    "        # Apply Euler's method to the detector equations\n",
    "        r1[i+1] = r1[i] - discretization_step * r1[i]/tau_plus\n",
    "        o1[i+1] = o1[i] - discretization_step * o1[i]/tau_minus\n",
    "        o2[i+1] = o2[i] - discretization_step * o2[i]/tau_y\n",
    "        # <<<\n",
    "    return r1,o1,o2,w"
   ]
  },
  {
   "cell_type": "code",
   "execution_count": null,
   "id": "4def7b29-07d2-44f4-95b8-49f8a0d27ad6",
   "metadata": {},
   "outputs": [],
   "source": [
    "# Define the STDP rule parameters\n",
    "A_plus = 0.05       # maximum amount of potentiation (LTP)\n",
    "A_minus = 0.05      # maximum amount of potentiation (LTD)\n",
    "tau_plus = 20e-3  # LTP time constant [s]\n",
    "tau_minus = 20e-3 # LTD time constant [s]\n",
    "tau_y = 114e-3    # second LTP time constant [s]\n",
    "discretization_step=1e-4 # discretization time step [s]\n",
    "t_range=np.arange(0,1,discretization_step)     # time interval [s]\n",
    "\n",
    "# Generate a presynaptic spike train\n",
    "pre_spike = Poisson_spike_train(discretization_step, t_range, rate=15, myseed=7)\n",
    "# Generate a postsynaptic spike train\n",
    "post_spike = Poisson_spike_train(discretization_step, t_range, rate=15, myseed=1)\n",
    "# Initialize the synaptic weight\n",
    "w0 = 1\n",
    "# Keep track of the pre- and postsynaptic detector traces and the synaptic weight over time \n",
    "r1,o1,o2,w = detectors_tripSTDP(t_range,pre_spike,post_spike,A_plus,A_minus,tau_plus,tau_minus,tau_y,discretization_step,w0)\n",
    "# Plotting\n",
    "trip_track_plot(t_range,pre_spike,r1,post_spike,o1,o2,w)"
   ]
  },
  {
   "cell_type": "markdown",
   "id": "736ba7f3-124b-4e6a-a85a-2d4a656300cb",
   "metadata": {
    "tags": []
   },
   "source": [
    "## Pairing protocol analysis: matching the data"
   ]
  },
  {
   "cell_type": "markdown",
   "id": "5b641ce8-bde1-4a2b-9903-ef334fe9f8bf",
   "metadata": {},
   "source": [
    "The classical STDP protocol consist of eliciting pairs of presynaptic and postsynaptic spikes at a given frequency $\\rho$, so the time distance between two consecutive pairs is $1/\\rho$, whereas the pre- and postsynaptic spikes are shifted by a fixed time $\\Delta t < 1/\\rho $. We study the weight change as a function of the frequency $\\rho$ for a fixed $\\Delta t$.\n",
    "\n",
    "In our case, 60 pairs of spikes shifted by either $\\Delta t = 10 $ ms (therefore a postsynaptic spike **follows** a presynaptic spike after 10 ms) or $\\Delta t = - 10 $ ms (therefore a postsynaptic spike **is followed by** a presynaptic spike after 10 ms) are elicited at regular intervals of 1/$\\rho$, for $\\rho \\in [0.1,50]$ Hz. \n",
    "\n",
    "We calculate the synaptic change with both the pair-based and the triplet STDP functions as described in the previous sections of this tutorial, and we compare our results with the experimental data from [Sjöström et al, Neuron (2021)](https://doi.org/10.1016/s0896-6273(01)00542-6) \n",
    "\n",
    "The data is represented below.  You can see the change in synaptic weight $\\Delta w$ as a function of the frequency $\\rho$, for the two shift in spike-time mentioned above. \n",
    "\n",
    "After completing your coding exercises, we invite you to compare the experimental data with the synaptic change obtained with the pair-based and the triplet STDP rules. \n",
    "\n",
    "<img src=\"https://github.com/comp-neural-circuits/plasticity-workshop/raw/dev/pairing_data.png\" alt=\"experimental data\" style=\"width:500px;\"/>"
   ]
  },
  {
   "cell_type": "markdown",
   "id": "37ffdb43-70b5-4b2e-b175-2705c9c97b60",
   "metadata": {
    "tags": []
   },
   "source": [
    "### Helper function"
   ]
  },
  {
   "cell_type": "markdown",
   "id": "9af04dd4-40cd-40fc-880d-a09887b0d8ac",
   "metadata": {},
   "source": [
    "The following function generates two spike trains (one pre- and one postsynaptic spike train) where neurons fire at the same, fixed time interval. There is however a shift in spike times, so that presynaptic firing either follows or precedes postsynaptic firing.  \n",
    "\n",
    "Before you move on, please take a look at the function."
   ]
  },
  {
   "cell_type": "code",
   "execution_count": null,
   "id": "9d20ddbe-5ca9-4ac6-ba95-d8d3e7ad1ef8",
   "metadata": {},
   "outputs": [],
   "source": [
    "def nonrandom_spike_trains(rho,time_total,DeltaT,discretization_step=1E-4):\n",
    "    \"\"\"\n",
    "    Generates presynaptic and postsynaptic spike trains characterised by a number of pairs \n",
    "    of pre- and post-synaptic spikes with time distance `DeltaT`.\n",
    "    The pairs are repeated at frequency `rho` \n",
    "    \n",
    "    Parameters:\n",
    "    rho (number) : the firing frequency in Hz of each neuron\n",
    "    time_total (number) : the duration of the spike trains, in seconds\n",
    "    DeltaT (number) : the time distance between pre and post spike, in seconds  \n",
    "    discretization_step = 1E-4    : a very small time interval (in seconds), express the spike trains as binary. \n",
    "                                     The default is to consider time-bins of 0.1 ms.                        \n",
    "    \n",
    "    Returns:\n",
    "    times  (1D numpy array) : times associated to binary spiketrain (in seconds)\n",
    "    spiketrain_pre (1D numpy array) : binary array with the first spiketrain (one element is a bin of size `discretization_step`)\n",
    "    spiketrain_post (1D numpy array) : binary array with the second spiketrain\n",
    "    \"\"\"\n",
    "    \n",
    "    assert DeltaT < (1/rho) , \"interval between spikes is too large compared to frequency !\"\n",
    "    \n",
    "    # time vector\n",
    "    times = np.arange(0.0,time_total,discretization_step)\n",
    "    \n",
    "    # spike times, with frequency rho\n",
    "    train1_s = np.arange(0.0,time_total,1/rho) \n",
    "    train2_s = train1_s + abs(DeltaT) # second neuron fires with DeltaT offset \n",
    "    \n",
    "    # spike times in discretized units, converted to integer\n",
    "    train1_discr = (train1_s * (1/discretization_step)).astype(np.int64) \n",
    "    train2_discr = (train2_s * (1/discretization_step)).astype(np.int64)\n",
    "    \n",
    "    # build the binary spike trains, using discretized spike times\n",
    "    train1_bin = np.zeros(len(times))\n",
    "    train1_bin[train1_discr] = 1\n",
    "    train2_bin = np.zeros(len(times))\n",
    "    train2_bin[train2_discr] = 1\n",
    "    # sign of DeltaT determines which spikes first\n",
    "    if DeltaT > 0:\n",
    "        # pre spike before, post spike later\n",
    "        return times,train1_bin,train2_bin\n",
    "    else:\n",
    "        # post spike before, pre spike later\n",
    "        return times,train2_bin,train1_bin"
   ]
  },
  {
   "cell_type": "markdown",
   "id": "999cb0c1-881e-4302-ac88-c7b85ccf1448",
   "metadata": {
    "tags": []
   },
   "source": [
    "### Coding exercise 5: pairing protocol with the pairwise STDP rule"
   ]
  },
  {
   "cell_type": "markdown",
   "id": "a437ccfa-5ce0-4da4-9459-6db24dc84481",
   "metadata": {},
   "source": [
    "Let's begin with the pairing protocol analysis via the pairwise STDP rule. In the next exercise, you will choose the order of spikes in the pre- and postsynaptic spike trains by exploiting the *helper function* above, and you will calculate the synaptic change (the difference between the final weight and the initial weight) for each frequency value provided by the vector *rho_vec*. \n",
    "\n",
    "We will consider both the *pre-post* and the *post-pre* cases."
   ]
  },
  {
   "cell_type": "code",
   "execution_count": null,
   "id": "3a44b4d0-3686-4800-b27f-bdaa6f02094c",
   "metadata": {},
   "outputs": [],
   "source": [
    "# First case: postsynaptic spike follows a presynaptic spike\n",
    "\n",
    "# Initialization \n",
    "num_pairs = 60             # number of pre- and postsyn spike pairs \n",
    "rho_vec = np.array([0.1, 1, 10, 20, 25, 30, 35, 40, 50])        # frequency values [Hz]\n",
    "discretization_step = 1e-4 # (s)\n",
    "tau_plus = 16.8e-3            # LTP time constant (s)\n",
    "tau_minus = 33.7e-3           # LTD time constant (s)\n",
    "A_plus = 5.6e-3            # LTP window amplitude\n",
    "A_minus = 2.1e-3           # LTD window amplitude\n",
    "w0 = 1                     # initial weight\n",
    "\n",
    "# initialize the synaptic change\n",
    "DeltaW = np.zeros(len(rho_vec))        \n",
    "\n",
    "# Calculate the synaptic change for every frequency value\n",
    "for ind,rho in enumerate(rho_vec):\n",
    "    pair_distance = round(1/rho,2)   # time distance between pairs of pre-post spikes.\n",
    "    time_total = num_pairs * (pair_distance - discretization_step)   # length of the whole time interval \n",
    "    # >>> EXERCISE     \n",
    "    # 1. Set the time distance, in seconds, between the pre- and the postsynaptic spikes (pay attention to which one occurs first)\n",
    "    # 2. Generate presynaptic and postsynaptic spike trains characterised by a number of pairs of pre- and \n",
    "    # post-synaptic spikes in the case the postsynaptic spike follows the presynaptic spike\n",
    "    # 3. Calculate the detectors and the synaptic change\n",
    "    # 4. Calculate the weight change between the first and the last time instant, as a function of the given frequency rho\n",
    "    DeltaT = 10e-3 # time distance between a two spikes, post follows pre (s)\n",
    "    times, pre_spike, post_spike = nonrandom_spike_trains(rho,time_total,DeltaT,discretization_step)\n",
    "    r1,o1,w = detectors_pairSTDP(times,pre_spike,post_spike,A_plus,A_minus,tau_plus,tau_minus,discretization_step,w0)\n",
    "    DeltaW[ind]= w[-1]-w[0]\n",
    "    # <<<\n",
    "# Plotting the synaptic change as a function of the frequency for DeltaT > 0\n",
    "plot_over_frequency(rho_vec,DeltaW,DeltaT)"
   ]
  },
  {
   "cell_type": "markdown",
   "id": "f8e1646b-2a92-4a34-b679-8176fd6b61a0",
   "metadata": {},
   "source": [
    "<img src=\"https://github.com/comp-neural-circuits/plasticity-workshop/raw/dev/data_prepost.png\"\n",
    "alt=\"experimental data \" style=\"width:420px;\"/>"
   ]
  },
  {
   "cell_type": "code",
   "execution_count": null,
   "id": "123f231c-e76f-4575-a431-b2fee91bd89c",
   "metadata": {},
   "outputs": [],
   "source": [
    "# Second case: postsynaptic spike followed by a presynaptic spike\n",
    "# Initialization \n",
    "num_pairs = 60             # number of pre- and postsyn spike pairs \n",
    "rho_vec = np.array([0.1, 1, 10, 20, 25, 30, 35, 40, 50])        # frequency values [Hz]\n",
    "discretization_step = 1e-4 # (s)\n",
    "tau_plus = 16.8e-3            # LTP time constant (s)\n",
    "tau_minus = 33.7e-3           # LTD time constant (s)\n",
    "A_plus = 5.6e-3            # LTP window amplitude\n",
    "A_minus = 2.1e-3           # LTD window amplitude\n",
    "w0 = 1                     # initial weight\n",
    "\n",
    "# initialize the synaptic change\n",
    "DeltaW = np.zeros(len(rho_vec))      \n",
    "\n",
    "# Calculate the synaptic change for every frequency value\n",
    "for ind,rho in enumerate(rho_vec):\n",
    "    pair_distance = round(1/rho,2)   # time distance between pairs of pre-post spikes.\n",
    "    time_total = num_pairs * (pair_distance - discretization_step)   # length of the whole time interval \n",
    "    # >>> EXERCISE     \n",
    "    # 1. Set the time distance, in seconds, between the pre- and the postsynaptic spikes (pay attention to which one occurs first)\n",
    "    # 2. Generate presynaptic and postsynaptic spike trains characterised by a number of pairs of pre- and \n",
    "    # post-synaptic spikes in the case the postsynaptic spike is followed by the presynaptic spike\n",
    "    # 3. Calculate the detectors and the synaptic change\n",
    "    # 4. Calculate the weight change between the first and the last time instant, as a function of the given frequency rho\n",
    "    DeltaT = -10e-3 # time distance between a two spikes, post follows pre (s)\n",
    "    times, pre_spike, post_spike = nonrandom_spike_trains(rho,time_total,DeltaT,discretization_step)\n",
    "    r1,o1,w = detectors_pairSTDP(times,pre_spike,post_spike,A_plus,A_minus,tau_plus,tau_minus,discretization_step,w0)\n",
    "    DeltaW[ind]= w[-1]-w[0]\n",
    "    # <<<\n",
    "# Plotting the synaptic change as a function of the frequency for DeltaT < 0\n",
    "plot_over_frequency(rho_vec,DeltaW,DeltaT)"
   ]
  },
  {
   "cell_type": "markdown",
   "id": "4b89d6f4-7f68-4d1d-bc1e-fbf147ada064",
   "metadata": {},
   "source": [
    "<img src=\"https://github.com/comp-neural-circuits/plasticity-workshop/raw/dev/data_postpre.png\"\n",
    "alt=\"experimental data \" style=\"width:420px;\"/>"
   ]
  },
  {
   "cell_type": "markdown",
   "id": "51a5670c-ee2b-48b1-9594-f16f5c37ab96",
   "metadata": {},
   "source": [
    "\n",
    "**Thinking break:** \n",
    "\n",
    "Experiments show that potentiation increases when frequency increases. Why do you think this behavior can not be reproduced by pairwise STDP model? Indeed, in pair-based STDP models, as soon as the frequency increases, the pre-post pairs approach each other and generate an interaction between the postsynaptic spike of one pair and the presynaptic spike of the next pair. The effect of these post-pre pairs should increase with frequency and therefore depress the synapse, which is not what is seen in the experiments. "
   ]
  },
  {
   "cell_type": "markdown",
   "id": "b26b1a45-a160-415e-8c4a-76e392d3dea4",
   "metadata": {
    "tags": []
   },
   "source": [
    "### Coding exercise 6: pairing protocol with the triplet STDP rule"
   ]
  },
  {
   "cell_type": "markdown",
   "id": "20d98c48-2a5d-42b7-b684-d6eedf3b3317",
   "metadata": {},
   "source": [
    "The pair-based STDP rule fails to reproduce frequency effects of the pairing protocol. This is mainly because of the fact that pair-based model are intrinsically symmetric, in the sense that they predict the same weight change for a pre-post pair followed by a post-pre pair with the same delay $\\Delta t$ as for the inverted order i.e., a post-pre pair followed by a pre-post pair (with the same delay $\\Delta$t)] (*Pfister and Gerstner, 2006*). However, there is no a priori reason to think that a pre-post-pre and a post-pre-post triplet should give the same result because they will activate different presynaptic and postsynaptic pathways.\n",
    "How to break the symmetry induced by pair-based model? That's right, with the triplet STDP rule! So, let's turn to the triplet STDP rule and let's see what happens.\n",
    "\n",
    "The following code is completely analogous to the one provided for the pair-based STDP rule. You task will be to extend the previous coding exercise to the triplet rule and think about the results."
   ]
  },
  {
   "cell_type": "code",
   "execution_count": null,
   "id": "40a371f0-cac8-46a5-98fb-e8166bcf3e50",
   "metadata": {},
   "outputs": [],
   "source": [
    "# First case: postsynaptic spike follows a presynaptic spike\n",
    "\n",
    "# Initialization \n",
    "num_pairs = 60             # number of pre- and postsyn spike pairs \n",
    "rho_vec = np.array([0.1, 1, 10, 20, 25, 30, 35, 40, 50])        # frequency values [Hz]\n",
    "discretization_step = 1e-4 # (s)\n",
    "tau_plus = 16.8e-3            # LTP time constant (s)\n",
    "tau_minus = 33.7e-3           # LTD time constant (s)\n",
    "tau_y = 114e-3             # Second LTP time constant (s)\n",
    "A_plus = 6.5e-3             # LTP window amplitude\n",
    "A_minus = 7.1e-3            # LTD window amplitude\n",
    "w0 = 1                     # initial weight\n",
    "\n",
    "# initialize the synaptic change\n",
    "DeltaW = np.zeros(len(rho_vec))        \n",
    "\n",
    "# Calculate the synaptic change for every frequency value\n",
    "for ind,rho in enumerate(rho_vec):\n",
    "    pair_distance = round(1/rho,2)   # time distance between pairs of pre-post spikes.\n",
    "    time_total = num_pairs * (pair_distance - discretization_step)   # length of the whole time interval \n",
    "    # >>> EXERCISE     \n",
    "    # 1. Set the time distance, in seconds, between the pre- and the postsynaptic spikes (pay attention to which one occurs first)\n",
    "    # 2. Generate presynaptic and postsynaptic spike trains characterised by a number of pairs of pre- and \n",
    "    # post-synaptic spikes in the case the postsynaptic spike follows the presynaptic spike\n",
    "    # 3. Calculate the detectors and the synaptic change under the triplet STDP rule\n",
    "    # 4. Calculate the weight change between the first and the last time instant, as a function of the given frequency rho\n",
    "    DeltaT = 10e-3 # time distance between a two spikes, post follows pre (s)\n",
    "    times, pre_spike, post_spike = nonrandom_spike_trains(rho,time_total,DeltaT,discretization_step)\n",
    "    r1,o1,o2,w = detectors_tripSTDP(times,pre_spike,post_spike,A_plus,A_minus,tau_plus,tau_minus,tau_y,discretization_step,w0)\n",
    "    DeltaW[ind]= w[-1]-w[0]\n",
    "    # <<<\n",
    "# Plotting the synaptic change as a function of the frequency for DeltaT > 0\n",
    "plot_over_frequency(rho_vec,DeltaW,DeltaT)"
   ]
  },
  {
   "cell_type": "markdown",
   "id": "7ed16223-51a2-44a0-bcd1-f507283d1c1f",
   "metadata": {},
   "source": [
    "<img src=\"https://github.com/comp-neural-circuits/plasticity-workshop/raw/dev/data_prepost.png\"\n",
    "alt=\"experimental data \" style=\"width:420px;\"/>"
   ]
  },
  {
   "cell_type": "code",
   "execution_count": null,
   "id": "42a20c6c-6269-4cdf-81fe-e85ba61b34f3",
   "metadata": {},
   "outputs": [],
   "source": [
    "# Second case: presynaptic spike follows postsynaptic spike\n",
    "\n",
    "# Initialization \n",
    "num_pairs = 60             # number of pre- and postsyn spike pairs \n",
    "rho_vec = np.array([0.1, 1, 10, 20, 25, 30, 35, 40, 50])        # frequency values [Hz]\n",
    "discretization_step = 1e-4 # (s)\n",
    "tau_plus = 16.8e-3            # LTP time constant (s)\n",
    "tau_minus = 33.7e-3           # LTD time constant (s)\n",
    "tau_y = 114e-3             # Second LTP time constant (s)\n",
    "A_plus = 6.5e-3             # LTP window amplitude\n",
    "A_minus = 7.1e-3            # LTD window amplitude\n",
    "w0 = 1                     # initial weight\n",
    "\n",
    "# initialize the synaptic change\n",
    "DeltaW = np.zeros(len(rho_vec))        \n",
    "\n",
    "# Calculate the synaptic change for every frequency value\n",
    "for ind,rho in enumerate(rho_vec):\n",
    "    pair_distance = round(1/rho,2)   # time distance between pairs of pre-post spikes.\n",
    "    time_total = num_pairs * (pair_distance - discretization_step)   # length of the whole time interval \n",
    "    # >>> EXERCISE     \n",
    "    # 1. Set the time distance, in seconds, between the pre- and the postsynaptic spikes (pay attention to which one occurs first)\n",
    "    # 2. Generate presynaptic and postsynaptic spike trains characterised by a number of pairs of pre- and \n",
    "    # post-synaptic spikes in the case the postsynaptic spike is followed by the presynaptic spike\n",
    "    # 3. Calculate the detectors and the synaptic change under the triplet STDP rule\n",
    "    # 4. Calculate the weight change between the first and the last time instant, as a function of the given frequency rho\n",
    "    DeltaT = -10e-3 # time distance between a two spikes, post follows pre (s)\n",
    "    times, pre_spike, post_spike = nonrandom_spike_trains(rho,time_total,DeltaT,discretization_step)\n",
    "    r1,o1,o2,w = detectors_tripSTDP(times,pre_spike,post_spike,A_plus,A_minus,tau_plus,tau_minus,tau_y,discretization_step,w0)\n",
    "    DeltaW[ind]= w[-1]-w[0]\n",
    "    # <<<\n",
    "# Plotting the synaptic change as a function of the frequency for DeltaT < 0\n",
    "plot_over_frequency(rho_vec,DeltaW,DeltaT) "
   ]
  },
  {
   "cell_type": "markdown",
   "id": "cbc7cfaf-38d3-44b7-9fc5-b5c66d0f0e65",
   "metadata": {},
   "source": [
    "<img src=\"https://github.com/comp-neural-circuits/plasticity-workshop/raw/dev/data_postpre.png\"\n",
    "alt=\"experimental data \" style=\"width:420px;\"/>"
   ]
  },
  {
   "cell_type": "markdown",
   "id": "3b49ad84-518d-4801-965d-5cb0a26f5541",
   "metadata": {},
   "source": [
    "**Congratulations**! You reached the end of this tutorial, we hope that it has been useful, and that you enjoyed it! "
   ]
  }
 ],
 "metadata": {
  "kernelspec": {
   "display_name": "Python 3 (ipykernel)",
   "language": "python",
   "name": "python3"
  },
  "language_info": {
   "codemirror_mode": {
    "name": "ipython",
    "version": 3
   },
   "file_extension": ".py",
   "mimetype": "text/x-python",
   "name": "python",
   "nbconvert_exporter": "python",
   "pygments_lexer": "ipython3",
   "version": "3.10.2"
  },
  "toc-autonumbering": false,
  "toc-showmarkdowntxt": false
 },
 "nbformat": 4,
 "nbformat_minor": 5
}
