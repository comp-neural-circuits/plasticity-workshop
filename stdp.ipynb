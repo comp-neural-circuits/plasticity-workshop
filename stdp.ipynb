{
 "cells": [
  {
   "cell_type": "markdown",
   "id": "28903b39-44c1-43e5-b2eb-be076cd70beb",
   "metadata": {
    "tags": []
   },
   "source": [
    "# Spike timing dependent plasticity (STDP) rules"
   ]
  },
  {
   "cell_type": "markdown",
   "id": "bc180c31-001e-4fd0-adc1-27ce0cdd149e",
   "metadata": {
    "jp-MarkdownHeadingCollapsed": true,
    "tags": []
   },
   "source": [
    "In this tutorial you will learn:\n",
    "- "
   ]
  },
  {
   "cell_type": "markdown",
   "id": "3d71d440-aec2-48c5-a6a9-c9b1fd0ff01f",
   "metadata": {
    "jp-MarkdownHeadingCollapsed": true,
    "tags": []
   },
   "source": [
    "## Initialization"
   ]
  },
  {
   "cell_type": "code",
   "execution_count": 1,
   "id": "c36d0f96-4d16-4df8-abd8-efe13d5a203f",
   "metadata": {},
   "outputs": [],
   "source": [
    "!pip install numpy scipy matplotlib ipywidgets scikit-learn --quiet\n",
    "import numpy as np\n",
    "import scipy.linalg as lin\n",
    "from numpy.random import default_rng\n",
    "rng = default_rng()\n",
    "import matplotlib.pyplot as plt\n",
    "from ipywidgets import interact, interactive, fixed, interact_manual\n",
    "import ipywidgets as widgets\n",
    "plt.style.use(\"https://github.com/comp-neural-circuits/plasticity-workshop/raw/dev/plots_style.txt\")"
   ]
  },
  {
   "cell_type": "markdown",
   "id": "a8beae55-caa0-46c2-960f-ab2d2191bf65",
   "metadata": {
    "tags": []
   },
   "source": [
    "## The pairwise STDP rule"
   ]
  },
  {
   "cell_type": "markdown",
   "id": "08f1b9a1-aaee-4b68-82da-525b39d3a938",
   "metadata": {
    "tags": []
   },
   "source": [
    "#### Coding Exercise 1: the pairwise STDP function"
   ]
  },
  {
   "cell_type": "markdown",
   "id": "431eaad0-a197-4ef2-a007-dbbba9d406f3",
   "metadata": {},
   "source": [
    "Let's begin by visualizing the **pairwise spike timing dependent plasticity (STDP) rule**. \n",
    "Recall that, under this rule, the synaptic weight increases (*long-term potentiation*) if a postsynaptic spike follows a presynaptic spike within a short time window, whereas the synaptic weight decreases (*long-term depression*) if the opposite occurs: "
   ]
  },
  {
   "cell_type": "markdown",
   "id": "540c9384-02af-4085-9e0b-4ab634c247b5",
   "metadata": {},
   "source": [
    "$$\n",
    "\\Delta W (\\Delta t) = \\begin{cases}\n",
    "A_+e^{-\\Delta t/\\tau_+} & \\text{if } \\Delta t\\geq 0 \\\\\n",
    "-A_-e^{\\Delta t/\\tau_-} & \\text{if } \\Delta t<0\n",
    "\\end{cases}\n",
    "$$\n",
    "\n",
    "where $A_+, A_-$ are positive constants. "
   ]
  },
  {
   "cell_type": "markdown",
   "id": "4ff50870-6b74-41c9-af21-cb1acedfc6ca",
   "metadata": {},
   "source": [
    "In the following exercise, you will fill a function script for the pairwise STDP rule.\n",
    "Consider the time difference $\\Delta t = t_{post} - t_{pre}$ between a post- and a presynaptic spike and compute the weight change $\\Delta W$ as a function of $\\Delta t$."
   ]
  },
  {
   "cell_type": "code",
   "execution_count": 2,
   "id": "82fbfbb6-9f81-44ea-b133-53a2ee134a63",
   "metadata": {},
   "outputs": [],
   "source": [
    "def DeltaW_pairSTDP(A_plus, A_minus, tau_plus, tau_minus):\n",
    "    \"\"\"    \n",
    "    Args: \n",
    "    A_plus : maximum amount of potentiation (LTP)\n",
    "    A_minus: maximum amount of depression (LTD)\n",
    "    tau_plus: LTP time constant\n",
    "    tau_minus: LTD time constant \n",
    "    \n",
    "    Returns the instantaneous change in weights DeltaW due to the STDP pairwise rule\n",
    "    \"\"\"\n",
    "    \n",
    "    # Define the array with the time differences between post- and pre-synaptic spikes\n",
    "    Delta_t = np.linspace(-5 * tau_minus, 5 * tau_plus, 50)\n",
    "    # Initialize the STDP change\n",
    "    DeltaW = np.zeros(len(Delta_t))\n",
    "    # Calculate dW for LTP\n",
    "    DeltaW[Delta_t > 0] = A_plus * np.exp(-Delta_t[Delta_t > 0] / tau_plus)\n",
    "    # Calculate dW for LTD\n",
    "    DeltaW[Delta_t <= 0] = -A_minus * np.exp(Delta_t[Delta_t <= 0] / tau_minus)\n",
    "\n",
    "    return DeltaW"
   ]
  },
  {
   "cell_type": "markdown",
   "id": "efebc190-946c-4ac4-b140-08ebc26fda17",
   "metadata": {},
   "source": [
    "##### Plotting the pairwise STDP function"
   ]
  },
  {
   "cell_type": "code",
   "execution_count": 3,
   "id": "b861ad0b-cbbf-4844-9bb8-8ec57d337852",
   "metadata": {},
   "outputs": [],
   "source": [
    "def pairSTDP_plot(A_plus, A_minus, tau_plus, tau_minus):\n",
    "    '''\n",
    "    Args:\n",
    "    A_plus : maximum amount of potentiation (LTP)\n",
    "    A_minus: maximum amount of depression (LTD)\n",
    "    tau_plus: LTP time constant\n",
    "    tau_minus: LTD time constant \n",
    "    \n",
    "    Generates a plot for the pairwise STDP rule\n",
    "    '''\n",
    "    # Define the array with the time differences between post- and pre-synaptic spikes\n",
    "    Delta_t = np.linspace(-5 * tau_minus, 5 * tau_plus, 50)\n",
    "    \n",
    "    # Calculate the synaptic change\n",
    "    DeltaW = DeltaW_pairSTDP(A_plus, A_minus, tau_plus, tau_minus)\n",
    "    \n",
    "    # Plot\n",
    "    plt.figure(figsize=(8,8))\n",
    "    plt.plot([Delta_t[0], Delta_t[-1]], [0, 0], 'k', linestyle=':')\n",
    "    plt.plot([0, 0], [-A_minus, A_plus], 'k', linestyle=':')\n",
    "\n",
    "    plt.plot(Delta_t[Delta_t <= 0], DeltaW[Delta_t <= 0], 'r')\n",
    "    plt.plot(Delta_t[Delta_t > 0], DeltaW[Delta_t > 0], 'b')\n",
    "\n",
    "    plt.xlabel(r'$\\Delta t=$ t$_{\\mathrm{post}}$ - t$_{\\mathrm{pre}}$ (ms)')\n",
    "    plt.ylabel(r'$\\Delta $W')\n",
    "    plt.title('The Pairwise STDP rule', fontsize=18, fontweight='bold')\n",
    "    plt.show()"
   ]
  },
  {
   "cell_type": "code",
   "execution_count": 4,
   "id": "d193bce4-ba18-42ea-9967-6386c3326299",
   "metadata": {},
   "outputs": [
    {
     "data": {
      "image/png": "[encoded data removed]",
      "text/plain": [
       "<Figure size 576x576 with 1 Axes>"
      ]
     },
     "metadata": {
      "needs_background": "light"
     },
     "output_type": "display_data"
    }
   ],
   "source": [
    "# Define the STDP rule parameters\n",
    "A_plus = 10    # maximum amount of potentiation (LTP)\n",
    "A_minus = 10   # maximum amount of potentiation (LTD)\n",
    "tau_plus = 20  # LTP time constant [ms]\n",
    "tau_minus = 20 # LTD time constant [ms]\n",
    "\n",
    "# Plot the pairwise STDP function \n",
    "pairSTDP_plot(A_plus, A_minus, tau_plus, tau_minus)"
   ]
  },
  {
   "cell_type": "markdown",
   "id": "1ee0f88e-f2a5-4881-b718-c1c1ca77f11b",
   "metadata": {
    "tags": []
   },
   "source": [
    "#### Playing with the pairwise STDP function"
   ]
  },
  {
   "cell_type": "code",
   "execution_count": 5,
   "id": "82676513-c281-42ae-bd88-aad3d3641448",
   "metadata": {},
   "outputs": [
    {
     "data": {
      "application/vnd.jupyter.widget-view+json": {
       "model_id": "587426bc93fe4289b2496049b2c309d8",
       "version_major": 2,
       "version_minor": 0
      },
      "text/plain": [
       "interactive(children=(FloatSlider(value=1.05, description='A_plus', max=2.0, min=0.1, step=0.01), FloatSlider(…"
      ]
     },
     "metadata": {},
     "output_type": "display_data"
    }
   ],
   "source": [
    "interact(pairSTDP_plot, A_plus = (0.1,2,0.01), A_minus = (0.1,2,0.01), tau_plus = (10,70,0.1), tau_minus  = (10,70,0.1));"
   ]
  },
  {
   "cell_type": "markdown",
   "id": "bb4e30ca-597b-4cc1-aca6-07b8bf0c54e1",
   "metadata": {
    "tags": []
   },
   "source": [
    "## Pre- and postsynaptic event detectors and spike trains "
   ]
  },
  {
   "cell_type": "markdown",
   "id": "4092ff73-d4cd-490e-a5e7-b228e9cf2bed",
   "metadata": {
    "tags": []
   },
   "source": [
    "##### Poisson spike train \n",
    "The next function generates a train of spikes drawn from the Poisson distribution."
   ]
  },
  {
   "cell_type": "code",
   "execution_count": 6,
   "id": "402e21e2-9bf9-450a-a724-d1380990c38d",
   "metadata": {},
   "outputs": [],
   "source": [
    "def Poisson_spike_train(discretization_step, t_range, rate, myseed=False):\n",
    "    \"\"\"\n",
    "    Generates a Poisson train\n",
    "    Args:\n",
    "    discretization_step    : discretization time step\n",
    "    t_range                : time interval\n",
    "    rate                   : noise amplitute [Hz]\n",
    "    myseed                 : random seed. int or boolean\n",
    "\n",
    "    Returns:\n",
    "    poisson_train : spike train of binary values (1 if spike, 0 otherwise)\n",
    "    \"\"\"\n",
    "    # set random seed\n",
    "    if myseed:\n",
    "        np.random.seed(seed=myseed)\n",
    "    else:\n",
    "        np.random.seed()\n",
    "\n",
    "    # generate an uniformly distributed random variable\n",
    "    unirnd = np.random.rand(len(t_range))\n",
    "\n",
    "    # generate Poisson train\n",
    "    poisson_train = 1. * (unirnd < rate * (discretization_step))\n",
    "\n",
    "    return poisson_train"
   ]
  },
  {
   "cell_type": "markdown",
   "id": "04cb4686-ff3a-4b58-9b7a-edac7e7eac8f",
   "metadata": {},
   "source": [
    "#### Coding exercise 2: keeping track"
   ]
  },
  {
   "cell_type": "markdown",
   "id": "b838f92c-d16f-4d6a-bbc0-48351527086e",
   "metadata": {},
   "source": [
    "....Explain...."
   ]
  },
  {
   "cell_type": "code",
   "execution_count": 9,
   "id": "9cc268bd-130d-41e2-ae24-d42c17edc9b6",
   "metadata": {},
   "outputs": [],
   "source": [
    "# Define the STDP rule parameters\n",
    "A_plus = 10       # maximum amount of potentiation (LTP)\n",
    "A_minus = 10      # maximum amount of potentiation (LTD)\n",
    "tau_plus = 20e-3  # LTP time constant [s]\n",
    "tau_minus = 20e-3 # LTD time constant [s]\n",
    "discretization_step=1e-4  # discretization time step\n",
    "t_range=np.arange(0,1,discretization_step)     # time interval\n",
    "\n",
    "# Generate a presynaptic spike train\n",
    "pre_spike = Poisson_spike_train(discretization_step, t_range, rate=15, myseed=2022)\n",
    "# Generate a postsynaptic spike train\n",
    "post_spike = Poisson_spike_train(discretization_step, t_range, rate=15, myseed=1)\n",
    "\n",
    "\n",
    "# Initialize the pre- and postsynaptic event detectors\n",
    "r1 = np.zeros(len(t_range))        # presynaptic event detector\n",
    "o1 = np.zeros(len(t_range))        # postsynaptic event detector\n",
    "\n",
    "# Initialize the synaptic weight\n",
    "w = np.ones(len(t_range))\n",
    "\n",
    "# Keeping track of the detectors\n",
    "for i in range(len(t_range)-1):\n",
    "    if i==0:\n",
    "        continue\n",
    "    w[i]=w[i-1]\n",
    "    \n",
    "    if pre_spike[i]==1:     # there is a pre-synaptic spike\n",
    "        r1[i] += 1\n",
    "        if i==0:\n",
    "            continue\n",
    "        w[i] = w[i-1] - o1[i]*A_minus\n",
    "            \n",
    "    if post_spike[i]==1:    # there is a post-synaptic spike\n",
    "        o1[i] += 1\n",
    "        if i==0:\n",
    "            continue\n",
    "        w[i] = w[i-1] + r1[i]*A_plus\n",
    "    \n",
    "        \n",
    "    # Apply Euler's method to the detector equations\n",
    "    r1[i+1] = r1[i] - discretization_step * r1[i]/tau_plus\n",
    "    o1[i+1] = o1[i] - discretization_step * o1[i]/tau_minus\n",
    "    "
   ]
  },
  {
   "cell_type": "code",
   "execution_count": 10,
   "id": "0d2f7d92-f9fc-40bc-b085-b6758322e39e",
   "metadata": {},
   "outputs": [
    {
     "data": {
      "image/png": "[encoded data removed]",
      "text/plain": [
       "<Figure size 576x864 with 5 Axes>"
      ]
     },
     "metadata": {
      "needs_background": "light"
     },
     "output_type": "display_data"
    }
   ],
   "source": [
    "fig, (ax1, ax2, ax3, ax4, ax5) = plt.subplots(5,1, figsize=(8,12)); #gridspec_kw={'height_ratios': [3, 1]})\n",
    "ax1.plot(t_range,pre_spike);\n",
    "ax1.set_xlabel(\"time (s)\", fontsize=12);\n",
    "ax1.set_ylabel(\"spike train\", fontsize=12);\n",
    "ax1.set_title(\"Presynaptic spike train\", fontsize=14);\n",
    "ax2.plot(t_range,r1,color=\"black\");\n",
    "ax2.set_xlabel(\"time (s) \", fontsize=12);\n",
    "ax2.set_ylabel(\"$r_1(t)$\", fontsize=12);\n",
    "ax2.set_title(\"Presynaptic detector trace\", fontsize=14);\n",
    "ax3.plot(t_range,post_spike);\n",
    "ax3.set_xlabel(\"time (s) \", fontsize=12);\n",
    "ax3.set_ylabel('spike train', fontsize=12);\n",
    "ax3.set_title(\"Postsynaptic spike train\", fontsize=14);\n",
    "ax4.plot(t_range,o1,color=\"black\");\n",
    "ax4.set_xlabel(\"time (s) \", fontsize=12);\n",
    "ax4.set_ylabel('$o_1(t)$', fontsize=12);\n",
    "ax4.set_title(\"Postsynaptic detector trace\", fontsize=14);\n",
    "ax5.plot(t_range,w);\n",
    "ax5.set_xlabel(\"time (s) \", fontsize=12);\n",
    "ax5.set_ylabel('$W(t)$', fontsize=14);\n",
    "ax5.set_title(\"Synaptic weight\", fontsize=12);"
   ]
  },
  {
   "cell_type": "markdown",
   "id": "bbda599d-d340-4025-b0a3-5bcc94c5749b",
   "metadata": {
    "tags": []
   },
   "source": [
    "## The triplet STDP rule"
   ]
  },
  {
   "cell_type": "markdown",
   "id": "5d266d0a-a616-4d5a-9c84-65eba09502f8",
   "metadata": {},
   "source": [
    "Let's now turn to the **triplet spike timing dependent plasticity (STDP) rule**, which uses sets of three spikes to induce *long term potentiation*, and pairs of spikes to induce *long term depression*.\n",
    "\n",
    "Recall that, under this rule, potentiation depends on the interval $\\Delta t_1$ between the pre- and postsynaptic spikes, and on the timing $\\Delta t_2$ of the previous postsynaptic spike, whereas *long-term depression* depends only on $\\Delta t_1$."
   ]
  },
  {
   "cell_type": "markdown",
   "id": "8bf0f3fd-115e-45e3-9a4d-4acf539e038c",
   "metadata": {},
   "source": [
    "$$\n",
    "\\Delta W (\\Delta t) = \\begin{cases}\n",
    "A_+e^{-\\Delta t_1/\\tau_+}e^{-\\Delta t_2/\\tau_y} & \\text{if } \\Delta t_1\\geq 0, \\Delta t_2\\geq 0 \\\\\n",
    "-A_-e^{\\Delta t/\\tau_-} & \\text{if } \\Delta t_1<0\n",
    "\\end{cases}\n",
    "$$\n",
    "\n",
    "where $\\Delta t_1 = t_{post} - t_{pre}$ denotes the time difference between a post- and a presynaptic spike and $\\Delta t_2 = t_{post} - t'_{post}$ denotes the time difference between two postpresynaptic spikes."
   ]
  },
  {
   "cell_type": "markdown",
   "id": "d73803e5-b159-4b28-a32f-bcb3a2401121",
   "metadata": {},
   "source": [
    "In the following exercise, you will fill a function script for the triplet STDP rule.\n",
    "Consider the time difference $\\Delta t_1$ between a post- and a presynaptic spike and compute the weight change $\\Delta W$ as a function of $\\Delta t_1$ for a given value of $\\Delta t_2$."
   ]
  },
  {
   "cell_type": "markdown",
   "id": "e1a24161-17d3-495b-9cb9-b4b14e68c0b8",
   "metadata": {},
   "source": [
    "#### Coding Exercise 3: the triplet STDP function"
   ]
  },
  {
   "cell_type": "code",
   "execution_count": null,
   "id": "416be722-2ec0-49f8-a401-9aadb3c50517",
   "metadata": {},
   "outputs": [],
   "source": [
    "def DeltaW_tripSTDP(A_plus, A_minus, tau_plus, tau_minus, tau_y, Delta_t2):\n",
    "    \"\"\"\n",
    "    Calculates the instantaneous change in weights dW due to the STDP pairwise rule\n",
    "\n",
    "    A_plus : maximum amount of potentiation (LTP)\n",
    "    A_minus: maximum amount of depression (LTD)\n",
    "    tau_plus: LTP time constant\n",
    "    tau_minus: LTD time constant \n",
    "    Delta_t1 : array with the time differences between the first postsynaptic spike and the presynaptic spike\n",
    "    Delta_t2 : array with the time differences between the postsynaptic spikes \n",
    "    \"\"\"\n",
    "    # Define the array with the time differences between the first postsynaptic spike and the presynaptic spike\n",
    "    Delta_t1 = np.linspace(-5 * tau_minus, 5 * tau_plus, 50)\n",
    "    # Initialize the STDP change\n",
    "    DeltaW = np.zeros(len(Delta_t1))\n",
    "    # Calculate dW for LTP\n",
    "    DeltaW[Delta_t1 > 0] = A_plus * np.exp(-Delta_t1[Delta_t1 > 0] / tau_plus) * np.exp(-Delta_t2 / tau_y)\n",
    "    # Calculate dW for LTD\n",
    "    DeltaW[Delta_t1 <= 0] = -A_minus * np.exp(Delta_t1[Delta_t1 <= 0] / tau_minus)\n",
    "\n",
    "    return DeltaW"
   ]
  },
  {
   "cell_type": "code",
   "execution_count": null,
   "id": "16ac6e7d-f2a0-435b-852d-e0c20994e6f9",
   "metadata": {},
   "outputs": [],
   "source": [
    "def tripletSTDP_plot(A_plus, A_minus, tau_plus, tau_minus, tau_y, Delta_t2):\n",
    "    '''\n",
    "    Generates a plot for the triplet STDP rule\n",
    "\n",
    "    A_plus : maximum amount of potentiation (LTP)\n",
    "    A_minus: maximum amount of depression (LTD)\n",
    "    tau_plus: LTP time constant\n",
    "    tau_minus: LTD time constant \n",
    "    tau_y: second LTP time constant\n",
    "    Delta_t2 : array with the time differences between the postsynaptic spikes   \n",
    "    dW : synaptic change \n",
    "    \n",
    "    '''\n",
    "    # Define the array with the time differences between the first postsynaptic spike and the presynaptic spike\n",
    "    Delta_t1 = np.linspace(-5 * tau_minus, 5 * tau_plus, 50)\n",
    "\n",
    "    # Calculate the synaptic change\n",
    "    DeltaW = DeltaW_tripSTDP(A_plus, A_minus, tau_plus, tau_minus, tau_y, Delta_t2)\n",
    "    \n",
    "    plt.figure(figsize=(8,8))\n",
    "    plt.plot([Delta_t1[0], Delta_t1[-1]], [0, 0], 'k', linestyle=':')\n",
    "    plt.plot([0, 0], [-A_minus, A_plus], 'k', linestyle=':')\n",
    "\n",
    "    plt.plot(Delta_t1[Delta_t1 <= 0], DeltaW[Delta_t1 <= 0], 'r')\n",
    "    plt.plot(Delta_t1[Delta_t1 > 0], DeltaW[Delta_t1 > 0], 'b')\n",
    "\n",
    "    plt.xlabel(r'$\\Delta t=$ t$_{\\mathrm{post}}$ - t$_{\\mathrm{pre}}$ (ms)')\n",
    "    plt.ylabel(r'$\\Delta $W')\n",
    "    plt.title('The triplet STDP rule', fontsize=18, fontweight='bold')\n",
    "    plt.show()"
   ]
  },
  {
   "cell_type": "code",
   "execution_count": null,
   "id": "82a41024-861d-4253-abc1-86f039583428",
   "metadata": {},
   "outputs": [],
   "source": [
    "# define the STDP rule parameters\n",
    "A_plus = 1\n",
    "A_minus = 1\n",
    "tau_plus = 20  #[ms]\n",
    "tau_minus = 20 #[ms]\n",
    "tau_y = 114 #[ms]\n",
    "Delta_t2 = 10\n",
    "\n",
    "DeltaW = DeltaW_tripSTDP(A_plus, A_minus, tau_plus, tau_minus, tau_y, Delta_t2)\n",
    "tripletSTDP_plot(A_plus, A_minus, tau_plus, tau_minus, tau_y, Delta_t2)"
   ]
  },
  {
   "cell_type": "markdown",
   "id": "4b360296-c76f-4836-bd42-367aee3c75fb",
   "metadata": {},
   "source": [
    "#### Playing with the triplet STDP function"
   ]
  },
  {
   "cell_type": "markdown",
   "id": "5da4d0db-1730-420c-8c21-c92e8f2938af",
   "metadata": {},
   "source": [
    "To do: interactive plot with varying Delta t2 only"
   ]
  },
  {
   "cell_type": "code",
   "execution_count": null,
   "id": "a79f102b-c72d-4630-a18d-5a3cff165c51",
   "metadata": {},
   "outputs": [],
   "source": [
    "interact(tripletSTDP_plot, A_plus=(1,1,1), A_minus= 1, tau_plus= 20, tau_minus= 20, tau_y= 114, Delta_t2 = (10,70,0.1));"
   ]
  },
  {
   "cell_type": "markdown",
   "id": "6b2533a3-8f09-4e14-9133-38fc64939c34",
   "metadata": {
    "tags": []
   },
   "source": [
    "## Plot detector traces and spike trains \n",
    "study only the case of 1 pre- and 1 postsynaptic neuron (Poisson neurons)."
   ]
  },
  {
   "cell_type": "code",
   "execution_count": null,
   "id": "7fef6b83-80d0-45d3-a17c-fa73b3182170",
   "metadata": {},
   "outputs": [],
   "source": [
    "taup = 20e-3  #[ms]\n",
    "taum = 20e-3 #[ms]\n",
    "tauy = 114e-3 #[ms]\n",
    "\n",
    "discretization_step=1e-4\n",
    "t_range=np.arange(0,3,discretization_step)\n",
    "pre_spike = Poisson_spike_train(discretization_step, t_range, rate=15, myseed=2020)\n",
    "post_spike = Poisson_spike_train(discretization_step, t_range, rate=15, myseed=2000)\n",
    "\n",
    "#pre_spike = np.reshape(pre_spike, len(t_range))\n",
    "\n",
    "r1=np.zeros(len(t_range))        # presynaptic event detector\n",
    "o1=np.zeros(len(t_range))        # postsynaptic event detector\n",
    "o2=np.zeros(len(t_range))        # postsynaptic event detector\n",
    "\n",
    "# Initialize the synaptic weight\n",
    "w = np.ones(len(t_range))\n",
    "\n",
    "for i in range(len(t_range)-1):\n",
    "    if i==0:\n",
    "        continue\n",
    "    w[i]=w[i-1]\n",
    "    \n",
    "    if pre_spike[i]==1:     # there is a pre-synaptic spike\n",
    "        r1[i] += 1\n",
    "        if i==0:\n",
    "            continue\n",
    "        w[i] = w[i-1] - o1[i]*Aminus\n",
    "            \n",
    "    if post_spike[i]==1:    # there is a post-synaptic spike\n",
    "        o1[i] += 1\n",
    "        if i==0:\n",
    "            continue\n",
    "        w[i] = w[i-1] + r1[i]*Aplus*o2[i]\n",
    "        o2[i] += 1\n",
    "    # Apply Euler's method to the detector equations\n",
    "    r1[i+1] = r1[i] - discretization_step * r1[i]/taup\n",
    "    o1[i+1] = o1[i] - discretization_step * o1[i]/taum\n",
    "    o2[i+1] = o2[i] - discretization_step * o2[i]/tauy"
   ]
  },
  {
   "cell_type": "code",
   "execution_count": null,
   "id": "6f7167f9-3f52-428e-b5bf-14bf8a6517dd",
   "metadata": {},
   "outputs": [],
   "source": [
    "fig, (ax1, ax2, ax3, ax4, ax5, ax6) = plt.subplots(6,1, figsize=(8,12)); #gridspec_kw={'height_ratios': [3, 1]})\n",
    "ax1.plot(t_range,pre_spike);\n",
    "ax1.set_xlabel(\"time (s)\", fontsize=12);\n",
    "ax1.set_ylabel(\"spike train\", fontsize=12);\n",
    "ax1.set_title(\"Presynaptic spike train\", fontsize=14);\n",
    "ax2.plot(t_range,r1,color=\"black\");\n",
    "ax2.set_xlabel(\"time (s) \", fontsize=12);\n",
    "ax2.set_ylabel(\"$r_1(t)$\", fontsize=12);\n",
    "ax2.set_title(\"Presynaptic detector trace\", fontsize=14);\n",
    "ax3.plot(t_range,post_spike);\n",
    "ax3.set_xlabel(\"time (s) \", fontsize=12);\n",
    "ax3.set_ylabel('spike train', fontsize=12);\n",
    "ax3.set_title(\"Postsynaptic spike train\", fontsize=14);\n",
    "ax4.plot(t_range,o1,color=\"black\");\n",
    "ax4.set_xlabel(\"time (s) \", fontsize=12);\n",
    "ax4.set_ylabel('$o_1(t)$', fontsize=12);\n",
    "ax4.set_title(\"Postsynaptic detector trace\", fontsize=14);\n",
    "ax5.plot(t_range,o2,color=\"black\");\n",
    "ax5.set_xlabel(\"time (s) \", fontsize=12);\n",
    "ax5.set_ylabel('o2(t)', fontsize=12);\n",
    "ax5.set_title(\"Second postsynaptic spike train\", fontsize=14);\n",
    "ax6.plot(t_range,w);\n",
    "ax6.set_xlabel(\"time (s) \", fontsize=12);\n",
    "ax6.set_ylabel('$W(t)$', fontsize=14);\n",
    "ax6.set_title(\"Synaptic weight\", fontsize=12);"
   ]
  },
  {
   "cell_type": "markdown",
   "id": "341a5428-d128-4281-a5a5-c1d9a3147c67",
   "metadata": {
    "tags": []
   },
   "source": [
    "## Pairing protocol helper functions"
   ]
  },
  {
   "cell_type": "code",
   "execution_count": null,
   "id": "320e6c87-1882-494b-8bd7-f1d6508e46b3",
   "metadata": {},
   "outputs": [],
   "source": [
    "'''\n",
    "A fixed number of pairs of presynaptic and postsynaptic spikes shifted by DeltaT are elicited at regular intervals of 1/rho. \n",
    "Plot the synaptic change due to the triplet STDP as a function of the frequency rho for a fixed DeltaT.  \n",
    "'''\n",
    "\n",
    "def spike_trains(discretization_step, rho, num_pairs):\n",
    "\n",
    "    '''Generates presynaptic and postsynaptic spike trains characterised by a number of pairs (given by 'num_pairs') of pre- and post-synaptic spikes with a given time distance 'DeltaT'.\n",
    "    The pairs are repeated at a given frequency 'rho' \n",
    "\n",
    "    1) Generate two \"small\" arrays containing only one pair of one pre- and one post-synaptic spikes within a time window 1/rho. These will be the \"building blocks\" of the full spike trains.\n",
    "\n",
    "    2) Construct the full spike trains by repeating the small arrays the number of times given by num_pairs.\n",
    "    '''\n",
    "\n",
    "    DeltaT = 1e-2   # time distance between pre- and postsynaptic spikes. It must be greater than the discretization_step!\n",
    "    pair_distance = round(1/rho,2)   # time distance between pairs of pre-post spikes.\n",
    "\n",
    "    # Generate the first piece of the pre- and postsynaptic spike trains (namely, one pair of pre- and post-synaptic spikes) within a time window 1/rho \n",
    "    small_t_range = np.arange(0,pair_distance - discretization_step,discretization_step)   # time interval between pairs of pre-post spikes.\n",
    "    t_range=np.arange(0,num_pairs*(pair_distance - discretization_step),discretization_step)            # the whole time interval \n",
    "\n",
    "    first_spike = np.zeros(len(small_t_range))           # initialize the first piece of the pre-synaptic spike train \n",
    "    second_spike = np.zeros(len(small_t_range))          # initialize the first piece of the post-synaptic spike train\n",
    "    first_spike[0] = 1                                   # generate a pre-syn spike at time 0 \n",
    "    second_spike[np.where(small_t_range==DeltaT)[0]] = 1 # generate a post-syn spike after DeltaT\n",
    "    first_spikes=np.tile(first_spike,num_pairs)             # repeat for 'num_pairs' times and create the full spike train\n",
    "    second_spikes=np.tile(second_spike,num_pairs)           # repeat for 'num_pairs' times and create the full spike train\n",
    "    return first_spikes, second_spikes, t_range\n",
    "\n",
    "\n",
    "def euler_exp_ode(discretization_step, x, tau):\n",
    "    x = x - discretization_step * x/tau\n",
    "    return x"
   ]
  },
  {
   "cell_type": "markdown",
   "id": "dd4eefa9-eda6-4456-9c8a-d0642568f20b",
   "metadata": {
    "tags": []
   },
   "source": [
    "## Pairing protocol with the pairwise STDP rule"
   ]
  },
  {
   "cell_type": "code",
   "execution_count": null,
   "id": "de9f2d6a-aadd-4746-b9a3-44a068ea1ad6",
   "metadata": {},
   "outputs": [],
   "source": [
    "# Initialization \n",
    "num_pairs = 60      # number of pre- and post- pairs \n",
    "rho_vec = np.array([0.1, 1, 10, 20, 25, 30, 35, 40, 50])        # frequency values\n",
    "discretization_step = 1e-4 # it must be less than the time difference within a pair of spikes DeltaT!\n",
    "taup = 16.8e-3             # LTP time constant (s)\n",
    "taum = 33.7e-3             # LTD time constant (s)\n",
    "Aplus = 8.6e-3             # LTP window amplitude\n",
    "Aminus = 2.1e-3            # LTD window amplitude\n",
    "w0 = 3                     # initial weight\n",
    "\n",
    "# initialize the synaptic change\n",
    "dw = np.zeros(len(rho_vec))    \n",
    "\n",
    "for ind,rho in enumerate(rho_vec):\n",
    "    # initialize the synaptic weight\n",
    "    w=w0\n",
    "\n",
    "    pre_spike, post_spike, t_range = spike_trains(discretization_step, rho, num_pairs)\n",
    "    \n",
    "    # CASE with DeltaT < 0\n",
    "    # The case with DeltaT < 0 is equivalent to switch the pre- and the postsynaptic spike trains.\n",
    "    # post_spike, pre_spike, t_range = spike_trains(discretization_step, rho, num_pairs)\n",
    "\n",
    "# initialize the pre- and postsynaptic detectors\n",
    "    r1=0    # presynaptic event detector\n",
    "    o1=0    # postsynaptic event detector\n",
    "\n",
    "    for i,t in enumerate(t_range):\n",
    "        if pre_spike[i]==1:     # there is a pre-synaptic spike\n",
    "            r1 += 1\n",
    "            w = w - o1*Aminus\n",
    "            \n",
    "        if post_spike[i]==1:    # there is a post-synaptic spike\n",
    "            o1 += 1\n",
    "            w = w + r1*Aplus;           \n",
    "        \n",
    "        # Apply Euler's method to the detector equations\n",
    "        r1 = euler_exp_ode(discretization_step, r1, taup)\n",
    "        o1 = euler_exp_ode(discretization_step, o1, taum)\n",
    "\n",
    "    # Calculate the weight change as a function of the frequency\n",
    "    dw[ind]= w-w0   \n",
    "\n",
    "plt.figure()\n",
    "plt.plot(rho_vec,dw)\n",
    "plt.show()"
   ]
  },
  {
   "cell_type": "markdown",
   "id": "aaa17659-98c6-4b67-a607-fa2b2c31a0bb",
   "metadata": {
    "tags": []
   },
   "source": [
    "## Pairing protocol with the triplet STDP rule"
   ]
  },
  {
   "cell_type": "code",
   "execution_count": null,
   "id": "365961c6-8f50-43ff-9460-0dce8c13f92b",
   "metadata": {},
   "outputs": [],
   "source": [
    "# Initialization \n",
    "num_pairs = 60      # number of pre- and post- pairs \n",
    "rho_vec = np.array([0.1, 1, 10, 20, 25, 30, 35, 40, 50])        # frequency values\n",
    "discretization_step = 1e-4 # it must be less than the time difference within a pair of spikes DeltaT!\n",
    "taup = 16.8e-3             # LTP time constant (s)\n",
    "taum = 33.7e-3             # LTD time constant (s)\n",
    "tauy = 114e-3              # Second LTP time constant (s)\n",
    "Aplus = 6.5e-3             # LTP window amplitude\n",
    "Aminus = 7.1e-3            # LTD window amplitude\n",
    "w0 = 3                     # initial weight\n",
    "\n",
    "# initialize the synaptic change\n",
    "dw = np.zeros(len(rho_vec))    \n",
    "\n",
    "for ind,rho in enumerate(rho_vec):\n",
    "    # initialize the synaptic weight\n",
    "    w=w0\n",
    "\n",
    "    pre_spike, post_spike, t_range = spike_trains(discretization_step, rho, num_pairs)\n",
    "    \n",
    "    # CASE with DeltaT < 0\n",
    "    # The case with DeltaT < 0 is equivalent to switch the pre- and the postsynaptic spike trains.\n",
    "    # post_spike, pre_spike, t_range = spike_trains(discretization_step, rho, num_pairs)\n",
    "\n",
    "# initialize the pre- and postsynaptic detectors\n",
    "    r1=0    # presynaptic event detector\n",
    "    o1=0    # postsynaptic event detector\n",
    "    o2=0    # second postsynaptic event detector\n",
    "\n",
    "    for i,t in enumerate(t_range):\n",
    "        if pre_spike[i]==1:     # there is a pre-synaptic spike\n",
    "            r1 += 1\n",
    "            w = w - o1*Aminus\n",
    "            \n",
    "        if post_spike[i]==1:    # there is a post-synaptic spike\n",
    "            o1 += 1\n",
    "            w = w + r1*(Aplus*o2);           \n",
    "            o2=o2+1\n",
    "        \n",
    "        # Apply Euler's method to the detector equations\n",
    "        r1 = euler_exp_ode(discretization_step, r1, taup)\n",
    "        o1 = euler_exp_ode(discretization_step, o1, taum)\n",
    "        o2 = euler_exp_ode(discretization_step, o2, tauy)\n",
    "\n",
    "    # Calculate the weight change as a function of the frequency\n",
    "    dw[ind]= w-w0   \n",
    "\n",
    "plt.figure()\n",
    "plt.plot(rho_vec,dw)\n",
    "plt.show()"
   ]
  },
  {
   "cell_type": "markdown",
   "id": "b447aa79-01cc-42fd-acbe-c1edcf6e1635",
   "metadata": {},
   "source": [
    "## Inhibitory plasticity"
   ]
  },
  {
   "cell_type": "code",
   "execution_count": null,
   "id": "1ecad0ff-4955-4756-9c74-e5073c9d62e8",
   "metadata": {},
   "outputs": [],
   "source": []
  }
 ],
 "metadata": {
  "kernelspec": {
   "display_name": "Python 3 (ipykernel)",
   "language": "python",
   "name": "python3"
  },
  "language_info": {
   "codemirror_mode": {
    "name": "ipython",
    "version": 3
   },
   "file_extension": ".py",
   "mimetype": "text/x-python",
   "name": "python",
   "nbconvert_exporter": "python",
   "pygments_lexer": "ipython3",
   "version": "3.10.2"
  }
 },
 "nbformat": 4,
 "nbformat_minor": 5
}
